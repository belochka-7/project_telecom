{
 "cells": [
  {
   "cell_type": "markdown",
   "metadata": {},
   "source": [
    "# Поиск клиентов с неоптимальным тарифом"
   ]
  },
  {
   "cell_type": "markdown",
   "metadata": {},
   "source": [
    " **Описание проекта**:\n",
    " \n",
    "     Клиенты провайдера \"Телеком\"  − колл-центры, необходимо проанализировать тарифы, чтобы узнать насколько они подходят клиентам и на основе этого дать возможные рекомендации по смене тарифов с целью предоставления      наивыгоднейших тарифов по сравнению с конкурентами.\n",
    "    "
   ]
  },
  {
   "cell_type": "markdown",
   "metadata": {},
   "source": [
    " **Описание данных**  \n",
    "\n",
    "**Датасет /datasets/telecom_dataset.csv:**    \n",
    "\n",
    "\n",
    "user_id — идентификатор клиента;  \n",
    "date — дата статистики;  \n",
    "direction — направление вызовов: out — исходящий вызов, in — входящий;  \n",
    "internal — маркер внутренних и внешних вызовов;  \n",
    "operator_id — идентификатор оператора;  \n",
    "is_missed_call — маркер пропущенных вызовов;  \n",
    "calls_count — количество звонков;  \n",
    "call_duration — длительность звонка без учёта времени ожидания;  \n",
    "total_call_duration — длительность звонка с учётом времени ожидания.  \n",
    "\n",
    "**Датасет /datasets/telecom_clients.csv:**  \n",
    "\n",
    "\n",
    "user_id — идентификатор клиента;  \n",
    "tariff_plan — тарифный план клиента;  \n",
    "date_start — дата регистрации клиента в сервисе.  "
   ]
  },
  {
   "cell_type": "markdown",
   "metadata": {},
   "source": [
    "**Цель исслдования:**\n",
    "\n",
    "Найти клиентов, которые:   \n",
    "а) переплачивают на текущих тарифах;   \n",
    "б) сэкономят, если перейдут на более дорогой тариф.  \n",
    "    \n",
    "    "
   ]
  },
  {
   "cell_type": "markdown",
   "metadata": {},
   "source": [
    "## Подготовка и анализ данных"
   ]
  },
  {
   "cell_type": "markdown",
   "metadata": {},
   "source": [
    "### Импорт и проверка качества данных"
   ]
  },
  {
   "cell_type": "code",
   "execution_count": 1,
   "metadata": {},
   "outputs": [],
   "source": [
    "import pandas as pd\n",
    "import numpy as np\n",
    "from matplotlib import pyplot as plt\n",
    "import seaborn as sns\n",
    "from scipy import stats as st\n",
    "import scipy"
   ]
  },
  {
   "cell_type": "code",
   "execution_count": 2,
   "metadata": {},
   "outputs": [],
   "source": [
    "calls_raw = pd.read_csv('/datasets/telecom_dataset.csv')\n",
    "clients_raw = pd.read_csv('/datasets/telecom_clients.csv')"
   ]
  },
  {
   "cell_type": "code",
   "execution_count": 3,
   "metadata": {},
   "outputs": [
    {
     "data": {
      "text/html": [
       "<div>\n",
       "<style scoped>\n",
       "    .dataframe tbody tr th:only-of-type {\n",
       "        vertical-align: middle;\n",
       "    }\n",
       "\n",
       "    .dataframe tbody tr th {\n",
       "        vertical-align: top;\n",
       "    }\n",
       "\n",
       "    .dataframe thead th {\n",
       "        text-align: right;\n",
       "    }\n",
       "</style>\n",
       "<table border=\"1\" class=\"dataframe\">\n",
       "  <thead>\n",
       "    <tr style=\"text-align: right;\">\n",
       "      <th></th>\n",
       "      <th>user_id</th>\n",
       "      <th>date</th>\n",
       "      <th>direction</th>\n",
       "      <th>internal</th>\n",
       "      <th>operator_id</th>\n",
       "      <th>is_missed_call</th>\n",
       "      <th>calls_count</th>\n",
       "      <th>call_duration</th>\n",
       "      <th>total_call_duration</th>\n",
       "    </tr>\n",
       "  </thead>\n",
       "  <tbody>\n",
       "    <tr>\n",
       "      <th>0</th>\n",
       "      <td>166377</td>\n",
       "      <td>2019-08-04 00:00:00+03:00</td>\n",
       "      <td>in</td>\n",
       "      <td>False</td>\n",
       "      <td>NaN</td>\n",
       "      <td>True</td>\n",
       "      <td>2</td>\n",
       "      <td>0</td>\n",
       "      <td>4</td>\n",
       "    </tr>\n",
       "    <tr>\n",
       "      <th>1</th>\n",
       "      <td>166377</td>\n",
       "      <td>2019-08-05 00:00:00+03:00</td>\n",
       "      <td>out</td>\n",
       "      <td>True</td>\n",
       "      <td>880022.0</td>\n",
       "      <td>True</td>\n",
       "      <td>3</td>\n",
       "      <td>0</td>\n",
       "      <td>5</td>\n",
       "    </tr>\n",
       "    <tr>\n",
       "      <th>2</th>\n",
       "      <td>166377</td>\n",
       "      <td>2019-08-05 00:00:00+03:00</td>\n",
       "      <td>out</td>\n",
       "      <td>True</td>\n",
       "      <td>880020.0</td>\n",
       "      <td>True</td>\n",
       "      <td>1</td>\n",
       "      <td>0</td>\n",
       "      <td>1</td>\n",
       "    </tr>\n",
       "    <tr>\n",
       "      <th>3</th>\n",
       "      <td>166377</td>\n",
       "      <td>2019-08-05 00:00:00+03:00</td>\n",
       "      <td>out</td>\n",
       "      <td>True</td>\n",
       "      <td>880020.0</td>\n",
       "      <td>False</td>\n",
       "      <td>1</td>\n",
       "      <td>10</td>\n",
       "      <td>18</td>\n",
       "    </tr>\n",
       "    <tr>\n",
       "      <th>4</th>\n",
       "      <td>166377</td>\n",
       "      <td>2019-08-05 00:00:00+03:00</td>\n",
       "      <td>out</td>\n",
       "      <td>False</td>\n",
       "      <td>880022.0</td>\n",
       "      <td>True</td>\n",
       "      <td>3</td>\n",
       "      <td>0</td>\n",
       "      <td>25</td>\n",
       "    </tr>\n",
       "  </tbody>\n",
       "</table>\n",
       "</div>"
      ],
      "text/plain": [
       "   user_id                       date direction internal  operator_id  \\\n",
       "0   166377  2019-08-04 00:00:00+03:00        in    False          NaN   \n",
       "1   166377  2019-08-05 00:00:00+03:00       out     True     880022.0   \n",
       "2   166377  2019-08-05 00:00:00+03:00       out     True     880020.0   \n",
       "3   166377  2019-08-05 00:00:00+03:00       out     True     880020.0   \n",
       "4   166377  2019-08-05 00:00:00+03:00       out    False     880022.0   \n",
       "\n",
       "   is_missed_call  calls_count  call_duration  total_call_duration  \n",
       "0            True            2              0                    4  \n",
       "1            True            3              0                    5  \n",
       "2            True            1              0                    1  \n",
       "3           False            1             10                   18  \n",
       "4            True            3              0                   25  "
      ]
     },
     "execution_count": 3,
     "metadata": {},
     "output_type": "execute_result"
    }
   ],
   "source": [
    "calls_raw.head() # посмотрим с какими данными нам придется работать "
   ]
  },
  {
   "cell_type": "code",
   "execution_count": 4,
   "metadata": {},
   "outputs": [
    {
     "name": "stdout",
     "output_type": "stream",
     "text": [
      "<class 'pandas.core.frame.DataFrame'>\n",
      "RangeIndex: 53902 entries, 0 to 53901\n",
      "Data columns (total 9 columns):\n",
      " #   Column               Non-Null Count  Dtype  \n",
      "---  ------               --------------  -----  \n",
      " 0   user_id              53902 non-null  int64  \n",
      " 1   date                 53902 non-null  object \n",
      " 2   direction            53902 non-null  object \n",
      " 3   internal             53785 non-null  object \n",
      " 4   operator_id          45730 non-null  float64\n",
      " 5   is_missed_call       53902 non-null  bool   \n",
      " 6   calls_count          53902 non-null  int64  \n",
      " 7   call_duration        53902 non-null  int64  \n",
      " 8   total_call_duration  53902 non-null  int64  \n",
      "dtypes: bool(1), float64(1), int64(4), object(3)\n",
      "memory usage: 3.3+ MB\n"
     ]
    }
   ],
   "source": [
    "calls_raw.info() #исследуем какой тип данных в каждом столбце"
   ]
  },
  {
   "cell_type": "markdown",
   "metadata": {},
   "source": [
    "Датасет имеет 53902 записи:\n",
    "- `operator_id` имеет пропуски\n",
    "- `internal` имеет пропуски    \n",
    "\n",
    "Необходимо поменять тип данных:\n",
    "- `date`  - дата имеет тип `object`, необходимо поменять на `datetime`\n",
    "- `internal` - имеет тип `object`, необходимо привести к булевому значению (`bool`)\n",
    "- `operator_id` - имеет тип `float`, необходимо привести к `int64` \n",
    "\n",
    "Наименование столбцов приведены к нижнему регистру, пробелов в наименований нет(используется \"змеиный_регистр\")"
   ]
  },
  {
   "cell_type": "code",
   "execution_count": 5,
   "metadata": {},
   "outputs": [
    {
     "data": {
      "text/html": [
       "<div>\n",
       "<style scoped>\n",
       "    .dataframe tbody tr th:only-of-type {\n",
       "        vertical-align: middle;\n",
       "    }\n",
       "\n",
       "    .dataframe tbody tr th {\n",
       "        vertical-align: top;\n",
       "    }\n",
       "\n",
       "    .dataframe thead th {\n",
       "        text-align: right;\n",
       "    }\n",
       "</style>\n",
       "<table border=\"1\" class=\"dataframe\">\n",
       "  <thead>\n",
       "    <tr style=\"text-align: right;\">\n",
       "      <th></th>\n",
       "      <th>user_id</th>\n",
       "      <th>tariff_plan</th>\n",
       "      <th>date_start</th>\n",
       "    </tr>\n",
       "  </thead>\n",
       "  <tbody>\n",
       "    <tr>\n",
       "      <th>0</th>\n",
       "      <td>166713</td>\n",
       "      <td>A</td>\n",
       "      <td>2019-08-15</td>\n",
       "    </tr>\n",
       "    <tr>\n",
       "      <th>1</th>\n",
       "      <td>166901</td>\n",
       "      <td>A</td>\n",
       "      <td>2019-08-23</td>\n",
       "    </tr>\n",
       "    <tr>\n",
       "      <th>2</th>\n",
       "      <td>168527</td>\n",
       "      <td>A</td>\n",
       "      <td>2019-10-29</td>\n",
       "    </tr>\n",
       "    <tr>\n",
       "      <th>3</th>\n",
       "      <td>167097</td>\n",
       "      <td>A</td>\n",
       "      <td>2019-09-01</td>\n",
       "    </tr>\n",
       "    <tr>\n",
       "      <th>4</th>\n",
       "      <td>168193</td>\n",
       "      <td>A</td>\n",
       "      <td>2019-10-16</td>\n",
       "    </tr>\n",
       "  </tbody>\n",
       "</table>\n",
       "</div>"
      ],
      "text/plain": [
       "   user_id tariff_plan  date_start\n",
       "0   166713           A  2019-08-15\n",
       "1   166901           A  2019-08-23\n",
       "2   168527           A  2019-10-29\n",
       "3   167097           A  2019-09-01\n",
       "4   168193           A  2019-10-16"
      ]
     },
     "execution_count": 5,
     "metadata": {},
     "output_type": "execute_result"
    }
   ],
   "source": [
    "clients_raw.head()"
   ]
  },
  {
   "cell_type": "code",
   "execution_count": 6,
   "metadata": {},
   "outputs": [
    {
     "name": "stdout",
     "output_type": "stream",
     "text": [
      "<class 'pandas.core.frame.DataFrame'>\n",
      "RangeIndex: 732 entries, 0 to 731\n",
      "Data columns (total 3 columns):\n",
      " #   Column       Non-Null Count  Dtype \n",
      "---  ------       --------------  ----- \n",
      " 0   user_id      732 non-null    int64 \n",
      " 1   tariff_plan  732 non-null    object\n",
      " 2   date_start   732 non-null    object\n",
      "dtypes: int64(1), object(2)\n",
      "memory usage: 17.3+ KB\n"
     ]
    }
   ],
   "source": [
    "clients_raw.info()"
   ]
  },
  {
   "cell_type": "markdown",
   "metadata": {},
   "source": [
    "Датасет имеет 732 записи:\n",
    "- пропусков в сете нет\n",
    "\n",
    "Необходимо поменять тип данных:\n",
    "- `date_start`  - дата имеет тип `object`, необходимо поменять на `datetime`\n",
    "\n",
    "Наименование столбцов приведены к нижнему регистру, пробелов в наименований нет(используется \"змеиный_регистр\")"
   ]
  },
  {
   "cell_type": "markdown",
   "metadata": {},
   "source": [
    "### Предобработка данных"
   ]
  },
  {
   "cell_type": "markdown",
   "metadata": {},
   "source": [
    "#### Преобразование столбцов к удобному типу данных"
   ]
  },
  {
   "cell_type": "code",
   "execution_count": 7,
   "metadata": {},
   "outputs": [],
   "source": [
    "calls = calls_raw.copy()\n",
    "clients = clients_raw.copy()"
   ]
  },
  {
   "cell_type": "code",
   "execution_count": 8,
   "metadata": {},
   "outputs": [],
   "source": [
    "#Ранее были определены столбцы по которым необходимо провести корректировку\n",
    "calls['date'] = pd.to_datetime(calls['date']).dt.date.astype('datetime64[ns]')\n",
    "calls['internal'] = calls['internal'].astype('boolean')\n",
    "calls['operator_id'] = calls['operator_id'].astype('Int64')\n",
    "\n",
    "clients['date_start'] = pd.to_datetime(clients['date_start'])"
   ]
  },
  {
   "cell_type": "markdown",
   "metadata": {},
   "source": [
    "#### Проверим данные на наличие дубликатов"
   ]
  },
  {
   "cell_type": "code",
   "execution_count": 9,
   "metadata": {},
   "outputs": [
    {
     "data": {
      "text/plain": [
       "4900"
      ]
     },
     "execution_count": 9,
     "metadata": {},
     "output_type": "execute_result"
    }
   ],
   "source": [
    "calls.duplicated().sum()"
   ]
  },
  {
   "cell_type": "markdown",
   "metadata": {},
   "source": [
    "В датасете 4900 дубликатов, но тяжело судить в количественном размере, много это или мало от всех значений, поэтому найдет процент от общего числа."
   ]
  },
  {
   "cell_type": "code",
   "execution_count": 10,
   "metadata": {},
   "outputs": [
    {
     "name": "stdout",
     "output_type": "stream",
     "text": [
      "9.09 % дубликатов от общего числа\n"
     ]
    }
   ],
   "source": [
    "\n",
    "print(round(calls.duplicated().mean()*100, 2), '% дубликатов от общего числа')"
   ]
  },
  {
   "cell_type": "markdown",
   "metadata": {},
   "source": [
    "ВВиду наличия явных дубликатов, которые могу привести к погрешности при дальнейшем исследовании, необходимо исключить их."
   ]
  },
  {
   "cell_type": "code",
   "execution_count": 11,
   "metadata": {},
   "outputs": [
    {
     "name": "stdout",
     "output_type": "stream",
     "text": [
      "<class 'pandas.core.frame.DataFrame'>\n",
      "RangeIndex: 49002 entries, 0 to 49001\n",
      "Data columns (total 9 columns):\n",
      " #   Column               Non-Null Count  Dtype         \n",
      "---  ------               --------------  -----         \n",
      " 0   user_id              49002 non-null  int64         \n",
      " 1   date                 49002 non-null  datetime64[ns]\n",
      " 2   direction            49002 non-null  object        \n",
      " 3   internal             48892 non-null  boolean       \n",
      " 4   operator_id          41546 non-null  Int64         \n",
      " 5   is_missed_call       49002 non-null  bool          \n",
      " 6   calls_count          49002 non-null  int64         \n",
      " 7   call_duration        49002 non-null  int64         \n",
      " 8   total_call_duration  49002 non-null  int64         \n",
      "dtypes: Int64(1), bool(1), boolean(1), datetime64[ns](1), int64(4), object(1)\n",
      "memory usage: 2.8+ MB\n"
     ]
    }
   ],
   "source": [
    "calls = calls.drop_duplicates().reset_index(drop=True)\n",
    "calls.info()"
   ]
  },
  {
   "cell_type": "code",
   "execution_count": 12,
   "metadata": {},
   "outputs": [
    {
     "data": {
      "text/plain": [
       "0"
      ]
     },
     "execution_count": 12,
     "metadata": {},
     "output_type": "execute_result"
    }
   ],
   "source": [
    "clients.duplicated().sum()"
   ]
  },
  {
   "cell_type": "markdown",
   "metadata": {},
   "source": [
    "Дубликатов в датасете с клиентами нет."
   ]
  },
  {
   "cell_type": "code",
   "execution_count": 13,
   "metadata": {},
   "outputs": [
    {
     "data": {
      "text/html": [
       "<div>\n",
       "<style scoped>\n",
       "    .dataframe tbody tr th:only-of-type {\n",
       "        vertical-align: middle;\n",
       "    }\n",
       "\n",
       "    .dataframe tbody tr th {\n",
       "        vertical-align: top;\n",
       "    }\n",
       "\n",
       "    .dataframe thead th {\n",
       "        text-align: right;\n",
       "    }\n",
       "</style>\n",
       "<table border=\"1\" class=\"dataframe\">\n",
       "  <thead>\n",
       "    <tr style=\"text-align: right;\">\n",
       "      <th></th>\n",
       "      <th></th>\n",
       "      <th></th>\n",
       "      <th>user_id</th>\n",
       "      <th>calls_count</th>\n",
       "      <th>total_call_duration</th>\n",
       "      <th>calls_share</th>\n",
       "    </tr>\n",
       "    <tr>\n",
       "      <th>is_missed_call</th>\n",
       "      <th>direction</th>\n",
       "      <th>internal</th>\n",
       "      <th></th>\n",
       "      <th></th>\n",
       "      <th></th>\n",
       "      <th></th>\n",
       "    </tr>\n",
       "  </thead>\n",
       "  <tbody>\n",
       "    <tr>\n",
       "      <th rowspan=\"4\" valign=\"top\">False</th>\n",
       "      <th rowspan=\"2\" valign=\"top\">in</th>\n",
       "      <th>False</th>\n",
       "      <td>200</td>\n",
       "      <td>9831</td>\n",
       "      <td>1147031</td>\n",
       "      <td>0.122817</td>\n",
       "    </tr>\n",
       "    <tr>\n",
       "      <th>True</th>\n",
       "      <td>14</td>\n",
       "      <td>41</td>\n",
       "      <td>2577</td>\n",
       "      <td>0.000512</td>\n",
       "    </tr>\n",
       "    <tr>\n",
       "      <th rowspan=\"2\" valign=\"top\">out</th>\n",
       "      <th>False</th>\n",
       "      <td>162</td>\n",
       "      <td>33110</td>\n",
       "      <td>3731852</td>\n",
       "      <td>0.413637</td>\n",
       "    </tr>\n",
       "    <tr>\n",
       "      <th>True</th>\n",
       "      <td>34</td>\n",
       "      <td>672</td>\n",
       "      <td>50826</td>\n",
       "      <td>0.008395</td>\n",
       "    </tr>\n",
       "    <tr>\n",
       "      <th rowspan=\"4\" valign=\"top\">True</th>\n",
       "      <th rowspan=\"2\" valign=\"top\">in</th>\n",
       "      <th>False</th>\n",
       "      <td>209</td>\n",
       "      <td>9060</td>\n",
       "      <td>103820</td>\n",
       "      <td>0.113185</td>\n",
       "    </tr>\n",
       "    <tr>\n",
       "      <th>True</th>\n",
       "      <td>21</td>\n",
       "      <td>77</td>\n",
       "      <td>1318</td>\n",
       "      <td>0.000962</td>\n",
       "    </tr>\n",
       "    <tr>\n",
       "      <th rowspan=\"2\" valign=\"top\">out</th>\n",
       "      <th>False</th>\n",
       "      <td>148</td>\n",
       "      <td>26803</td>\n",
       "      <td>656727</td>\n",
       "      <td>0.334845</td>\n",
       "    </tr>\n",
       "    <tr>\n",
       "      <th>True</th>\n",
       "      <td>60</td>\n",
       "      <td>443</td>\n",
       "      <td>3598</td>\n",
       "      <td>0.005534</td>\n",
       "    </tr>\n",
       "  </tbody>\n",
       "</table>\n",
       "</div>"
      ],
      "text/plain": [
       "                                   user_id  calls_count  total_call_duration  \\\n",
       "is_missed_call direction internal                                              \n",
       "False          in        False         200         9831              1147031   \n",
       "                         True           14           41                 2577   \n",
       "               out       False         162        33110              3731852   \n",
       "                         True           34          672                50826   \n",
       "True           in        False         209         9060               103820   \n",
       "                         True           21           77                 1318   \n",
       "               out       False         148        26803               656727   \n",
       "                         True           60          443                 3598   \n",
       "\n",
       "                                   calls_share  \n",
       "is_missed_call direction internal               \n",
       "False          in        False        0.122817  \n",
       "                         True         0.000512  \n",
       "               out       False        0.413637  \n",
       "                         True         0.008395  \n",
       "True           in        False        0.113185  \n",
       "                         True         0.000962  \n",
       "               out       False        0.334845  \n",
       "                         True         0.005534  "
      ]
     },
     "execution_count": 13,
     "metadata": {},
     "output_type": "execute_result"
    }
   ],
   "source": [
    "# ячейка ревьюера: подгрузим данные\n",
    "tmp = pd.read_csv('https://code.s3.yandex.net/datasets/telecom_dataset.csv')\n",
    "\n",
    "# посмотрим на особенности данных, содержащие дубликаты:\n",
    "(tmp[tmp.duplicated() == True] # оставляем только дубликаты\n",
    " .groupby(['is_missed_call','direction','internal']) # группируем по важным признакам\n",
    " .agg({'user_id':'nunique','calls_count':'sum','total_call_duration':'sum'}) # подсчитываем ключевые метрики\n",
    " .assign(calls_share = lambda x: x['calls_count'] / tmp[tmp.duplicated() == True].calls_count.sum()) # смотрим на доли\n",
    ")"
   ]
  },
  {
   "cell_type": "code",
   "execution_count": 14,
   "metadata": {},
   "outputs": [
    {
     "data": {
      "text/html": [
       "<div>\n",
       "<style scoped>\n",
       "    .dataframe tbody tr th:only-of-type {\n",
       "        vertical-align: middle;\n",
       "    }\n",
       "\n",
       "    .dataframe tbody tr th {\n",
       "        vertical-align: top;\n",
       "    }\n",
       "\n",
       "    .dataframe thead th {\n",
       "        text-align: right;\n",
       "    }\n",
       "</style>\n",
       "<table border=\"1\" class=\"dataframe\">\n",
       "  <thead>\n",
       "    <tr style=\"text-align: right;\">\n",
       "      <th></th>\n",
       "      <th></th>\n",
       "      <th></th>\n",
       "      <th>user_id</th>\n",
       "      <th>calls_count</th>\n",
       "      <th>total_call_duration</th>\n",
       "      <th>calls_share</th>\n",
       "    </tr>\n",
       "    <tr>\n",
       "      <th>is_missed_call</th>\n",
       "      <th>direction</th>\n",
       "      <th>internal</th>\n",
       "      <th></th>\n",
       "      <th></th>\n",
       "      <th></th>\n",
       "      <th></th>\n",
       "    </tr>\n",
       "  </thead>\n",
       "  <tbody>\n",
       "    <tr>\n",
       "      <th rowspan=\"4\" valign=\"top\">False</th>\n",
       "      <th rowspan=\"2\" valign=\"top\">in</th>\n",
       "      <th>False</th>\n",
       "      <td>273</td>\n",
       "      <td>92786</td>\n",
       "      <td>10975841</td>\n",
       "      <td>0.115018</td>\n",
       "    </tr>\n",
       "    <tr>\n",
       "      <th>True</th>\n",
       "      <td>47</td>\n",
       "      <td>677</td>\n",
       "      <td>58125</td>\n",
       "      <td>0.000839</td>\n",
       "    </tr>\n",
       "    <tr>\n",
       "      <th rowspan=\"2\" valign=\"top\">out</th>\n",
       "      <th>False</th>\n",
       "      <td>209</td>\n",
       "      <td>329306</td>\n",
       "      <td>37470202</td>\n",
       "      <td>0.408209</td>\n",
       "    </tr>\n",
       "    <tr>\n",
       "      <th>True</th>\n",
       "      <td>83</td>\n",
       "      <td>7963</td>\n",
       "      <td>591475</td>\n",
       "      <td>0.009871</td>\n",
       "    </tr>\n",
       "    <tr>\n",
       "      <th rowspan=\"4\" valign=\"top\">True</th>\n",
       "      <th rowspan=\"2\" valign=\"top\">in</th>\n",
       "      <th>False</th>\n",
       "      <td>303</td>\n",
       "      <td>103219</td>\n",
       "      <td>1280794</td>\n",
       "      <td>0.127951</td>\n",
       "    </tr>\n",
       "    <tr>\n",
       "      <th>True</th>\n",
       "      <td>76</td>\n",
       "      <td>944</td>\n",
       "      <td>19315</td>\n",
       "      <td>0.001170</td>\n",
       "    </tr>\n",
       "    <tr>\n",
       "      <th rowspan=\"2\" valign=\"top\">out</th>\n",
       "      <th>False</th>\n",
       "      <td>214</td>\n",
       "      <td>266518</td>\n",
       "      <td>6223935</td>\n",
       "      <td>0.330377</td>\n",
       "    </tr>\n",
       "    <tr>\n",
       "      <th>True</th>\n",
       "      <td>140</td>\n",
       "      <td>5071</td>\n",
       "      <td>44990</td>\n",
       "      <td>0.006286</td>\n",
       "    </tr>\n",
       "  </tbody>\n",
       "</table>\n",
       "</div>"
      ],
      "text/plain": [
       "                                   user_id  calls_count  total_call_duration  \\\n",
       "is_missed_call direction internal                                              \n",
       "False          in        False         273        92786             10975841   \n",
       "                         True           47          677                58125   \n",
       "               out       False         209       329306             37470202   \n",
       "                         True           83         7963               591475   \n",
       "True           in        False         303       103219              1280794   \n",
       "                         True           76          944                19315   \n",
       "               out       False         214       266518              6223935   \n",
       "                         True          140         5071                44990   \n",
       "\n",
       "                                   calls_share  \n",
       "is_missed_call direction internal               \n",
       "False          in        False        0.115018  \n",
       "                         True         0.000839  \n",
       "               out       False        0.408209  \n",
       "                         True         0.009871  \n",
       "True           in        False        0.127951  \n",
       "                         True         0.001170  \n",
       "               out       False        0.330377  \n",
       "                         True         0.006286  "
      ]
     },
     "execution_count": 14,
     "metadata": {},
     "output_type": "execute_result"
    }
   ],
   "source": [
    "# ячейка ревьюера\n",
    "\n",
    "# посмотрим на особенности данных, если удалим дубликаты:\n",
    "(tmp[tmp.duplicated() != True]\n",
    " .groupby(['is_missed_call','direction','internal'])\n",
    " .agg({'user_id':'nunique','calls_count':'sum','total_call_duration':'sum'})\n",
    " .assign(calls_share = lambda x: x['calls_count'] / tmp[tmp.duplicated() != True].calls_count.sum())\n",
    ")"
   ]
  },
  {
   "cell_type": "markdown",
   "metadata": {},
   "source": [
    "#### Проверим на отрицательные значения в данных"
   ]
  },
  {
   "cell_type": "code",
   "execution_count": 15,
   "metadata": {},
   "outputs": [
    {
     "data": {
      "text/plain": [
       "user_id                             166377\n",
       "date                   2019-08-02 00:00:00\n",
       "direction                               in\n",
       "internal                             False\n",
       "operator_id                         879896\n",
       "is_missed_call                       False\n",
       "calls_count                              1\n",
       "call_duration                            0\n",
       "total_call_duration                      0\n",
       "dtype: object"
      ]
     },
     "execution_count": 15,
     "metadata": {},
     "output_type": "execute_result"
    }
   ],
   "source": [
    "calls.min()"
   ]
  },
  {
   "cell_type": "code",
   "execution_count": 16,
   "metadata": {},
   "outputs": [
    {
     "data": {
      "text/plain": [
       "user_id                     166373\n",
       "tariff_plan                      A\n",
       "date_start     2019-08-01 00:00:00\n",
       "dtype: object"
      ]
     },
     "execution_count": 16,
     "metadata": {},
     "output_type": "execute_result"
    }
   ],
   "source": [
    "clients.min()"
   ]
  },
  {
   "cell_type": "markdown",
   "metadata": {},
   "source": [
    "Как видим, в минимальное значение по каждому столбцу показывает отсутствие отрицательных значение"
   ]
  },
  {
   "cell_type": "markdown",
   "metadata": {},
   "source": [
    "#### Проверка на наличие пустых ячеек"
   ]
  },
  {
   "cell_type": "markdown",
   "metadata": {},
   "source": [
    "Определим в процентном соотношении количество пропусков "
   ]
  },
  {
   "cell_type": "code",
   "execution_count": 17,
   "metadata": {},
   "outputs": [
    {
     "data": {
      "text/plain": [
       "internal        0.22\n",
       "operator_id    15.16\n",
       "dtype: float64"
      ]
     },
     "execution_count": 17,
     "metadata": {},
     "output_type": "execute_result"
    }
   ],
   "source": [
    "round(100 * calls_raw[['internal', 'operator_id']].isna().mean(), 2)"
   ]
  },
  {
   "cell_type": "markdown",
   "metadata": {},
   "source": [
    "Ввиду необходимости провести расчет затрат клиентов не целесообразно заполнять пропуски какими-либо значением. Приводить к среднему или медианному значению тоже приведет к погрешности при дальнейшем анализе. Оставим без изменений"
   ]
  },
  {
   "cell_type": "code",
   "execution_count": 18,
   "metadata": {},
   "outputs": [
    {
     "data": {
      "text/html": [
       "<div>\n",
       "<style scoped>\n",
       "    .dataframe tbody tr th:only-of-type {\n",
       "        vertical-align: middle;\n",
       "    }\n",
       "\n",
       "    .dataframe tbody tr th {\n",
       "        vertical-align: top;\n",
       "    }\n",
       "\n",
       "    .dataframe thead th {\n",
       "        text-align: right;\n",
       "    }\n",
       "</style>\n",
       "<table border=\"1\" class=\"dataframe\">\n",
       "  <thead>\n",
       "    <tr style=\"text-align: right;\">\n",
       "      <th></th>\n",
       "      <th></th>\n",
       "      <th>user_id</th>\n",
       "      <th>calls_count</th>\n",
       "      <th>calls_share</th>\n",
       "      <th>total_calls_share</th>\n",
       "    </tr>\n",
       "    <tr>\n",
       "      <th>is_missed_call</th>\n",
       "      <th>direction</th>\n",
       "      <th></th>\n",
       "      <th></th>\n",
       "      <th></th>\n",
       "      <th></th>\n",
       "    </tr>\n",
       "  </thead>\n",
       "  <tbody>\n",
       "    <tr>\n",
       "      <th rowspan=\"2\" valign=\"top\">False</th>\n",
       "      <th>in</th>\n",
       "      <td>10</td>\n",
       "      <td>714</td>\n",
       "      <td>0.006279</td>\n",
       "      <td>0.000805</td>\n",
       "    </tr>\n",
       "    <tr>\n",
       "      <th>out</th>\n",
       "      <td>3</td>\n",
       "      <td>334</td>\n",
       "      <td>0.002937</td>\n",
       "      <td>0.000377</td>\n",
       "    </tr>\n",
       "    <tr>\n",
       "      <th rowspan=\"2\" valign=\"top\">True</th>\n",
       "      <th>in</th>\n",
       "      <td>305</td>\n",
       "      <td>112453</td>\n",
       "      <td>0.988893</td>\n",
       "      <td>0.126814</td>\n",
       "    </tr>\n",
       "    <tr>\n",
       "      <th>out</th>\n",
       "      <td>49</td>\n",
       "      <td>215</td>\n",
       "      <td>0.001891</td>\n",
       "      <td>0.000242</td>\n",
       "    </tr>\n",
       "  </tbody>\n",
       "</table>\n",
       "</div>"
      ],
      "text/plain": [
       "                          user_id  calls_count  calls_share  total_calls_share\n",
       "is_missed_call direction                                                      \n",
       "False          in              10          714     0.006279           0.000805\n",
       "               out              3          334     0.002937           0.000377\n",
       "True           in             305       112453     0.988893           0.126814\n",
       "               out             49          215     0.001891           0.000242"
      ]
     },
     "execution_count": 18,
     "metadata": {},
     "output_type": "execute_result"
    }
   ],
   "source": [
    "# ячейка ревьюера:\n",
    "tmp = pd.read_csv('https://code.s3.yandex.net/datasets/telecom_dataset.csv')\n",
    "\n",
    "(tmp\n",
    " .query('operator_id != operator_id') # оставляем только пропуски\n",
    " .groupby(['is_missed_call','direction']) # группируем по важным признакам\n",
    " .agg({'user_id':'nunique','calls_count':'sum'})  # подсчитываем какие-то метрики\n",
    " .assign(calls_share = lambda x: x['calls_count'] / tmp.query('operator_id != operator_id').calls_count.sum(),\n",
    "         total_calls_share = lambda x: x['calls_count'] / tmp.calls_count.sum()) # добавляем новый столбец с расчетом долей \n",
    ")"
   ]
  },
  {
   "cell_type": "markdown",
   "metadata": {},
   "source": [
    "#### Рассматриваемый период"
   ]
  },
  {
   "cell_type": "code",
   "execution_count": 19,
   "metadata": {},
   "outputs": [
    {
     "name": "stdout",
     "output_type": "stream",
     "text": [
      "2019-08-01 00:00:00\n",
      "2019-10-31 00:00:00\n"
     ]
    }
   ],
   "source": [
    "#clients.info()\n",
    "print(clients['date_start'].min())\n",
    "print(clients['date_start'].max())"
   ]
  },
  {
   "cell_type": "code",
   "execution_count": 20,
   "metadata": {},
   "outputs": [
    {
     "name": "stdout",
     "output_type": "stream",
     "text": [
      "2019-08-02 00:00:00\n",
      "2019-11-28 00:00:00\n"
     ]
    }
   ],
   "source": [
    "#calls.info()\n",
    "print(calls['date'].min())\n",
    "print(calls['date'].max())"
   ]
  },
  {
   "cell_type": "markdown",
   "metadata": {},
   "source": [
    "Как видим, представленные датасеты происходят в один и тот же период.\n",
    "\n",
    "В исследовании предоставлены данные за период с 01.08.2019 по 28.11.2019.\n",
    "\n",
    "Клиенты начали регистрироваться с 01.08.2019 по 31.10.2023."
   ]
  },
  {
   "cell_type": "markdown",
   "metadata": {},
   "source": [
    "#### Проверим, что общая длительность звонков должна быть меньше чем общее время с учетом ожидания"
   ]
  },
  {
   "cell_type": "code",
   "execution_count": 21,
   "metadata": {},
   "outputs": [
    {
     "data": {
      "text/html": [
       "<div>\n",
       "<style scoped>\n",
       "    .dataframe tbody tr th:only-of-type {\n",
       "        vertical-align: middle;\n",
       "    }\n",
       "\n",
       "    .dataframe tbody tr th {\n",
       "        vertical-align: top;\n",
       "    }\n",
       "\n",
       "    .dataframe thead th {\n",
       "        text-align: right;\n",
       "    }\n",
       "</style>\n",
       "<table border=\"1\" class=\"dataframe\">\n",
       "  <thead>\n",
       "    <tr style=\"text-align: right;\">\n",
       "      <th></th>\n",
       "      <th>user_id</th>\n",
       "      <th>date</th>\n",
       "      <th>direction</th>\n",
       "      <th>internal</th>\n",
       "      <th>operator_id</th>\n",
       "      <th>is_missed_call</th>\n",
       "      <th>calls_count</th>\n",
       "      <th>call_duration</th>\n",
       "      <th>total_call_duration</th>\n",
       "    </tr>\n",
       "  </thead>\n",
       "  <tbody>\n",
       "  </tbody>\n",
       "</table>\n",
       "</div>"
      ],
      "text/plain": [
       "Empty DataFrame\n",
       "Columns: [user_id, date, direction, internal, operator_id, is_missed_call, calls_count, call_duration, total_call_duration]\n",
       "Index: []"
      ]
     },
     "execution_count": 21,
     "metadata": {},
     "output_type": "execute_result"
    }
   ],
   "source": [
    "calls[calls['total_call_duration'] < calls['call_duration']]"
   ]
  },
  {
   "cell_type": "markdown",
   "metadata": {},
   "source": [
    "Как видим, данное условие выполняется"
   ]
  },
  {
   "cell_type": "markdown",
   "metadata": {},
   "source": [
    "#### Проверим на аномалию, согласования даты регистрации и первого звонка клиента"
   ]
  },
  {
   "cell_type": "markdown",
   "metadata": {},
   "source": [
    "Для проверки данной анномалии, необходимо объеденить данные датасеты"
   ]
  },
  {
   "cell_type": "code",
   "execution_count": 22,
   "metadata": {},
   "outputs": [],
   "source": [
    "data = calls.merge(clients, on='user_id', how='left')"
   ]
  },
  {
   "cell_type": "code",
   "execution_count": 121,
   "metadata": {},
   "outputs": [],
   "source": [
    "data.to_csv('data.csv', index=False) "
   ]
  },
  {
   "cell_type": "code",
   "execution_count": 122,
   "metadata": {},
   "outputs": [
    {
     "data": {
      "text/html": [
       "<div>\n",
       "<style scoped>\n",
       "    .dataframe tbody tr th:only-of-type {\n",
       "        vertical-align: middle;\n",
       "    }\n",
       "\n",
       "    .dataframe tbody tr th {\n",
       "        vertical-align: top;\n",
       "    }\n",
       "\n",
       "    .dataframe thead th {\n",
       "        text-align: right;\n",
       "    }\n",
       "</style>\n",
       "<table border=\"1\" class=\"dataframe\">\n",
       "  <thead>\n",
       "    <tr style=\"text-align: right;\">\n",
       "      <th></th>\n",
       "      <th>user_id</th>\n",
       "      <th>date</th>\n",
       "      <th>direction</th>\n",
       "      <th>internal</th>\n",
       "      <th>operator_id</th>\n",
       "      <th>is_missed_call</th>\n",
       "      <th>calls_count</th>\n",
       "      <th>call_duration_sec</th>\n",
       "      <th>total_call_duration_sec</th>\n",
       "      <th>tariff_plan</th>\n",
       "      <th>date_start</th>\n",
       "      <th>call_duration_min</th>\n",
       "      <th>total_call_duration_min</th>\n",
       "      <th>month</th>\n",
       "      <th>month_name</th>\n",
       "      <th>waiting_time</th>\n",
       "      <th>avg_wait_time_per_call</th>\n",
       "      <th>day</th>\n",
       "      <th>weekday</th>\n",
       "    </tr>\n",
       "  </thead>\n",
       "  <tbody>\n",
       "    <tr>\n",
       "      <th>0</th>\n",
       "      <td>166377</td>\n",
       "      <td>2019-08-04</td>\n",
       "      <td>in</td>\n",
       "      <td>False</td>\n",
       "      <td>&lt;NA&gt;</td>\n",
       "      <td>True</td>\n",
       "      <td>2</td>\n",
       "      <td>0</td>\n",
       "      <td>4</td>\n",
       "      <td>B</td>\n",
       "      <td>2019-08-01</td>\n",
       "      <td>0.000000</td>\n",
       "      <td>0.066667</td>\n",
       "      <td>8</td>\n",
       "      <td>August</td>\n",
       "      <td>0.066667</td>\n",
       "      <td>0.033333</td>\n",
       "      <td>4</td>\n",
       "      <td>Sunday</td>\n",
       "    </tr>\n",
       "    <tr>\n",
       "      <th>1</th>\n",
       "      <td>166377</td>\n",
       "      <td>2019-08-05</td>\n",
       "      <td>out</td>\n",
       "      <td>True</td>\n",
       "      <td>880022</td>\n",
       "      <td>True</td>\n",
       "      <td>3</td>\n",
       "      <td>0</td>\n",
       "      <td>5</td>\n",
       "      <td>B</td>\n",
       "      <td>2019-08-01</td>\n",
       "      <td>0.000000</td>\n",
       "      <td>0.083333</td>\n",
       "      <td>8</td>\n",
       "      <td>August</td>\n",
       "      <td>0.083333</td>\n",
       "      <td>0.027778</td>\n",
       "      <td>5</td>\n",
       "      <td>Monday</td>\n",
       "    </tr>\n",
       "    <tr>\n",
       "      <th>2</th>\n",
       "      <td>166377</td>\n",
       "      <td>2019-08-05</td>\n",
       "      <td>out</td>\n",
       "      <td>True</td>\n",
       "      <td>880020</td>\n",
       "      <td>True</td>\n",
       "      <td>1</td>\n",
       "      <td>0</td>\n",
       "      <td>1</td>\n",
       "      <td>B</td>\n",
       "      <td>2019-08-01</td>\n",
       "      <td>0.000000</td>\n",
       "      <td>0.016667</td>\n",
       "      <td>8</td>\n",
       "      <td>August</td>\n",
       "      <td>0.016667</td>\n",
       "      <td>0.016667</td>\n",
       "      <td>5</td>\n",
       "      <td>Monday</td>\n",
       "    </tr>\n",
       "    <tr>\n",
       "      <th>3</th>\n",
       "      <td>166377</td>\n",
       "      <td>2019-08-05</td>\n",
       "      <td>out</td>\n",
       "      <td>True</td>\n",
       "      <td>880020</td>\n",
       "      <td>False</td>\n",
       "      <td>1</td>\n",
       "      <td>10</td>\n",
       "      <td>18</td>\n",
       "      <td>B</td>\n",
       "      <td>2019-08-01</td>\n",
       "      <td>0.166667</td>\n",
       "      <td>0.300000</td>\n",
       "      <td>8</td>\n",
       "      <td>August</td>\n",
       "      <td>0.133333</td>\n",
       "      <td>0.133333</td>\n",
       "      <td>5</td>\n",
       "      <td>Monday</td>\n",
       "    </tr>\n",
       "    <tr>\n",
       "      <th>4</th>\n",
       "      <td>166377</td>\n",
       "      <td>2019-08-05</td>\n",
       "      <td>out</td>\n",
       "      <td>False</td>\n",
       "      <td>880022</td>\n",
       "      <td>True</td>\n",
       "      <td>3</td>\n",
       "      <td>0</td>\n",
       "      <td>25</td>\n",
       "      <td>B</td>\n",
       "      <td>2019-08-01</td>\n",
       "      <td>0.000000</td>\n",
       "      <td>0.416667</td>\n",
       "      <td>8</td>\n",
       "      <td>August</td>\n",
       "      <td>0.416667</td>\n",
       "      <td>0.138889</td>\n",
       "      <td>5</td>\n",
       "      <td>Monday</td>\n",
       "    </tr>\n",
       "    <tr>\n",
       "      <th>...</th>\n",
       "      <td>...</td>\n",
       "      <td>...</td>\n",
       "      <td>...</td>\n",
       "      <td>...</td>\n",
       "      <td>...</td>\n",
       "      <td>...</td>\n",
       "      <td>...</td>\n",
       "      <td>...</td>\n",
       "      <td>...</td>\n",
       "      <td>...</td>\n",
       "      <td>...</td>\n",
       "      <td>...</td>\n",
       "      <td>...</td>\n",
       "      <td>...</td>\n",
       "      <td>...</td>\n",
       "      <td>...</td>\n",
       "      <td>...</td>\n",
       "      <td>...</td>\n",
       "      <td>...</td>\n",
       "    </tr>\n",
       "    <tr>\n",
       "      <th>48277</th>\n",
       "      <td>168606</td>\n",
       "      <td>2019-11-10</td>\n",
       "      <td>out</td>\n",
       "      <td>True</td>\n",
       "      <td>957922</td>\n",
       "      <td>False</td>\n",
       "      <td>1</td>\n",
       "      <td>0</td>\n",
       "      <td>25</td>\n",
       "      <td>C</td>\n",
       "      <td>2019-10-31</td>\n",
       "      <td>0.000000</td>\n",
       "      <td>0.416667</td>\n",
       "      <td>11</td>\n",
       "      <td>November</td>\n",
       "      <td>0.416667</td>\n",
       "      <td>0.416667</td>\n",
       "      <td>10</td>\n",
       "      <td>Sunday</td>\n",
       "    </tr>\n",
       "    <tr>\n",
       "      <th>48278</th>\n",
       "      <td>168606</td>\n",
       "      <td>2019-11-10</td>\n",
       "      <td>out</td>\n",
       "      <td>True</td>\n",
       "      <td>957922</td>\n",
       "      <td>True</td>\n",
       "      <td>1</td>\n",
       "      <td>0</td>\n",
       "      <td>38</td>\n",
       "      <td>C</td>\n",
       "      <td>2019-10-31</td>\n",
       "      <td>0.000000</td>\n",
       "      <td>0.633333</td>\n",
       "      <td>11</td>\n",
       "      <td>November</td>\n",
       "      <td>0.633333</td>\n",
       "      <td>0.633333</td>\n",
       "      <td>10</td>\n",
       "      <td>Sunday</td>\n",
       "    </tr>\n",
       "    <tr>\n",
       "      <th>48279</th>\n",
       "      <td>168606</td>\n",
       "      <td>2019-11-11</td>\n",
       "      <td>out</td>\n",
       "      <td>True</td>\n",
       "      <td>957922</td>\n",
       "      <td>False</td>\n",
       "      <td>2</td>\n",
       "      <td>479</td>\n",
       "      <td>501</td>\n",
       "      <td>C</td>\n",
       "      <td>2019-10-31</td>\n",
       "      <td>7.983333</td>\n",
       "      <td>8.350000</td>\n",
       "      <td>11</td>\n",
       "      <td>November</td>\n",
       "      <td>0.366667</td>\n",
       "      <td>0.183333</td>\n",
       "      <td>11</td>\n",
       "      <td>Monday</td>\n",
       "    </tr>\n",
       "    <tr>\n",
       "      <th>48280</th>\n",
       "      <td>168606</td>\n",
       "      <td>2019-11-15</td>\n",
       "      <td>out</td>\n",
       "      <td>True</td>\n",
       "      <td>957922</td>\n",
       "      <td>False</td>\n",
       "      <td>4</td>\n",
       "      <td>3130</td>\n",
       "      <td>3190</td>\n",
       "      <td>C</td>\n",
       "      <td>2019-10-31</td>\n",
       "      <td>52.166667</td>\n",
       "      <td>53.166667</td>\n",
       "      <td>11</td>\n",
       "      <td>November</td>\n",
       "      <td>1.000000</td>\n",
       "      <td>0.250000</td>\n",
       "      <td>15</td>\n",
       "      <td>Friday</td>\n",
       "    </tr>\n",
       "    <tr>\n",
       "      <th>48281</th>\n",
       "      <td>168606</td>\n",
       "      <td>2019-11-19</td>\n",
       "      <td>in</td>\n",
       "      <td>False</td>\n",
       "      <td>&lt;NA&gt;</td>\n",
       "      <td>True</td>\n",
       "      <td>2</td>\n",
       "      <td>0</td>\n",
       "      <td>64</td>\n",
       "      <td>C</td>\n",
       "      <td>2019-10-31</td>\n",
       "      <td>0.000000</td>\n",
       "      <td>1.066667</td>\n",
       "      <td>11</td>\n",
       "      <td>November</td>\n",
       "      <td>1.066667</td>\n",
       "      <td>0.533333</td>\n",
       "      <td>19</td>\n",
       "      <td>Tuesday</td>\n",
       "    </tr>\n",
       "  </tbody>\n",
       "</table>\n",
       "<p>48282 rows × 19 columns</p>\n",
       "</div>"
      ],
      "text/plain": [
       "       user_id       date direction  internal  operator_id  is_missed_call  \\\n",
       "0       166377 2019-08-04        in     False         <NA>            True   \n",
       "1       166377 2019-08-05       out      True       880022            True   \n",
       "2       166377 2019-08-05       out      True       880020            True   \n",
       "3       166377 2019-08-05       out      True       880020           False   \n",
       "4       166377 2019-08-05       out     False       880022            True   \n",
       "...        ...        ...       ...       ...          ...             ...   \n",
       "48277   168606 2019-11-10       out      True       957922           False   \n",
       "48278   168606 2019-11-10       out      True       957922            True   \n",
       "48279   168606 2019-11-11       out      True       957922           False   \n",
       "48280   168606 2019-11-15       out      True       957922           False   \n",
       "48281   168606 2019-11-19        in     False         <NA>            True   \n",
       "\n",
       "       calls_count  call_duration_sec  total_call_duration_sec tariff_plan  \\\n",
       "0                2                  0                        4           B   \n",
       "1                3                  0                        5           B   \n",
       "2                1                  0                        1           B   \n",
       "3                1                 10                       18           B   \n",
       "4                3                  0                       25           B   \n",
       "...            ...                ...                      ...         ...   \n",
       "48277            1                  0                       25           C   \n",
       "48278            1                  0                       38           C   \n",
       "48279            2                479                      501           C   \n",
       "48280            4               3130                     3190           C   \n",
       "48281            2                  0                       64           C   \n",
       "\n",
       "      date_start  call_duration_min  total_call_duration_min  month  \\\n",
       "0     2019-08-01           0.000000                 0.066667      8   \n",
       "1     2019-08-01           0.000000                 0.083333      8   \n",
       "2     2019-08-01           0.000000                 0.016667      8   \n",
       "3     2019-08-01           0.166667                 0.300000      8   \n",
       "4     2019-08-01           0.000000                 0.416667      8   \n",
       "...          ...                ...                      ...    ...   \n",
       "48277 2019-10-31           0.000000                 0.416667     11   \n",
       "48278 2019-10-31           0.000000                 0.633333     11   \n",
       "48279 2019-10-31           7.983333                 8.350000     11   \n",
       "48280 2019-10-31          52.166667                53.166667     11   \n",
       "48281 2019-10-31           0.000000                 1.066667     11   \n",
       "\n",
       "      month_name  waiting_time  avg_wait_time_per_call  day  weekday  \n",
       "0         August      0.066667                0.033333    4   Sunday  \n",
       "1         August      0.083333                0.027778    5   Monday  \n",
       "2         August      0.016667                0.016667    5   Monday  \n",
       "3         August      0.133333                0.133333    5   Monday  \n",
       "4         August      0.416667                0.138889    5   Monday  \n",
       "...          ...           ...                     ...  ...      ...  \n",
       "48277   November      0.416667                0.416667   10   Sunday  \n",
       "48278   November      0.633333                0.633333   10   Sunday  \n",
       "48279   November      0.366667                0.183333   11   Monday  \n",
       "48280   November      1.000000                0.250000   15   Friday  \n",
       "48281   November      1.066667                0.533333   19  Tuesday  \n",
       "\n",
       "[48282 rows x 19 columns]"
      ]
     },
     "metadata": {},
     "output_type": "display_data"
    }
   ],
   "source": [
    "display(data)"
   ]
  },
  {
   "cell_type": "code",
   "execution_count": 23,
   "metadata": {},
   "outputs": [
    {
     "data": {
      "text/plain": [
       "Timedelta('0 days 00:00:00')"
      ]
     },
     "execution_count": 23,
     "metadata": {},
     "output_type": "execute_result"
    }
   ],
   "source": [
    "# Определяем дельту между датой регистрации и первого звонка\n",
    "dates_check_df = (data.groupby(['user_id', 'date_start'], as_index=False)['date']\n",
    "                                  .min().assign(date_diff=lambda x: x['date']-x['date_start']))\n",
    "\n",
    "# Выводим минимальную дельту\n",
    "dates_check_df['date_diff'].min() "
   ]
  },
  {
   "cell_type": "markdown",
   "metadata": {},
   "source": [
    "Минимальная дельта не отрицательная, значит аномалий нет."
   ]
  },
  {
   "cell_type": "markdown",
   "metadata": {},
   "source": [
    "Рассмотрим более детально, какие значения у нас представлены, как они разбросаны для определение размерности времени."
   ]
  },
  {
   "cell_type": "code",
   "execution_count": 24,
   "metadata": {},
   "outputs": [
    {
     "data": {
      "text/plain": [
       "count     49002.000000\n",
       "mean        866.282091\n",
       "std        3775.503352\n",
       "min           0.000000\n",
       "25%           0.000000\n",
       "50%          37.000000\n",
       "75%         570.000000\n",
       "max      144395.000000\n",
       "Name: call_duration, dtype: float64"
      ]
     },
     "execution_count": 24,
     "metadata": {},
     "output_type": "execute_result"
    }
   ],
   "source": [
    "data['call_duration'].describe() "
   ]
  },
  {
   "cell_type": "markdown",
   "metadata": {},
   "source": [
    "Стоит обратить внимание, что медианное значение 866 едениц:\n",
    "\n",
    "предположим что данное значение в секундах, соответственно медианное значение длительности одного разговора в минутах составляет 14.4 минуты\n",
    "предположим что данное значение в минутах, соответвенно медианное значение одного разговора 36 часов. Уже заставляет задуматься, что больше половины значений находятся выше 24 часов(что просто уже не логично, поскольку в сутках 24 часа).\n",
    "Исходя из выводов сделанных в п.2 принимаем значение указанные в стобце call_duration в секундах\n",
    "\n",
    "Тогда:\n",
    "\n",
    "Среднее значение длительности всех разговоров составляет 866 сек или 14.4 минуты\n",
    "75% всех значений длительности разговоров не превышает 570 сек или 9.5 минут\n",
    "Поэтому переведём все значения длительности (принимая что в секундах) в минуты."
   ]
  },
  {
   "cell_type": "markdown",
   "metadata": {},
   "source": [
    "\n",
    "\n",
    "Рассчитаем длительность звонков в минутах и проверим, что для одного оператора суммарная дневная длительность не превышает 24*60=1440 минут.\n",
    "\n",
    "Создадим дополнительные столбцы куда запишем время в минутах."
   ]
  },
  {
   "cell_type": "code",
   "execution_count": 25,
   "metadata": {},
   "outputs": [],
   "source": [
    "data['call_duration_min'] = data['call_duration'] / 60\n",
    "data['total_call_duration_min'] = data['total_call_duration'] / 60\n",
    "\n",
    "data.rename(columns={'call_duration': 'call_duration_sec', \n",
    "                     'total_call_duration': 'total_call_duration_sec'},\n",
    "           inplace=True)"
   ]
  },
  {
   "cell_type": "code",
   "execution_count": 26,
   "metadata": {},
   "outputs": [
    {
     "data": {
      "text/html": [
       "<div>\n",
       "<style scoped>\n",
       "    .dataframe tbody tr th:only-of-type {\n",
       "        vertical-align: middle;\n",
       "    }\n",
       "\n",
       "    .dataframe tbody tr th {\n",
       "        vertical-align: top;\n",
       "    }\n",
       "\n",
       "    .dataframe thead th {\n",
       "        text-align: right;\n",
       "    }\n",
       "</style>\n",
       "<table border=\"1\" class=\"dataframe\">\n",
       "  <thead>\n",
       "    <tr style=\"text-align: right;\">\n",
       "      <th></th>\n",
       "      <th>operator_id</th>\n",
       "      <th>date</th>\n",
       "      <th>call_duration_min</th>\n",
       "      <th>total_call_duration_min</th>\n",
       "    </tr>\n",
       "  </thead>\n",
       "  <tbody>\n",
       "    <tr>\n",
       "      <th>0</th>\n",
       "      <td>879896</td>\n",
       "      <td>2019-08-02</td>\n",
       "      <td>0.516667</td>\n",
       "      <td>4.750000</td>\n",
       "    </tr>\n",
       "    <tr>\n",
       "      <th>1</th>\n",
       "      <td>879896</td>\n",
       "      <td>2019-08-03</td>\n",
       "      <td>0.900000</td>\n",
       "      <td>5.283333</td>\n",
       "    </tr>\n",
       "    <tr>\n",
       "      <th>2</th>\n",
       "      <td>879896</td>\n",
       "      <td>2019-08-04</td>\n",
       "      <td>1.900000</td>\n",
       "      <td>2.333333</td>\n",
       "    </tr>\n",
       "    <tr>\n",
       "      <th>3</th>\n",
       "      <td>879896</td>\n",
       "      <td>2019-08-05</td>\n",
       "      <td>31.816667</td>\n",
       "      <td>35.950000</td>\n",
       "    </tr>\n",
       "    <tr>\n",
       "      <th>4</th>\n",
       "      <td>879896</td>\n",
       "      <td>2019-08-06</td>\n",
       "      <td>86.000000</td>\n",
       "      <td>95.950000</td>\n",
       "    </tr>\n",
       "    <tr>\n",
       "      <th>...</th>\n",
       "      <td>...</td>\n",
       "      <td>...</td>\n",
       "      <td>...</td>\n",
       "      <td>...</td>\n",
       "    </tr>\n",
       "    <tr>\n",
       "      <th>19642</th>\n",
       "      <td>972412</td>\n",
       "      <td>2019-11-28</td>\n",
       "      <td>32.133333</td>\n",
       "      <td>40.183333</td>\n",
       "    </tr>\n",
       "    <tr>\n",
       "      <th>19643</th>\n",
       "      <td>972460</td>\n",
       "      <td>2019-11-27</td>\n",
       "      <td>2.150000</td>\n",
       "      <td>4.850000</td>\n",
       "    </tr>\n",
       "    <tr>\n",
       "      <th>19644</th>\n",
       "      <td>972460</td>\n",
       "      <td>2019-11-28</td>\n",
       "      <td>18.150000</td>\n",
       "      <td>25.783333</td>\n",
       "    </tr>\n",
       "    <tr>\n",
       "      <th>19645</th>\n",
       "      <td>973120</td>\n",
       "      <td>2019-11-27</td>\n",
       "      <td>0.083333</td>\n",
       "      <td>0.416667</td>\n",
       "    </tr>\n",
       "    <tr>\n",
       "      <th>19646</th>\n",
       "      <td>973286</td>\n",
       "      <td>2019-11-28</td>\n",
       "      <td>0.283333</td>\n",
       "      <td>1.750000</td>\n",
       "    </tr>\n",
       "  </tbody>\n",
       "</table>\n",
       "<p>19647 rows × 4 columns</p>\n",
       "</div>"
      ],
      "text/plain": [
       "       operator_id       date  call_duration_min  total_call_duration_min\n",
       "0           879896 2019-08-02           0.516667                 4.750000\n",
       "1           879896 2019-08-03           0.900000                 5.283333\n",
       "2           879896 2019-08-04           1.900000                 2.333333\n",
       "3           879896 2019-08-05          31.816667                35.950000\n",
       "4           879896 2019-08-06          86.000000                95.950000\n",
       "...            ...        ...                ...                      ...\n",
       "19642       972412 2019-11-28          32.133333                40.183333\n",
       "19643       972460 2019-11-27           2.150000                 4.850000\n",
       "19644       972460 2019-11-28          18.150000                25.783333\n",
       "19645       973120 2019-11-27           0.083333                 0.416667\n",
       "19646       973286 2019-11-28           0.283333                 1.750000\n",
       "\n",
       "[19647 rows x 4 columns]"
      ]
     },
     "execution_count": 26,
     "metadata": {},
     "output_type": "execute_result"
    }
   ],
   "source": [
    "operator_calls_duration = (data.groupby(['operator_id', 'date'], as_index=False)\n",
    "                               .agg({'call_duration_min': 'sum','total_call_duration_min': 'sum'}))\n",
    "\n",
    "operator_calls_duration"
   ]
  },
  {
   "cell_type": "markdown",
   "metadata": {},
   "source": [
    "После объединения, имеем общую длительность разговоров для операторов."
   ]
  },
  {
   "cell_type": "code",
   "execution_count": 27,
   "metadata": {},
   "outputs": [
    {
     "data": {
      "text/html": [
       "<div>\n",
       "<style scoped>\n",
       "    .dataframe tbody tr th:only-of-type {\n",
       "        vertical-align: middle;\n",
       "    }\n",
       "\n",
       "    .dataframe tbody tr th {\n",
       "        vertical-align: top;\n",
       "    }\n",
       "\n",
       "    .dataframe thead th {\n",
       "        text-align: right;\n",
       "    }\n",
       "</style>\n",
       "<table border=\"1\" class=\"dataframe\">\n",
       "  <thead>\n",
       "    <tr style=\"text-align: right;\">\n",
       "      <th></th>\n",
       "      <th>operator_id</th>\n",
       "      <th>date</th>\n",
       "      <th>call_duration_min</th>\n",
       "      <th>total_call_duration_min</th>\n",
       "    </tr>\n",
       "  </thead>\n",
       "  <tbody>\n",
       "    <tr>\n",
       "      <th>824</th>\n",
       "      <td>885876</td>\n",
       "      <td>2019-09-02</td>\n",
       "      <td>1524.116667</td>\n",
       "      <td>2106.933333</td>\n",
       "    </tr>\n",
       "    <tr>\n",
       "      <th>825</th>\n",
       "      <td>885876</td>\n",
       "      <td>2019-09-03</td>\n",
       "      <td>1478.500000</td>\n",
       "      <td>2212.616667</td>\n",
       "    </tr>\n",
       "    <tr>\n",
       "      <th>826</th>\n",
       "      <td>885876</td>\n",
       "      <td>2019-09-04</td>\n",
       "      <td>1567.583333</td>\n",
       "      <td>2112.050000</td>\n",
       "    </tr>\n",
       "    <tr>\n",
       "      <th>827</th>\n",
       "      <td>885876</td>\n",
       "      <td>2019-09-05</td>\n",
       "      <td>1855.116667</td>\n",
       "      <td>2260.583333</td>\n",
       "    </tr>\n",
       "    <tr>\n",
       "      <th>828</th>\n",
       "      <td>885876</td>\n",
       "      <td>2019-09-06</td>\n",
       "      <td>1492.316667</td>\n",
       "      <td>1914.683333</td>\n",
       "    </tr>\n",
       "    <tr>\n",
       "      <th>831</th>\n",
       "      <td>885876</td>\n",
       "      <td>2019-09-09</td>\n",
       "      <td>2042.016667</td>\n",
       "      <td>2680.433333</td>\n",
       "    </tr>\n",
       "    <tr>\n",
       "      <th>833</th>\n",
       "      <td>885876</td>\n",
       "      <td>2019-09-11</td>\n",
       "      <td>1928.366667</td>\n",
       "      <td>2490.233333</td>\n",
       "    </tr>\n",
       "    <tr>\n",
       "      <th>834</th>\n",
       "      <td>885876</td>\n",
       "      <td>2019-09-12</td>\n",
       "      <td>2111.933333</td>\n",
       "      <td>2563.216667</td>\n",
       "    </tr>\n",
       "    <tr>\n",
       "      <th>835</th>\n",
       "      <td>885876</td>\n",
       "      <td>2019-09-13</td>\n",
       "      <td>1664.883333</td>\n",
       "      <td>2124.700000</td>\n",
       "    </tr>\n",
       "    <tr>\n",
       "      <th>839</th>\n",
       "      <td>885876</td>\n",
       "      <td>2019-09-17</td>\n",
       "      <td>1686.050000</td>\n",
       "      <td>2508.100000</td>\n",
       "    </tr>\n",
       "    <tr>\n",
       "      <th>840</th>\n",
       "      <td>885876</td>\n",
       "      <td>2019-09-18</td>\n",
       "      <td>2030.600000</td>\n",
       "      <td>2652.966667</td>\n",
       "    </tr>\n",
       "    <tr>\n",
       "      <th>841</th>\n",
       "      <td>885876</td>\n",
       "      <td>2019-09-19</td>\n",
       "      <td>1830.866667</td>\n",
       "      <td>2293.550000</td>\n",
       "    </tr>\n",
       "    <tr>\n",
       "      <th>842</th>\n",
       "      <td>885876</td>\n",
       "      <td>2019-09-20</td>\n",
       "      <td>1947.266667</td>\n",
       "      <td>2461.133333</td>\n",
       "    </tr>\n",
       "    <tr>\n",
       "      <th>845</th>\n",
       "      <td>885876</td>\n",
       "      <td>2019-09-23</td>\n",
       "      <td>1736.700000</td>\n",
       "      <td>2555.216667</td>\n",
       "    </tr>\n",
       "    <tr>\n",
       "      <th>847</th>\n",
       "      <td>885876</td>\n",
       "      <td>2019-09-25</td>\n",
       "      <td>2416.766667</td>\n",
       "      <td>3166.483333</td>\n",
       "    </tr>\n",
       "    <tr>\n",
       "      <th>848</th>\n",
       "      <td>885876</td>\n",
       "      <td>2019-09-26</td>\n",
       "      <td>2285.633333</td>\n",
       "      <td>2869.416667</td>\n",
       "    </tr>\n",
       "    <tr>\n",
       "      <th>849</th>\n",
       "      <td>885876</td>\n",
       "      <td>2019-09-27</td>\n",
       "      <td>1942.116667</td>\n",
       "      <td>2494.666667</td>\n",
       "    </tr>\n",
       "    <tr>\n",
       "      <th>852</th>\n",
       "      <td>885876</td>\n",
       "      <td>2019-09-30</td>\n",
       "      <td>1582.450000</td>\n",
       "      <td>2209.200000</td>\n",
       "    </tr>\n",
       "    <tr>\n",
       "      <th>853</th>\n",
       "      <td>885876</td>\n",
       "      <td>2019-10-01</td>\n",
       "      <td>1488.533333</td>\n",
       "      <td>2503.383333</td>\n",
       "    </tr>\n",
       "    <tr>\n",
       "      <th>854</th>\n",
       "      <td>885876</td>\n",
       "      <td>2019-10-02</td>\n",
       "      <td>2035.133333</td>\n",
       "      <td>2590.033333</td>\n",
       "    </tr>\n",
       "    <tr>\n",
       "      <th>855</th>\n",
       "      <td>885876</td>\n",
       "      <td>2019-10-03</td>\n",
       "      <td>1585.066667</td>\n",
       "      <td>1763.100000</td>\n",
       "    </tr>\n",
       "    <tr>\n",
       "      <th>861</th>\n",
       "      <td>885876</td>\n",
       "      <td>2019-10-09</td>\n",
       "      <td>2007.933333</td>\n",
       "      <td>2359.550000</td>\n",
       "    </tr>\n",
       "    <tr>\n",
       "      <th>862</th>\n",
       "      <td>885876</td>\n",
       "      <td>2019-10-10</td>\n",
       "      <td>1512.983333</td>\n",
       "      <td>1691.633333</td>\n",
       "    </tr>\n",
       "  </tbody>\n",
       "</table>\n",
       "</div>"
      ],
      "text/plain": [
       "     operator_id       date  call_duration_min  total_call_duration_min\n",
       "824       885876 2019-09-02        1524.116667              2106.933333\n",
       "825       885876 2019-09-03        1478.500000              2212.616667\n",
       "826       885876 2019-09-04        1567.583333              2112.050000\n",
       "827       885876 2019-09-05        1855.116667              2260.583333\n",
       "828       885876 2019-09-06        1492.316667              1914.683333\n",
       "831       885876 2019-09-09        2042.016667              2680.433333\n",
       "833       885876 2019-09-11        1928.366667              2490.233333\n",
       "834       885876 2019-09-12        2111.933333              2563.216667\n",
       "835       885876 2019-09-13        1664.883333              2124.700000\n",
       "839       885876 2019-09-17        1686.050000              2508.100000\n",
       "840       885876 2019-09-18        2030.600000              2652.966667\n",
       "841       885876 2019-09-19        1830.866667              2293.550000\n",
       "842       885876 2019-09-20        1947.266667              2461.133333\n",
       "845       885876 2019-09-23        1736.700000              2555.216667\n",
       "847       885876 2019-09-25        2416.766667              3166.483333\n",
       "848       885876 2019-09-26        2285.633333              2869.416667\n",
       "849       885876 2019-09-27        1942.116667              2494.666667\n",
       "852       885876 2019-09-30        1582.450000              2209.200000\n",
       "853       885876 2019-10-01        1488.533333              2503.383333\n",
       "854       885876 2019-10-02        2035.133333              2590.033333\n",
       "855       885876 2019-10-03        1585.066667              1763.100000\n",
       "861       885876 2019-10-09        2007.933333              2359.550000\n",
       "862       885876 2019-10-10        1512.983333              1691.633333"
      ]
     },
     "execution_count": 27,
     "metadata": {},
     "output_type": "execute_result"
    }
   ],
   "source": [
    "operator_calls_duration.query('call_duration_min > 1440')"
   ]
  },
  {
   "cell_type": "markdown",
   "metadata": {},
   "source": [
    "Есть оператор, у которого длительность звонков за день превышает 24 часа. Посмотрим подробнее на данные по этому оператору."
   ]
  },
  {
   "cell_type": "code",
   "execution_count": 28,
   "metadata": {},
   "outputs": [
    {
     "data": {
      "text/plain": [
       "count      97.000000\n",
       "mean      749.820103\n",
       "std       706.120874\n",
       "min         0.000000\n",
       "25%        99.500000\n",
       "50%       521.283333\n",
       "75%      1353.950000\n",
       "max      2416.766667\n",
       "Name: call_duration_min, dtype: float64"
      ]
     },
     "execution_count": 28,
     "metadata": {},
     "output_type": "execute_result"
    }
   ],
   "source": [
    "# Посмотрим более внимательно на данного оператора\n",
    "operator_stat = (data.query('operator_id == 885876')\n",
    "                         .groupby('date', as_index=False)['call_duration_min'].sum())\n",
    "\n",
    "operator_stat['call_duration_min'].describe()"
   ]
  },
  {
   "cell_type": "markdown",
   "metadata": {},
   "source": [
    "Для этого оператора нашлось 97 записей, в среднем он разговаривает 749 минут в день (медианное время 521, значительно ниже среднего). Максимальная дневная длительность звонка составила 2416 минут - это 40 с лишним часов.\n",
    "\n",
    "Выведем график зависимоти длительности звонков этого оператора от даты:"
   ]
  },
  {
   "cell_type": "code",
   "execution_count": 29,
   "metadata": {},
   "outputs": [
    {
     "data": {
      "image/png": "[encoded data removed]",
      "text/plain": [
       "<Figure size 1008x504 with 1 Axes>"
      ]
     },
     "metadata": {
      "needs_background": "light"
     },
     "output_type": "display_data"
    }
   ],
   "source": [
    "fig, ax = plt.subplots(figsize=(14,7))\n",
    "\n",
    "sns.lineplot(data=operator_stat, \n",
    "             x='date', \n",
    "             y='call_duration_min',\n",
    "             ax=ax);"
   ]
  },
  {
   "cell_type": "markdown",
   "metadata": {},
   "source": [
    "Найдем клиента, у которого работает этот оператор и проверим остальных его операторов"
   ]
  },
  {
   "cell_type": "code",
   "execution_count": 30,
   "metadata": {},
   "outputs": [
    {
     "data": {
      "text/plain": [
       "array([166582])"
      ]
     },
     "execution_count": 30,
     "metadata": {},
     "output_type": "execute_result"
    }
   ],
   "source": [
    "data.query('operator_id == 885876')['user_id'].unique()"
   ]
  },
  {
   "cell_type": "code",
   "execution_count": 31,
   "metadata": {},
   "outputs": [],
   "source": [
    "anomaly_user_stat = (\n",
    "    data.query('user_id == 166582')\n",
    "    .groupby(['date', 'operator_id'], \n",
    "             as_index=False)['call_duration_min']\n",
    "    .sum()\n",
    ")\n",
    "anomaly_user_stat['operator_id'] = anomaly_user_stat['operator_id'].astype(str)"
   ]
  },
  {
   "cell_type": "code",
   "execution_count": 32,
   "metadata": {},
   "outputs": [
    {
     "data": {
      "image/png": "[encoded data removed]",
      "text/plain": [
       "<Figure size 1008x504 with 1 Axes>"
      ]
     },
     "metadata": {
      "needs_background": "light"
     },
     "output_type": "display_data"
    }
   ],
   "source": [
    "fig, ax = plt.subplots(figsize=(14,7))\n",
    "sns.lineplot(data=anomaly_user_stat, \n",
    "             x='date', \n",
    "             y='call_duration_min', \n",
    "             hue='operator_id',\n",
    "             ax=ax);"
   ]
  },
  {
   "cell_type": "markdown",
   "metadata": {},
   "source": [
    "Кажется, что по остальным операторам такой проблемы нет, их звонки выглядят равномерными и не превышают разумных значений. Видимо, искажены только данные по оператору 885876 и только за сентябрь-октябрь. Возможно, произошел какой-то технический сбой и под одной учеткой работали несколько операторов.\n",
    "\n",
    "Мы не можем удалить только этого оператора для клиента, т.к. это исказит расчет стоимости связи. Поэтому из анализа придется исключить самого клиента."
   ]
  },
  {
   "cell_type": "code",
   "execution_count": 33,
   "metadata": {},
   "outputs": [
    {
     "data": {
      "text/plain": [
       "(48282, 13)"
      ]
     },
     "execution_count": 33,
     "metadata": {},
     "output_type": "execute_result"
    }
   ],
   "source": [
    "data = data.query('user_id != 166582')\n",
    "data.reset_index(drop=True, inplace=True)\n",
    "data.shape"
   ]
  },
  {
   "cell_type": "markdown",
   "metadata": {},
   "source": [
    "**ДОПОЛНИТЕЛЬНАЯ ПРОВЕРКА**\n",
    "\n",
    "Посмотрим как распределение выглядит сейчас"
   ]
  },
  {
   "cell_type": "code",
   "execution_count": 34,
   "metadata": {},
   "outputs": [
    {
     "name": "stdout",
     "output_type": "stream",
     "text": [
      "        calls_count  call_duration_sec  total_call_duration_min\n",
      "count  48282.000000       48282.000000             48282.000000\n",
      "mean      13.715443         702.457023                15.477809\n",
      "std       50.312615        1780.051094                34.724086\n",
      "min        1.000000           0.000000                 0.000000\n",
      "25%        1.000000           0.000000                 0.766667\n",
      "50%        4.000000          37.000000                 3.366667\n",
      "75%       12.000000         560.000000                14.383333\n",
      "max     4817.000000       41344.000000               967.116667\n"
     ]
    }
   ],
   "source": [
    "print(data[['calls_count', 'call_duration_sec',  'total_call_duration_min']].describe())"
   ]
  },
  {
   "cell_type": "markdown",
   "metadata": {},
   "source": [
    "Напомню, что одной из задач будет определить траты клиентов по месяцам за связь, стоит выделить месяц в отдельный столбец. К тому же, стоит отметить, что рассматриваемый период находится в одном календарном году, не будет путаницы в части определения даты."
   ]
  },
  {
   "cell_type": "code",
   "execution_count": 35,
   "metadata": {},
   "outputs": [],
   "source": [
    "data['month'] = data['date'].dt.month\n",
    "data['month_name'] = data['date'].dt.month_name()"
   ]
  },
  {
   "cell_type": "code",
   "execution_count": 36,
   "metadata": {},
   "outputs": [
    {
     "data": {
      "text/html": [
       "<div>\n",
       "<style scoped>\n",
       "    .dataframe tbody tr th:only-of-type {\n",
       "        vertical-align: middle;\n",
       "    }\n",
       "\n",
       "    .dataframe tbody tr th {\n",
       "        vertical-align: top;\n",
       "    }\n",
       "\n",
       "    .dataframe thead th {\n",
       "        text-align: right;\n",
       "    }\n",
       "</style>\n",
       "<table border=\"1\" class=\"dataframe\">\n",
       "  <thead>\n",
       "    <tr style=\"text-align: right;\">\n",
       "      <th></th>\n",
       "      <th>user_id</th>\n",
       "      <th>date</th>\n",
       "      <th>direction</th>\n",
       "      <th>internal</th>\n",
       "      <th>operator_id</th>\n",
       "      <th>is_missed_call</th>\n",
       "      <th>calls_count</th>\n",
       "      <th>call_duration_sec</th>\n",
       "      <th>total_call_duration_sec</th>\n",
       "      <th>tariff_plan</th>\n",
       "      <th>date_start</th>\n",
       "      <th>call_duration_min</th>\n",
       "      <th>total_call_duration_min</th>\n",
       "      <th>month</th>\n",
       "      <th>month_name</th>\n",
       "    </tr>\n",
       "  </thead>\n",
       "  <tbody>\n",
       "    <tr>\n",
       "      <th>0</th>\n",
       "      <td>166377</td>\n",
       "      <td>2019-08-04</td>\n",
       "      <td>in</td>\n",
       "      <td>False</td>\n",
       "      <td>&lt;NA&gt;</td>\n",
       "      <td>True</td>\n",
       "      <td>2</td>\n",
       "      <td>0</td>\n",
       "      <td>4</td>\n",
       "      <td>B</td>\n",
       "      <td>2019-08-01</td>\n",
       "      <td>0.000000</td>\n",
       "      <td>0.066667</td>\n",
       "      <td>8</td>\n",
       "      <td>August</td>\n",
       "    </tr>\n",
       "    <tr>\n",
       "      <th>1</th>\n",
       "      <td>166377</td>\n",
       "      <td>2019-08-05</td>\n",
       "      <td>out</td>\n",
       "      <td>True</td>\n",
       "      <td>880022</td>\n",
       "      <td>True</td>\n",
       "      <td>3</td>\n",
       "      <td>0</td>\n",
       "      <td>5</td>\n",
       "      <td>B</td>\n",
       "      <td>2019-08-01</td>\n",
       "      <td>0.000000</td>\n",
       "      <td>0.083333</td>\n",
       "      <td>8</td>\n",
       "      <td>August</td>\n",
       "    </tr>\n",
       "    <tr>\n",
       "      <th>2</th>\n",
       "      <td>166377</td>\n",
       "      <td>2019-08-05</td>\n",
       "      <td>out</td>\n",
       "      <td>True</td>\n",
       "      <td>880020</td>\n",
       "      <td>True</td>\n",
       "      <td>1</td>\n",
       "      <td>0</td>\n",
       "      <td>1</td>\n",
       "      <td>B</td>\n",
       "      <td>2019-08-01</td>\n",
       "      <td>0.000000</td>\n",
       "      <td>0.016667</td>\n",
       "      <td>8</td>\n",
       "      <td>August</td>\n",
       "    </tr>\n",
       "    <tr>\n",
       "      <th>3</th>\n",
       "      <td>166377</td>\n",
       "      <td>2019-08-05</td>\n",
       "      <td>out</td>\n",
       "      <td>True</td>\n",
       "      <td>880020</td>\n",
       "      <td>False</td>\n",
       "      <td>1</td>\n",
       "      <td>10</td>\n",
       "      <td>18</td>\n",
       "      <td>B</td>\n",
       "      <td>2019-08-01</td>\n",
       "      <td>0.166667</td>\n",
       "      <td>0.300000</td>\n",
       "      <td>8</td>\n",
       "      <td>August</td>\n",
       "    </tr>\n",
       "    <tr>\n",
       "      <th>4</th>\n",
       "      <td>166377</td>\n",
       "      <td>2019-08-05</td>\n",
       "      <td>out</td>\n",
       "      <td>False</td>\n",
       "      <td>880022</td>\n",
       "      <td>True</td>\n",
       "      <td>3</td>\n",
       "      <td>0</td>\n",
       "      <td>25</td>\n",
       "      <td>B</td>\n",
       "      <td>2019-08-01</td>\n",
       "      <td>0.000000</td>\n",
       "      <td>0.416667</td>\n",
       "      <td>8</td>\n",
       "      <td>August</td>\n",
       "    </tr>\n",
       "  </tbody>\n",
       "</table>\n",
       "</div>"
      ],
      "text/plain": [
       "   user_id       date direction  internal  operator_id  is_missed_call  \\\n",
       "0   166377 2019-08-04        in     False         <NA>            True   \n",
       "1   166377 2019-08-05       out      True       880022            True   \n",
       "2   166377 2019-08-05       out      True       880020            True   \n",
       "3   166377 2019-08-05       out      True       880020           False   \n",
       "4   166377 2019-08-05       out     False       880022            True   \n",
       "\n",
       "   calls_count  call_duration_sec  total_call_duration_sec tariff_plan  \\\n",
       "0            2                  0                        4           B   \n",
       "1            3                  0                        5           B   \n",
       "2            1                  0                        1           B   \n",
       "3            1                 10                       18           B   \n",
       "4            3                  0                       25           B   \n",
       "\n",
       "  date_start  call_duration_min  total_call_duration_min  month month_name  \n",
       "0 2019-08-01           0.000000                 0.066667      8     August  \n",
       "1 2019-08-01           0.000000                 0.083333      8     August  \n",
       "2 2019-08-01           0.000000                 0.016667      8     August  \n",
       "3 2019-08-01           0.166667                 0.300000      8     August  \n",
       "4 2019-08-01           0.000000                 0.416667      8     August  "
      ]
     },
     "execution_count": 36,
     "metadata": {},
     "output_type": "execute_result"
    }
   ],
   "source": [
    "data.head()"
   ]
  },
  {
   "cell_type": "markdown",
   "metadata": {},
   "source": [
    "### Вывод\n",
    "Проведенная подготовка данных показала, что в дата сете имеются \"шумы\" (пропуски, дубли, аномалии и т.п.), в последствии они были устарнены. Также дополнительно были добавлены вспомогательные столбцы, для дальнейшего анализа.\n",
    "\n",
    "\n",
    "\n",
    "Данные о звонках имеют достаточно широкое распределение значений. Средние показатели существенно смещены от медианных, что говорит о различии структурных и количественных характеристик, в следствии наличия выбросов. Длительность вызовов достаточно широко варьируется. Есть аномальные значения, например, длительность вызовов более 24 часов. Поскольку исходящие вызовы тарифицируются, такие данные некорректны. Клиента с такими аномалиями целесообразно подвергнуть более тщательному анализу с более широким спектром данных."
   ]
  },
  {
   "cell_type": "markdown",
   "metadata": {},
   "source": [
    "## Исследовательский анализ данных"
   ]
  },
  {
   "cell_type": "markdown",
   "metadata": {},
   "source": [
    "### Анализ количества клиентов"
   ]
  },
  {
   "cell_type": "markdown",
   "metadata": {},
   "source": [
    "#### По тарифам"
   ]
  },
  {
   "cell_type": "markdown",
   "metadata": {},
   "source": [
    "Опеределим количество клиентов на каждом тарифе"
   ]
  },
  {
   "cell_type": "code",
   "execution_count": 37,
   "metadata": {},
   "outputs": [
    {
     "data": {
      "text/html": [
       "<div>\n",
       "<style scoped>\n",
       "    .dataframe tbody tr th:only-of-type {\n",
       "        vertical-align: middle;\n",
       "    }\n",
       "\n",
       "    .dataframe tbody tr th {\n",
       "        vertical-align: top;\n",
       "    }\n",
       "\n",
       "    .dataframe thead th {\n",
       "        text-align: right;\n",
       "    }\n",
       "</style>\n",
       "<table border=\"1\" class=\"dataframe\">\n",
       "  <thead>\n",
       "    <tr style=\"text-align: right;\">\n",
       "      <th></th>\n",
       "      <th>tariff_plan</th>\n",
       "      <th>user_id</th>\n",
       "    </tr>\n",
       "  </thead>\n",
       "  <tbody>\n",
       "    <tr>\n",
       "      <th>0</th>\n",
       "      <td>A</td>\n",
       "      <td>33</td>\n",
       "    </tr>\n",
       "    <tr>\n",
       "      <th>1</th>\n",
       "      <td>B</td>\n",
       "      <td>112</td>\n",
       "    </tr>\n",
       "    <tr>\n",
       "      <th>2</th>\n",
       "      <td>C</td>\n",
       "      <td>161</td>\n",
       "    </tr>\n",
       "  </tbody>\n",
       "</table>\n",
       "</div>"
      ],
      "text/plain": [
       "  tariff_plan  user_id\n",
       "0           A       33\n",
       "1           B      112\n",
       "2           C      161"
      ]
     },
     "execution_count": 37,
     "metadata": {},
     "output_type": "execute_result"
    }
   ],
   "source": [
    "tariffs_stat = data.groupby('tariff_plan', as_index=False)['user_id'].nunique()\n",
    "tariffs_stat"
   ]
  },
  {
   "cell_type": "markdown",
   "metadata": {},
   "source": [
    "Ввиду дальнейшего постоянного построения графиков в виде баров, создадим функцию"
   ]
  },
  {
   "cell_type": "code",
   "execution_count": 38,
   "metadata": {},
   "outputs": [],
   "source": [
    "def create_barchart(df, x, y, xlabel, ylabel, title, figsize=(14, 6)): \n",
    "    sns.set_style('darkgrid')\n",
    "    fig, ax = plt.subplots(figsize=figsize)\n",
    "    sns.barplot(data=df, x=x, y=y, ax=ax)\n",
    "    ax.set(title=title, xlabel=xlabel, ylabel=ylabel)\n",
    "    plt.show();"
   ]
  },
  {
   "cell_type": "code",
   "execution_count": 39,
   "metadata": {},
   "outputs": [
    {
     "data": {
      "image/png": "[encoded data removed]",
      "text/plain": [
       "<Figure size 1008x432 with 1 Axes>"
      ]
     },
     "metadata": {},
     "output_type": "display_data"
    }
   ],
   "source": [
    "create_barchart(tariffs_stat, x='tariff_plan', y='user_id', xlabel='', \n",
    "                    ylabel='', title='Количество клиентов на разных тарифных планах')\n"
   ]
  },
  {
   "cell_type": "markdown",
   "metadata": {},
   "source": [
    "Из полученных данных имеем:\n",
    "\n",
    "наиболее популярный тариф у клиентов \"тариф С\", самый дешевый тариф\n",
    "втром вариантом клиенты выбирают \"тариф В\"\n",
    "самым не популярынм тарифом для клиентов \"тариф А\", но не стоит забывать, что он самый дорогой"
   ]
  },
  {
   "cell_type": "markdown",
   "metadata": {},
   "source": [
    "#### По количеству месяцев пользования клиентами"
   ]
  },
  {
   "cell_type": "markdown",
   "metadata": {},
   "source": [
    "Создадим таблицу, где для каждого пользователя будет определен месяц использования (совершенного звонка)"
   ]
  },
  {
   "cell_type": "code",
   "execution_count": 40,
   "metadata": {},
   "outputs": [],
   "source": [
    "month_st = data.groupby(by='user_id', as_index=False).agg({'month': pd.Series.nunique})"
   ]
  },
  {
   "cell_type": "markdown",
   "metadata": {},
   "source": [
    "Далее создадим таблицу с продолжительностью пользования услугами сети пользователями"
   ]
  },
  {
   "cell_type": "code",
   "execution_count": 41,
   "metadata": {},
   "outputs": [],
   "source": [
    "month_stat = month_st.groupby(by='month', as_index=False).agg({'user_id': 'count'})\n",
    "\n",
    "month_stat.rename(columns={'month': 'months_count', 'user_id': 'users_count'}, inplace=True)"
   ]
  },
  {
   "cell_type": "markdown",
   "metadata": {},
   "source": [
    "Постороим график по ранее заданной функции"
   ]
  },
  {
   "cell_type": "code",
   "execution_count": 42,
   "metadata": {},
   "outputs": [
    {
     "data": {
      "image/png": "[encoded data removed]",
      "text/plain": [
       "<Figure size 1008x432 with 1 Axes>"
      ]
     },
     "metadata": {},
     "output_type": "display_data"
    },
    {
     "data": {
      "text/html": [
       "<div>\n",
       "<style scoped>\n",
       "    .dataframe tbody tr th:only-of-type {\n",
       "        vertical-align: middle;\n",
       "    }\n",
       "\n",
       "    .dataframe tbody tr th {\n",
       "        vertical-align: top;\n",
       "    }\n",
       "\n",
       "    .dataframe thead th {\n",
       "        text-align: right;\n",
       "    }\n",
       "</style>\n",
       "<table border=\"1\" class=\"dataframe\">\n",
       "  <thead>\n",
       "    <tr style=\"text-align: right;\">\n",
       "      <th></th>\n",
       "      <th>months_count</th>\n",
       "      <th>users_count</th>\n",
       "    </tr>\n",
       "  </thead>\n",
       "  <tbody>\n",
       "    <tr>\n",
       "      <th>0</th>\n",
       "      <td>1</td>\n",
       "      <td>39</td>\n",
       "    </tr>\n",
       "    <tr>\n",
       "      <th>1</th>\n",
       "      <td>2</td>\n",
       "      <td>117</td>\n",
       "    </tr>\n",
       "    <tr>\n",
       "      <th>2</th>\n",
       "      <td>3</td>\n",
       "      <td>85</td>\n",
       "    </tr>\n",
       "    <tr>\n",
       "      <th>3</th>\n",
       "      <td>4</td>\n",
       "      <td>65</td>\n",
       "    </tr>\n",
       "  </tbody>\n",
       "</table>\n",
       "</div>"
      ],
      "text/plain": [
       "   months_count  users_count\n",
       "0             1           39\n",
       "1             2          117\n",
       "2             3           85\n",
       "3             4           65"
      ]
     },
     "execution_count": 42,
     "metadata": {},
     "output_type": "execute_result"
    }
   ],
   "source": [
    "create_barchart(month_stat, \n",
    "                x='months_count', \n",
    "                y='users_count', \n",
    "                xlabel='Количество активных месяцев',\n",
    "                ylabel='',\n",
    "                title='Количество клиентов по активным месяцам работы')\n",
    "\n",
    "month_stat"
   ]
  },
  {
   "cell_type": "markdown",
   "metadata": {},
   "source": [
    "Как видим из полученных значенией, наибольшее количество клиентов пользовались в течении 2-х месяцев (117) из рассматриваемого периода, а в течении 4-х месяцев активно пользовались только 65 клиентов, Около 85 клиентов пользуются связью в течении 3-месяцев, ну 39 пользователей в течении 1-го месяца. Ввиду того, что рассматриваемый период происходит с апреля по ноябрь (4 месяца), стоит не учитыватьв анализе клиентов которые пользовались услугами связи в течении 1 и 2 месяцев, так как эти данные могут внести погрешность, переплачивает клиент или нет.\n",
    "\n",
    "Соответственно, для дальнейшего анализа, стоит обратить внимание на клиентов которые пользуются телефонной связью 3 и 4 месяца соответственно, из этих клиентов мы сможем рационально оценить, часто ли переплачивает клиент."
   ]
  },
  {
   "cell_type": "markdown",
   "metadata": {},
   "source": [
    "### Количество звонков клиентами"
   ]
  },
  {
   "cell_type": "code",
   "execution_count": 43,
   "metadata": {},
   "outputs": [
    {
     "data": {
      "text/html": [
       "<div>\n",
       "<style scoped>\n",
       "    .dataframe tbody tr th:only-of-type {\n",
       "        vertical-align: middle;\n",
       "    }\n",
       "\n",
       "    .dataframe tbody tr th {\n",
       "        vertical-align: top;\n",
       "    }\n",
       "\n",
       "    .dataframe thead th {\n",
       "        text-align: right;\n",
       "    }\n",
       "</style>\n",
       "<table border=\"1\" class=\"dataframe\">\n",
       "  <thead>\n",
       "    <tr style=\"text-align: right;\">\n",
       "      <th></th>\n",
       "      <th>user_id</th>\n",
       "      <th>tariff_plan</th>\n",
       "      <th>month_name</th>\n",
       "      <th>calls_count</th>\n",
       "    </tr>\n",
       "  </thead>\n",
       "  <tbody>\n",
       "    <tr>\n",
       "      <th>0</th>\n",
       "      <td>166377</td>\n",
       "      <td>B</td>\n",
       "      <td>August</td>\n",
       "      <td>977</td>\n",
       "    </tr>\n",
       "    <tr>\n",
       "      <th>1</th>\n",
       "      <td>166377</td>\n",
       "      <td>B</td>\n",
       "      <td>November</td>\n",
       "      <td>1314</td>\n",
       "    </tr>\n",
       "    <tr>\n",
       "      <th>2</th>\n",
       "      <td>166377</td>\n",
       "      <td>B</td>\n",
       "      <td>October</td>\n",
       "      <td>1406</td>\n",
       "    </tr>\n",
       "    <tr>\n",
       "      <th>3</th>\n",
       "      <td>166377</td>\n",
       "      <td>B</td>\n",
       "      <td>September</td>\n",
       "      <td>1452</td>\n",
       "    </tr>\n",
       "    <tr>\n",
       "      <th>4</th>\n",
       "      <td>166391</td>\n",
       "      <td>C</td>\n",
       "      <td>August</td>\n",
       "      <td>18</td>\n",
       "    </tr>\n",
       "    <tr>\n",
       "      <th>...</th>\n",
       "      <td>...</td>\n",
       "      <td>...</td>\n",
       "      <td>...</td>\n",
       "      <td>...</td>\n",
       "    </tr>\n",
       "    <tr>\n",
       "      <th>783</th>\n",
       "      <td>168583</td>\n",
       "      <td>B</td>\n",
       "      <td>October</td>\n",
       "      <td>1</td>\n",
       "    </tr>\n",
       "    <tr>\n",
       "      <th>784</th>\n",
       "      <td>168598</td>\n",
       "      <td>C</td>\n",
       "      <td>November</td>\n",
       "      <td>102</td>\n",
       "    </tr>\n",
       "    <tr>\n",
       "      <th>785</th>\n",
       "      <td>168601</td>\n",
       "      <td>C</td>\n",
       "      <td>November</td>\n",
       "      <td>692</td>\n",
       "    </tr>\n",
       "    <tr>\n",
       "      <th>786</th>\n",
       "      <td>168603</td>\n",
       "      <td>B</td>\n",
       "      <td>November</td>\n",
       "      <td>15</td>\n",
       "    </tr>\n",
       "    <tr>\n",
       "      <th>787</th>\n",
       "      <td>168606</td>\n",
       "      <td>C</td>\n",
       "      <td>November</td>\n",
       "      <td>27</td>\n",
       "    </tr>\n",
       "  </tbody>\n",
       "</table>\n",
       "<p>788 rows × 4 columns</p>\n",
       "</div>"
      ],
      "text/plain": [
       "     user_id tariff_plan month_name  calls_count\n",
       "0     166377           B     August          977\n",
       "1     166377           B   November         1314\n",
       "2     166377           B    October         1406\n",
       "3     166377           B  September         1452\n",
       "4     166391           C     August           18\n",
       "..       ...         ...        ...          ...\n",
       "783   168583           B    October            1\n",
       "784   168598           C   November          102\n",
       "785   168601           C   November          692\n",
       "786   168603           B   November           15\n",
       "787   168606           C   November           27\n",
       "\n",
       "[788 rows x 4 columns]"
      ]
     },
     "execution_count": 43,
     "metadata": {},
     "output_type": "execute_result"
    }
   ],
   "source": [
    "calls_stat = data.groupby(by=['user_id', 'tariff_plan', 'month_name'], as_index=False).agg({'calls_count': 'sum'})\n",
    "calls_stat"
   ]
  },
  {
   "cell_type": "code",
   "execution_count": 44,
   "metadata": {},
   "outputs": [
    {
     "data": {
      "text/plain": [
       "count      788.000000\n",
       "mean       840.366751\n",
       "std       4074.355821\n",
       "min          1.000000\n",
       "25%         12.750000\n",
       "50%         66.000000\n",
       "75%        408.000000\n",
       "max      71222.000000\n",
       "Name: calls_count, dtype: float64"
      ]
     },
     "execution_count": 44,
     "metadata": {},
     "output_type": "execute_result"
    }
   ],
   "source": [
    "calls_stat['calls_count'].describe()"
   ]
  },
  {
   "cell_type": "markdown",
   "metadata": {},
   "source": [
    "Выведем распредление в виде гистограммы.\n",
    "\n",
    "Создадим функцию для постраения гистограммы"
   ]
  },
  {
   "cell_type": "code",
   "execution_count": 45,
   "metadata": {},
   "outputs": [],
   "source": [
    "def create_histplot(df, x, bins=10, discrete=False, title='', xlabel='', ylabel='', figsize=(18, 6)):\n",
    "    sns.set_style('darkgrid')\n",
    "    fig, ax = plt.subplots(figsize=figsize)\n",
    "    sns.histplot(data=df, \n",
    "                 x=x, \n",
    "                 bins=bins, \n",
    "                 discrete=discrete,\n",
    "                 ax=ax)\n",
    "    ax.set(title=title, \n",
    "           xlabel=xlabel, \n",
    "           ylabel=ylabel)\n",
    "    plt.show();"
   ]
  },
  {
   "cell_type": "code",
   "execution_count": 46,
   "metadata": {},
   "outputs": [
    {
     "data": {
      "image/png": "[encoded data removed]",
      "text/plain": [
       "<Figure size 1296x432 with 1 Axes>"
      ]
     },
     "metadata": {},
     "output_type": "display_data"
    }
   ],
   "source": [
    "create_histplot(calls_stat.query('calls_count<1000'), # для лаконичности графика, ограничил кол-во звонков 1000\n",
    "                x='calls_count', \n",
    "                bins=30, \n",
    "                title='Количество звонков в месяц у клиентов')"
   ]
  },
  {
   "cell_type": "markdown",
   "metadata": {},
   "source": [
    "Как видим, большинство клиентов укладываются в 408 звонков в месяц"
   ]
  },
  {
   "cell_type": "markdown",
   "metadata": {},
   "source": [
    "#### Количество по тарифам"
   ]
  },
  {
   "cell_type": "markdown",
   "metadata": {},
   "source": [
    "Посмотрим распределение звонков по тарифам.\n",
    "\n",
    "Ввиду того, что в дальнейшем мы будем рассматривать и по другим параметрам напишем фуннкцию для потроения \"боксплотов\""
   ]
  },
  {
   "cell_type": "code",
   "execution_count": 47,
   "metadata": {},
   "outputs": [],
   "source": [
    "def create_boxplots(df, x, y, order=None, title='', xlabel='', ylabel='', figsize=(18, 6)):\n",
    "    fig, ax = plt.subplots(figsize=figsize)\n",
    "    sns.boxplot(data=df, \n",
    "                x=x, \n",
    "                y=y,\n",
    "                order=order)\n",
    "    ax.set(title=title, \n",
    "           xlabel=xlabel, \n",
    "           ylabel=ylabel)\n",
    "    plt.show();"
   ]
  },
  {
   "cell_type": "code",
   "execution_count": 48,
   "metadata": {},
   "outputs": [
    {
     "data": {
      "image/png": "[encoded data removed]",
      "text/plain": [
       "<Figure size 1296x432 with 1 Axes>"
      ]
     },
     "metadata": {},
     "output_type": "display_data"
    }
   ],
   "source": [
    "create_boxplots(calls_stat.query('calls_count<1000'), \n",
    "                x='calls_count', \n",
    "                y='tariff_plan', \n",
    "                order=['A', 'B', 'C'],\n",
    "                title='Количество звонков в месяц у клиентов разных тарифов')"
   ]
  },
  {
   "cell_type": "markdown",
   "metadata": {},
   "source": [
    "По тарифу А:  \n",
    "медианное значение 150  \n",
    "\n",
    "\n",
    "По тарифу В:  \n",
    "медианное значение 96  \n",
    "\n",
    "\n",
    "По тарифу C:  \n",
    "медианное значение 38  \n",
    "Чаще всего, звонят клиенты по тарифу А.  "
   ]
  },
  {
   "cell_type": "markdown",
   "metadata": {},
   "source": [
    "#### Внешние и внутренние звонки"
   ]
  },
  {
   "cell_type": "markdown",
   "metadata": {},
   "source": [
    "Посмотрим на распределение звонков на внешние и внутренние звонки."
   ]
  },
  {
   "cell_type": "code",
   "execution_count": 49,
   "metadata": {},
   "outputs": [],
   "source": [
    "internal_calls_stat = (data[data['internal'].notna()].groupby(by=['user_id', 'month_name', 'internal'], as_index=False)\n",
    "                             .agg({'calls_count':'sum'}))\n",
    "\n",
    "internal_calls_stat['internal'] = (internal_calls_stat['internal'].astype(bool).replace({True: 'Internal',False: 'External'}))"
   ]
  },
  {
   "cell_type": "code",
   "execution_count": 50,
   "metadata": {},
   "outputs": [
    {
     "data": {
      "image/png": "[encoded data removed]",
      "text/plain": [
       "<Figure size 1296x432 with 1 Axes>"
      ]
     },
     "metadata": {},
     "output_type": "display_data"
    }
   ],
   "source": [
    "create_boxplots(internal_calls_stat.query('calls_count<1000'), \n",
    "                x='calls_count', \n",
    "                y='internal', \n",
    "                title='Количество внутренних и внешних звонков в месяц у клиентов')"
   ]
  },
  {
   "cell_type": "markdown",
   "metadata": {},
   "source": [
    "Внешние звонки:  \n",
    "  \n",
    "среднее значение 822  \n",
    "медианное значение 61  \n",
    "Внутренние звонки:  \n",
    "  \n",
    "среднее значение 44  \n",
    "медианное значение 5    \n",
    "Очевидно, клиенты чаще звонят за пределы компании, чем пользуются внутренней связью.  "
   ]
  },
  {
   "cell_type": "markdown",
   "metadata": {},
   "source": [
    "#### Входящие и исходящие звонки"
   ]
  },
  {
   "cell_type": "markdown",
   "metadata": {},
   "source": [
    "Посмотрим на распределение количества входящих и исходящих звонков."
   ]
  },
  {
   "cell_type": "code",
   "execution_count": 51,
   "metadata": {},
   "outputs": [
    {
     "data": {
      "text/html": [
       "<div>\n",
       "<style scoped>\n",
       "    .dataframe tbody tr th:only-of-type {\n",
       "        vertical-align: middle;\n",
       "    }\n",
       "\n",
       "    .dataframe tbody tr th {\n",
       "        vertical-align: top;\n",
       "    }\n",
       "\n",
       "    .dataframe thead th {\n",
       "        text-align: right;\n",
       "    }\n",
       "</style>\n",
       "<table border=\"1\" class=\"dataframe\">\n",
       "  <thead>\n",
       "    <tr style=\"text-align: right;\">\n",
       "      <th></th>\n",
       "      <th>user_id</th>\n",
       "      <th>month_name</th>\n",
       "      <th>direction</th>\n",
       "      <th>calls_count</th>\n",
       "    </tr>\n",
       "  </thead>\n",
       "  <tbody>\n",
       "    <tr>\n",
       "      <th>0</th>\n",
       "      <td>166377</td>\n",
       "      <td>August</td>\n",
       "      <td>in</td>\n",
       "      <td>46</td>\n",
       "    </tr>\n",
       "    <tr>\n",
       "      <th>1</th>\n",
       "      <td>166377</td>\n",
       "      <td>August</td>\n",
       "      <td>out</td>\n",
       "      <td>931</td>\n",
       "    </tr>\n",
       "    <tr>\n",
       "      <th>2</th>\n",
       "      <td>166377</td>\n",
       "      <td>November</td>\n",
       "      <td>in</td>\n",
       "      <td>52</td>\n",
       "    </tr>\n",
       "    <tr>\n",
       "      <th>3</th>\n",
       "      <td>166377</td>\n",
       "      <td>November</td>\n",
       "      <td>out</td>\n",
       "      <td>1262</td>\n",
       "    </tr>\n",
       "    <tr>\n",
       "      <th>4</th>\n",
       "      <td>166377</td>\n",
       "      <td>October</td>\n",
       "      <td>in</td>\n",
       "      <td>52</td>\n",
       "    </tr>\n",
       "    <tr>\n",
       "      <th>...</th>\n",
       "      <td>...</td>\n",
       "      <td>...</td>\n",
       "      <td>...</td>\n",
       "      <td>...</td>\n",
       "    </tr>\n",
       "    <tr>\n",
       "      <th>1286</th>\n",
       "      <td>168601</td>\n",
       "      <td>November</td>\n",
       "      <td>out</td>\n",
       "      <td>587</td>\n",
       "    </tr>\n",
       "    <tr>\n",
       "      <th>1287</th>\n",
       "      <td>168603</td>\n",
       "      <td>November</td>\n",
       "      <td>in</td>\n",
       "      <td>1</td>\n",
       "    </tr>\n",
       "    <tr>\n",
       "      <th>1288</th>\n",
       "      <td>168603</td>\n",
       "      <td>November</td>\n",
       "      <td>out</td>\n",
       "      <td>14</td>\n",
       "    </tr>\n",
       "    <tr>\n",
       "      <th>1289</th>\n",
       "      <td>168606</td>\n",
       "      <td>November</td>\n",
       "      <td>in</td>\n",
       "      <td>11</td>\n",
       "    </tr>\n",
       "    <tr>\n",
       "      <th>1290</th>\n",
       "      <td>168606</td>\n",
       "      <td>November</td>\n",
       "      <td>out</td>\n",
       "      <td>16</td>\n",
       "    </tr>\n",
       "  </tbody>\n",
       "</table>\n",
       "<p>1291 rows × 4 columns</p>\n",
       "</div>"
      ],
      "text/plain": [
       "      user_id month_name direction  calls_count\n",
       "0      166377     August        in           46\n",
       "1      166377     August       out          931\n",
       "2      166377   November        in           52\n",
       "3      166377   November       out         1262\n",
       "4      166377    October        in           52\n",
       "...       ...        ...       ...          ...\n",
       "1286   168601   November       out          587\n",
       "1287   168603   November        in            1\n",
       "1288   168603   November       out           14\n",
       "1289   168606   November        in           11\n",
       "1290   168606   November       out           16\n",
       "\n",
       "[1291 rows x 4 columns]"
      ]
     },
     "execution_count": 51,
     "metadata": {},
     "output_type": "execute_result"
    }
   ],
   "source": [
    "direction_calls_stat = data.groupby(by=['user_id', 'month_name', 'direction'], as_index=False).agg({'calls_count': 'sum'})\n",
    "direction_calls_stat"
   ]
  },
  {
   "cell_type": "code",
   "execution_count": 52,
   "metadata": {},
   "outputs": [
    {
     "data": {
      "image/png": "[encoded data removed]",
      "text/plain": [
       "<Figure size 1296x432 with 1 Axes>"
      ]
     },
     "metadata": {},
     "output_type": "display_data"
    }
   ],
   "source": [
    "create_boxplots(direction_calls_stat.query('calls_count<1000'), \n",
    "                x='calls_count', \n",
    "                y='direction', \n",
    "                title='Количество входящих и исходящих звонков в месяц у клиентов')"
   ]
  },
  {
   "cell_type": "markdown",
   "metadata": {},
   "source": [
    "Входящие звонки:  \n",
    "- среднее значение 244  \n",
    "- медианное значение 28  \n",
    "  \n",
    "Исходящие звонки:  \n",
    "- среднее значение 921  \n",
    "- медианное значение 96  \n",
    "  \n",
    "Чаще операторы сами звонят, чем принимают входящие звонки.  "
   ]
  },
  {
   "cell_type": "markdown",
   "metadata": {},
   "source": [
    "#### Динамика по месяцам"
   ]
  },
  {
   "cell_type": "code",
   "execution_count": 53,
   "metadata": {},
   "outputs": [
    {
     "data": {
      "image/png": "[encoded data removed]",
      "text/plain": [
       "<Figure size 1296x432 with 1 Axes>"
      ]
     },
     "metadata": {},
     "output_type": "display_data"
    }
   ],
   "source": [
    "create_boxplots(calls_stat.query('calls_count<1000'), \n",
    "                x='calls_count', \n",
    "                y='month_name',\n",
    "                order=['August', 'September', 'October', 'November'],\n",
    "                title='Количество звонков в разные месяцы')"
   ]
  },
  {
   "cell_type": "markdown",
   "metadata": {},
   "source": [
    "Звонков в Августе:\n",
    "- среднее значение 179\n",
    "- медианное значение 19\n",
    "\n",
    "Звонков в Сентябре:\n",
    "- среднее значение 491\n",
    "- медианное значение 60\n",
    "\n",
    "\n",
    "Звонков в Октябре:\n",
    "- среднее значение 944\n",
    "- медианное значение 71\n",
    "\n",
    "\n",
    "Звонков в Ноябре:\n",
    "- среднее значение 1175\n",
    "- медианное значение 93\n",
    "\n",
    "Такое распределение в принципе логично, поскольку добовляются новые клиенты из-за дня в день."
   ]
  },
  {
   "cell_type": "markdown",
   "metadata": {},
   "source": [
    "**ДОПОЛНЕНИЕ К ВЫВОДУ**\n",
    "\n",
    "При анализе данных видно, что с каждым последующим месяцем начиная с августа, среднее/медианное значение увеличивается. Это объясняется тем, что в этот период подключается больше новых клиентов, что ведет к увеличению общего среднего/медианного значения. Если рассмотреть только клиентов, которые пользовались услугами телефонии в течение одного месяца (начиная с ноября), выборка по оплате за тариф будет недостаточной. Аналогичная ситуация и с клиентами, которые начали пользоваться мобильной связью в октябре, поскольку двухмесячная оплата также не даёт полной картины.\n",
    "\n",
    "**`\"Активные\" клиенты`** - пользователи которые пользуются мобильной связью 3 и более месяца."
   ]
  },
  {
   "cell_type": "markdown",
   "metadata": {},
   "source": [
    "### Анализ длительности звонков клиентов"
   ]
  },
  {
   "cell_type": "markdown",
   "metadata": {},
   "source": [
    "#### Общая длительность звонков"
   ]
  },
  {
   "cell_type": "code",
   "execution_count": 54,
   "metadata": {},
   "outputs": [
    {
     "data": {
      "text/html": [
       "<div>\n",
       "<style scoped>\n",
       "    .dataframe tbody tr th:only-of-type {\n",
       "        vertical-align: middle;\n",
       "    }\n",
       "\n",
       "    .dataframe tbody tr th {\n",
       "        vertical-align: top;\n",
       "    }\n",
       "\n",
       "    .dataframe thead th {\n",
       "        text-align: right;\n",
       "    }\n",
       "</style>\n",
       "<table border=\"1\" class=\"dataframe\">\n",
       "  <thead>\n",
       "    <tr style=\"text-align: right;\">\n",
       "      <th></th>\n",
       "      <th>user_id</th>\n",
       "      <th>total_call_duration_min</th>\n",
       "    </tr>\n",
       "  </thead>\n",
       "  <tbody>\n",
       "    <tr>\n",
       "      <th>count</th>\n",
       "      <td>788.000000</td>\n",
       "      <td>788.000000</td>\n",
       "    </tr>\n",
       "    <tr>\n",
       "      <th>mean</th>\n",
       "      <td>167292.747462</td>\n",
       "      <td>948.349725</td>\n",
       "    </tr>\n",
       "    <tr>\n",
       "      <th>std</th>\n",
       "      <td>589.127681</td>\n",
       "      <td>3986.894428</td>\n",
       "    </tr>\n",
       "    <tr>\n",
       "      <th>min</th>\n",
       "      <td>166377.000000</td>\n",
       "      <td>0.000000</td>\n",
       "    </tr>\n",
       "    <tr>\n",
       "      <th>25%</th>\n",
       "      <td>166812.000000</td>\n",
       "      <td>4.591667</td>\n",
       "    </tr>\n",
       "    <tr>\n",
       "      <th>50%</th>\n",
       "      <td>167175.000000</td>\n",
       "      <td>59.433333</td>\n",
       "    </tr>\n",
       "    <tr>\n",
       "      <th>75%</th>\n",
       "      <td>167761.250000</td>\n",
       "      <td>488.200000</td>\n",
       "    </tr>\n",
       "    <tr>\n",
       "      <th>max</th>\n",
       "      <td>168606.000000</td>\n",
       "      <td>72886.400000</td>\n",
       "    </tr>\n",
       "  </tbody>\n",
       "</table>\n",
       "</div>"
      ],
      "text/plain": [
       "             user_id  total_call_duration_min\n",
       "count     788.000000               788.000000\n",
       "mean   167292.747462               948.349725\n",
       "std       589.127681              3986.894428\n",
       "min    166377.000000                 0.000000\n",
       "25%    166812.000000                 4.591667\n",
       "50%    167175.000000                59.433333\n",
       "75%    167761.250000               488.200000\n",
       "max    168606.000000             72886.400000"
      ]
     },
     "execution_count": 54,
     "metadata": {},
     "output_type": "execute_result"
    }
   ],
   "source": [
    "duration_stat = (data.groupby(by=['user_id', 'tariff_plan', 'month_name'], as_index=False)\n",
    "                                                         .agg({'total_call_duration_min':'sum'}))\n",
    "duration_stat.describe()"
   ]
  },
  {
   "cell_type": "code",
   "execution_count": 55,
   "metadata": {},
   "outputs": [
    {
     "data": {
      "image/png": "[encoded data removed]",
      "text/plain": [
       "<Figure size 1296x432 with 1 Axes>"
      ]
     },
     "metadata": {},
     "output_type": "display_data"
    }
   ],
   "source": [
    "create_histplot(duration_stat.query('total_call_duration_min<1000'), \n",
    "                x='total_call_duration_min', \n",
    "                bins=30, \n",
    "                title='Длительность звонков в месяц у клиентов')"
   ]
  },
  {
   "cell_type": "code",
   "execution_count": 56,
   "metadata": {},
   "outputs": [
    {
     "data": {
      "text/html": [
       "<div>\n",
       "<style scoped>\n",
       "    .dataframe tbody tr th:only-of-type {\n",
       "        vertical-align: middle;\n",
       "    }\n",
       "\n",
       "    .dataframe tbody tr th {\n",
       "        vertical-align: top;\n",
       "    }\n",
       "\n",
       "    .dataframe thead th {\n",
       "        text-align: right;\n",
       "    }\n",
       "</style>\n",
       "<table border=\"1\" class=\"dataframe\">\n",
       "  <thead>\n",
       "    <tr style=\"text-align: right;\">\n",
       "      <th></th>\n",
       "      <th>user_id</th>\n",
       "      <th>total_call_duration_min</th>\n",
       "    </tr>\n",
       "  </thead>\n",
       "  <tbody>\n",
       "    <tr>\n",
       "      <th>count</th>\n",
       "      <td>788.000000</td>\n",
       "      <td>788.000000</td>\n",
       "    </tr>\n",
       "    <tr>\n",
       "      <th>mean</th>\n",
       "      <td>167292.747462</td>\n",
       "      <td>948.349725</td>\n",
       "    </tr>\n",
       "    <tr>\n",
       "      <th>std</th>\n",
       "      <td>589.127681</td>\n",
       "      <td>3986.894428</td>\n",
       "    </tr>\n",
       "    <tr>\n",
       "      <th>min</th>\n",
       "      <td>166377.000000</td>\n",
       "      <td>0.000000</td>\n",
       "    </tr>\n",
       "    <tr>\n",
       "      <th>25%</th>\n",
       "      <td>166812.000000</td>\n",
       "      <td>4.591667</td>\n",
       "    </tr>\n",
       "    <tr>\n",
       "      <th>50%</th>\n",
       "      <td>167175.000000</td>\n",
       "      <td>59.433333</td>\n",
       "    </tr>\n",
       "    <tr>\n",
       "      <th>75%</th>\n",
       "      <td>167761.250000</td>\n",
       "      <td>488.200000</td>\n",
       "    </tr>\n",
       "    <tr>\n",
       "      <th>max</th>\n",
       "      <td>168606.000000</td>\n",
       "      <td>72886.400000</td>\n",
       "    </tr>\n",
       "  </tbody>\n",
       "</table>\n",
       "</div>"
      ],
      "text/plain": [
       "             user_id  total_call_duration_min\n",
       "count     788.000000               788.000000\n",
       "mean   167292.747462               948.349725\n",
       "std       589.127681              3986.894428\n",
       "min    166377.000000                 0.000000\n",
       "25%    166812.000000                 4.591667\n",
       "50%    167175.000000                59.433333\n",
       "75%    167761.250000               488.200000\n",
       "max    168606.000000             72886.400000"
      ]
     },
     "execution_count": 56,
     "metadata": {},
     "output_type": "execute_result"
    }
   ],
   "source": [
    "duration_stat.describe() "
   ]
  },
  {
   "cell_type": "markdown",
   "metadata": {},
   "source": [
    "По результату видим, что средняя месячная длительность разговоров 948 минут, а медианна 59 минут. Но стоит обратить внимание, что есть клиенты которые не разговаривают по телефону."
   ]
  },
  {
   "cell_type": "markdown",
   "metadata": {},
   "source": [
    "#### Длительность разговоров по разным тарифам"
   ]
  },
  {
   "cell_type": "code",
   "execution_count": 57,
   "metadata": {},
   "outputs": [
    {
     "data": {
      "image/png": "[encoded data removed]",
      "text/plain": [
       "<Figure size 1296x432 with 1 Axes>"
      ]
     },
     "metadata": {},
     "output_type": "display_data"
    }
   ],
   "source": [
    "create_boxplots(duration_stat.query('total_call_duration_min<1000'), \n",
    "                x='total_call_duration_min', \n",
    "                y='tariff_plan', \n",
    "                order=['A', 'B', 'C'],\n",
    "                title='Длительность звонков в месяц у клиентов разных тарифов')"
   ]
  },
  {
   "cell_type": "code",
   "execution_count": 58,
   "metadata": {},
   "outputs": [],
   "source": [
    "#duration_stat.query('tariff_plan == \"C\"').describe() "
   ]
  },
  {
   "cell_type": "markdown",
   "metadata": {},
   "source": [
    "По тарифу А:  \n",
    "- средняя длительность звонков состовляет 3390  \n",
    "- медианное значение 172  \n",
    "  \n",
    "  \n",
    "По тарифу В:   \n",
    "- средняя длительность звонков состовляет 759  \n",
    "- медианное значение 87  \n",
    "  \n",
    "  \n",
    "По тарифу C:  \n",
    "- средняя длительность звонков состовляет 550  \n",
    "- медианное значение 39  \n",
    "  \n",
    "\n",
    "чаще всего люди любят говорить по тарифу А.  "
   ]
  },
  {
   "cell_type": "markdown",
   "metadata": {},
   "source": [
    "#### длительность внутренних и внешних звонков"
   ]
  },
  {
   "cell_type": "code",
   "execution_count": 59,
   "metadata": {},
   "outputs": [],
   "source": [
    "internal_duration_stat = (data[data['internal'].notna()].groupby(by=['user_id', 'month', 'internal'], as_index=False)\n",
    "                                                                                  .agg({'total_call_duration_min':'sum'}))\n",
    "\n",
    "internal_duration_stat['internal'] = (internal_duration_stat['internal'].astype(bool)\n",
    "                                                              .replace({True: 'Internal',False: 'External'}))"
   ]
  },
  {
   "cell_type": "code",
   "execution_count": 60,
   "metadata": {},
   "outputs": [
    {
     "data": {
      "image/png": "[encoded data removed]",
      "text/plain": [
       "<Figure size 1296x432 with 1 Axes>"
      ]
     },
     "metadata": {},
     "output_type": "display_data"
    }
   ],
   "source": [
    "create_boxplots(internal_duration_stat.query('total_call_duration_min<1000'), \n",
    "                x='total_call_duration_min', \n",
    "                y='internal', \n",
    "                title='Длительность внутренних и внешних звонков в месяц')"
   ]
  },
  {
   "cell_type": "code",
   "execution_count": 61,
   "metadata": {},
   "outputs": [],
   "source": [
    "#internal_duration_stat.query('internal == \"External\"').describe() "
   ]
  },
  {
   "cell_type": "markdown",
   "metadata": {},
   "source": [
    "Внешние звонки:  \n",
    "- средняя длительность разговоров 934  \n",
    "- медианная длительность разговоров 58  \n",
    "  \n",
    "  \n",
    "Внутренние звонки:  \n",
    "- средняя длительность разговоров 36  \n",
    "- медианная длительность разговоров 1  "
   ]
  },
  {
   "cell_type": "markdown",
   "metadata": {},
   "source": [
    "#### Длительность входящих и исходящих звонков за месяц"
   ]
  },
  {
   "cell_type": "code",
   "execution_count": 62,
   "metadata": {},
   "outputs": [],
   "source": [
    "direction_duration_stat = (data.groupby(by=['user_id', 'month', 'direction'], as_index=False)\n",
    "                                                               .agg({'total_call_duration_min':'sum'}))\n",
    "#direction_duration_stat"
   ]
  },
  {
   "cell_type": "code",
   "execution_count": 63,
   "metadata": {},
   "outputs": [
    {
     "data": {
      "image/png": "[encoded data removed]",
      "text/plain": [
       "<Figure size 1296x432 with 1 Axes>"
      ]
     },
     "metadata": {},
     "output_type": "display_data"
    }
   ],
   "source": [
    "create_boxplots(direction_duration_stat.query('total_call_duration_min<1000'), \n",
    "                x='total_call_duration_min', \n",
    "                y='direction', \n",
    "                title='Длительность входящих и исходящих звонков в месяц')"
   ]
  },
  {
   "cell_type": "code",
   "execution_count": 64,
   "metadata": {},
   "outputs": [],
   "source": [
    "#direction_duration_stat.query('direction == \"in\"').describe() "
   ]
  },
  {
   "cell_type": "markdown",
   "metadata": {},
   "source": [
    "Входящие звонки:  \n",
    "- средняя длительность разговоров 258  \n",
    "- медианная длительность разговоров 21  \n",
    "  \n",
    "Исходящие звонки:  \n",
    "- средняя длительность разговоров 1066  \n",
    "- медианная длительность разговоров 127  "
   ]
  },
  {
   "cell_type": "markdown",
   "metadata": {},
   "source": [
    "#### По месяцам"
   ]
  },
  {
   "cell_type": "code",
   "execution_count": 65,
   "metadata": {},
   "outputs": [
    {
     "data": {
      "image/png": "[encoded data removed]",
      "text/plain": [
       "<Figure size 1296x432 with 1 Axes>"
      ]
     },
     "metadata": {},
     "output_type": "display_data"
    }
   ],
   "source": [
    "create_boxplots(duration_stat.query('total_call_duration_min<1000'), \n",
    "                x='total_call_duration_min', \n",
    "                y='month_name', \n",
    "                order=['August', 'September', 'October', 'November'],\n",
    "                title='Длительность звонков в разные месяцы')"
   ]
  },
  {
   "cell_type": "code",
   "execution_count": 66,
   "metadata": {},
   "outputs": [],
   "source": [
    "#duration_stat.query('month_name == \"September\"').describe()"
   ]
  },
  {
   "cell_type": "markdown",
   "metadata": {},
   "source": [
    "Звонков в Августе:\n",
    "- средняя длительность разговоров240\n",
    "- медианная длительность разговоров 8\n",
    "\n",
    "Звонков в Сентябре:\n",
    "- средняя длительность разговоров 646\n",
    "- медианная длительность разговоров 59\n",
    "\n",
    "\n",
    "Звонков в Октябре:\n",
    "- средняя длительность разговоров 988\n",
    "- медианная длительность разговоров 58\n",
    "\n",
    "\n",
    "Звонков в Ноябре:\n",
    "- средняя длительность разговоров 1334\n",
    "- медианная длительность разговоров 102"
   ]
  },
  {
   "cell_type": "markdown",
   "metadata": {},
   "source": [
    "### Анализ количества операторов"
   ]
  },
  {
   "cell_type": "markdown",
   "metadata": {},
   "source": [
    "#### общая статистика"
   ]
  },
  {
   "cell_type": "code",
   "execution_count": 67,
   "metadata": {},
   "outputs": [
    {
     "data": {
      "text/plain": [
       "count    788.000000\n",
       "mean       2.677665\n",
       "std        4.325118\n",
       "min        0.000000\n",
       "25%        1.000000\n",
       "50%        2.000000\n",
       "75%        3.000000\n",
       "max       48.000000\n",
       "Name: operators_count, dtype: float64"
      ]
     },
     "execution_count": 67,
     "metadata": {},
     "output_type": "execute_result"
    }
   ],
   "source": [
    "operators_stat = (data.groupby(by=['user_id', 'month_name', 'tariff_plan'], as_index=False)\n",
    "                                                          .agg({'operator_id': pd.Series.nunique}))\n",
    "\n",
    "operators_stat.rename(columns={'operator_id': 'operators_count'}, inplace=True)\n",
    "\n",
    "operators_stat['operators_count'] = operators_stat['operators_count'].astype(int)\n",
    "\n",
    "operators_stat['operators_count'].describe()"
   ]
  },
  {
   "cell_type": "code",
   "execution_count": 68,
   "metadata": {},
   "outputs": [
    {
     "data": {
      "image/png": "[encoded data removed]",
      "text/plain": [
       "<Figure size 1296x432 with 1 Axes>"
      ]
     },
     "metadata": {},
     "output_type": "display_data"
    }
   ],
   "source": [
    "create_histplot(operators_stat, \n",
    "                x='operators_count', \n",
    "                bins=30, \n",
    "                title='Количество операторов у клиентов')"
   ]
  },
  {
   "cell_type": "markdown",
   "metadata": {},
   "source": [
    "Среднее значение количества операторов у клиента 3, медианное значение 2. Максимально 48."
   ]
  },
  {
   "cell_type": "markdown",
   "metadata": {},
   "source": [
    "#### Статистика по тарифам"
   ]
  },
  {
   "cell_type": "code",
   "execution_count": 69,
   "metadata": {},
   "outputs": [
    {
     "data": {
      "image/png": "[encoded data removed]",
      "text/plain": [
       "<Figure size 1296x432 with 1 Axes>"
      ]
     },
     "metadata": {},
     "output_type": "display_data"
    }
   ],
   "source": [
    "create_boxplots(operators_stat, \n",
    "                x='operators_count', \n",
    "                y='tariff_plan',\n",
    "                order=['A', 'B', 'C'],\n",
    "                title='Количество операторов у клиентов на разных тарифных планах')"
   ]
  },
  {
   "cell_type": "code",
   "execution_count": 70,
   "metadata": {},
   "outputs": [],
   "source": [
    "#operators_stat.query('tariff_plan == \"C\"').describe() "
   ]
  },
  {
   "cell_type": "markdown",
   "metadata": {},
   "source": [
    "По тарифу А:\n",
    "- среднее количество операторов 6\n",
    "- медианное значение количества операторов 2 \n",
    "\n",
    "\n",
    "По тарифу В:\n",
    "- среднее количество операторов 2\n",
    "- медианное значение количества операторов 2 \n",
    "\n",
    "\n",
    "По тарифу C:\n",
    "- среднее количество операторов 1.9 (2)\n",
    "- медианное значение количества операторов 1"
   ]
  },
  {
   "cell_type": "markdown",
   "metadata": {},
   "source": [
    "#### Статистика по месяцам"
   ]
  },
  {
   "cell_type": "code",
   "execution_count": 71,
   "metadata": {},
   "outputs": [
    {
     "data": {
      "image/png": "[encoded data removed]",
      "text/plain": [
       "<Figure size 1296x432 with 1 Axes>"
      ]
     },
     "metadata": {},
     "output_type": "display_data"
    }
   ],
   "source": [
    "create_boxplots(operators_stat, \n",
    "                x='operators_count', \n",
    "                y='month_name', \n",
    "                order=['August', 'September', 'October', 'November'],\n",
    "                title='Количество операторов у клиентов в разные месяцы')"
   ]
  },
  {
   "cell_type": "code",
   "execution_count": null,
   "metadata": {},
   "outputs": [],
   "source": []
  },
  {
   "cell_type": "code",
   "execution_count": 72,
   "metadata": {},
   "outputs": [
    {
     "data": {
      "text/html": [
       "<div>\n",
       "<style scoped>\n",
       "    .dataframe tbody tr th:only-of-type {\n",
       "        vertical-align: middle;\n",
       "    }\n",
       "\n",
       "    .dataframe tbody tr th {\n",
       "        vertical-align: top;\n",
       "    }\n",
       "\n",
       "    .dataframe thead th {\n",
       "        text-align: right;\n",
       "    }\n",
       "</style>\n",
       "<table border=\"1\" class=\"dataframe\">\n",
       "  <thead>\n",
       "    <tr style=\"text-align: right;\">\n",
       "      <th></th>\n",
       "      <th>user_id</th>\n",
       "      <th>operators_count</th>\n",
       "    </tr>\n",
       "  </thead>\n",
       "  <tbody>\n",
       "    <tr>\n",
       "      <th>count</th>\n",
       "      <td>260.000000</td>\n",
       "      <td>260.000000</td>\n",
       "    </tr>\n",
       "    <tr>\n",
       "      <th>mean</th>\n",
       "      <td>167502.600000</td>\n",
       "      <td>3.003846</td>\n",
       "    </tr>\n",
       "    <tr>\n",
       "      <th>std</th>\n",
       "      <td>623.910517</td>\n",
       "      <td>4.598554</td>\n",
       "    </tr>\n",
       "    <tr>\n",
       "      <th>min</th>\n",
       "      <td>166377.000000</td>\n",
       "      <td>0.000000</td>\n",
       "    </tr>\n",
       "    <tr>\n",
       "      <th>25%</th>\n",
       "      <td>166984.500000</td>\n",
       "      <td>1.000000</td>\n",
       "    </tr>\n",
       "    <tr>\n",
       "      <th>50%</th>\n",
       "      <td>167513.500000</td>\n",
       "      <td>2.000000</td>\n",
       "    </tr>\n",
       "    <tr>\n",
       "      <th>75%</th>\n",
       "      <td>168018.250000</td>\n",
       "      <td>3.000000</td>\n",
       "    </tr>\n",
       "    <tr>\n",
       "      <th>max</th>\n",
       "      <td>168606.000000</td>\n",
       "      <td>46.000000</td>\n",
       "    </tr>\n",
       "  </tbody>\n",
       "</table>\n",
       "</div>"
      ],
      "text/plain": [
       "             user_id  operators_count\n",
       "count     260.000000       260.000000\n",
       "mean   167502.600000         3.003846\n",
       "std       623.910517         4.598554\n",
       "min    166377.000000         0.000000\n",
       "25%    166984.500000         1.000000\n",
       "50%    167513.500000         2.000000\n",
       "75%    168018.250000         3.000000\n",
       "max    168606.000000        46.000000"
      ]
     },
     "execution_count": 72,
     "metadata": {},
     "output_type": "execute_result"
    }
   ],
   "source": [
    "operators_stat.query('month_name == \"November\"').describe() "
   ]
  },
  {
   "cell_type": "markdown",
   "metadata": {},
   "source": [
    "Звонков в Августе:\n",
    "- среднее количество операторов 1.85 (2)\n",
    "- медианное значение количества операторов 1\n",
    "\n",
    "Звонков в Сентябре:\n",
    "- среднее количество операторов 2.55 (3)\n",
    "- медианное значение количества операторов 1\n",
    "\n",
    "\n",
    "Звонков в Октябре:\n",
    "- среднее количество операторов 2.7 (3)\n",
    "- медианное значение количества операторов 1\n",
    "\n",
    "\n",
    "Звонков в Ноябре:\n",
    "- среднее количество операторов 3\n",
    "- медианное значение количества операторов 2 "
   ]
  },
  {
   "cell_type": "markdown",
   "metadata": {},
   "source": [
    "**ПРЕДИСЛОВИЕ К ВЫБОРУ АКТИВНЫХ КЛИЕНТОВ:**\n",
    "\n",
    "Проведенный анализ данных выявил необходимость провести очистку данных для более точного анализа переплат клиентов. В процессе анализа было обнаружено большое количество выбросов, включающих следующие факторы:\n",
    "1. Клиенты, которые пользуются услугами мобильной связи более 3 месяцев, включая последний месяц периода.\n",
    "2. Наличие работающих операторов(у клиента есть работающие операторы).\n"
   ]
  },
  {
   "cell_type": "markdown",
   "metadata": {},
   "source": [
    "#### Исключаем клиентов которые пользуются связью менее 3-х месяцев"
   ]
  },
  {
   "cell_type": "code",
   "execution_count": 73,
   "metadata": {},
   "outputs": [],
   "source": [
    "# соберем таблицу по id пользователей \n",
    "users_months_count = data.groupby(by='user_id', as_index=False).agg({'month': pd.Series.nunique})\n",
    "\n",
    "users_3months = users_months_count.query('month >= 3')['user_id']"
   ]
  },
  {
   "cell_type": "code",
   "execution_count": 74,
   "metadata": {},
   "outputs": [],
   "source": [
    "# Выделение пользователей, у которых последняя дата использования услуг - ноябрь\n",
    "users_last_month = data.groupby(by='user_id', as_index=False).agg({'month':'max'})\n",
    "\n",
    "users_november = users_last_month.query('month == 11')['user_id']"
   ]
  },
  {
   "cell_type": "markdown",
   "metadata": {},
   "source": [
    "#### исключение по медиане"
   ]
  },
  {
   "cell_type": "code",
   "execution_count": 75,
   "metadata": {},
   "outputs": [],
   "source": [
    "# Подсчет медиан количества и длительности звонков\n",
    "calls_count_median = calls_stat['calls_count'].median()\n",
    "total_call_duration_median = duration_stat['total_call_duration_min'].median()\n",
    "\n",
    "users_median_calls = (calls_stat.query('calls_count >= @calls_count_median')['user_id'].unique())\n",
    "\n",
    "users_median_dur = (duration_stat.query('total_call_duration_min >= @total_call_duration_median')['user_id'].unique())"
   ]
  },
  {
   "cell_type": "markdown",
   "metadata": {},
   "source": [
    "Полученные выше таблицы позволяют выделить пользователей которые подходят для дальнейшего анализа."
   ]
  },
  {
   "cell_type": "code",
   "execution_count": 76,
   "metadata": {},
   "outputs": [
    {
     "data": {
      "text/plain": [
       "array([166377, 166391, 166392, 166405, 166406, 166407, 166428, 166482,\n",
       "       166485, 166487, 166495, 166503, 166511, 166520, 166533, 166536,\n",
       "       166541, 166548, 166585, 166604, 166609, 166619, 166636, 166649,\n",
       "       166658, 166660, 166669, 166677, 166678, 166680, 166688, 166691,\n",
       "       166692, 166697, 166708, 166711, 166713, 166717, 166725, 166726,\n",
       "       166732, 166774, 166782, 166800, 166803, 166812, 166813, 166833,\n",
       "       166836, 166837, 166839, 166843, 166879, 166884, 166896, 166899,\n",
       "       166901, 166916, 166940, 166971, 166973, 166974, 166975, 166983,\n",
       "       166985, 166997, 167002, 167003, 167004, 167031, 167035, 167052,\n",
       "       167059, 167061, 167071, 167077, 167078, 167079, 167082, 167102,\n",
       "       167109, 167110, 167112, 167150, 167158, 167162, 167172, 167175,\n",
       "       167176, 167180, 167185, 167188, 167199, 167200, 167235, 167238,\n",
       "       167246, 167250, 167263, 167264, 167265, 167272, 167275, 167277,\n",
       "       167286, 167338, 167359, 167402, 167412, 167436, 167445, 167451,\n",
       "       167455, 167456, 167466, 167471, 167475, 167479, 167487, 167497,\n",
       "       167506, 167521, 167532, 167533, 167543, 167545, 167575, 167580,\n",
       "       167621, 167630, 167634, 167650, 167654, 167664, 167716, 167721,\n",
       "       167727, 167744, 167781])"
      ]
     },
     "execution_count": 76,
     "metadata": {},
     "output_type": "execute_result"
    }
   ],
   "source": [
    "# Пересечение всех найденных пользователей\n",
    "\n",
    "# Принимая во внимание твоё замечание относительно п.3\n",
    "#active_users_ids = np.intersect1d(np.intersect1d(np.intersect1d(users_3months, users_median_calls), \n",
    "#                                                 users_median_dur), users_november)\n",
    "\n",
    "active_users_ids = np.intersect1d(users_3months,users_november)\n",
    "\n",
    "\n",
    "active_users_ids"
   ]
  },
  {
   "cell_type": "markdown",
   "metadata": {},
   "source": [
    "тут мы определили уникальных пользователей, которые пользуются мобильной связью 3 и более месяца"
   ]
  },
  {
   "cell_type": "code",
   "execution_count": 77,
   "metadata": {},
   "outputs": [
    {
     "name": "stdout",
     "output_type": "stream",
     "text": [
      "Количество активных пользователей: 139\n"
     ]
    }
   ],
   "source": [
    "print('Количество активных пользователей:', len(active_users_ids))"
   ]
  },
  {
   "cell_type": "code",
   "execution_count": 78,
   "metadata": {},
   "outputs": [
    {
     "name": "stdout",
     "output_type": "stream",
     "text": [
      "Доля активных пользователей от общего числа: 45.42\n"
     ]
    }
   ],
   "source": [
    "print('Доля активных пользователей от общего числа:', round(100 * len(active_users_ids) / data['user_id'].nunique(), 2))"
   ]
  },
  {
   "cell_type": "markdown",
   "metadata": {},
   "source": [
    "**ВЫВОД**\n",
    "\n",
    "Мы выявили, что считаются **`\"Активными\" пользователями`** - 139 человек из общего числа пользователей мобильной связи. Доля этих активных пользователей составляет 45.42% от общего числа."
   ]
  },
  {
   "cell_type": "markdown",
   "metadata": {},
   "source": [
    "## Анализ расходов компании"
   ]
  },
  {
   "cell_type": "markdown",
   "metadata": {},
   "source": [
    "Для дальнейшего анализа и простоты расчета, определим сумму расходов по каждому тарифу для клиентов."
   ]
  },
  {
   "cell_type": "markdown",
   "metadata": {},
   "source": [
    "Перейдем к анализу расходов клиентов. Для всех клиентов мы рассчитаем сумму расходов за каждый месяц по каждому из существующих тарифов.\n",
    "\n",
    "Для активных клиентов мы также определим:\n",
    "\n",
    "- оптимальный тариф\n",
    "- подсчитаем разницу между оптимальным и реальным тарифом\n",
    "\n",
    "На основе расчетов определим, как изменится выручка заказчика."
   ]
  },
  {
   "cell_type": "code",
   "execution_count": 79,
   "metadata": {},
   "outputs": [
    {
     "data": {
      "text/html": [
       "<div>\n",
       "<style scoped>\n",
       "    .dataframe tbody tr th:only-of-type {\n",
       "        vertical-align: middle;\n",
       "    }\n",
       "\n",
       "    .dataframe tbody tr th {\n",
       "        vertical-align: top;\n",
       "    }\n",
       "\n",
       "    .dataframe thead th {\n",
       "        text-align: right;\n",
       "    }\n",
       "</style>\n",
       "<table border=\"1\" class=\"dataframe\">\n",
       "  <thead>\n",
       "    <tr style=\"text-align: right;\">\n",
       "      <th></th>\n",
       "      <th>tariff_plan</th>\n",
       "      <th>price_month</th>\n",
       "      <th>incoming_price</th>\n",
       "      <th>outgoing_external_price</th>\n",
       "      <th>outgoing_internal_limit</th>\n",
       "      <th>outgoing_internal_price</th>\n",
       "      <th>operator_price</th>\n",
       "    </tr>\n",
       "  </thead>\n",
       "  <tbody>\n",
       "    <tr>\n",
       "      <th>0</th>\n",
       "      <td>A</td>\n",
       "      <td>4000</td>\n",
       "      <td>0</td>\n",
       "      <td>0.3</td>\n",
       "      <td>2000</td>\n",
       "      <td>0.10</td>\n",
       "      <td>50</td>\n",
       "    </tr>\n",
       "    <tr>\n",
       "      <th>1</th>\n",
       "      <td>B</td>\n",
       "      <td>2000</td>\n",
       "      <td>0</td>\n",
       "      <td>0.5</td>\n",
       "      <td>500</td>\n",
       "      <td>0.15</td>\n",
       "      <td>150</td>\n",
       "    </tr>\n",
       "    <tr>\n",
       "      <th>2</th>\n",
       "      <td>C</td>\n",
       "      <td>1000</td>\n",
       "      <td>0</td>\n",
       "      <td>0.7</td>\n",
       "      <td>0</td>\n",
       "      <td>0.30</td>\n",
       "      <td>300</td>\n",
       "    </tr>\n",
       "  </tbody>\n",
       "</table>\n",
       "</div>"
      ],
      "text/plain": [
       "  tariff_plan  price_month  incoming_price  outgoing_external_price  \\\n",
       "0           A         4000               0                      0.3   \n",
       "1           B         2000               0                      0.5   \n",
       "2           C         1000               0                      0.7   \n",
       "\n",
       "   outgoing_internal_limit  outgoing_internal_price  operator_price  \n",
       "0                     2000                     0.10              50  \n",
       "1                      500                     0.15             150  \n",
       "2                        0                     0.30             300  "
      ]
     },
     "execution_count": 79,
     "metadata": {},
     "output_type": "execute_result"
    }
   ],
   "source": [
    "tariffs_dict = {'tariff_plan': ['A', 'B', 'C'],\n",
    "                'price_month': [4000, 2000, 1000],\n",
    "                'incoming_price': [0, 0, 0],\n",
    "                'outgoing_external_price': [0.3, 0.5, 0.7],\n",
    "                'outgoing_internal_limit': [2000, 500, 0],\n",
    "                'outgoing_internal_price': [0.1, 0.15, 0.3],\n",
    "                'operator_price': [50, 150, 300]\n",
    "                }\n",
    "\n",
    "tariffs = pd.DataFrame(tariffs_dict)\n",
    "tariffs"
   ]
  },
  {
   "cell_type": "markdown",
   "metadata": {},
   "source": [
    "Агрегируем данные клиентов по месяцам, затем для каждого месяца рассчитаем, во сколько обойдется каждый из тарифов.\n",
    "\n",
    "\n",
    "Ввиду пофторения расчета для каждого тарифа, создадим функцию для расчета, где будем учитывать все лимиты установленного тарифа:\n",
    "- стоимость звонков сверхлимита\n",
    "- звонки другим операторам\n",
    "- дополнительную плату "
   ]
  },
  {
   "cell_type": "code",
   "execution_count": 80,
   "metadata": {},
   "outputs": [],
   "source": [
    "def calculate_cost(calls_df, tariff_details):\n",
    "\n",
    "    # определяем количество операторов у клиента в каждом месяце\n",
    "    operators_stat = (\n",
    "        calls_df.groupby(['user_id', 'month'],\n",
    "                     as_index=False)\n",
    "        .agg({'operator_id': pd.Series.nunique})\n",
    "        .rename(columns={'operator_id': 'operator_count'})\n",
    "    )\n",
    "    \n",
    "    # вычисляем продолжительность звонков\n",
    "    calls_stat = (\n",
    "        calls_df.groupby(['tariff_plan',\n",
    "                          'user_id',\n",
    "                          'month',\n",
    "                          'direction',\n",
    "                          'internal'],\n",
    "                         as_index=False)\n",
    "        .agg({'total_call_duration_min': 'sum'})\n",
    "    )\n",
    "    \n",
    "    merged_df = operators_stat.merge(calls_stat, \n",
    "                                     on=['user_id', 'month'], \n",
    "                                     how='left')\n",
    "    # Количество минут сверх лимита\n",
    "    merged_df['over_limit_minutes'] = (\n",
    "        merged_df.loc[(merged_df['direction']=='out')\n",
    "                      & (merged_df['internal']==True),\n",
    "                      'total_call_duration_min'] -\n",
    "        tariff_details['outgoing_internal_limit']\n",
    "    )\n",
    "    \n",
    "    # Все, что меньше или равно 0 заменим на 0\n",
    "    merged_df.loc[(merged_df['over_limit_minutes']<=0)\n",
    "                  | (merged_df['over_limit_minutes'].isna()), \n",
    "                 'over_limit_minutes'] = 0\n",
    "    \n",
    "    # Плата за исходящие внутренние сверх лимита\n",
    "    merged_df['over_limit_cost'] = (\n",
    "        merged_df['over_limit_minutes'] * \n",
    "        tariff_details['outgoing_internal_price']\n",
    "    )\n",
    "    \n",
    "    # Плата за исходящие внешние\n",
    "    \n",
    "    merged_df['outgoing_external_cost'] = (\n",
    "        merged_df.loc[(merged_df['direction']=='out')\n",
    "                      & (merged_df['internal']==False),\n",
    "                      'total_call_duration_min'] *  \n",
    "        tariff_details['outgoing_external_price']\n",
    "    )\n",
    "    \n",
    "    # Все, что меньше или равно 0 заменим на 0\n",
    "    merged_df.loc[(merged_df['outgoing_external_cost']<=0)\n",
    "                  | (merged_df['outgoing_external_cost'].isna()), \n",
    "                 'outgoing_external_cost'] = 0\n",
    "    \n",
    "    # Плата за операторов\n",
    "    merged_df['operators_cost'] = (\n",
    "        merged_df['operator_count'] * tariff_details['operator_price']\n",
    "    )\n",
    "    \n",
    "    # Ежемесячная плата\n",
    "    merged_df['month_cost'] = tariff_details['price_month']\n",
    "    \n",
    "    # Результирующий датафрейм\n",
    "    result_df = (\n",
    "        merged_df.groupby(['user_id',\n",
    "                           'month'],\n",
    "                          as_index=False)\n",
    "        .agg({'over_limit_cost': 'max',\n",
    "              'outgoing_external_cost': 'max',\n",
    "              'operators_cost': 'max',\n",
    "              'month_cost': 'max'})\n",
    "    )\n",
    "    \n",
    "    #Полная стоимость\n",
    "    result_df['total_cost'] = (\n",
    "        result_df[['over_limit_cost',\n",
    "                   'outgoing_external_cost',\n",
    "                   'operators_cost',\n",
    "                   'month_cost']].sum(axis=1)\n",
    "        .astype(float)\n",
    "    )\n",
    "    \n",
    "    result_df['tariff_plan'] = tariff_details['tariff_plan']\n",
    "    \n",
    "    return result_df"
   ]
  },
  {
   "cell_type": "code",
   "execution_count": 81,
   "metadata": {},
   "outputs": [],
   "source": [
    "costs_a = calculate_cost(calls_df=data, tariff_details=tariffs.loc[0, :])\n",
    "costs_b = calculate_cost(calls_df=data, tariff_details=tariffs.loc[1, :])\n",
    "costs_c = calculate_cost(calls_df=data, tariff_details=tariffs.loc[2, :])"
   ]
  },
  {
   "cell_type": "code",
   "execution_count": 82,
   "metadata": {},
   "outputs": [],
   "source": [
    "# Объединяем датафреймы\n",
    "costs_full = (\n",
    "    costs_a.merge(costs_b, on=['user_id', 'month'], suffixes=['_A', '_B'])\n",
    "    .merge(costs_c, on=['user_id', 'month'])\n",
    "    .merge(clients, on='user_id', suffixes=['', '_actual'])\n",
    "    .rename(columns={'total_cost': 'total_cost_C'})\n",
    ")\n",
    "\n",
    "# Оставим только нужные для сравнения столбцы\n",
    "costs_full = costs_full[['user_id', \n",
    "                         'month', \n",
    "                         'total_cost_A', \n",
    "                         'total_cost_B', \n",
    "                         'total_cost_C',\n",
    "                         'tariff_plan_actual']]"
   ]
  },
  {
   "cell_type": "code",
   "execution_count": 83,
   "metadata": {},
   "outputs": [
    {
     "data": {
      "text/html": [
       "<div>\n",
       "<style scoped>\n",
       "    .dataframe tbody tr th:only-of-type {\n",
       "        vertical-align: middle;\n",
       "    }\n",
       "\n",
       "    .dataframe tbody tr th {\n",
       "        vertical-align: top;\n",
       "    }\n",
       "\n",
       "    .dataframe thead th {\n",
       "        text-align: right;\n",
       "    }\n",
       "</style>\n",
       "<table border=\"1\" class=\"dataframe\">\n",
       "  <thead>\n",
       "    <tr style=\"text-align: right;\">\n",
       "      <th></th>\n",
       "      <th>user_id</th>\n",
       "      <th>month</th>\n",
       "      <th>total_cost_A</th>\n",
       "      <th>total_cost_B</th>\n",
       "      <th>total_cost_C</th>\n",
       "      <th>tariff_plan_actual</th>\n",
       "    </tr>\n",
       "  </thead>\n",
       "  <tbody>\n",
       "    <tr>\n",
       "      <th>0</th>\n",
       "      <td>166377</td>\n",
       "      <td>8</td>\n",
       "      <td>4640.145</td>\n",
       "      <td>3400.241667</td>\n",
       "      <td>3410.818333</td>\n",
       "      <td>B</td>\n",
       "    </tr>\n",
       "    <tr>\n",
       "      <th>1</th>\n",
       "      <td>166377</td>\n",
       "      <td>9</td>\n",
       "      <td>4729.175</td>\n",
       "      <td>3481.958333</td>\n",
       "      <td>3434.786667</td>\n",
       "      <td>B</td>\n",
       "    </tr>\n",
       "    <tr>\n",
       "      <th>2</th>\n",
       "      <td>166377</td>\n",
       "      <td>10</td>\n",
       "      <td>4746.035</td>\n",
       "      <td>3576.725000</td>\n",
       "      <td>3657.440000</td>\n",
       "      <td>B</td>\n",
       "    </tr>\n",
       "    <tr>\n",
       "      <th>3</th>\n",
       "      <td>166377</td>\n",
       "      <td>11</td>\n",
       "      <td>4676.920</td>\n",
       "      <td>3394.866667</td>\n",
       "      <td>3313.448333</td>\n",
       "      <td>B</td>\n",
       "    </tr>\n",
       "    <tr>\n",
       "      <th>4</th>\n",
       "      <td>166391</td>\n",
       "      <td>8</td>\n",
       "      <td>4100.000</td>\n",
       "      <td>2300.000000</td>\n",
       "      <td>1600.035000</td>\n",
       "      <td>C</td>\n",
       "    </tr>\n",
       "  </tbody>\n",
       "</table>\n",
       "</div>"
      ],
      "text/plain": [
       "   user_id  month  total_cost_A  total_cost_B  total_cost_C tariff_plan_actual\n",
       "0   166377      8      4640.145   3400.241667   3410.818333                  B\n",
       "1   166377      9      4729.175   3481.958333   3434.786667                  B\n",
       "2   166377     10      4746.035   3576.725000   3657.440000                  B\n",
       "3   166377     11      4676.920   3394.866667   3313.448333                  B\n",
       "4   166391      8      4100.000   2300.000000   1600.035000                  C"
      ]
     },
     "execution_count": 83,
     "metadata": {},
     "output_type": "execute_result"
    }
   ],
   "source": [
    "costs_full.head()"
   ]
  },
  {
   "cell_type": "markdown",
   "metadata": {},
   "source": [
    "**ВЫВОД**\n",
    "\n",
    "Мы теперь имеем набор данных, который позволяет нам увидеть, сколько каждый клиент должен заплатить за каждый тариф, независимо от того, какой тариф он использует. \n",
    "\n",
    "В отдельном столбце указан текущий тариф клиента."
   ]
  },
  {
   "cell_type": "markdown",
   "metadata": {},
   "source": [
    "\n",
    "    \n",
    "    На основе данных одного клиента мы рассчитываем стоимость его услуг, включая звонки другому оператору и плату за превышение тарифного плана. Затем мы сравниваем эти суммы с текущей оплатой клиента и определяем оптимальный тариф для него из трех возможных вариантов. Мы также добавляем флажок или индикатор, указывающий, совпадает ли текущий тариф клиента с оптимальным вариантом.\n",
    "    \n"
   ]
  },
  {
   "cell_type": "markdown",
   "metadata": {},
   "source": [
    "Опишу методтку выбора тарифа"
   ]
  },
  {
   "cell_type": "markdown",
   "metadata": {},
   "source": [
    "<div style=\"background-color:black; color:#ffffff; text-align:center; padding:2%\">\n",
    "    \n",
    "**Методика определения:** \n",
    "    \n",
    "1. Проводим расчёт, какую сумму должен заплатить клиент (не привязываясь к его текущему тарифу) по каждому из трех тарифов\n",
    "2. Расчет проводим для всех клиентов (позже отфильтруем по активным клиентам)\n",
    "3. Среди полученных значений плат за тарифы для клиентов, находим оптимальный (т.е с наименьшей платой)\n",
    "    - платы по тарифам мы расчитываем на основании данных использования трафика.\n",
    "4. Проверяем совпадает ли оптимальный тариф с текущим.\n",
    "5. Устанавливаем флажок соответствия отимального тарифа или нет.\n",
    "6. Так как клиенты опдачивают несколько месяцев (3 или 4), определим на какой процент у них происходит переплата\n",
    "    - в случа если процент будет равняться нулю - тогда у клиента оптимально подобранный тариф"
   ]
  },
  {
   "cell_type": "markdown",
   "metadata": {},
   "source": [
    "**НОВОЕ ПРЕДИСЛОВИЕ К ПУНКТУ**\n",
    "\n",
    "Ранее мы подсчитали какие затарты будут у клиента в зависимости от тарифа (не зависимо от текущего). Теперь, найдем из расчитаных значений - оптимальный для клиента и сравним его с текущим тарифом. В случае совпадения установим булевой флажок совпадения оптимального и текущего тарифа."
   ]
  },
  {
   "cell_type": "code",
   "execution_count": 84,
   "metadata": {},
   "outputs": [],
   "source": [
    "# Выбираем среди трех стоимостей наименьшую - оптимальную\n",
    "costs_full['tariff_plan_optimal'] = (\n",
    "    costs_full[['total_cost_A', 'total_cost_B', 'total_cost_C']].idxmin(axis='columns')\n",
    "    .str[-1]\n",
    ")\n",
    "\n",
    "costs_full['cost_optimal'] = costs_full[['total_cost_A', 'total_cost_B', 'total_cost_C']].min(axis='columns')\n",
    "\n",
    "# Добавляем флаг того, совпадает ли реальный тарифный план с оптимальным\n",
    "costs_full['plans_match'] = costs_full['tariff_plan_actual'] == costs_full['tariff_plan_optimal']"
   ]
  },
  {
   "cell_type": "code",
   "execution_count": 85,
   "metadata": {},
   "outputs": [
    {
     "data": {
      "text/html": [
       "<div>\n",
       "<style scoped>\n",
       "    .dataframe tbody tr th:only-of-type {\n",
       "        vertical-align: middle;\n",
       "    }\n",
       "\n",
       "    .dataframe tbody tr th {\n",
       "        vertical-align: top;\n",
       "    }\n",
       "\n",
       "    .dataframe thead th {\n",
       "        text-align: right;\n",
       "    }\n",
       "</style>\n",
       "<table border=\"1\" class=\"dataframe\">\n",
       "  <thead>\n",
       "    <tr style=\"text-align: right;\">\n",
       "      <th></th>\n",
       "      <th>user_id</th>\n",
       "      <th>month</th>\n",
       "      <th>total_cost_A</th>\n",
       "      <th>total_cost_B</th>\n",
       "      <th>total_cost_C</th>\n",
       "      <th>tariff_plan_actual</th>\n",
       "      <th>tariff_plan_optimal</th>\n",
       "      <th>cost_optimal</th>\n",
       "      <th>plans_match</th>\n",
       "    </tr>\n",
       "  </thead>\n",
       "  <tbody>\n",
       "    <tr>\n",
       "      <th>0</th>\n",
       "      <td>166377</td>\n",
       "      <td>8</td>\n",
       "      <td>4640.145</td>\n",
       "      <td>3400.241667</td>\n",
       "      <td>3410.818333</td>\n",
       "      <td>B</td>\n",
       "      <td>B</td>\n",
       "      <td>3400.241667</td>\n",
       "      <td>True</td>\n",
       "    </tr>\n",
       "    <tr>\n",
       "      <th>1</th>\n",
       "      <td>166377</td>\n",
       "      <td>9</td>\n",
       "      <td>4729.175</td>\n",
       "      <td>3481.958333</td>\n",
       "      <td>3434.786667</td>\n",
       "      <td>B</td>\n",
       "      <td>C</td>\n",
       "      <td>3434.786667</td>\n",
       "      <td>False</td>\n",
       "    </tr>\n",
       "    <tr>\n",
       "      <th>2</th>\n",
       "      <td>166377</td>\n",
       "      <td>10</td>\n",
       "      <td>4746.035</td>\n",
       "      <td>3576.725000</td>\n",
       "      <td>3657.440000</td>\n",
       "      <td>B</td>\n",
       "      <td>B</td>\n",
       "      <td>3576.725000</td>\n",
       "      <td>True</td>\n",
       "    </tr>\n",
       "    <tr>\n",
       "      <th>3</th>\n",
       "      <td>166377</td>\n",
       "      <td>11</td>\n",
       "      <td>4676.920</td>\n",
       "      <td>3394.866667</td>\n",
       "      <td>3313.448333</td>\n",
       "      <td>B</td>\n",
       "      <td>C</td>\n",
       "      <td>3313.448333</td>\n",
       "      <td>False</td>\n",
       "    </tr>\n",
       "    <tr>\n",
       "      <th>4</th>\n",
       "      <td>166391</td>\n",
       "      <td>8</td>\n",
       "      <td>4100.000</td>\n",
       "      <td>2300.000000</td>\n",
       "      <td>1600.035000</td>\n",
       "      <td>C</td>\n",
       "      <td>C</td>\n",
       "      <td>1600.035000</td>\n",
       "      <td>True</td>\n",
       "    </tr>\n",
       "    <tr>\n",
       "      <th>5</th>\n",
       "      <td>166391</td>\n",
       "      <td>9</td>\n",
       "      <td>4050.000</td>\n",
       "      <td>2150.000000</td>\n",
       "      <td>1300.000000</td>\n",
       "      <td>C</td>\n",
       "      <td>C</td>\n",
       "      <td>1300.000000</td>\n",
       "      <td>True</td>\n",
       "    </tr>\n",
       "    <tr>\n",
       "      <th>6</th>\n",
       "      <td>166391</td>\n",
       "      <td>10</td>\n",
       "      <td>4000.000</td>\n",
       "      <td>2000.000000</td>\n",
       "      <td>1000.000000</td>\n",
       "      <td>C</td>\n",
       "      <td>C</td>\n",
       "      <td>1000.000000</td>\n",
       "      <td>True</td>\n",
       "    </tr>\n",
       "    <tr>\n",
       "      <th>7</th>\n",
       "      <td>166391</td>\n",
       "      <td>11</td>\n",
       "      <td>4050.000</td>\n",
       "      <td>2150.000000</td>\n",
       "      <td>1300.000000</td>\n",
       "      <td>C</td>\n",
       "      <td>C</td>\n",
       "      <td>1300.000000</td>\n",
       "      <td>True</td>\n",
       "    </tr>\n",
       "    <tr>\n",
       "      <th>8</th>\n",
       "      <td>166392</td>\n",
       "      <td>8</td>\n",
       "      <td>4100.000</td>\n",
       "      <td>2300.000000</td>\n",
       "      <td>1600.000000</td>\n",
       "      <td>C</td>\n",
       "      <td>C</td>\n",
       "      <td>1600.000000</td>\n",
       "      <td>True</td>\n",
       "    </tr>\n",
       "    <tr>\n",
       "      <th>9</th>\n",
       "      <td>166392</td>\n",
       "      <td>9</td>\n",
       "      <td>4100.000</td>\n",
       "      <td>2300.000000</td>\n",
       "      <td>1600.000000</td>\n",
       "      <td>C</td>\n",
       "      <td>C</td>\n",
       "      <td>1600.000000</td>\n",
       "      <td>True</td>\n",
       "    </tr>\n",
       "  </tbody>\n",
       "</table>\n",
       "</div>"
      ],
      "text/plain": [
       "   user_id  month  total_cost_A  total_cost_B  total_cost_C  \\\n",
       "0   166377      8      4640.145   3400.241667   3410.818333   \n",
       "1   166377      9      4729.175   3481.958333   3434.786667   \n",
       "2   166377     10      4746.035   3576.725000   3657.440000   \n",
       "3   166377     11      4676.920   3394.866667   3313.448333   \n",
       "4   166391      8      4100.000   2300.000000   1600.035000   \n",
       "5   166391      9      4050.000   2150.000000   1300.000000   \n",
       "6   166391     10      4000.000   2000.000000   1000.000000   \n",
       "7   166391     11      4050.000   2150.000000   1300.000000   \n",
       "8   166392      8      4100.000   2300.000000   1600.000000   \n",
       "9   166392      9      4100.000   2300.000000   1600.000000   \n",
       "\n",
       "  tariff_plan_actual tariff_plan_optimal  cost_optimal  plans_match  \n",
       "0                  B                   B   3400.241667         True  \n",
       "1                  B                   C   3434.786667        False  \n",
       "2                  B                   B   3576.725000         True  \n",
       "3                  B                   C   3313.448333        False  \n",
       "4                  C                   C   1600.035000         True  \n",
       "5                  C                   C   1300.000000         True  \n",
       "6                  C                   C   1000.000000         True  \n",
       "7                  C                   C   1300.000000         True  \n",
       "8                  C                   C   1600.000000         True  \n",
       "9                  C                   C   1600.000000         True  "
      ]
     },
     "execution_count": 85,
     "metadata": {},
     "output_type": "execute_result"
    }
   ],
   "source": [
    "costs_full.head(10)"
   ]
  },
  {
   "cell_type": "code",
   "execution_count": 86,
   "metadata": {},
   "outputs": [
    {
     "data": {
      "text/html": [
       "<div>\n",
       "<style scoped>\n",
       "    .dataframe tbody tr th:only-of-type {\n",
       "        vertical-align: middle;\n",
       "    }\n",
       "\n",
       "    .dataframe tbody tr th {\n",
       "        vertical-align: top;\n",
       "    }\n",
       "\n",
       "    .dataframe thead th {\n",
       "        text-align: right;\n",
       "    }\n",
       "</style>\n",
       "<table border=\"1\" class=\"dataframe\">\n",
       "  <thead>\n",
       "    <tr style=\"text-align: right;\">\n",
       "      <th></th>\n",
       "      <th>user_id</th>\n",
       "      <th>month</th>\n",
       "      <th>total_cost_A</th>\n",
       "      <th>total_cost_B</th>\n",
       "      <th>total_cost_C</th>\n",
       "      <th>tariff_plan_actual</th>\n",
       "      <th>tariff_plan_optimal</th>\n",
       "      <th>cost_optimal</th>\n",
       "      <th>plans_match</th>\n",
       "      <th>cost_actual</th>\n",
       "    </tr>\n",
       "  </thead>\n",
       "  <tbody>\n",
       "    <tr>\n",
       "      <th>0</th>\n",
       "      <td>166377</td>\n",
       "      <td>8</td>\n",
       "      <td>4640.145</td>\n",
       "      <td>3400.241667</td>\n",
       "      <td>3410.818333</td>\n",
       "      <td>B</td>\n",
       "      <td>B</td>\n",
       "      <td>3400.241667</td>\n",
       "      <td>True</td>\n",
       "      <td>3400.241667</td>\n",
       "    </tr>\n",
       "    <tr>\n",
       "      <th>1</th>\n",
       "      <td>166377</td>\n",
       "      <td>9</td>\n",
       "      <td>4729.175</td>\n",
       "      <td>3481.958333</td>\n",
       "      <td>3434.786667</td>\n",
       "      <td>B</td>\n",
       "      <td>C</td>\n",
       "      <td>3434.786667</td>\n",
       "      <td>False</td>\n",
       "      <td>3481.958333</td>\n",
       "    </tr>\n",
       "    <tr>\n",
       "      <th>2</th>\n",
       "      <td>166377</td>\n",
       "      <td>10</td>\n",
       "      <td>4746.035</td>\n",
       "      <td>3576.725000</td>\n",
       "      <td>3657.440000</td>\n",
       "      <td>B</td>\n",
       "      <td>B</td>\n",
       "      <td>3576.725000</td>\n",
       "      <td>True</td>\n",
       "      <td>3576.725000</td>\n",
       "    </tr>\n",
       "    <tr>\n",
       "      <th>3</th>\n",
       "      <td>166377</td>\n",
       "      <td>11</td>\n",
       "      <td>4676.920</td>\n",
       "      <td>3394.866667</td>\n",
       "      <td>3313.448333</td>\n",
       "      <td>B</td>\n",
       "      <td>C</td>\n",
       "      <td>3313.448333</td>\n",
       "      <td>False</td>\n",
       "      <td>3394.866667</td>\n",
       "    </tr>\n",
       "    <tr>\n",
       "      <th>4</th>\n",
       "      <td>166391</td>\n",
       "      <td>8</td>\n",
       "      <td>4100.000</td>\n",
       "      <td>2300.000000</td>\n",
       "      <td>1600.035000</td>\n",
       "      <td>C</td>\n",
       "      <td>C</td>\n",
       "      <td>1600.035000</td>\n",
       "      <td>True</td>\n",
       "      <td>1600.035000</td>\n",
       "    </tr>\n",
       "    <tr>\n",
       "      <th>...</th>\n",
       "      <td>...</td>\n",
       "      <td>...</td>\n",
       "      <td>...</td>\n",
       "      <td>...</td>\n",
       "      <td>...</td>\n",
       "      <td>...</td>\n",
       "      <td>...</td>\n",
       "      <td>...</td>\n",
       "      <td>...</td>\n",
       "      <td>...</td>\n",
       "    </tr>\n",
       "    <tr>\n",
       "      <th>783</th>\n",
       "      <td>168583</td>\n",
       "      <td>11</td>\n",
       "      <td>4100.000</td>\n",
       "      <td>2300.000000</td>\n",
       "      <td>1600.000000</td>\n",
       "      <td>B</td>\n",
       "      <td>C</td>\n",
       "      <td>1600.000000</td>\n",
       "      <td>False</td>\n",
       "      <td>2300.000000</td>\n",
       "    </tr>\n",
       "    <tr>\n",
       "      <th>784</th>\n",
       "      <td>168598</td>\n",
       "      <td>11</td>\n",
       "      <td>4050.000</td>\n",
       "      <td>2150.000000</td>\n",
       "      <td>1300.000000</td>\n",
       "      <td>C</td>\n",
       "      <td>C</td>\n",
       "      <td>1300.000000</td>\n",
       "      <td>True</td>\n",
       "      <td>1300.000000</td>\n",
       "    </tr>\n",
       "    <tr>\n",
       "      <th>785</th>\n",
       "      <td>168601</td>\n",
       "      <td>11</td>\n",
       "      <td>4265.960</td>\n",
       "      <td>2576.600000</td>\n",
       "      <td>1987.240000</td>\n",
       "      <td>C</td>\n",
       "      <td>C</td>\n",
       "      <td>1987.240000</td>\n",
       "      <td>True</td>\n",
       "      <td>1987.240000</td>\n",
       "    </tr>\n",
       "    <tr>\n",
       "      <th>786</th>\n",
       "      <td>168603</td>\n",
       "      <td>11</td>\n",
       "      <td>4055.935</td>\n",
       "      <td>2159.891667</td>\n",
       "      <td>1313.848333</td>\n",
       "      <td>B</td>\n",
       "      <td>C</td>\n",
       "      <td>1313.848333</td>\n",
       "      <td>False</td>\n",
       "      <td>2159.891667</td>\n",
       "    </tr>\n",
       "    <tr>\n",
       "      <th>787</th>\n",
       "      <td>168606</td>\n",
       "      <td>11</td>\n",
       "      <td>4054.805</td>\n",
       "      <td>2158.008333</td>\n",
       "      <td>1329.981667</td>\n",
       "      <td>C</td>\n",
       "      <td>C</td>\n",
       "      <td>1329.981667</td>\n",
       "      <td>True</td>\n",
       "      <td>1329.981667</td>\n",
       "    </tr>\n",
       "  </tbody>\n",
       "</table>\n",
       "<p>788 rows × 10 columns</p>\n",
       "</div>"
      ],
      "text/plain": [
       "     user_id  month  total_cost_A  total_cost_B  total_cost_C  \\\n",
       "0     166377      8      4640.145   3400.241667   3410.818333   \n",
       "1     166377      9      4729.175   3481.958333   3434.786667   \n",
       "2     166377     10      4746.035   3576.725000   3657.440000   \n",
       "3     166377     11      4676.920   3394.866667   3313.448333   \n",
       "4     166391      8      4100.000   2300.000000   1600.035000   \n",
       "..       ...    ...           ...           ...           ...   \n",
       "783   168583     11      4100.000   2300.000000   1600.000000   \n",
       "784   168598     11      4050.000   2150.000000   1300.000000   \n",
       "785   168601     11      4265.960   2576.600000   1987.240000   \n",
       "786   168603     11      4055.935   2159.891667   1313.848333   \n",
       "787   168606     11      4054.805   2158.008333   1329.981667   \n",
       "\n",
       "    tariff_plan_actual tariff_plan_optimal  cost_optimal  plans_match  \\\n",
       "0                    B                   B   3400.241667         True   \n",
       "1                    B                   C   3434.786667        False   \n",
       "2                    B                   B   3576.725000         True   \n",
       "3                    B                   C   3313.448333        False   \n",
       "4                    C                   C   1600.035000         True   \n",
       "..                 ...                 ...           ...          ...   \n",
       "783                  B                   C   1600.000000        False   \n",
       "784                  C                   C   1300.000000         True   \n",
       "785                  C                   C   1987.240000         True   \n",
       "786                  B                   C   1313.848333        False   \n",
       "787                  C                   C   1329.981667         True   \n",
       "\n",
       "     cost_actual  \n",
       "0    3400.241667  \n",
       "1    3481.958333  \n",
       "2    3576.725000  \n",
       "3    3394.866667  \n",
       "4    1600.035000  \n",
       "..           ...  \n",
       "783  2300.000000  \n",
       "784  1300.000000  \n",
       "785  1987.240000  \n",
       "786  2159.891667  \n",
       "787  1329.981667  \n",
       "\n",
       "[788 rows x 10 columns]"
      ]
     },
     "execution_count": 86,
     "metadata": {},
     "output_type": "execute_result"
    }
   ],
   "source": [
    "costs_full['cost_actual'] = 0\n",
    "\n",
    "costs_full.loc[costs_full['tariff_plan_actual'] == 'A', \n",
    "               'cost_actual'] = costs_full['total_cost_A']\n",
    "costs_full.loc[costs_full['tariff_plan_actual'] == 'B', \n",
    "               'cost_actual'] = costs_full['total_cost_B']\n",
    "costs_full.loc[costs_full['tariff_plan_actual'] == 'C', \n",
    "               'cost_actual'] = costs_full['total_cost_C']\n",
    "\n",
    "costs_full"
   ]
  },
  {
   "cell_type": "markdown",
   "metadata": {},
   "source": [
    "Создаем таблицу, где будут отображены суммарные траты **активных клиентов** по всем тарифам (если они были на одном из трех тарифов пердложенных) и одновременно подсчитываем затраченную сумму клиентом на оплату "
   ]
  },
  {
   "cell_type": "code",
   "execution_count": 87,
   "metadata": {},
   "outputs": [
    {
     "data": {
      "text/html": [
       "<div>\n",
       "<style scoped>\n",
       "    .dataframe tbody tr th:only-of-type {\n",
       "        vertical-align: middle;\n",
       "    }\n",
       "\n",
       "    .dataframe tbody tr th {\n",
       "        vertical-align: top;\n",
       "    }\n",
       "\n",
       "    .dataframe thead th {\n",
       "        text-align: right;\n",
       "    }\n",
       "</style>\n",
       "<table border=\"1\" class=\"dataframe\">\n",
       "  <thead>\n",
       "    <tr style=\"text-align: right;\">\n",
       "      <th></th>\n",
       "      <th>user_id</th>\n",
       "      <th>total_cost_A</th>\n",
       "      <th>total_cost_B</th>\n",
       "      <th>total_cost_C</th>\n",
       "      <th>cost_actual</th>\n",
       "    </tr>\n",
       "  </thead>\n",
       "  <tbody>\n",
       "    <tr>\n",
       "      <th>0</th>\n",
       "      <td>166377</td>\n",
       "      <td>18792.275</td>\n",
       "      <td>13853.791667</td>\n",
       "      <td>13816.493333</td>\n",
       "      <td>13853.791667</td>\n",
       "    </tr>\n",
       "    <tr>\n",
       "      <th>1</th>\n",
       "      <td>166391</td>\n",
       "      <td>16200.000</td>\n",
       "      <td>8600.000000</td>\n",
       "      <td>5200.035000</td>\n",
       "      <td>5200.035000</td>\n",
       "    </tr>\n",
       "    <tr>\n",
       "      <th>2</th>\n",
       "      <td>166392</td>\n",
       "      <td>16400.000</td>\n",
       "      <td>9200.000000</td>\n",
       "      <td>6400.000000</td>\n",
       "      <td>6400.000000</td>\n",
       "    </tr>\n",
       "    <tr>\n",
       "      <th>3</th>\n",
       "      <td>166405</td>\n",
       "      <td>21979.860</td>\n",
       "      <td>19566.433333</td>\n",
       "      <td>22357.486667</td>\n",
       "      <td>19566.433333</td>\n",
       "    </tr>\n",
       "    <tr>\n",
       "      <th>4</th>\n",
       "      <td>166406</td>\n",
       "      <td>18579.675</td>\n",
       "      <td>12899.458333</td>\n",
       "      <td>11677.656667</td>\n",
       "      <td>12899.458333</td>\n",
       "    </tr>\n",
       "    <tr>\n",
       "      <th>...</th>\n",
       "      <td>...</td>\n",
       "      <td>...</td>\n",
       "      <td>...</td>\n",
       "      <td>...</td>\n",
       "      <td>...</td>\n",
       "    </tr>\n",
       "    <tr>\n",
       "      <th>134</th>\n",
       "      <td>167716</td>\n",
       "      <td>12424.715</td>\n",
       "      <td>6907.858333</td>\n",
       "      <td>4541.116667</td>\n",
       "      <td>6907.858333</td>\n",
       "    </tr>\n",
       "    <tr>\n",
       "      <th>135</th>\n",
       "      <td>167721</td>\n",
       "      <td>12000.000</td>\n",
       "      <td>6000.000000</td>\n",
       "      <td>3000.000000</td>\n",
       "      <td>3000.000000</td>\n",
       "    </tr>\n",
       "    <tr>\n",
       "      <th>136</th>\n",
       "      <td>167727</td>\n",
       "      <td>13317.085</td>\n",
       "      <td>8328.475000</td>\n",
       "      <td>6439.865000</td>\n",
       "      <td>6439.865000</td>\n",
       "    </tr>\n",
       "    <tr>\n",
       "      <th>137</th>\n",
       "      <td>167744</td>\n",
       "      <td>12100.000</td>\n",
       "      <td>6300.000000</td>\n",
       "      <td>3600.000000</td>\n",
       "      <td>3600.000000</td>\n",
       "    </tr>\n",
       "    <tr>\n",
       "      <th>138</th>\n",
       "      <td>167781</td>\n",
       "      <td>12100.000</td>\n",
       "      <td>6300.000000</td>\n",
       "      <td>3600.000000</td>\n",
       "      <td>3600.000000</td>\n",
       "    </tr>\n",
       "  </tbody>\n",
       "</table>\n",
       "<p>139 rows × 5 columns</p>\n",
       "</div>"
      ],
      "text/plain": [
       "     user_id  total_cost_A  total_cost_B  total_cost_C   cost_actual\n",
       "0     166377     18792.275  13853.791667  13816.493333  13853.791667\n",
       "1     166391     16200.000   8600.000000   5200.035000   5200.035000\n",
       "2     166392     16400.000   9200.000000   6400.000000   6400.000000\n",
       "3     166405     21979.860  19566.433333  22357.486667  19566.433333\n",
       "4     166406     18579.675  12899.458333  11677.656667  12899.458333\n",
       "..       ...           ...           ...           ...           ...\n",
       "134   167716     12424.715   6907.858333   4541.116667   6907.858333\n",
       "135   167721     12000.000   6000.000000   3000.000000   3000.000000\n",
       "136   167727     13317.085   8328.475000   6439.865000   6439.865000\n",
       "137   167744     12100.000   6300.000000   3600.000000   3600.000000\n",
       "138   167781     12100.000   6300.000000   3600.000000   3600.000000\n",
       "\n",
       "[139 rows x 5 columns]"
      ]
     },
     "execution_count": 87,
     "metadata": {},
     "output_type": "execute_result"
    }
   ],
   "source": [
    "costs_full_sum = pd.DataFrame(columns=[])\n",
    "\n",
    "costs_full_sum = (costs_full.query('user_id in @active_users_ids').groupby(by='user_id', as_index=False)\n",
    " .agg({'total_cost_A':'sum', 'total_cost_B':'sum', 'total_cost_C':'sum', 'cost_actual': 'sum'}))\n",
    "\n",
    "\n",
    "costs_full_sum"
   ]
  },
  {
   "cell_type": "markdown",
   "metadata": {},
   "source": [
    "Добавим индификатор используемого тарифа клиентом"
   ]
  },
  {
   "cell_type": "code",
   "execution_count": 88,
   "metadata": {},
   "outputs": [
    {
     "data": {
      "text/html": [
       "<div>\n",
       "<style scoped>\n",
       "    .dataframe tbody tr th:only-of-type {\n",
       "        vertical-align: middle;\n",
       "    }\n",
       "\n",
       "    .dataframe tbody tr th {\n",
       "        vertical-align: top;\n",
       "    }\n",
       "\n",
       "    .dataframe thead th {\n",
       "        text-align: right;\n",
       "    }\n",
       "</style>\n",
       "<table border=\"1\" class=\"dataframe\">\n",
       "  <thead>\n",
       "    <tr style=\"text-align: right;\">\n",
       "      <th></th>\n",
       "      <th>user_id</th>\n",
       "      <th>total_cost_A</th>\n",
       "      <th>total_cost_B</th>\n",
       "      <th>total_cost_C</th>\n",
       "      <th>cost_actual</th>\n",
       "      <th>tariff_plan</th>\n",
       "    </tr>\n",
       "  </thead>\n",
       "  <tbody>\n",
       "    <tr>\n",
       "      <th>0</th>\n",
       "      <td>166377</td>\n",
       "      <td>18792.275</td>\n",
       "      <td>13853.791667</td>\n",
       "      <td>13816.493333</td>\n",
       "      <td>13853.791667</td>\n",
       "      <td>B</td>\n",
       "    </tr>\n",
       "    <tr>\n",
       "      <th>1</th>\n",
       "      <td>166391</td>\n",
       "      <td>16200.000</td>\n",
       "      <td>8600.000000</td>\n",
       "      <td>5200.035000</td>\n",
       "      <td>5200.035000</td>\n",
       "      <td>C</td>\n",
       "    </tr>\n",
       "    <tr>\n",
       "      <th>2</th>\n",
       "      <td>166392</td>\n",
       "      <td>16400.000</td>\n",
       "      <td>9200.000000</td>\n",
       "      <td>6400.000000</td>\n",
       "      <td>6400.000000</td>\n",
       "      <td>C</td>\n",
       "    </tr>\n",
       "    <tr>\n",
       "      <th>3</th>\n",
       "      <td>166405</td>\n",
       "      <td>21979.860</td>\n",
       "      <td>19566.433333</td>\n",
       "      <td>22357.486667</td>\n",
       "      <td>19566.433333</td>\n",
       "      <td>B</td>\n",
       "    </tr>\n",
       "    <tr>\n",
       "      <th>4</th>\n",
       "      <td>166406</td>\n",
       "      <td>18579.675</td>\n",
       "      <td>12899.458333</td>\n",
       "      <td>11677.656667</td>\n",
       "      <td>12899.458333</td>\n",
       "      <td>B</td>\n",
       "    </tr>\n",
       "    <tr>\n",
       "      <th>...</th>\n",
       "      <td>...</td>\n",
       "      <td>...</td>\n",
       "      <td>...</td>\n",
       "      <td>...</td>\n",
       "      <td>...</td>\n",
       "      <td>...</td>\n",
       "    </tr>\n",
       "    <tr>\n",
       "      <th>134</th>\n",
       "      <td>167716</td>\n",
       "      <td>12424.715</td>\n",
       "      <td>6907.858333</td>\n",
       "      <td>4541.116667</td>\n",
       "      <td>6907.858333</td>\n",
       "      <td>B</td>\n",
       "    </tr>\n",
       "    <tr>\n",
       "      <th>135</th>\n",
       "      <td>167721</td>\n",
       "      <td>12000.000</td>\n",
       "      <td>6000.000000</td>\n",
       "      <td>3000.000000</td>\n",
       "      <td>3000.000000</td>\n",
       "      <td>C</td>\n",
       "    </tr>\n",
       "    <tr>\n",
       "      <th>136</th>\n",
       "      <td>167727</td>\n",
       "      <td>13317.085</td>\n",
       "      <td>8328.475000</td>\n",
       "      <td>6439.865000</td>\n",
       "      <td>6439.865000</td>\n",
       "      <td>C</td>\n",
       "    </tr>\n",
       "    <tr>\n",
       "      <th>137</th>\n",
       "      <td>167744</td>\n",
       "      <td>12100.000</td>\n",
       "      <td>6300.000000</td>\n",
       "      <td>3600.000000</td>\n",
       "      <td>3600.000000</td>\n",
       "      <td>C</td>\n",
       "    </tr>\n",
       "    <tr>\n",
       "      <th>138</th>\n",
       "      <td>167781</td>\n",
       "      <td>12100.000</td>\n",
       "      <td>6300.000000</td>\n",
       "      <td>3600.000000</td>\n",
       "      <td>3600.000000</td>\n",
       "      <td>C</td>\n",
       "    </tr>\n",
       "  </tbody>\n",
       "</table>\n",
       "<p>139 rows × 6 columns</p>\n",
       "</div>"
      ],
      "text/plain": [
       "     user_id  total_cost_A  total_cost_B  total_cost_C   cost_actual  \\\n",
       "0     166377     18792.275  13853.791667  13816.493333  13853.791667   \n",
       "1     166391     16200.000   8600.000000   5200.035000   5200.035000   \n",
       "2     166392     16400.000   9200.000000   6400.000000   6400.000000   \n",
       "3     166405     21979.860  19566.433333  22357.486667  19566.433333   \n",
       "4     166406     18579.675  12899.458333  11677.656667  12899.458333   \n",
       "..       ...           ...           ...           ...           ...   \n",
       "134   167716     12424.715   6907.858333   4541.116667   6907.858333   \n",
       "135   167721     12000.000   6000.000000   3000.000000   3000.000000   \n",
       "136   167727     13317.085   8328.475000   6439.865000   6439.865000   \n",
       "137   167744     12100.000   6300.000000   3600.000000   3600.000000   \n",
       "138   167781     12100.000   6300.000000   3600.000000   3600.000000   \n",
       "\n",
       "    tariff_plan  \n",
       "0             B  \n",
       "1             C  \n",
       "2             C  \n",
       "3             B  \n",
       "4             B  \n",
       "..          ...  \n",
       "134           B  \n",
       "135           C  \n",
       "136           C  \n",
       "137           C  \n",
       "138           C  \n",
       "\n",
       "[139 rows x 6 columns]"
      ]
     },
     "execution_count": 88,
     "metadata": {},
     "output_type": "execute_result"
    }
   ],
   "source": [
    "cost_comparison = costs_full_sum.merge(clients, on='user_id', how='left')\n",
    "cost_comparison = cost_comparison.drop('date_start', axis=1)\n",
    "cost_comparison"
   ]
  },
  {
   "cell_type": "markdown",
   "metadata": {},
   "source": [
    "Определяем оптимальную стоимость для каждого клиента, после чего сравниваем, совпадает ли текущий тарифный план с оптимальным (тот тариф за который пришлось заплатить меньше всего)"
   ]
  },
  {
   "cell_type": "code",
   "execution_count": 89,
   "metadata": {},
   "outputs": [
    {
     "data": {
      "text/html": [
       "<div>\n",
       "<style scoped>\n",
       "    .dataframe tbody tr th:only-of-type {\n",
       "        vertical-align: middle;\n",
       "    }\n",
       "\n",
       "    .dataframe tbody tr th {\n",
       "        vertical-align: top;\n",
       "    }\n",
       "\n",
       "    .dataframe thead th {\n",
       "        text-align: right;\n",
       "    }\n",
       "</style>\n",
       "<table border=\"1\" class=\"dataframe\">\n",
       "  <thead>\n",
       "    <tr style=\"text-align: right;\">\n",
       "      <th></th>\n",
       "      <th>user_id</th>\n",
       "      <th>total_cost_A</th>\n",
       "      <th>total_cost_B</th>\n",
       "      <th>total_cost_C</th>\n",
       "      <th>cost_actual</th>\n",
       "      <th>tariff_plan</th>\n",
       "      <th>tariff_plan_optimal</th>\n",
       "      <th>cost_optimal</th>\n",
       "      <th>plans_match</th>\n",
       "    </tr>\n",
       "  </thead>\n",
       "  <tbody>\n",
       "    <tr>\n",
       "      <th>0</th>\n",
       "      <td>166377</td>\n",
       "      <td>18792.275</td>\n",
       "      <td>13853.791667</td>\n",
       "      <td>13816.493333</td>\n",
       "      <td>13853.791667</td>\n",
       "      <td>B</td>\n",
       "      <td>C</td>\n",
       "      <td>13816.493333</td>\n",
       "      <td>False</td>\n",
       "    </tr>\n",
       "    <tr>\n",
       "      <th>1</th>\n",
       "      <td>166391</td>\n",
       "      <td>16200.000</td>\n",
       "      <td>8600.000000</td>\n",
       "      <td>5200.035000</td>\n",
       "      <td>5200.035000</td>\n",
       "      <td>C</td>\n",
       "      <td>C</td>\n",
       "      <td>5200.035000</td>\n",
       "      <td>True</td>\n",
       "    </tr>\n",
       "    <tr>\n",
       "      <th>2</th>\n",
       "      <td>166392</td>\n",
       "      <td>16400.000</td>\n",
       "      <td>9200.000000</td>\n",
       "      <td>6400.000000</td>\n",
       "      <td>6400.000000</td>\n",
       "      <td>C</td>\n",
       "      <td>C</td>\n",
       "      <td>6400.000000</td>\n",
       "      <td>True</td>\n",
       "    </tr>\n",
       "    <tr>\n",
       "      <th>3</th>\n",
       "      <td>166405</td>\n",
       "      <td>21979.860</td>\n",
       "      <td>19566.433333</td>\n",
       "      <td>22357.486667</td>\n",
       "      <td>19566.433333</td>\n",
       "      <td>B</td>\n",
       "      <td>B</td>\n",
       "      <td>19566.433333</td>\n",
       "      <td>True</td>\n",
       "    </tr>\n",
       "    <tr>\n",
       "      <th>4</th>\n",
       "      <td>166406</td>\n",
       "      <td>18579.675</td>\n",
       "      <td>12899.458333</td>\n",
       "      <td>11677.656667</td>\n",
       "      <td>12899.458333</td>\n",
       "      <td>B</td>\n",
       "      <td>C</td>\n",
       "      <td>11677.656667</td>\n",
       "      <td>False</td>\n",
       "    </tr>\n",
       "    <tr>\n",
       "      <th>...</th>\n",
       "      <td>...</td>\n",
       "      <td>...</td>\n",
       "      <td>...</td>\n",
       "      <td>...</td>\n",
       "      <td>...</td>\n",
       "      <td>...</td>\n",
       "      <td>...</td>\n",
       "      <td>...</td>\n",
       "      <td>...</td>\n",
       "    </tr>\n",
       "    <tr>\n",
       "      <th>134</th>\n",
       "      <td>167716</td>\n",
       "      <td>12424.715</td>\n",
       "      <td>6907.858333</td>\n",
       "      <td>4541.116667</td>\n",
       "      <td>6907.858333</td>\n",
       "      <td>B</td>\n",
       "      <td>C</td>\n",
       "      <td>4541.116667</td>\n",
       "      <td>False</td>\n",
       "    </tr>\n",
       "    <tr>\n",
       "      <th>135</th>\n",
       "      <td>167721</td>\n",
       "      <td>12000.000</td>\n",
       "      <td>6000.000000</td>\n",
       "      <td>3000.000000</td>\n",
       "      <td>3000.000000</td>\n",
       "      <td>C</td>\n",
       "      <td>C</td>\n",
       "      <td>3000.000000</td>\n",
       "      <td>True</td>\n",
       "    </tr>\n",
       "    <tr>\n",
       "      <th>136</th>\n",
       "      <td>167727</td>\n",
       "      <td>13317.085</td>\n",
       "      <td>8328.475000</td>\n",
       "      <td>6439.865000</td>\n",
       "      <td>6439.865000</td>\n",
       "      <td>C</td>\n",
       "      <td>C</td>\n",
       "      <td>6439.865000</td>\n",
       "      <td>True</td>\n",
       "    </tr>\n",
       "    <tr>\n",
       "      <th>137</th>\n",
       "      <td>167744</td>\n",
       "      <td>12100.000</td>\n",
       "      <td>6300.000000</td>\n",
       "      <td>3600.000000</td>\n",
       "      <td>3600.000000</td>\n",
       "      <td>C</td>\n",
       "      <td>C</td>\n",
       "      <td>3600.000000</td>\n",
       "      <td>True</td>\n",
       "    </tr>\n",
       "    <tr>\n",
       "      <th>138</th>\n",
       "      <td>167781</td>\n",
       "      <td>12100.000</td>\n",
       "      <td>6300.000000</td>\n",
       "      <td>3600.000000</td>\n",
       "      <td>3600.000000</td>\n",
       "      <td>C</td>\n",
       "      <td>C</td>\n",
       "      <td>3600.000000</td>\n",
       "      <td>True</td>\n",
       "    </tr>\n",
       "  </tbody>\n",
       "</table>\n",
       "<p>139 rows × 9 columns</p>\n",
       "</div>"
      ],
      "text/plain": [
       "     user_id  total_cost_A  total_cost_B  total_cost_C   cost_actual  \\\n",
       "0     166377     18792.275  13853.791667  13816.493333  13853.791667   \n",
       "1     166391     16200.000   8600.000000   5200.035000   5200.035000   \n",
       "2     166392     16400.000   9200.000000   6400.000000   6400.000000   \n",
       "3     166405     21979.860  19566.433333  22357.486667  19566.433333   \n",
       "4     166406     18579.675  12899.458333  11677.656667  12899.458333   \n",
       "..       ...           ...           ...           ...           ...   \n",
       "134   167716     12424.715   6907.858333   4541.116667   6907.858333   \n",
       "135   167721     12000.000   6000.000000   3000.000000   3000.000000   \n",
       "136   167727     13317.085   8328.475000   6439.865000   6439.865000   \n",
       "137   167744     12100.000   6300.000000   3600.000000   3600.000000   \n",
       "138   167781     12100.000   6300.000000   3600.000000   3600.000000   \n",
       "\n",
       "    tariff_plan tariff_plan_optimal  cost_optimal  plans_match  \n",
       "0             B                   C  13816.493333        False  \n",
       "1             C                   C   5200.035000         True  \n",
       "2             C                   C   6400.000000         True  \n",
       "3             B                   B  19566.433333         True  \n",
       "4             B                   C  11677.656667        False  \n",
       "..          ...                 ...           ...          ...  \n",
       "134           B                   C   4541.116667        False  \n",
       "135           C                   C   3000.000000         True  \n",
       "136           C                   C   6439.865000         True  \n",
       "137           C                   C   3600.000000         True  \n",
       "138           C                   C   3600.000000         True  \n",
       "\n",
       "[139 rows x 9 columns]"
      ]
     },
     "execution_count": 89,
     "metadata": {},
     "output_type": "execute_result"
    }
   ],
   "source": [
    "# Выбираем среди трех стоимостей наименьшую - оптимальную\n",
    "cost_comparison['tariff_plan_optimal'] = (\n",
    "    cost_comparison[['total_cost_A', 'total_cost_B', 'total_cost_C']].idxmin(axis='columns')\n",
    "    .str[-1]\n",
    ")\n",
    "\n",
    "cost_comparison['cost_optimal'] = cost_comparison[['total_cost_A', 'total_cost_B', 'total_cost_C']].min(axis='columns')\n",
    "\n",
    "cost_comparison\n",
    "# Добавляем флаг того, совпадает ли реальный тарифный план с оптимальным\n",
    "cost_comparison['plans_match'] = cost_comparison['cost_actual'] == cost_comparison['cost_optimal']\n",
    "cost_comparison"
   ]
  },
  {
   "cell_type": "markdown",
   "metadata": {},
   "source": [
    "Запишем в таблицу клиентов у которых установлен не оптимальный тариф (определяем по флажку)"
   ]
  },
  {
   "cell_type": "code",
   "execution_count": 90,
   "metadata": {},
   "outputs": [],
   "source": [
    "cost_final = cost_comparison.query('plans_match == False')"
   ]
  },
  {
   "cell_type": "markdown",
   "metadata": {},
   "source": [
    "Получим список клиентов у кого установлен не оптимальный тариф"
   ]
  },
  {
   "cell_type": "code",
   "execution_count": 91,
   "metadata": {},
   "outputs": [
    {
     "data": {
      "text/plain": [
       "0      166377\n",
       "4      166406\n",
       "5      166407\n",
       "6      166428\n",
       "10     166495\n",
       "        ...  \n",
       "124    167543\n",
       "128    167621\n",
       "130    167634\n",
       "132    167654\n",
       "134    167716\n",
       "Name: user_id, Length: 69, dtype: int64"
      ]
     },
     "execution_count": 91,
     "metadata": {},
     "output_type": "execute_result"
    }
   ],
   "source": [
    "list_user = cost_comparison.query('plans_match == False')['user_id']\n",
    "list_user"
   ]
  },
  {
   "cell_type": "markdown",
   "metadata": {},
   "source": [
    "**ВЫВОД**\n",
    "\n",
    "После анализа данных мы можем определить, у каких клиентов установлен оптимальный тариф, а у других клиентов может потребоваться рекомендация по смене тарифного плана."
   ]
  },
  {
   "cell_type": "markdown",
   "metadata": {},
   "source": [
    "#### Переплаты активных пользователей"
   ]
  },
  {
   "cell_type": "code",
   "execution_count": 92,
   "metadata": {},
   "outputs": [
    {
     "data": {
      "text/html": [
       "<div>\n",
       "<style scoped>\n",
       "    .dataframe tbody tr th:only-of-type {\n",
       "        vertical-align: middle;\n",
       "    }\n",
       "\n",
       "    .dataframe tbody tr th {\n",
       "        vertical-align: top;\n",
       "    }\n",
       "\n",
       "    .dataframe thead th {\n",
       "        text-align: right;\n",
       "    }\n",
       "</style>\n",
       "<table border=\"1\" class=\"dataframe\">\n",
       "  <thead>\n",
       "    <tr style=\"text-align: right;\">\n",
       "      <th></th>\n",
       "      <th>user_id</th>\n",
       "      <th>plans_match</th>\n",
       "    </tr>\n",
       "  </thead>\n",
       "  <tbody>\n",
       "    <tr>\n",
       "      <th>0</th>\n",
       "      <td>166377</td>\n",
       "      <td>0.50</td>\n",
       "    </tr>\n",
       "    <tr>\n",
       "      <th>1</th>\n",
       "      <td>166391</td>\n",
       "      <td>1.00</td>\n",
       "    </tr>\n",
       "    <tr>\n",
       "      <th>2</th>\n",
       "      <td>166392</td>\n",
       "      <td>1.00</td>\n",
       "    </tr>\n",
       "    <tr>\n",
       "      <th>3</th>\n",
       "      <td>166405</td>\n",
       "      <td>0.25</td>\n",
       "    </tr>\n",
       "    <tr>\n",
       "      <th>4</th>\n",
       "      <td>166406</td>\n",
       "      <td>0.00</td>\n",
       "    </tr>\n",
       "    <tr>\n",
       "      <th>...</th>\n",
       "      <td>...</td>\n",
       "      <td>...</td>\n",
       "    </tr>\n",
       "    <tr>\n",
       "      <th>134</th>\n",
       "      <td>167716</td>\n",
       "      <td>0.00</td>\n",
       "    </tr>\n",
       "    <tr>\n",
       "      <th>135</th>\n",
       "      <td>167721</td>\n",
       "      <td>1.00</td>\n",
       "    </tr>\n",
       "    <tr>\n",
       "      <th>136</th>\n",
       "      <td>167727</td>\n",
       "      <td>1.00</td>\n",
       "    </tr>\n",
       "    <tr>\n",
       "      <th>137</th>\n",
       "      <td>167744</td>\n",
       "      <td>1.00</td>\n",
       "    </tr>\n",
       "    <tr>\n",
       "      <th>138</th>\n",
       "      <td>167781</td>\n",
       "      <td>1.00</td>\n",
       "    </tr>\n",
       "  </tbody>\n",
       "</table>\n",
       "<p>139 rows × 2 columns</p>\n",
       "</div>"
      ],
      "text/plain": [
       "     user_id  plans_match\n",
       "0     166377         0.50\n",
       "1     166391         1.00\n",
       "2     166392         1.00\n",
       "3     166405         0.25\n",
       "4     166406         0.00\n",
       "..       ...          ...\n",
       "134   167716         0.00\n",
       "135   167721         1.00\n",
       "136   167727         1.00\n",
       "137   167744         1.00\n",
       "138   167781         1.00\n",
       "\n",
       "[139 rows x 2 columns]"
      ]
     },
     "execution_count": 92,
     "metadata": {},
     "output_type": "execute_result"
    }
   ],
   "source": [
    "users_match_plan_count = (costs_full.query('user_id in @active_users_ids').groupby(by='user_id', as_index=False)\n",
    "                                                                                              .agg({'plans_match':'mean'}))\n",
    "users_match_plan_count"
   ]
  },
  {
   "cell_type": "code",
   "execution_count": 93,
   "metadata": {},
   "outputs": [
    {
     "data": {
      "text/html": [
       "<div>\n",
       "<style scoped>\n",
       "    .dataframe tbody tr th:only-of-type {\n",
       "        vertical-align: middle;\n",
       "    }\n",
       "\n",
       "    .dataframe tbody tr th {\n",
       "        vertical-align: top;\n",
       "    }\n",
       "\n",
       "    .dataframe thead tr th {\n",
       "        text-align: left;\n",
       "    }\n",
       "</style>\n",
       "<table border=\"1\" class=\"dataframe\">\n",
       "  <thead>\n",
       "    <tr>\n",
       "      <th></th>\n",
       "      <th>user_id</th>\n",
       "      <th colspan=\"2\" halign=\"left\">plans_match</th>\n",
       "    </tr>\n",
       "    <tr>\n",
       "      <th></th>\n",
       "      <th></th>\n",
       "      <th>sum</th>\n",
       "      <th>count</th>\n",
       "    </tr>\n",
       "  </thead>\n",
       "  <tbody>\n",
       "    <tr>\n",
       "      <th>0</th>\n",
       "      <td>166377</td>\n",
       "      <td>2</td>\n",
       "      <td>4</td>\n",
       "    </tr>\n",
       "    <tr>\n",
       "      <th>1</th>\n",
       "      <td>166391</td>\n",
       "      <td>4</td>\n",
       "      <td>4</td>\n",
       "    </tr>\n",
       "    <tr>\n",
       "      <th>2</th>\n",
       "      <td>166392</td>\n",
       "      <td>4</td>\n",
       "      <td>4</td>\n",
       "    </tr>\n",
       "    <tr>\n",
       "      <th>3</th>\n",
       "      <td>166405</td>\n",
       "      <td>1</td>\n",
       "      <td>4</td>\n",
       "    </tr>\n",
       "    <tr>\n",
       "      <th>4</th>\n",
       "      <td>166406</td>\n",
       "      <td>0</td>\n",
       "      <td>4</td>\n",
       "    </tr>\n",
       "    <tr>\n",
       "      <th>...</th>\n",
       "      <td>...</td>\n",
       "      <td>...</td>\n",
       "      <td>...</td>\n",
       "    </tr>\n",
       "    <tr>\n",
       "      <th>134</th>\n",
       "      <td>167716</td>\n",
       "      <td>0</td>\n",
       "      <td>3</td>\n",
       "    </tr>\n",
       "    <tr>\n",
       "      <th>135</th>\n",
       "      <td>167721</td>\n",
       "      <td>3</td>\n",
       "      <td>3</td>\n",
       "    </tr>\n",
       "    <tr>\n",
       "      <th>136</th>\n",
       "      <td>167727</td>\n",
       "      <td>3</td>\n",
       "      <td>3</td>\n",
       "    </tr>\n",
       "    <tr>\n",
       "      <th>137</th>\n",
       "      <td>167744</td>\n",
       "      <td>3</td>\n",
       "      <td>3</td>\n",
       "    </tr>\n",
       "    <tr>\n",
       "      <th>138</th>\n",
       "      <td>167781</td>\n",
       "      <td>3</td>\n",
       "      <td>3</td>\n",
       "    </tr>\n",
       "  </tbody>\n",
       "</table>\n",
       "<p>139 rows × 3 columns</p>\n",
       "</div>"
      ],
      "text/plain": [
       "    user_id plans_match      \n",
       "                    sum count\n",
       "0    166377           2     4\n",
       "1    166391           4     4\n",
       "2    166392           4     4\n",
       "3    166405           1     4\n",
       "4    166406           0     4\n",
       "..      ...         ...   ...\n",
       "134  167716           0     3\n",
       "135  167721           3     3\n",
       "136  167727           3     3\n",
       "137  167744           3     3\n",
       "138  167781           3     3\n",
       "\n",
       "[139 rows x 3 columns]"
      ]
     },
     "execution_count": 93,
     "metadata": {},
     "output_type": "execute_result"
    }
   ],
   "source": [
    "users_match_plan_count1 = (costs_full.query('user_id in @active_users_ids').groupby(by='user_id', as_index=False)\n",
    "                                                                               .agg({'plans_match':['sum', 'count']}))\n",
    "users_match_plan_count1"
   ]
  },
  {
   "cell_type": "code",
   "execution_count": 94,
   "metadata": {},
   "outputs": [
    {
     "data": {
      "text/plain": [
       "0.00      64\n",
       "100.00    58\n",
       "66.67      8\n",
       "75.00      3\n",
       "50.00      2\n",
       "33.33      2\n",
       "25.00      2\n",
       "Name: plans_match, dtype: int64"
      ]
     },
     "execution_count": 94,
     "metadata": {},
     "output_type": "execute_result"
    }
   ],
   "source": [
    "users_match_plan_count['plans_match'] = round(100 * users_match_plan_count['plans_match'], 2)\n",
    "\n",
    "users_match_plan_count['plans_match'].value_counts()"
   ]
  },
  {
   "cell_type": "code",
   "execution_count": 95,
   "metadata": {},
   "outputs": [
    {
     "data": {
      "text/html": [
       "<div>\n",
       "<style scoped>\n",
       "    .dataframe tbody tr th:only-of-type {\n",
       "        vertical-align: middle;\n",
       "    }\n",
       "\n",
       "    .dataframe tbody tr th {\n",
       "        vertical-align: top;\n",
       "    }\n",
       "\n",
       "    .dataframe thead th {\n",
       "        text-align: right;\n",
       "    }\n",
       "</style>\n",
       "<table border=\"1\" class=\"dataframe\">\n",
       "  <thead>\n",
       "    <tr style=\"text-align: right;\">\n",
       "      <th></th>\n",
       "      <th>user_id</th>\n",
       "      <th>plans_match</th>\n",
       "    </tr>\n",
       "  </thead>\n",
       "  <tbody>\n",
       "    <tr>\n",
       "      <th>0</th>\n",
       "      <td>166377</td>\n",
       "      <td>0.50</td>\n",
       "    </tr>\n",
       "    <tr>\n",
       "      <th>1</th>\n",
       "      <td>166391</td>\n",
       "      <td>1.00</td>\n",
       "    </tr>\n",
       "    <tr>\n",
       "      <th>2</th>\n",
       "      <td>166392</td>\n",
       "      <td>1.00</td>\n",
       "    </tr>\n",
       "    <tr>\n",
       "      <th>3</th>\n",
       "      <td>166405</td>\n",
       "      <td>0.25</td>\n",
       "    </tr>\n",
       "    <tr>\n",
       "      <th>4</th>\n",
       "      <td>166406</td>\n",
       "      <td>0.00</td>\n",
       "    </tr>\n",
       "    <tr>\n",
       "      <th>...</th>\n",
       "      <td>...</td>\n",
       "      <td>...</td>\n",
       "    </tr>\n",
       "    <tr>\n",
       "      <th>134</th>\n",
       "      <td>167716</td>\n",
       "      <td>0.00</td>\n",
       "    </tr>\n",
       "    <tr>\n",
       "      <th>135</th>\n",
       "      <td>167721</td>\n",
       "      <td>1.00</td>\n",
       "    </tr>\n",
       "    <tr>\n",
       "      <th>136</th>\n",
       "      <td>167727</td>\n",
       "      <td>1.00</td>\n",
       "    </tr>\n",
       "    <tr>\n",
       "      <th>137</th>\n",
       "      <td>167744</td>\n",
       "      <td>1.00</td>\n",
       "    </tr>\n",
       "    <tr>\n",
       "      <th>138</th>\n",
       "      <td>167781</td>\n",
       "      <td>1.00</td>\n",
       "    </tr>\n",
       "  </tbody>\n",
       "</table>\n",
       "<p>139 rows × 2 columns</p>\n",
       "</div>"
      ],
      "text/plain": [
       "     user_id  plans_match\n",
       "0     166377         0.50\n",
       "1     166391         1.00\n",
       "2     166392         1.00\n",
       "3     166405         0.25\n",
       "4     166406         0.00\n",
       "..       ...          ...\n",
       "134   167716         0.00\n",
       "135   167721         1.00\n",
       "136   167727         1.00\n",
       "137   167744         1.00\n",
       "138   167781         1.00\n",
       "\n",
       "[139 rows x 2 columns]"
      ]
     },
     "execution_count": 95,
     "metadata": {},
     "output_type": "execute_result"
    }
   ],
   "source": [
    "users_match_plan_count = (costs_full.query('user_id in @active_users_ids').groupby(by='user_id', as_index=False)\n",
    "                                                                                              .agg({'plans_match':'mean'}))\n",
    "users_match_plan_count"
   ]
  },
  {
   "cell_type": "code",
   "execution_count": 96,
   "metadata": {},
   "outputs": [
    {
     "data": {
      "text/html": [
       "<div>\n",
       "<style scoped>\n",
       "    .dataframe tbody tr th:only-of-type {\n",
       "        vertical-align: middle;\n",
       "    }\n",
       "\n",
       "    .dataframe tbody tr th {\n",
       "        vertical-align: top;\n",
       "    }\n",
       "\n",
       "    .dataframe thead tr th {\n",
       "        text-align: left;\n",
       "    }\n",
       "</style>\n",
       "<table border=\"1\" class=\"dataframe\">\n",
       "  <thead>\n",
       "    <tr>\n",
       "      <th></th>\n",
       "      <th>user_id</th>\n",
       "      <th colspan=\"2\" halign=\"left\">plans_match</th>\n",
       "    </tr>\n",
       "    <tr>\n",
       "      <th></th>\n",
       "      <th></th>\n",
       "      <th>sum</th>\n",
       "      <th>count</th>\n",
       "    </tr>\n",
       "  </thead>\n",
       "  <tbody>\n",
       "    <tr>\n",
       "      <th>0</th>\n",
       "      <td>166377</td>\n",
       "      <td>2</td>\n",
       "      <td>4</td>\n",
       "    </tr>\n",
       "    <tr>\n",
       "      <th>1</th>\n",
       "      <td>166391</td>\n",
       "      <td>4</td>\n",
       "      <td>4</td>\n",
       "    </tr>\n",
       "    <tr>\n",
       "      <th>2</th>\n",
       "      <td>166392</td>\n",
       "      <td>4</td>\n",
       "      <td>4</td>\n",
       "    </tr>\n",
       "    <tr>\n",
       "      <th>3</th>\n",
       "      <td>166405</td>\n",
       "      <td>1</td>\n",
       "      <td>4</td>\n",
       "    </tr>\n",
       "    <tr>\n",
       "      <th>4</th>\n",
       "      <td>166406</td>\n",
       "      <td>0</td>\n",
       "      <td>4</td>\n",
       "    </tr>\n",
       "    <tr>\n",
       "      <th>...</th>\n",
       "      <td>...</td>\n",
       "      <td>...</td>\n",
       "      <td>...</td>\n",
       "    </tr>\n",
       "    <tr>\n",
       "      <th>134</th>\n",
       "      <td>167716</td>\n",
       "      <td>0</td>\n",
       "      <td>3</td>\n",
       "    </tr>\n",
       "    <tr>\n",
       "      <th>135</th>\n",
       "      <td>167721</td>\n",
       "      <td>3</td>\n",
       "      <td>3</td>\n",
       "    </tr>\n",
       "    <tr>\n",
       "      <th>136</th>\n",
       "      <td>167727</td>\n",
       "      <td>3</td>\n",
       "      <td>3</td>\n",
       "    </tr>\n",
       "    <tr>\n",
       "      <th>137</th>\n",
       "      <td>167744</td>\n",
       "      <td>3</td>\n",
       "      <td>3</td>\n",
       "    </tr>\n",
       "    <tr>\n",
       "      <th>138</th>\n",
       "      <td>167781</td>\n",
       "      <td>3</td>\n",
       "      <td>3</td>\n",
       "    </tr>\n",
       "  </tbody>\n",
       "</table>\n",
       "<p>139 rows × 3 columns</p>\n",
       "</div>"
      ],
      "text/plain": [
       "    user_id plans_match      \n",
       "                    sum count\n",
       "0    166377           2     4\n",
       "1    166391           4     4\n",
       "2    166392           4     4\n",
       "3    166405           1     4\n",
       "4    166406           0     4\n",
       "..      ...         ...   ...\n",
       "134  167716           0     3\n",
       "135  167721           3     3\n",
       "136  167727           3     3\n",
       "137  167744           3     3\n",
       "138  167781           3     3\n",
       "\n",
       "[139 rows x 3 columns]"
      ]
     },
     "execution_count": 96,
     "metadata": {},
     "output_type": "execute_result"
    }
   ],
   "source": [
    "users_match_plan_count1 = (costs_full.query('user_id in @active_users_ids').groupby(by='user_id', as_index=False)\n",
    "                                                                               .agg({'plans_match':['sum', 'count']}))\n",
    "users_match_plan_count1"
   ]
  },
  {
   "cell_type": "code",
   "execution_count": 97,
   "metadata": {},
   "outputs": [
    {
     "data": {
      "text/plain": [
       "0.00      64\n",
       "100.00    58\n",
       "66.67      8\n",
       "75.00      3\n",
       "50.00      2\n",
       "33.33      2\n",
       "25.00      2\n",
       "Name: plans_match, dtype: int64"
      ]
     },
     "execution_count": 97,
     "metadata": {},
     "output_type": "execute_result"
    }
   ],
   "source": [
    "users_match_plan_count['plans_match'] = round(100 * users_match_plan_count['plans_match'], 2)\n",
    "\n",
    "users_match_plan_count['plans_match'].value_counts()"
   ]
  },
  {
   "cell_type": "code",
   "execution_count": 98,
   "metadata": {},
   "outputs": [],
   "source": [
    "#len(users_match_plan_count)"
   ]
  },
  {
   "cell_type": "code",
   "execution_count": 99,
   "metadata": {},
   "outputs": [
    {
     "data": {
      "text/html": [
       "<div>\n",
       "<style scoped>\n",
       "    .dataframe tbody tr th:only-of-type {\n",
       "        vertical-align: middle;\n",
       "    }\n",
       "\n",
       "    .dataframe tbody tr th {\n",
       "        vertical-align: top;\n",
       "    }\n",
       "\n",
       "    .dataframe thead th {\n",
       "        text-align: right;\n",
       "    }\n",
       "</style>\n",
       "<table border=\"1\" class=\"dataframe\">\n",
       "  <thead>\n",
       "    <tr style=\"text-align: right;\">\n",
       "      <th></th>\n",
       "      <th>user_id</th>\n",
       "      <th>month</th>\n",
       "      <th>total_cost_A</th>\n",
       "      <th>total_cost_B</th>\n",
       "      <th>total_cost_C</th>\n",
       "      <th>tariff_plan_actual</th>\n",
       "      <th>tariff_plan_optimal</th>\n",
       "      <th>cost_optimal</th>\n",
       "      <th>plans_match</th>\n",
       "      <th>cost_actual</th>\n",
       "    </tr>\n",
       "  </thead>\n",
       "  <tbody>\n",
       "    <tr>\n",
       "      <th>0</th>\n",
       "      <td>166377</td>\n",
       "      <td>8</td>\n",
       "      <td>4640.145</td>\n",
       "      <td>3400.241667</td>\n",
       "      <td>3410.818333</td>\n",
       "      <td>B</td>\n",
       "      <td>B</td>\n",
       "      <td>3400.241667</td>\n",
       "      <td>True</td>\n",
       "      <td>3400.241667</td>\n",
       "    </tr>\n",
       "    <tr>\n",
       "      <th>1</th>\n",
       "      <td>166377</td>\n",
       "      <td>9</td>\n",
       "      <td>4729.175</td>\n",
       "      <td>3481.958333</td>\n",
       "      <td>3434.786667</td>\n",
       "      <td>B</td>\n",
       "      <td>C</td>\n",
       "      <td>3434.786667</td>\n",
       "      <td>False</td>\n",
       "      <td>3481.958333</td>\n",
       "    </tr>\n",
       "    <tr>\n",
       "      <th>2</th>\n",
       "      <td>166377</td>\n",
       "      <td>10</td>\n",
       "      <td>4746.035</td>\n",
       "      <td>3576.725000</td>\n",
       "      <td>3657.440000</td>\n",
       "      <td>B</td>\n",
       "      <td>B</td>\n",
       "      <td>3576.725000</td>\n",
       "      <td>True</td>\n",
       "      <td>3576.725000</td>\n",
       "    </tr>\n",
       "    <tr>\n",
       "      <th>3</th>\n",
       "      <td>166377</td>\n",
       "      <td>11</td>\n",
       "      <td>4676.920</td>\n",
       "      <td>3394.866667</td>\n",
       "      <td>3313.448333</td>\n",
       "      <td>B</td>\n",
       "      <td>C</td>\n",
       "      <td>3313.448333</td>\n",
       "      <td>False</td>\n",
       "      <td>3394.866667</td>\n",
       "    </tr>\n",
       "    <tr>\n",
       "      <th>4</th>\n",
       "      <td>166391</td>\n",
       "      <td>8</td>\n",
       "      <td>4100.000</td>\n",
       "      <td>2300.000000</td>\n",
       "      <td>1600.035000</td>\n",
       "      <td>C</td>\n",
       "      <td>C</td>\n",
       "      <td>1600.035000</td>\n",
       "      <td>True</td>\n",
       "      <td>1600.035000</td>\n",
       "    </tr>\n",
       "    <tr>\n",
       "      <th>...</th>\n",
       "      <td>...</td>\n",
       "      <td>...</td>\n",
       "      <td>...</td>\n",
       "      <td>...</td>\n",
       "      <td>...</td>\n",
       "      <td>...</td>\n",
       "      <td>...</td>\n",
       "      <td>...</td>\n",
       "      <td>...</td>\n",
       "      <td>...</td>\n",
       "    </tr>\n",
       "    <tr>\n",
       "      <th>783</th>\n",
       "      <td>168583</td>\n",
       "      <td>11</td>\n",
       "      <td>4100.000</td>\n",
       "      <td>2300.000000</td>\n",
       "      <td>1600.000000</td>\n",
       "      <td>B</td>\n",
       "      <td>C</td>\n",
       "      <td>1600.000000</td>\n",
       "      <td>False</td>\n",
       "      <td>2300.000000</td>\n",
       "    </tr>\n",
       "    <tr>\n",
       "      <th>784</th>\n",
       "      <td>168598</td>\n",
       "      <td>11</td>\n",
       "      <td>4050.000</td>\n",
       "      <td>2150.000000</td>\n",
       "      <td>1300.000000</td>\n",
       "      <td>C</td>\n",
       "      <td>C</td>\n",
       "      <td>1300.000000</td>\n",
       "      <td>True</td>\n",
       "      <td>1300.000000</td>\n",
       "    </tr>\n",
       "    <tr>\n",
       "      <th>785</th>\n",
       "      <td>168601</td>\n",
       "      <td>11</td>\n",
       "      <td>4265.960</td>\n",
       "      <td>2576.600000</td>\n",
       "      <td>1987.240000</td>\n",
       "      <td>C</td>\n",
       "      <td>C</td>\n",
       "      <td>1987.240000</td>\n",
       "      <td>True</td>\n",
       "      <td>1987.240000</td>\n",
       "    </tr>\n",
       "    <tr>\n",
       "      <th>786</th>\n",
       "      <td>168603</td>\n",
       "      <td>11</td>\n",
       "      <td>4055.935</td>\n",
       "      <td>2159.891667</td>\n",
       "      <td>1313.848333</td>\n",
       "      <td>B</td>\n",
       "      <td>C</td>\n",
       "      <td>1313.848333</td>\n",
       "      <td>False</td>\n",
       "      <td>2159.891667</td>\n",
       "    </tr>\n",
       "    <tr>\n",
       "      <th>787</th>\n",
       "      <td>168606</td>\n",
       "      <td>11</td>\n",
       "      <td>4054.805</td>\n",
       "      <td>2158.008333</td>\n",
       "      <td>1329.981667</td>\n",
       "      <td>C</td>\n",
       "      <td>C</td>\n",
       "      <td>1329.981667</td>\n",
       "      <td>True</td>\n",
       "      <td>1329.981667</td>\n",
       "    </tr>\n",
       "  </tbody>\n",
       "</table>\n",
       "<p>788 rows × 10 columns</p>\n",
       "</div>"
      ],
      "text/plain": [
       "     user_id  month  total_cost_A  total_cost_B  total_cost_C  \\\n",
       "0     166377      8      4640.145   3400.241667   3410.818333   \n",
       "1     166377      9      4729.175   3481.958333   3434.786667   \n",
       "2     166377     10      4746.035   3576.725000   3657.440000   \n",
       "3     166377     11      4676.920   3394.866667   3313.448333   \n",
       "4     166391      8      4100.000   2300.000000   1600.035000   \n",
       "..       ...    ...           ...           ...           ...   \n",
       "783   168583     11      4100.000   2300.000000   1600.000000   \n",
       "784   168598     11      4050.000   2150.000000   1300.000000   \n",
       "785   168601     11      4265.960   2576.600000   1987.240000   \n",
       "786   168603     11      4055.935   2159.891667   1313.848333   \n",
       "787   168606     11      4054.805   2158.008333   1329.981667   \n",
       "\n",
       "    tariff_plan_actual tariff_plan_optimal  cost_optimal  plans_match  \\\n",
       "0                    B                   B   3400.241667         True   \n",
       "1                    B                   C   3434.786667        False   \n",
       "2                    B                   B   3576.725000         True   \n",
       "3                    B                   C   3313.448333        False   \n",
       "4                    C                   C   1600.035000         True   \n",
       "..                 ...                 ...           ...          ...   \n",
       "783                  B                   C   1600.000000        False   \n",
       "784                  C                   C   1300.000000         True   \n",
       "785                  C                   C   1987.240000         True   \n",
       "786                  B                   C   1313.848333        False   \n",
       "787                  C                   C   1329.981667         True   \n",
       "\n",
       "     cost_actual  \n",
       "0    3400.241667  \n",
       "1    3481.958333  \n",
       "2    3576.725000  \n",
       "3    3394.866667  \n",
       "4    1600.035000  \n",
       "..           ...  \n",
       "783  2300.000000  \n",
       "784  1300.000000  \n",
       "785  1987.240000  \n",
       "786  2159.891667  \n",
       "787  1329.981667  \n",
       "\n",
       "[788 rows x 10 columns]"
      ]
     },
     "execution_count": 99,
     "metadata": {},
     "output_type": "execute_result"
    }
   ],
   "source": [
    "costs_full"
   ]
  },
  {
   "cell_type": "code",
   "execution_count": 100,
   "metadata": {},
   "outputs": [
    {
     "data": {
      "text/plain": [
       "788"
      ]
     },
     "execution_count": 100,
     "metadata": {},
     "output_type": "execute_result"
    }
   ],
   "source": [
    "costs_full['plans_match'].count()"
   ]
  },
  {
   "cell_type": "code",
   "execution_count": 101,
   "metadata": {},
   "outputs": [
    {
     "data": {
      "text/plain": [
       "306"
      ]
     },
     "execution_count": 101,
     "metadata": {},
     "output_type": "execute_result"
    }
   ],
   "source": [
    "costs_full['user_id'].value_counts().count()"
   ]
  },
  {
   "cell_type": "markdown",
   "metadata": {},
   "source": [
    "Добавим столбец с ценой, которую клиент заплатит в реальности в соответствии со своим тарифом, и подсчитаем разницу."
   ]
  },
  {
   "cell_type": "code",
   "execution_count": 102,
   "metadata": {},
   "outputs": [
    {
     "data": {
      "text/html": [
       "<div>\n",
       "<style scoped>\n",
       "    .dataframe tbody tr th:only-of-type {\n",
       "        vertical-align: middle;\n",
       "    }\n",
       "\n",
       "    .dataframe tbody tr th {\n",
       "        vertical-align: top;\n",
       "    }\n",
       "\n",
       "    .dataframe thead th {\n",
       "        text-align: right;\n",
       "    }\n",
       "</style>\n",
       "<table border=\"1\" class=\"dataframe\">\n",
       "  <thead>\n",
       "    <tr style=\"text-align: right;\">\n",
       "      <th></th>\n",
       "      <th>user_id</th>\n",
       "      <th>month</th>\n",
       "      <th>total_cost_A</th>\n",
       "      <th>total_cost_B</th>\n",
       "      <th>total_cost_C</th>\n",
       "      <th>tariff_plan_actual</th>\n",
       "      <th>tariff_plan_optimal</th>\n",
       "      <th>cost_optimal</th>\n",
       "      <th>plans_match</th>\n",
       "      <th>cost_actual</th>\n",
       "    </tr>\n",
       "  </thead>\n",
       "  <tbody>\n",
       "    <tr>\n",
       "      <th>0</th>\n",
       "      <td>166377</td>\n",
       "      <td>8</td>\n",
       "      <td>4640.145</td>\n",
       "      <td>3400.241667</td>\n",
       "      <td>3410.818333</td>\n",
       "      <td>B</td>\n",
       "      <td>B</td>\n",
       "      <td>3400.241667</td>\n",
       "      <td>True</td>\n",
       "      <td>0</td>\n",
       "    </tr>\n",
       "    <tr>\n",
       "      <th>1</th>\n",
       "      <td>166377</td>\n",
       "      <td>9</td>\n",
       "      <td>4729.175</td>\n",
       "      <td>3481.958333</td>\n",
       "      <td>3434.786667</td>\n",
       "      <td>B</td>\n",
       "      <td>C</td>\n",
       "      <td>3434.786667</td>\n",
       "      <td>False</td>\n",
       "      <td>0</td>\n",
       "    </tr>\n",
       "    <tr>\n",
       "      <th>2</th>\n",
       "      <td>166377</td>\n",
       "      <td>10</td>\n",
       "      <td>4746.035</td>\n",
       "      <td>3576.725000</td>\n",
       "      <td>3657.440000</td>\n",
       "      <td>B</td>\n",
       "      <td>B</td>\n",
       "      <td>3576.725000</td>\n",
       "      <td>True</td>\n",
       "      <td>0</td>\n",
       "    </tr>\n",
       "    <tr>\n",
       "      <th>3</th>\n",
       "      <td>166377</td>\n",
       "      <td>11</td>\n",
       "      <td>4676.920</td>\n",
       "      <td>3394.866667</td>\n",
       "      <td>3313.448333</td>\n",
       "      <td>B</td>\n",
       "      <td>C</td>\n",
       "      <td>3313.448333</td>\n",
       "      <td>False</td>\n",
       "      <td>0</td>\n",
       "    </tr>\n",
       "    <tr>\n",
       "      <th>4</th>\n",
       "      <td>166391</td>\n",
       "      <td>8</td>\n",
       "      <td>4100.000</td>\n",
       "      <td>2300.000000</td>\n",
       "      <td>1600.035000</td>\n",
       "      <td>C</td>\n",
       "      <td>C</td>\n",
       "      <td>1600.035000</td>\n",
       "      <td>True</td>\n",
       "      <td>0</td>\n",
       "    </tr>\n",
       "    <tr>\n",
       "      <th>...</th>\n",
       "      <td>...</td>\n",
       "      <td>...</td>\n",
       "      <td>...</td>\n",
       "      <td>...</td>\n",
       "      <td>...</td>\n",
       "      <td>...</td>\n",
       "      <td>...</td>\n",
       "      <td>...</td>\n",
       "      <td>...</td>\n",
       "      <td>...</td>\n",
       "    </tr>\n",
       "    <tr>\n",
       "      <th>783</th>\n",
       "      <td>168583</td>\n",
       "      <td>11</td>\n",
       "      <td>4100.000</td>\n",
       "      <td>2300.000000</td>\n",
       "      <td>1600.000000</td>\n",
       "      <td>B</td>\n",
       "      <td>C</td>\n",
       "      <td>1600.000000</td>\n",
       "      <td>False</td>\n",
       "      <td>0</td>\n",
       "    </tr>\n",
       "    <tr>\n",
       "      <th>784</th>\n",
       "      <td>168598</td>\n",
       "      <td>11</td>\n",
       "      <td>4050.000</td>\n",
       "      <td>2150.000000</td>\n",
       "      <td>1300.000000</td>\n",
       "      <td>C</td>\n",
       "      <td>C</td>\n",
       "      <td>1300.000000</td>\n",
       "      <td>True</td>\n",
       "      <td>0</td>\n",
       "    </tr>\n",
       "    <tr>\n",
       "      <th>785</th>\n",
       "      <td>168601</td>\n",
       "      <td>11</td>\n",
       "      <td>4265.960</td>\n",
       "      <td>2576.600000</td>\n",
       "      <td>1987.240000</td>\n",
       "      <td>C</td>\n",
       "      <td>C</td>\n",
       "      <td>1987.240000</td>\n",
       "      <td>True</td>\n",
       "      <td>0</td>\n",
       "    </tr>\n",
       "    <tr>\n",
       "      <th>786</th>\n",
       "      <td>168603</td>\n",
       "      <td>11</td>\n",
       "      <td>4055.935</td>\n",
       "      <td>2159.891667</td>\n",
       "      <td>1313.848333</td>\n",
       "      <td>B</td>\n",
       "      <td>C</td>\n",
       "      <td>1313.848333</td>\n",
       "      <td>False</td>\n",
       "      <td>0</td>\n",
       "    </tr>\n",
       "    <tr>\n",
       "      <th>787</th>\n",
       "      <td>168606</td>\n",
       "      <td>11</td>\n",
       "      <td>4054.805</td>\n",
       "      <td>2158.008333</td>\n",
       "      <td>1329.981667</td>\n",
       "      <td>C</td>\n",
       "      <td>C</td>\n",
       "      <td>1329.981667</td>\n",
       "      <td>True</td>\n",
       "      <td>0</td>\n",
       "    </tr>\n",
       "  </tbody>\n",
       "</table>\n",
       "<p>788 rows × 10 columns</p>\n",
       "</div>"
      ],
      "text/plain": [
       "     user_id  month  total_cost_A  total_cost_B  total_cost_C  \\\n",
       "0     166377      8      4640.145   3400.241667   3410.818333   \n",
       "1     166377      9      4729.175   3481.958333   3434.786667   \n",
       "2     166377     10      4746.035   3576.725000   3657.440000   \n",
       "3     166377     11      4676.920   3394.866667   3313.448333   \n",
       "4     166391      8      4100.000   2300.000000   1600.035000   \n",
       "..       ...    ...           ...           ...           ...   \n",
       "783   168583     11      4100.000   2300.000000   1600.000000   \n",
       "784   168598     11      4050.000   2150.000000   1300.000000   \n",
       "785   168601     11      4265.960   2576.600000   1987.240000   \n",
       "786   168603     11      4055.935   2159.891667   1313.848333   \n",
       "787   168606     11      4054.805   2158.008333   1329.981667   \n",
       "\n",
       "    tariff_plan_actual tariff_plan_optimal  cost_optimal  plans_match  \\\n",
       "0                    B                   B   3400.241667         True   \n",
       "1                    B                   C   3434.786667        False   \n",
       "2                    B                   B   3576.725000         True   \n",
       "3                    B                   C   3313.448333        False   \n",
       "4                    C                   C   1600.035000         True   \n",
       "..                 ...                 ...           ...          ...   \n",
       "783                  B                   C   1600.000000        False   \n",
       "784                  C                   C   1300.000000         True   \n",
       "785                  C                   C   1987.240000         True   \n",
       "786                  B                   C   1313.848333        False   \n",
       "787                  C                   C   1329.981667         True   \n",
       "\n",
       "     cost_actual  \n",
       "0              0  \n",
       "1              0  \n",
       "2              0  \n",
       "3              0  \n",
       "4              0  \n",
       "..           ...  \n",
       "783            0  \n",
       "784            0  \n",
       "785            0  \n",
       "786            0  \n",
       "787            0  \n",
       "\n",
       "[788 rows x 10 columns]"
      ]
     },
     "execution_count": 102,
     "metadata": {},
     "output_type": "execute_result"
    }
   ],
   "source": [
    "costs_full['cost_actual'] = 0\n",
    "costs_full"
   ]
  },
  {
   "cell_type": "code",
   "execution_count": 103,
   "metadata": {},
   "outputs": [
    {
     "data": {
      "text/html": [
       "<div>\n",
       "<style scoped>\n",
       "    .dataframe tbody tr th:only-of-type {\n",
       "        vertical-align: middle;\n",
       "    }\n",
       "\n",
       "    .dataframe tbody tr th {\n",
       "        vertical-align: top;\n",
       "    }\n",
       "\n",
       "    .dataframe thead th {\n",
       "        text-align: right;\n",
       "    }\n",
       "</style>\n",
       "<table border=\"1\" class=\"dataframe\">\n",
       "  <thead>\n",
       "    <tr style=\"text-align: right;\">\n",
       "      <th></th>\n",
       "      <th>user_id</th>\n",
       "      <th>month</th>\n",
       "      <th>total_cost_A</th>\n",
       "      <th>total_cost_B</th>\n",
       "      <th>total_cost_C</th>\n",
       "      <th>tariff_plan_actual</th>\n",
       "      <th>tariff_plan_optimal</th>\n",
       "      <th>cost_optimal</th>\n",
       "      <th>plans_match</th>\n",
       "      <th>cost_actual</th>\n",
       "      <th>overpaid</th>\n",
       "    </tr>\n",
       "  </thead>\n",
       "  <tbody>\n",
       "    <tr>\n",
       "      <th>0</th>\n",
       "      <td>166377</td>\n",
       "      <td>8</td>\n",
       "      <td>4640.145</td>\n",
       "      <td>3400.241667</td>\n",
       "      <td>3410.818333</td>\n",
       "      <td>B</td>\n",
       "      <td>B</td>\n",
       "      <td>3400.241667</td>\n",
       "      <td>True</td>\n",
       "      <td>3400.241667</td>\n",
       "      <td>0.000000</td>\n",
       "    </tr>\n",
       "    <tr>\n",
       "      <th>1</th>\n",
       "      <td>166377</td>\n",
       "      <td>9</td>\n",
       "      <td>4729.175</td>\n",
       "      <td>3481.958333</td>\n",
       "      <td>3434.786667</td>\n",
       "      <td>B</td>\n",
       "      <td>C</td>\n",
       "      <td>3434.786667</td>\n",
       "      <td>False</td>\n",
       "      <td>3481.958333</td>\n",
       "      <td>47.171667</td>\n",
       "    </tr>\n",
       "    <tr>\n",
       "      <th>2</th>\n",
       "      <td>166377</td>\n",
       "      <td>10</td>\n",
       "      <td>4746.035</td>\n",
       "      <td>3576.725000</td>\n",
       "      <td>3657.440000</td>\n",
       "      <td>B</td>\n",
       "      <td>B</td>\n",
       "      <td>3576.725000</td>\n",
       "      <td>True</td>\n",
       "      <td>3576.725000</td>\n",
       "      <td>0.000000</td>\n",
       "    </tr>\n",
       "    <tr>\n",
       "      <th>3</th>\n",
       "      <td>166377</td>\n",
       "      <td>11</td>\n",
       "      <td>4676.920</td>\n",
       "      <td>3394.866667</td>\n",
       "      <td>3313.448333</td>\n",
       "      <td>B</td>\n",
       "      <td>C</td>\n",
       "      <td>3313.448333</td>\n",
       "      <td>False</td>\n",
       "      <td>3394.866667</td>\n",
       "      <td>81.418333</td>\n",
       "    </tr>\n",
       "    <tr>\n",
       "      <th>4</th>\n",
       "      <td>166391</td>\n",
       "      <td>8</td>\n",
       "      <td>4100.000</td>\n",
       "      <td>2300.000000</td>\n",
       "      <td>1600.035000</td>\n",
       "      <td>C</td>\n",
       "      <td>C</td>\n",
       "      <td>1600.035000</td>\n",
       "      <td>True</td>\n",
       "      <td>1600.035000</td>\n",
       "      <td>0.000000</td>\n",
       "    </tr>\n",
       "    <tr>\n",
       "      <th>5</th>\n",
       "      <td>166391</td>\n",
       "      <td>9</td>\n",
       "      <td>4050.000</td>\n",
       "      <td>2150.000000</td>\n",
       "      <td>1300.000000</td>\n",
       "      <td>C</td>\n",
       "      <td>C</td>\n",
       "      <td>1300.000000</td>\n",
       "      <td>True</td>\n",
       "      <td>1300.000000</td>\n",
       "      <td>0.000000</td>\n",
       "    </tr>\n",
       "    <tr>\n",
       "      <th>6</th>\n",
       "      <td>166391</td>\n",
       "      <td>10</td>\n",
       "      <td>4000.000</td>\n",
       "      <td>2000.000000</td>\n",
       "      <td>1000.000000</td>\n",
       "      <td>C</td>\n",
       "      <td>C</td>\n",
       "      <td>1000.000000</td>\n",
       "      <td>True</td>\n",
       "      <td>1000.000000</td>\n",
       "      <td>0.000000</td>\n",
       "    </tr>\n",
       "    <tr>\n",
       "      <th>7</th>\n",
       "      <td>166391</td>\n",
       "      <td>11</td>\n",
       "      <td>4050.000</td>\n",
       "      <td>2150.000000</td>\n",
       "      <td>1300.000000</td>\n",
       "      <td>C</td>\n",
       "      <td>C</td>\n",
       "      <td>1300.000000</td>\n",
       "      <td>True</td>\n",
       "      <td>1300.000000</td>\n",
       "      <td>0.000000</td>\n",
       "    </tr>\n",
       "    <tr>\n",
       "      <th>8</th>\n",
       "      <td>166392</td>\n",
       "      <td>8</td>\n",
       "      <td>4100.000</td>\n",
       "      <td>2300.000000</td>\n",
       "      <td>1600.000000</td>\n",
       "      <td>C</td>\n",
       "      <td>C</td>\n",
       "      <td>1600.000000</td>\n",
       "      <td>True</td>\n",
       "      <td>1600.000000</td>\n",
       "      <td>0.000000</td>\n",
       "    </tr>\n",
       "    <tr>\n",
       "      <th>9</th>\n",
       "      <td>166392</td>\n",
       "      <td>9</td>\n",
       "      <td>4100.000</td>\n",
       "      <td>2300.000000</td>\n",
       "      <td>1600.000000</td>\n",
       "      <td>C</td>\n",
       "      <td>C</td>\n",
       "      <td>1600.000000</td>\n",
       "      <td>True</td>\n",
       "      <td>1600.000000</td>\n",
       "      <td>0.000000</td>\n",
       "    </tr>\n",
       "  </tbody>\n",
       "</table>\n",
       "</div>"
      ],
      "text/plain": [
       "   user_id  month  total_cost_A  total_cost_B  total_cost_C  \\\n",
       "0   166377      8      4640.145   3400.241667   3410.818333   \n",
       "1   166377      9      4729.175   3481.958333   3434.786667   \n",
       "2   166377     10      4746.035   3576.725000   3657.440000   \n",
       "3   166377     11      4676.920   3394.866667   3313.448333   \n",
       "4   166391      8      4100.000   2300.000000   1600.035000   \n",
       "5   166391      9      4050.000   2150.000000   1300.000000   \n",
       "6   166391     10      4000.000   2000.000000   1000.000000   \n",
       "7   166391     11      4050.000   2150.000000   1300.000000   \n",
       "8   166392      8      4100.000   2300.000000   1600.000000   \n",
       "9   166392      9      4100.000   2300.000000   1600.000000   \n",
       "\n",
       "  tariff_plan_actual tariff_plan_optimal  cost_optimal  plans_match  \\\n",
       "0                  B                   B   3400.241667         True   \n",
       "1                  B                   C   3434.786667        False   \n",
       "2                  B                   B   3576.725000         True   \n",
       "3                  B                   C   3313.448333        False   \n",
       "4                  C                   C   1600.035000         True   \n",
       "5                  C                   C   1300.000000         True   \n",
       "6                  C                   C   1000.000000         True   \n",
       "7                  C                   C   1300.000000         True   \n",
       "8                  C                   C   1600.000000         True   \n",
       "9                  C                   C   1600.000000         True   \n",
       "\n",
       "   cost_actual   overpaid  \n",
       "0  3400.241667   0.000000  \n",
       "1  3481.958333  47.171667  \n",
       "2  3576.725000   0.000000  \n",
       "3  3394.866667  81.418333  \n",
       "4  1600.035000   0.000000  \n",
       "5  1300.000000   0.000000  \n",
       "6  1000.000000   0.000000  \n",
       "7  1300.000000   0.000000  \n",
       "8  1600.000000   0.000000  \n",
       "9  1600.000000   0.000000  "
      ]
     },
     "execution_count": 103,
     "metadata": {},
     "output_type": "execute_result"
    }
   ],
   "source": [
    "costs_full['cost_actual'] = 0\n",
    "\n",
    "costs_full.loc[costs_full['tariff_plan_actual'] == 'A', \n",
    "               'cost_actual'] = costs_full['total_cost_A']\n",
    "costs_full.loc[costs_full['tariff_plan_actual'] == 'B', \n",
    "               'cost_actual'] = costs_full['total_cost_B']\n",
    "costs_full.loc[costs_full['tariff_plan_actual'] == 'C', \n",
    "               'cost_actual'] = costs_full['total_cost_C']\n",
    "\n",
    "costs_full['overpaid'] = costs_full['cost_actual'] - costs_full['cost_optimal']\n",
    "\n",
    "costs_full.head(10)"
   ]
  },
  {
   "cell_type": "code",
   "execution_count": 104,
   "metadata": {},
   "outputs": [
    {
     "name": "stderr",
     "output_type": "stream",
     "text": [
      "/tmp/ipykernel_63/2723741580.py:1: SettingWithCopyWarning: \n",
      "A value is trying to be set on a copy of a slice from a DataFrame.\n",
      "Try using .loc[row_indexer,col_indexer] = value instead\n",
      "\n",
      "See the caveats in the documentation: https://pandas.pydata.org/pandas-docs/stable/user_guide/indexing.html#returning-a-view-versus-a-copy\n",
      "  cost_final['overpaid'] = cost_final['cost_actual'] - cost_final['cost_optimal']\n"
     ]
    },
    {
     "data": {
      "text/html": [
       "<div>\n",
       "<style scoped>\n",
       "    .dataframe tbody tr th:only-of-type {\n",
       "        vertical-align: middle;\n",
       "    }\n",
       "\n",
       "    .dataframe tbody tr th {\n",
       "        vertical-align: top;\n",
       "    }\n",
       "\n",
       "    .dataframe thead th {\n",
       "        text-align: right;\n",
       "    }\n",
       "</style>\n",
       "<table border=\"1\" class=\"dataframe\">\n",
       "  <thead>\n",
       "    <tr style=\"text-align: right;\">\n",
       "      <th></th>\n",
       "      <th>user_id</th>\n",
       "      <th>total_cost_A</th>\n",
       "      <th>total_cost_B</th>\n",
       "      <th>total_cost_C</th>\n",
       "      <th>cost_actual</th>\n",
       "      <th>tariff_plan</th>\n",
       "      <th>tariff_plan_optimal</th>\n",
       "      <th>cost_optimal</th>\n",
       "      <th>plans_match</th>\n",
       "      <th>overpaid</th>\n",
       "    </tr>\n",
       "  </thead>\n",
       "  <tbody>\n",
       "    <tr>\n",
       "      <th>0</th>\n",
       "      <td>166377</td>\n",
       "      <td>18792.275</td>\n",
       "      <td>13853.791667</td>\n",
       "      <td>13816.493333</td>\n",
       "      <td>13853.791667</td>\n",
       "      <td>B</td>\n",
       "      <td>C</td>\n",
       "      <td>13816.493333</td>\n",
       "      <td>False</td>\n",
       "      <td>37.298333</td>\n",
       "    </tr>\n",
       "    <tr>\n",
       "      <th>4</th>\n",
       "      <td>166406</td>\n",
       "      <td>18579.675</td>\n",
       "      <td>12899.458333</td>\n",
       "      <td>11677.656667</td>\n",
       "      <td>12899.458333</td>\n",
       "      <td>B</td>\n",
       "      <td>C</td>\n",
       "      <td>11677.656667</td>\n",
       "      <td>False</td>\n",
       "      <td>1221.801667</td>\n",
       "    </tr>\n",
       "    <tr>\n",
       "      <th>5</th>\n",
       "      <td>166407</td>\n",
       "      <td>17314.320</td>\n",
       "      <td>11790.533333</td>\n",
       "      <td>11576.916667</td>\n",
       "      <td>17314.320000</td>\n",
       "      <td>A</td>\n",
       "      <td>C</td>\n",
       "      <td>11576.916667</td>\n",
       "      <td>False</td>\n",
       "      <td>5737.403333</td>\n",
       "    </tr>\n",
       "    <tr>\n",
       "      <th>6</th>\n",
       "      <td>166428</td>\n",
       "      <td>16300.000</td>\n",
       "      <td>8900.000000</td>\n",
       "      <td>5800.000000</td>\n",
       "      <td>8900.000000</td>\n",
       "      <td>B</td>\n",
       "      <td>C</td>\n",
       "      <td>5800.000000</td>\n",
       "      <td>False</td>\n",
       "      <td>3100.000000</td>\n",
       "    </tr>\n",
       "    <tr>\n",
       "      <th>10</th>\n",
       "      <td>166495</td>\n",
       "      <td>17257.425</td>\n",
       "      <td>10495.708333</td>\n",
       "      <td>8033.991667</td>\n",
       "      <td>10495.708333</td>\n",
       "      <td>B</td>\n",
       "      <td>C</td>\n",
       "      <td>8033.991667</td>\n",
       "      <td>False</td>\n",
       "      <td>2461.716667</td>\n",
       "    </tr>\n",
       "    <tr>\n",
       "      <th>...</th>\n",
       "      <td>...</td>\n",
       "      <td>...</td>\n",
       "      <td>...</td>\n",
       "      <td>...</td>\n",
       "      <td>...</td>\n",
       "      <td>...</td>\n",
       "      <td>...</td>\n",
       "      <td>...</td>\n",
       "      <td>...</td>\n",
       "      <td>...</td>\n",
       "    </tr>\n",
       "    <tr>\n",
       "      <th>124</th>\n",
       "      <td>167543</td>\n",
       "      <td>12101.300</td>\n",
       "      <td>6302.166667</td>\n",
       "      <td>3603.033333</td>\n",
       "      <td>6302.166667</td>\n",
       "      <td>B</td>\n",
       "      <td>C</td>\n",
       "      <td>3603.033333</td>\n",
       "      <td>False</td>\n",
       "      <td>2699.133333</td>\n",
       "    </tr>\n",
       "    <tr>\n",
       "      <th>128</th>\n",
       "      <td>167621</td>\n",
       "      <td>12150.195</td>\n",
       "      <td>6450.325000</td>\n",
       "      <td>3900.455000</td>\n",
       "      <td>6450.325000</td>\n",
       "      <td>B</td>\n",
       "      <td>C</td>\n",
       "      <td>3900.455000</td>\n",
       "      <td>False</td>\n",
       "      <td>2549.870000</td>\n",
       "    </tr>\n",
       "    <tr>\n",
       "      <th>130</th>\n",
       "      <td>167634</td>\n",
       "      <td>12367.360</td>\n",
       "      <td>6812.266667</td>\n",
       "      <td>4408.158333</td>\n",
       "      <td>12367.360000</td>\n",
       "      <td>A</td>\n",
       "      <td>C</td>\n",
       "      <td>4408.158333</td>\n",
       "      <td>False</td>\n",
       "      <td>7959.201667</td>\n",
       "    </tr>\n",
       "    <tr>\n",
       "      <th>132</th>\n",
       "      <td>167654</td>\n",
       "      <td>13187.280</td>\n",
       "      <td>8445.466667</td>\n",
       "      <td>7053.673333</td>\n",
       "      <td>8445.466667</td>\n",
       "      <td>B</td>\n",
       "      <td>C</td>\n",
       "      <td>7053.673333</td>\n",
       "      <td>False</td>\n",
       "      <td>1391.793333</td>\n",
       "    </tr>\n",
       "    <tr>\n",
       "      <th>134</th>\n",
       "      <td>167716</td>\n",
       "      <td>12424.715</td>\n",
       "      <td>6907.858333</td>\n",
       "      <td>4541.116667</td>\n",
       "      <td>6907.858333</td>\n",
       "      <td>B</td>\n",
       "      <td>C</td>\n",
       "      <td>4541.116667</td>\n",
       "      <td>False</td>\n",
       "      <td>2366.741667</td>\n",
       "    </tr>\n",
       "  </tbody>\n",
       "</table>\n",
       "<p>69 rows × 10 columns</p>\n",
       "</div>"
      ],
      "text/plain": [
       "     user_id  total_cost_A  total_cost_B  total_cost_C   cost_actual  \\\n",
       "0     166377     18792.275  13853.791667  13816.493333  13853.791667   \n",
       "4     166406     18579.675  12899.458333  11677.656667  12899.458333   \n",
       "5     166407     17314.320  11790.533333  11576.916667  17314.320000   \n",
       "6     166428     16300.000   8900.000000   5800.000000   8900.000000   \n",
       "10    166495     17257.425  10495.708333   8033.991667  10495.708333   \n",
       "..       ...           ...           ...           ...           ...   \n",
       "124   167543     12101.300   6302.166667   3603.033333   6302.166667   \n",
       "128   167621     12150.195   6450.325000   3900.455000   6450.325000   \n",
       "130   167634     12367.360   6812.266667   4408.158333  12367.360000   \n",
       "132   167654     13187.280   8445.466667   7053.673333   8445.466667   \n",
       "134   167716     12424.715   6907.858333   4541.116667   6907.858333   \n",
       "\n",
       "    tariff_plan tariff_plan_optimal  cost_optimal  plans_match     overpaid  \n",
       "0             B                   C  13816.493333        False    37.298333  \n",
       "4             B                   C  11677.656667        False  1221.801667  \n",
       "5             A                   C  11576.916667        False  5737.403333  \n",
       "6             B                   C   5800.000000        False  3100.000000  \n",
       "10            B                   C   8033.991667        False  2461.716667  \n",
       "..          ...                 ...           ...          ...          ...  \n",
       "124           B                   C   3603.033333        False  2699.133333  \n",
       "128           B                   C   3900.455000        False  2549.870000  \n",
       "130           A                   C   4408.158333        False  7959.201667  \n",
       "132           B                   C   7053.673333        False  1391.793333  \n",
       "134           B                   C   4541.116667        False  2366.741667  \n",
       "\n",
       "[69 rows x 10 columns]"
      ]
     },
     "execution_count": 104,
     "metadata": {},
     "output_type": "execute_result"
    }
   ],
   "source": [
    "cost_final['overpaid'] = cost_final['cost_actual'] - cost_final['cost_optimal']\n",
    "cost_final"
   ]
  },
  {
   "cell_type": "code",
   "execution_count": 105,
   "metadata": {},
   "outputs": [
    {
     "data": {
      "image/png": "[encoded data removed]",
      "text/plain": [
       "<Figure size 1296x432 with 1 Axes>"
      ]
     },
     "metadata": {},
     "output_type": "display_data"
    }
   ],
   "source": [
    "create_histplot(cost_final, \n",
    "                x='overpaid', \n",
    "                bins=30, \n",
    "                title='Сумма переплаты клиентов')"
   ]
  },
  {
   "cell_type": "code",
   "execution_count": 106,
   "metadata": {},
   "outputs": [
    {
     "data": {
      "text/plain": [
       "count       69.000000\n",
       "mean      3393.757210\n",
       "std       2647.863441\n",
       "min         37.298333\n",
       "25%       1808.735000\n",
       "50%       2550.000000\n",
       "75%       3351.473333\n",
       "max      10472.570000\n",
       "Name: overpaid, dtype: float64"
      ]
     },
     "execution_count": 106,
     "metadata": {},
     "output_type": "execute_result"
    }
   ],
   "source": [
    "cost_final['overpaid'].describe()"
   ]
  },
  {
   "cell_type": "markdown",
   "metadata": {},
   "source": [
    "\n",
    "Как видим, максимальная переплата была аж в 10472 рубля, а медианное значение переплат 3393. "
   ]
  },
  {
   "cell_type": "code",
   "execution_count": 107,
   "metadata": {},
   "outputs": [
    {
     "data": {
      "image/png": "[encoded data removed]",
      "text/plain": [
       "<Figure size 1296x432 with 1 Axes>"
      ]
     },
     "metadata": {},
     "output_type": "display_data"
    }
   ],
   "source": [
    "create_boxplots(cost_final, \n",
    "                x='overpaid', \n",
    "                y='tariff_plan', \n",
    "                order=['A', 'B', 'C'],\n",
    "                title='Месячная переплата у клиентов разных тарифов')"
   ]
  },
  {
   "cell_type": "markdown",
   "metadata": {},
   "source": [
    "Видим, что максимальные перплаты у клиентов на тарифе А, по сравнению с тарифами В и С."
   ]
  },
  {
   "cell_type": "markdown",
   "metadata": {},
   "source": [
    "## Анализ выручки компании"
   ]
  },
  {
   "cell_type": "markdown",
   "metadata": {},
   "source": [
    "### Текущая выручка компании"
   ]
  },
  {
   "cell_type": "markdown",
   "metadata": {},
   "source": [
    "Ввиду того, что необходимо определить на сколько уменьшиться выручка компании, будем смотреть только по активным клиентам"
   ]
  },
  {
   "cell_type": "code",
   "execution_count": 108,
   "metadata": {},
   "outputs": [
    {
     "name": "stdout",
     "output_type": "stream",
     "text": [
      "Текущая выручка за по активным клиентам составит - 748208.67\n"
     ]
    }
   ],
   "source": [
    "revenue_actual = round(cost_final['cost_actual'].sum(), 2)\n",
    "\n",
    "print('Текущая выручка за по активным клиентам составит -', revenue_actual)"
   ]
  },
  {
   "cell_type": "markdown",
   "metadata": {},
   "source": [
    "### Альтернативная выручка компании"
   ]
  },
  {
   "cell_type": "code",
   "execution_count": 109,
   "metadata": {},
   "outputs": [
    {
     "name": "stdout",
     "output_type": "stream",
     "text": [
      "Потенциальная выручка за 3 месяца составит -  1585234.42\n"
     ]
    }
   ],
   "source": [
    "revenue_basic = round(costs_full.query('month > 8 and user_id not in @active_users_ids')['cost_actual'].sum(), 2)\n",
    "\n",
    "revenue_transfered = round(costs_full.query('month > 8 and user_id in @active_users_ids')['cost_optimal']).sum()\n",
    "\n",
    "revenue_opt = revenue_basic + revenue_transfered\n",
    "\n",
    "print('Потенциальная выручка за 3 месяца составит - ', round(revenue_opt, 2))"
   ]
  },
  {
   "cell_type": "code",
   "execution_count": 110,
   "metadata": {},
   "outputs": [
    {
     "name": "stdout",
     "output_type": "stream",
     "text": [
      "Потенциальная выручка по активным клиентам в случае перехода составит - 514039.42\n"
     ]
    }
   ],
   "source": [
    "#Определим какая будет выручка в случае если клиенты перешли бы на оптимальные тарифы\n",
    "revenue_opt = round(cost_final['cost_optimal'].sum(), 2)\n",
    "\n",
    "print('Потенциальная выручка по активным клиентам в случае перехода составит -', revenue_opt)"
   ]
  },
  {
   "cell_type": "code",
   "execution_count": 111,
   "metadata": {},
   "outputs": [
    {
     "data": {
      "text/plain": [
       "0.20617239688752143"
      ]
     },
     "execution_count": 111,
     "metadata": {},
     "output_type": "execute_result"
    }
   ],
   "source": [
    "1 - (revenue_basic + revenue_opt) / (revenue_basic + revenue_transfered)"
   ]
  },
  {
   "cell_type": "markdown",
   "metadata": {},
   "source": [
    "***ВЫВОД***  \n",
    "Потенциальная выручка всех клиентов за 3 месяца составит - 1585234.42. \n",
    "Если мы поменяем тарифы для активных клиентов выручка упадет с 748208.68 до 514039.42 (на 234169,26), а общая выручка компании снизится до 1 351 065,16.  \n",
    "В относительном значении выручка упадет на 20%.\n",
    "\n",
    "\n",
    "\n"
   ]
  },
  {
   "cell_type": "markdown",
   "metadata": {},
   "source": [
    "## Гипотезы"
   ]
  },
  {
   "cell_type": "markdown",
   "metadata": {},
   "source": [
    "Проверим две гипотезы:\n",
    "1. зависимость времени ожидания от тарифного плана:\n",
    "    -  H0 - нет статистически значимой разницы между тарифами по времени ожидания ответа на входящий звонок,\n",
    "    -  H1 - существует статистически значимая разница между разными тарифами по времени ожидания ответа на входящий звонок.\n",
    "2. зависимость количества звонков от дня недели:\n",
    "    - Н0: Количество принятых звонков операторами в  такое же, как и в остальные дни\n",
    "    - Н1: Количество принятых звонков операторами в \"день наиболее загруженный в неделю\" и в остальные дни отличаются"
   ]
  },
  {
   "cell_type": "markdown",
   "metadata": {},
   "source": [
    "Для чего мы рассматриваем даанные гипотезы, начнем по порядку:\n",
    "1. Зависимость времени ожидания от тарифного плана:\n",
    "    * проверяя данную зависимость, мы проверяем, зависимость от времени с ожиданием. в случае если время ожидание зависит от тарифа, тогда колл-центры не рационально используют свои тарифы из-за чего возникает дополнительные траты. Как для мобильного оператора, возмжно, в случае попытки удержания клиента, рассмотреть вариант с бесплатным ожиданием или увеличением лимита времени по тарифам.\n",
    "    \n",
    "    \n",
    "2. Зависимость количества звонков от дня недели\n",
    "    * проверяя данную гипотезу мы проверям есть ли зависимость от дня недели от количества принятых звонков операторами.\n",
    "    * благодоря данной зависимости можно определить загруженость колл-центров в зависимости от дня недели, но как для оператора мобильной сети - это показывает нагрузку на сервера, но и также наиболее длительные разговоры, т.е. возможность рассмотрения каких-либо акций в тарифе для сохранения клиентов"
   ]
  },
  {
   "cell_type": "markdown",
   "metadata": {},
   "source": [
    "### Зависимость времени ожидания от тарифного плана"
   ]
  },
  {
   "cell_type": "code",
   "execution_count": 112,
   "metadata": {},
   "outputs": [
    {
     "data": {
      "text/html": [
       "<div>\n",
       "<style scoped>\n",
       "    .dataframe tbody tr th:only-of-type {\n",
       "        vertical-align: middle;\n",
       "    }\n",
       "\n",
       "    .dataframe tbody tr th {\n",
       "        vertical-align: top;\n",
       "    }\n",
       "\n",
       "    .dataframe thead th {\n",
       "        text-align: right;\n",
       "    }\n",
       "</style>\n",
       "<table border=\"1\" class=\"dataframe\">\n",
       "  <thead>\n",
       "    <tr style=\"text-align: right;\">\n",
       "      <th></th>\n",
       "      <th>user_id</th>\n",
       "      <th>date</th>\n",
       "      <th>direction</th>\n",
       "      <th>internal</th>\n",
       "      <th>operator_id</th>\n",
       "      <th>is_missed_call</th>\n",
       "      <th>calls_count</th>\n",
       "      <th>call_duration_sec</th>\n",
       "      <th>total_call_duration_sec</th>\n",
       "      <th>tariff_plan</th>\n",
       "      <th>date_start</th>\n",
       "      <th>call_duration_min</th>\n",
       "      <th>total_call_duration_min</th>\n",
       "      <th>month</th>\n",
       "      <th>month_name</th>\n",
       "    </tr>\n",
       "  </thead>\n",
       "  <tbody>\n",
       "    <tr>\n",
       "      <th>0</th>\n",
       "      <td>166377</td>\n",
       "      <td>2019-08-04</td>\n",
       "      <td>in</td>\n",
       "      <td>False</td>\n",
       "      <td>&lt;NA&gt;</td>\n",
       "      <td>True</td>\n",
       "      <td>2</td>\n",
       "      <td>0</td>\n",
       "      <td>4</td>\n",
       "      <td>B</td>\n",
       "      <td>2019-08-01</td>\n",
       "      <td>0.000000</td>\n",
       "      <td>0.066667</td>\n",
       "      <td>8</td>\n",
       "      <td>August</td>\n",
       "    </tr>\n",
       "    <tr>\n",
       "      <th>1</th>\n",
       "      <td>166377</td>\n",
       "      <td>2019-08-05</td>\n",
       "      <td>out</td>\n",
       "      <td>True</td>\n",
       "      <td>880022</td>\n",
       "      <td>True</td>\n",
       "      <td>3</td>\n",
       "      <td>0</td>\n",
       "      <td>5</td>\n",
       "      <td>B</td>\n",
       "      <td>2019-08-01</td>\n",
       "      <td>0.000000</td>\n",
       "      <td>0.083333</td>\n",
       "      <td>8</td>\n",
       "      <td>August</td>\n",
       "    </tr>\n",
       "    <tr>\n",
       "      <th>2</th>\n",
       "      <td>166377</td>\n",
       "      <td>2019-08-05</td>\n",
       "      <td>out</td>\n",
       "      <td>True</td>\n",
       "      <td>880020</td>\n",
       "      <td>True</td>\n",
       "      <td>1</td>\n",
       "      <td>0</td>\n",
       "      <td>1</td>\n",
       "      <td>B</td>\n",
       "      <td>2019-08-01</td>\n",
       "      <td>0.000000</td>\n",
       "      <td>0.016667</td>\n",
       "      <td>8</td>\n",
       "      <td>August</td>\n",
       "    </tr>\n",
       "    <tr>\n",
       "      <th>3</th>\n",
       "      <td>166377</td>\n",
       "      <td>2019-08-05</td>\n",
       "      <td>out</td>\n",
       "      <td>True</td>\n",
       "      <td>880020</td>\n",
       "      <td>False</td>\n",
       "      <td>1</td>\n",
       "      <td>10</td>\n",
       "      <td>18</td>\n",
       "      <td>B</td>\n",
       "      <td>2019-08-01</td>\n",
       "      <td>0.166667</td>\n",
       "      <td>0.300000</td>\n",
       "      <td>8</td>\n",
       "      <td>August</td>\n",
       "    </tr>\n",
       "    <tr>\n",
       "      <th>4</th>\n",
       "      <td>166377</td>\n",
       "      <td>2019-08-05</td>\n",
       "      <td>out</td>\n",
       "      <td>False</td>\n",
       "      <td>880022</td>\n",
       "      <td>True</td>\n",
       "      <td>3</td>\n",
       "      <td>0</td>\n",
       "      <td>25</td>\n",
       "      <td>B</td>\n",
       "      <td>2019-08-01</td>\n",
       "      <td>0.000000</td>\n",
       "      <td>0.416667</td>\n",
       "      <td>8</td>\n",
       "      <td>August</td>\n",
       "    </tr>\n",
       "  </tbody>\n",
       "</table>\n",
       "</div>"
      ],
      "text/plain": [
       "   user_id       date direction  internal  operator_id  is_missed_call  \\\n",
       "0   166377 2019-08-04        in     False         <NA>            True   \n",
       "1   166377 2019-08-05       out      True       880022            True   \n",
       "2   166377 2019-08-05       out      True       880020            True   \n",
       "3   166377 2019-08-05       out      True       880020           False   \n",
       "4   166377 2019-08-05       out     False       880022            True   \n",
       "\n",
       "   calls_count  call_duration_sec  total_call_duration_sec tariff_plan  \\\n",
       "0            2                  0                        4           B   \n",
       "1            3                  0                        5           B   \n",
       "2            1                  0                        1           B   \n",
       "3            1                 10                       18           B   \n",
       "4            3                  0                       25           B   \n",
       "\n",
       "  date_start  call_duration_min  total_call_duration_min  month month_name  \n",
       "0 2019-08-01           0.000000                 0.066667      8     August  \n",
       "1 2019-08-01           0.000000                 0.083333      8     August  \n",
       "2 2019-08-01           0.000000                 0.016667      8     August  \n",
       "3 2019-08-01           0.166667                 0.300000      8     August  \n",
       "4 2019-08-01           0.000000                 0.416667      8     August  "
      ]
     },
     "execution_count": 112,
     "metadata": {},
     "output_type": "execute_result"
    }
   ],
   "source": [
    "data.head()"
   ]
  },
  {
   "cell_type": "code",
   "execution_count": 113,
   "metadata": {},
   "outputs": [],
   "source": [
    "# Добавляем столбец, так как  он необходим для проверки гипотез\n",
    "data['waiting_time'] = data['total_call_duration_min'] - data['call_duration_min']\n",
    "data['avg_wait_time_per_call'] = data['waiting_time'] / data['calls_count']"
   ]
  },
  {
   "cell_type": "code",
   "execution_count": 114,
   "metadata": {},
   "outputs": [],
   "source": [
    "sample_A = data[data['tariff_plan'] == 'A']['avg_wait_time_per_call']\n",
    "sample_B = data[data['tariff_plan'] == 'B']['avg_wait_time_per_call']\n",
    "sample_C = data[data['tariff_plan'] == 'C']['avg_wait_time_per_call']"
   ]
  },
  {
   "cell_type": "code",
   "execution_count": 115,
   "metadata": {},
   "outputs": [],
   "source": [
    "# Создадим функцию для теста mannwhitneyu\n",
    "\n",
    "def mannwhitneyu_test(a, b, c):\n",
    "    alpha = 0.05\n",
    "    results_AB_mannwhitneyu = st.mannwhitneyu(sample_A, sample_B)\n",
    "    results_BC_mannwhitneyu = st.mannwhitneyu(sample_B, sample_C)\n",
    "    results_AC_mannwhitneyu = st.mannwhitneyu(sample_A, sample_C)\n",
    "    bonferroni_alpha = alpha / 3  # произведено три сравнения\n",
    "    print('p-значение для сравнения групп А и B: ', results_AB_mannwhitneyu.pvalue)\n",
    "    print('p-значение для сравнения групп B и C: ', results_BC_mannwhitneyu.pvalue)\n",
    "    print('p-значение для сравнения групп А и C: ', results_AC_mannwhitneyu.pvalue)\n",
    "    if (results_AB_mannwhitneyu.pvalue < bonferroni_alpha):\n",
    "        print(\"Отвергаем нулевую гипотезу для сравнения тарифов А и B: разница статистически значима\")\n",
    "    else:\n",
    "        print(\"Не получилось отвергнуть нулевую гипотезу для сравнения тарифов А и B\")\n",
    "\n",
    "    if (results_BC_mannwhitneyu.pvalue < bonferroni_alpha):\n",
    "        print(\"Отвергаем нулевую гипотезу для сравнения тарифов B и C: разница статистически значима\")\n",
    "    else:\n",
    "        print(\"Не получилось отвергнуть нулевую гипотезу для сравнения тарифов B и C\")\n",
    "\n",
    "    if (results_AC_mannwhitneyu.pvalue < bonferroni_alpha):\n",
    "        print(\"Отвергаем нулевую гипотезу для сравнения тарифов А и C: разница статистически значима\")\n",
    "    else:\n",
    "        print(\"Не получилось отвергнуть нулевую гипотезу для сравнения тарифов А и C\")"
   ]
  },
  {
   "cell_type": "code",
   "execution_count": 116,
   "metadata": {},
   "outputs": [
    {
     "name": "stdout",
     "output_type": "stream",
     "text": [
      "p-значение для сравнения групп А и B:  0.00012453752175758885\n",
      "p-значение для сравнения групп B и C:  2.2304294326248526e-13\n",
      "p-значение для сравнения групп А и C:  7.621199589504561e-29\n",
      "Отвергаем нулевую гипотезу для сравнения тарифов А и B: разница статистически значима\n",
      "Отвергаем нулевую гипотезу для сравнения тарифов B и C: разница статистически значима\n",
      "Отвергаем нулевую гипотезу для сравнения тарифов А и C: разница статистически значима\n"
     ]
    }
   ],
   "source": [
    "mannwhitneyu_test(sample_A, sample_B, sample_C)"
   ]
  },
  {
   "cell_type": "markdown",
   "metadata": {},
   "source": [
    "### зависимость количества звонков от дня недели"
   ]
  },
  {
   "cell_type": "markdown",
   "metadata": {},
   "source": [
    "Прежде чем проверить данную гипотезу, определим в какой день недели происходило наибольшее количество звонков."
   ]
  },
  {
   "cell_type": "code",
   "execution_count": 117,
   "metadata": {},
   "outputs": [
    {
     "data": {
      "text/html": [
       "<div>\n",
       "<style scoped>\n",
       "    .dataframe tbody tr th:only-of-type {\n",
       "        vertical-align: middle;\n",
       "    }\n",
       "\n",
       "    .dataframe tbody tr th {\n",
       "        vertical-align: top;\n",
       "    }\n",
       "\n",
       "    .dataframe thead th {\n",
       "        text-align: right;\n",
       "    }\n",
       "</style>\n",
       "<table border=\"1\" class=\"dataframe\">\n",
       "  <thead>\n",
       "    <tr style=\"text-align: right;\">\n",
       "      <th></th>\n",
       "      <th>user_id</th>\n",
       "      <th>date</th>\n",
       "      <th>direction</th>\n",
       "      <th>internal</th>\n",
       "      <th>operator_id</th>\n",
       "      <th>is_missed_call</th>\n",
       "      <th>calls_count</th>\n",
       "      <th>call_duration_sec</th>\n",
       "      <th>total_call_duration_sec</th>\n",
       "      <th>tariff_plan</th>\n",
       "      <th>date_start</th>\n",
       "      <th>call_duration_min</th>\n",
       "      <th>total_call_duration_min</th>\n",
       "      <th>month</th>\n",
       "      <th>month_name</th>\n",
       "      <th>waiting_time</th>\n",
       "      <th>avg_wait_time_per_call</th>\n",
       "      <th>day</th>\n",
       "      <th>weekday</th>\n",
       "    </tr>\n",
       "  </thead>\n",
       "  <tbody>\n",
       "    <tr>\n",
       "      <th>0</th>\n",
       "      <td>166377</td>\n",
       "      <td>2019-08-04</td>\n",
       "      <td>in</td>\n",
       "      <td>False</td>\n",
       "      <td>&lt;NA&gt;</td>\n",
       "      <td>True</td>\n",
       "      <td>2</td>\n",
       "      <td>0</td>\n",
       "      <td>4</td>\n",
       "      <td>B</td>\n",
       "      <td>2019-08-01</td>\n",
       "      <td>0.000000</td>\n",
       "      <td>0.066667</td>\n",
       "      <td>8</td>\n",
       "      <td>August</td>\n",
       "      <td>0.066667</td>\n",
       "      <td>0.033333</td>\n",
       "      <td>4</td>\n",
       "      <td>Sunday</td>\n",
       "    </tr>\n",
       "    <tr>\n",
       "      <th>1</th>\n",
       "      <td>166377</td>\n",
       "      <td>2019-08-05</td>\n",
       "      <td>out</td>\n",
       "      <td>True</td>\n",
       "      <td>880022</td>\n",
       "      <td>True</td>\n",
       "      <td>3</td>\n",
       "      <td>0</td>\n",
       "      <td>5</td>\n",
       "      <td>B</td>\n",
       "      <td>2019-08-01</td>\n",
       "      <td>0.000000</td>\n",
       "      <td>0.083333</td>\n",
       "      <td>8</td>\n",
       "      <td>August</td>\n",
       "      <td>0.083333</td>\n",
       "      <td>0.027778</td>\n",
       "      <td>5</td>\n",
       "      <td>Monday</td>\n",
       "    </tr>\n",
       "    <tr>\n",
       "      <th>2</th>\n",
       "      <td>166377</td>\n",
       "      <td>2019-08-05</td>\n",
       "      <td>out</td>\n",
       "      <td>True</td>\n",
       "      <td>880020</td>\n",
       "      <td>True</td>\n",
       "      <td>1</td>\n",
       "      <td>0</td>\n",
       "      <td>1</td>\n",
       "      <td>B</td>\n",
       "      <td>2019-08-01</td>\n",
       "      <td>0.000000</td>\n",
       "      <td>0.016667</td>\n",
       "      <td>8</td>\n",
       "      <td>August</td>\n",
       "      <td>0.016667</td>\n",
       "      <td>0.016667</td>\n",
       "      <td>5</td>\n",
       "      <td>Monday</td>\n",
       "    </tr>\n",
       "    <tr>\n",
       "      <th>3</th>\n",
       "      <td>166377</td>\n",
       "      <td>2019-08-05</td>\n",
       "      <td>out</td>\n",
       "      <td>True</td>\n",
       "      <td>880020</td>\n",
       "      <td>False</td>\n",
       "      <td>1</td>\n",
       "      <td>10</td>\n",
       "      <td>18</td>\n",
       "      <td>B</td>\n",
       "      <td>2019-08-01</td>\n",
       "      <td>0.166667</td>\n",
       "      <td>0.300000</td>\n",
       "      <td>8</td>\n",
       "      <td>August</td>\n",
       "      <td>0.133333</td>\n",
       "      <td>0.133333</td>\n",
       "      <td>5</td>\n",
       "      <td>Monday</td>\n",
       "    </tr>\n",
       "    <tr>\n",
       "      <th>4</th>\n",
       "      <td>166377</td>\n",
       "      <td>2019-08-05</td>\n",
       "      <td>out</td>\n",
       "      <td>False</td>\n",
       "      <td>880022</td>\n",
       "      <td>True</td>\n",
       "      <td>3</td>\n",
       "      <td>0</td>\n",
       "      <td>25</td>\n",
       "      <td>B</td>\n",
       "      <td>2019-08-01</td>\n",
       "      <td>0.000000</td>\n",
       "      <td>0.416667</td>\n",
       "      <td>8</td>\n",
       "      <td>August</td>\n",
       "      <td>0.416667</td>\n",
       "      <td>0.138889</td>\n",
       "      <td>5</td>\n",
       "      <td>Monday</td>\n",
       "    </tr>\n",
       "  </tbody>\n",
       "</table>\n",
       "</div>"
      ],
      "text/plain": [
       "   user_id       date direction  internal  operator_id  is_missed_call  \\\n",
       "0   166377 2019-08-04        in     False         <NA>            True   \n",
       "1   166377 2019-08-05       out      True       880022            True   \n",
       "2   166377 2019-08-05       out      True       880020            True   \n",
       "3   166377 2019-08-05       out      True       880020           False   \n",
       "4   166377 2019-08-05       out     False       880022            True   \n",
       "\n",
       "   calls_count  call_duration_sec  total_call_duration_sec tariff_plan  \\\n",
       "0            2                  0                        4           B   \n",
       "1            3                  0                        5           B   \n",
       "2            1                  0                        1           B   \n",
       "3            1                 10                       18           B   \n",
       "4            3                  0                       25           B   \n",
       "\n",
       "  date_start  call_duration_min  total_call_duration_min  month month_name  \\\n",
       "0 2019-08-01           0.000000                 0.066667      8     August   \n",
       "1 2019-08-01           0.000000                 0.083333      8     August   \n",
       "2 2019-08-01           0.000000                 0.016667      8     August   \n",
       "3 2019-08-01           0.166667                 0.300000      8     August   \n",
       "4 2019-08-01           0.000000                 0.416667      8     August   \n",
       "\n",
       "   waiting_time  avg_wait_time_per_call  day weekday  \n",
       "0      0.066667                0.033333    4  Sunday  \n",
       "1      0.083333                0.027778    5  Monday  \n",
       "2      0.016667                0.016667    5  Monday  \n",
       "3      0.133333                0.133333    5  Monday  \n",
       "4      0.416667                0.138889    5  Monday  "
      ]
     },
     "execution_count": 117,
     "metadata": {},
     "output_type": "execute_result"
    }
   ],
   "source": [
    "data['day'] = pd.DatetimeIndex(data['date']).day\n",
    "data['weekday'] = data['date'].dt.day_name()\n",
    "data.head()"
   ]
  },
  {
   "cell_type": "code",
   "execution_count": 118,
   "metadata": {},
   "outputs": [
    {
     "data": {
      "text/plain": [
       "Text(0, 0.5, 'Количество звонков')"
      ]
     },
     "execution_count": 118,
     "metadata": {},
     "output_type": "execute_result"
    },
    {
     "data": {
      "image/png": "[encoded data removed]",
      "text/plain": [
       "<Figure size 864x504 with 1 Axes>"
      ]
     },
     "metadata": {},
     "output_type": "display_data"
    }
   ],
   "source": [
    "plt.figure(figsize=(12, 7))\n",
    "ax = sns.histplot(data, x='weekday', multiple='stack')\n",
    "plt.xticks(['Sunday', 'Monday', 'Tuesday', 'Wednesday','Thursday', 'Friday','Saturday'],\n",
    "           ['Воскресенье', 'Понедельник', 'Вторник', 'Среда', 'Четверг', 'Пятница','Суббота'])\n",
    "ax.axes.set_title('Распределение количества звонков по дням недели')\n",
    "ax.set_xlabel('')\n",
    "ax.set_ylabel('Количество звонков')"
   ]
  },
  {
   "cell_type": "markdown",
   "metadata": {},
   "source": [
    "Проверям гипотезу для самого нагруженного дня - **четверг**\n",
    "\n",
    "* Н0: Количество принятых звонков операторами в четверг такое же, как и в остальные дни,\n",
    "\n",
    "* Н1: Количество принятых звонков операторами в четверг и в остальные дни отличаются."
   ]
  },
  {
   "cell_type": "code",
   "execution_count": 119,
   "metadata": {},
   "outputs": [
    {
     "name": "stdout",
     "output_type": "stream",
     "text": [
      "p-значение: 0.98218\n",
      "Не получилось отвергнуть нулевую гипотезу\n"
     ]
    }
   ],
   "source": [
    "alpha = 0.05\n",
    "\n",
    "results = st.mannwhitneyu(\n",
    "    data.query('(weekday==\"Thursday\") and (direction == \"in\") and (is_missed_call == False)')['calls_count'], \n",
    "    data.query('(weekday!=\"Thursday\") and (direction == \"in\") and (is_missed_call == False)')['calls_count'],\n",
    "    )\n",
    "\n",
    "print('p-значение:', round(results.pvalue, 5))\n",
    "\n",
    "if (results.pvalue < alpha):\n",
    "    print(\"Отвергаем нулевую гипотезу\")\n",
    "else:\n",
    "    print(\"Не получилось отвергнуть нулевую гипотезу\")"
   ]
  },
  {
   "cell_type": "markdown",
   "metadata": {},
   "source": [
    "Проверям гипотезу для самого разгруженного дня - **воскресенье**\n",
    "\n",
    "* Н0: Количество принятых звонков операторами в воскресенье такое же, как и в остальные дни,\n",
    "\n",
    "* Н1: Количество принятых звонков операторами в воскресенье и в остальные дни отличаются."
   ]
  },
  {
   "cell_type": "code",
   "execution_count": 120,
   "metadata": {},
   "outputs": [
    {
     "name": "stdout",
     "output_type": "stream",
     "text": [
      "p-значение: 0.94976\n",
      "Не получилось отвергнуть нулевую гипотезу\n"
     ]
    }
   ],
   "source": [
    "alpha = 0.05\n",
    "\n",
    "results = st.mannwhitneyu(\n",
    "    data.query('(weekday==\"Sunday\") and (direction == \"in\") and (is_missed_call == False)')['calls_count'], \n",
    "    data.query('(weekday!=\"Sunday\") and (direction == \"in\") and (is_missed_call == False)')['calls_count'],\n",
    "    )\n",
    "\n",
    "print('p-значение:', round(results.pvalue, 5))\n",
    "\n",
    "if (results.pvalue < alpha):\n",
    "    print(\"Отвергаем нулевую гипотезу\")\n",
    "else:\n",
    "    print(\"Не получилось отвергнуть нулевую гипотезу\")"
   ]
  },
  {
   "cell_type": "markdown",
   "metadata": {},
   "source": [
    "### Вывод"
   ]
  },
  {
   "cell_type": "markdown",
   "metadata": {},
   "source": [
    "1. Результат проверки гипотезы на \"Зависимость времени ожидания от тарифного плана\" показал наличие зависимости времени ожидания в зависимости от тарифа\n",
    "    * что значит для клиента:\n",
    "        - для уменьшения оплаты мобильной связи стоит рассмотреть причину длительного ожидания\n",
    "        - зависимость напрямую идет от тарифного плана, больше лимит, больше модем ждать \n",
    "    * что значит для оператора:\n",
    "        - для удержания данного клиента можно пердложить увеличение лимита по длительности\n",
    "        - также для удержания клиента сделать бесплатное ожидание, либо уменьшить плату в случае ожидания \n",
    "        \n",
    "2. Результат проверки гипотезы на \"Зависимость количества звонков от дня недели\" показал нет зависимости от дня недели по количеству принятых звонков, соответственно, распределение звонков по дня недели равно(одинаково)"
   ]
  },
  {
   "cell_type": "markdown",
   "metadata": {},
   "source": [
    "## ВЫВОД"
   ]
  },
  {
   "cell_type": "markdown",
   "metadata": {},
   "source": [
    "1. Текущий анализ по анализу телефонии проведен в период с **августа 2019** по **ноябрь 2019**\n",
    "2. Из рассматриваемых тарифов можно определить явных лидеров которые пользуются популярностью:\n",
    "    - тариф \"С\" - 161\n",
    "    - тариф \"В\" - 112\n",
    "    - тариф \"А\" - 33\n",
    "3. Пользователи очень разнообразные в независимости от тарифа. Медианное значение количества звонков по месяцам для тарифа А, В и С - 150, 96 и 38 соответсвенно. Больше всего клиенты с Тарифом А совершают звонки.\n",
    "4. Длительность разговоров также зависит от типа тарифа - 172, 87 и 39 для тарифов А, В и С соответственно.\n",
    "5. По результату исследования, наиболее активные клиенты используют тариф А.\n",
    "6. Были отобраны \"активные\" клиенты по параметрам исходя из исследования:\n",
    "    - использование услуг телефонии от 3 месяцев (иначе было сложно оценить на основании 1го или 2х месяцев переплату клиентов, не достаточно выборки для них)\n",
    "    - наличие работающий операторов(в ходе исследования отсутствовали)\n",
    "    - количестов и длительность звонко превышает медианные показатели\n",
    "7. В ходе определения \"активных\" пользователей, нашли уникальных 100 клиентов относенные к этой категории.\n",
    "8. Для какждого клиента произведен расчет стоимости тарифа в не зависимости от текущего.\n",
    "9. Проведена сверка, соответсвия текущего тарифа и возможных тарифов. Выбраны клиенты для которых рекомендовано изменение тарифа.\n",
    "10. 49 клиентов переплачивают за свой тариф, у 35 клиентов совпал тариф с оптимальным рекомендованным.\n",
    "11. Максимальная переплата была аж в 10472 рубля, а медианное значение переплат 3393.\n",
    "12. Рассмотрены гипотезы:\n",
    "    - О зависимости времени ожидания звонка от тарифного плана: есть статистические значимые различия между временем ожидания звонка по тарифам A, B и С.\n",
    "    - О зависимости количества звонков от дня недели: есть статистическая вероятность, что количество принятых звонков операторами не отличается ни в четверг, ни в воскресенье, ни в остальные дни недели.\n",
    "13.  69 клиентов переплачивают за свой тариф (это 49% из активных пользователей рассматриваемого периода).\n",
    "14. Потенциальная выручка всех клиентов за 3 месяца составит - 1585234.42. \n",
    "Если мы поменяем тарифы для активных клиентов выручка упадет с 748208.68 до 514039.42.  \n",
    "В относительном значении выручка упадет на 20%."
   ]
  },
  {
   "cell_type": "markdown",
   "metadata": {},
   "source": [
    "**РЕКОМЕНДАЦИИ ДЛЯ МОБИЛЬНОГО ОПЕРАТОРА**  \n",
    "\n",
    "\n",
    "для увеличения прибыли компании стоит обратить внимание на колл-центры которые берут тариф А, на какой сегмент рынка они направлены, возможно стоит рассмотреть привличение новых клиентов\n",
    "стоит оценить направлением клиентов с тарифом С, имеет наибольшую популярность, но имеет малую активность по тарифу. Стоит узнать причину малого использования, на что направлены данные колл-центры.\n",
    "69 клиентов переплачивают за свой тариф (это 49% из активных пользователей рассматриваемого периода). Стоит рассмотреть переход на другие тарифы, стоит рассмотреть два варианта\n",
    "переход всех активных клиентов на оптимальный, тогда прибыль упадет на 234169.25 рублей"
   ]
  }
 ],
 "metadata": {
  "ExecuteTimeLog": [
   {
    "duration": 89,
    "start_time": "2023-10-13T18:15:36.403Z"
   },
   {
    "duration": 1481,
    "start_time": "2023-10-13T18:23:44.366Z"
   },
   {
    "duration": 284,
    "start_time": "2023-10-13T18:24:14.186Z"
   },
   {
    "duration": 15,
    "start_time": "2023-10-13T18:24:58.807Z"
   },
   {
    "duration": 20,
    "start_time": "2023-10-13T18:26:23.111Z"
   },
   {
    "duration": 36,
    "start_time": "2023-10-13T18:32:36.971Z"
   },
   {
    "duration": 1346,
    "start_time": "2023-10-22T12:42:28.831Z"
   },
   {
    "duration": 211,
    "start_time": "2023-10-22T12:42:30.179Z"
   },
   {
    "duration": 16,
    "start_time": "2023-10-22T12:42:30.392Z"
   },
   {
    "duration": 49,
    "start_time": "2023-10-22T12:42:30.410Z"
   },
   {
    "duration": 6,
    "start_time": "2023-10-22T12:43:22.456Z"
   },
   {
    "duration": 11,
    "start_time": "2023-10-22T12:43:29.159Z"
   },
   {
    "duration": 76,
    "start_time": "2023-10-22T12:43:39.155Z"
   },
   {
    "duration": 5,
    "start_time": "2023-10-22T12:45:59.253Z"
   },
   {
    "duration": 53,
    "start_time": "2023-10-22T12:46:10.870Z"
   },
   {
    "duration": 17,
    "start_time": "2023-10-22T12:46:40.142Z"
   },
   {
    "duration": 16,
    "start_time": "2023-10-22T12:47:08.967Z"
   },
   {
    "duration": 36,
    "start_time": "2023-10-22T12:47:28.994Z"
   },
   {
    "duration": 6,
    "start_time": "2023-10-22T12:47:35.948Z"
   },
   {
    "duration": 11,
    "start_time": "2023-10-22T12:48:20.957Z"
   },
   {
    "duration": 6,
    "start_time": "2023-10-22T12:48:28.991Z"
   },
   {
    "duration": 13,
    "start_time": "2023-10-22T12:49:07.795Z"
   },
   {
    "duration": 4,
    "start_time": "2023-10-22T12:49:47.957Z"
   },
   {
    "duration": 4,
    "start_time": "2023-10-22T12:49:54.119Z"
   },
   {
    "duration": 8,
    "start_time": "2023-10-22T12:50:51.255Z"
   },
   {
    "duration": 13,
    "start_time": "2023-10-22T12:51:41.433Z"
   },
   {
    "duration": 16,
    "start_time": "2023-10-22T12:51:58.180Z"
   },
   {
    "duration": 9,
    "start_time": "2023-10-22T13:03:27.382Z"
   },
   {
    "duration": 1180,
    "start_time": "2023-10-22T13:04:30.670Z"
   },
   {
    "duration": 104,
    "start_time": "2023-10-22T13:04:31.852Z"
   },
   {
    "duration": 19,
    "start_time": "2023-10-22T13:04:31.957Z"
   },
   {
    "duration": 48,
    "start_time": "2023-10-22T13:04:31.979Z"
   },
   {
    "duration": 52,
    "start_time": "2023-10-22T13:04:32.029Z"
   },
   {
    "duration": 79,
    "start_time": "2023-10-22T13:04:32.083Z"
   },
   {
    "duration": 26,
    "start_time": "2023-10-22T13:04:32.165Z"
   },
   {
    "duration": 131,
    "start_time": "2023-10-22T13:04:32.193Z"
   },
   {
    "duration": 72,
    "start_time": "2023-10-22T13:04:32.326Z"
   },
   {
    "duration": 66,
    "start_time": "2023-10-22T13:04:32.400Z"
   },
   {
    "duration": 60,
    "start_time": "2023-10-22T13:04:32.468Z"
   },
   {
    "duration": 11,
    "start_time": "2023-10-22T13:04:32.529Z"
   },
   {
    "duration": 52,
    "start_time": "2023-10-22T13:04:32.542Z"
   },
   {
    "duration": 27,
    "start_time": "2023-10-22T13:04:32.595Z"
   },
   {
    "duration": 56,
    "start_time": "2023-10-22T13:04:32.623Z"
   },
   {
    "duration": 23,
    "start_time": "2023-10-22T13:04:32.681Z"
   },
   {
    "duration": 43,
    "start_time": "2023-10-22T13:04:32.706Z"
   },
   {
    "duration": 42,
    "start_time": "2023-10-22T13:04:32.751Z"
   },
   {
    "duration": 28,
    "start_time": "2023-10-22T13:04:32.795Z"
   },
   {
    "duration": 23,
    "start_time": "2023-10-22T13:04:32.825Z"
   },
   {
    "duration": 23,
    "start_time": "2023-10-22T13:04:32.850Z"
   },
   {
    "duration": 11,
    "start_time": "2023-10-22T13:04:45.540Z"
   },
   {
    "duration": 7,
    "start_time": "2023-10-22T13:06:29.732Z"
   },
   {
    "duration": 31,
    "start_time": "2023-10-22T13:06:36.326Z"
   },
   {
    "duration": 14,
    "start_time": "2023-10-22T13:07:00.600Z"
   },
   {
    "duration": 7,
    "start_time": "2023-10-22T13:07:11.567Z"
   },
   {
    "duration": 105,
    "start_time": "2023-10-22T13:07:27.167Z"
   },
   {
    "duration": 8,
    "start_time": "2023-10-22T13:07:33.320Z"
   },
   {
    "duration": 14,
    "start_time": "2023-10-22T13:10:26.076Z"
   },
   {
    "duration": 292,
    "start_time": "2023-10-22T13:10:49.625Z"
   },
   {
    "duration": 8,
    "start_time": "2023-10-22T13:11:10.865Z"
   },
   {
    "duration": 8,
    "start_time": "2023-10-22T13:11:28.861Z"
   },
   {
    "duration": 13,
    "start_time": "2023-10-22T13:11:51.931Z"
   },
   {
    "duration": 307,
    "start_time": "2023-10-22T13:11:59.116Z"
   },
   {
    "duration": 10,
    "start_time": "2023-10-22T13:12:48.082Z"
   },
   {
    "duration": 31,
    "start_time": "2023-10-22T13:13:05.536Z"
   },
   {
    "duration": 22,
    "start_time": "2023-10-22T13:13:42.674Z"
   },
   {
    "duration": 22,
    "start_time": "2023-10-22T13:13:47.039Z"
   },
   {
    "duration": 3,
    "start_time": "2023-10-22T14:17:37.412Z"
   },
   {
    "duration": 18,
    "start_time": "2023-10-22T14:17:51.677Z"
   },
   {
    "duration": 4,
    "start_time": "2023-10-22T14:18:15.604Z"
   },
   {
    "duration": 145,
    "start_time": "2023-10-22T14:18:32.190Z"
   },
   {
    "duration": 133,
    "start_time": "2023-10-22T14:18:43.445Z"
   },
   {
    "duration": 41,
    "start_time": "2023-10-22T14:19:57.395Z"
   },
   {
    "duration": 7,
    "start_time": "2023-10-22T14:20:24.359Z"
   },
   {
    "duration": 151,
    "start_time": "2023-10-22T14:20:41.270Z"
   },
   {
    "duration": 23,
    "start_time": "2023-10-22T14:21:22.056Z"
   },
   {
    "duration": 8,
    "start_time": "2023-10-22T14:21:42.760Z"
   },
   {
    "duration": 4,
    "start_time": "2023-10-22T14:21:58.085Z"
   },
   {
    "duration": 220,
    "start_time": "2023-10-22T14:22:13.025Z"
   },
   {
    "duration": 4,
    "start_time": "2023-10-22T14:23:40.976Z"
   },
   {
    "duration": 175,
    "start_time": "2023-10-22T14:23:54.780Z"
   },
   {
    "duration": 12,
    "start_time": "2023-10-22T14:25:07.107Z"
   },
   {
    "duration": 9,
    "start_time": "2023-10-22T14:25:17.263Z"
   },
   {
    "duration": 11,
    "start_time": "2023-10-22T14:25:25.515Z"
   },
   {
    "duration": 20,
    "start_time": "2023-10-22T14:25:30.656Z"
   },
   {
    "duration": 22,
    "start_time": "2023-10-22T14:27:44.921Z"
   },
   {
    "duration": 237,
    "start_time": "2023-10-22T14:27:51.799Z"
   },
   {
    "duration": 24,
    "start_time": "2023-10-22T14:29:18.736Z"
   },
   {
    "duration": 159,
    "start_time": "2023-10-22T14:29:27.882Z"
   },
   {
    "duration": 191,
    "start_time": "2023-10-22T14:30:13.027Z"
   },
   {
    "duration": 1438,
    "start_time": "2023-10-22T15:53:35.652Z"
   },
   {
    "duration": 370,
    "start_time": "2023-10-22T15:53:37.092Z"
   },
   {
    "duration": 14,
    "start_time": "2023-10-22T15:53:37.468Z"
   },
   {
    "duration": 48,
    "start_time": "2023-10-22T15:53:37.485Z"
   },
   {
    "duration": 6,
    "start_time": "2023-10-22T15:53:37.535Z"
   },
   {
    "duration": 22,
    "start_time": "2023-10-22T15:53:37.542Z"
   },
   {
    "duration": 25,
    "start_time": "2023-10-22T15:53:37.567Z"
   },
   {
    "duration": 56,
    "start_time": "2023-10-22T15:53:37.594Z"
   },
   {
    "duration": 25,
    "start_time": "2023-10-22T15:53:37.653Z"
   },
   {
    "duration": 33,
    "start_time": "2023-10-22T15:53:37.679Z"
   },
   {
    "duration": 56,
    "start_time": "2023-10-22T15:53:37.714Z"
   },
   {
    "duration": 5,
    "start_time": "2023-10-22T15:53:37.772Z"
   },
   {
    "duration": 11,
    "start_time": "2023-10-22T15:53:37.779Z"
   },
   {
    "duration": 14,
    "start_time": "2023-10-22T15:53:37.791Z"
   },
   {
    "duration": 13,
    "start_time": "2023-10-22T15:53:37.806Z"
   },
   {
    "duration": 28,
    "start_time": "2023-10-22T15:53:37.821Z"
   },
   {
    "duration": 20,
    "start_time": "2023-10-22T15:53:37.852Z"
   },
   {
    "duration": 10,
    "start_time": "2023-10-22T15:53:37.874Z"
   },
   {
    "duration": 24,
    "start_time": "2023-10-22T15:53:37.886Z"
   },
   {
    "duration": 22,
    "start_time": "2023-10-22T15:53:37.912Z"
   },
   {
    "duration": 16,
    "start_time": "2023-10-22T15:53:37.935Z"
   },
   {
    "duration": 10,
    "start_time": "2023-10-22T15:53:37.957Z"
   },
   {
    "duration": 36,
    "start_time": "2023-10-22T15:53:37.968Z"
   },
   {
    "duration": 12,
    "start_time": "2023-10-22T15:53:38.006Z"
   },
   {
    "duration": 31,
    "start_time": "2023-10-22T15:53:38.020Z"
   },
   {
    "duration": 287,
    "start_time": "2023-10-22T15:53:38.052Z"
   },
   {
    "duration": 12,
    "start_time": "2023-10-22T15:53:38.343Z"
   },
   {
    "duration": 24,
    "start_time": "2023-10-22T15:53:38.357Z"
   },
   {
    "duration": 323,
    "start_time": "2023-10-22T15:53:38.383Z"
   },
   {
    "duration": 9,
    "start_time": "2023-10-22T15:53:38.708Z"
   },
   {
    "duration": 44,
    "start_time": "2023-10-22T15:53:38.718Z"
   },
   {
    "duration": 20,
    "start_time": "2023-10-22T15:53:38.765Z"
   },
   {
    "duration": 16,
    "start_time": "2023-10-22T15:53:38.787Z"
   },
   {
    "duration": 32,
    "start_time": "2023-10-22T15:53:38.805Z"
   },
   {
    "duration": 92,
    "start_time": "2023-10-22T15:53:38.838Z"
   },
   {
    "duration": 0,
    "start_time": "2023-10-22T15:53:38.932Z"
   },
   {
    "duration": 0,
    "start_time": "2023-10-22T15:53:38.933Z"
   },
   {
    "duration": 0,
    "start_time": "2023-10-22T15:53:38.934Z"
   },
   {
    "duration": 0,
    "start_time": "2023-10-22T15:53:38.935Z"
   },
   {
    "duration": 0,
    "start_time": "2023-10-22T15:53:38.936Z"
   },
   {
    "duration": 0,
    "start_time": "2023-10-22T15:53:38.938Z"
   },
   {
    "duration": 0,
    "start_time": "2023-10-22T15:53:38.939Z"
   },
   {
    "duration": 0,
    "start_time": "2023-10-22T15:53:38.939Z"
   },
   {
    "duration": 0,
    "start_time": "2023-10-22T15:53:38.940Z"
   },
   {
    "duration": 0,
    "start_time": "2023-10-22T15:53:38.941Z"
   },
   {
    "duration": 0,
    "start_time": "2023-10-22T15:53:38.942Z"
   },
   {
    "duration": 0,
    "start_time": "2023-10-22T15:53:38.943Z"
   },
   {
    "duration": 0,
    "start_time": "2023-10-22T15:53:38.945Z"
   },
   {
    "duration": 0,
    "start_time": "2023-10-22T15:53:38.946Z"
   },
   {
    "duration": 0,
    "start_time": "2023-10-22T15:53:38.947Z"
   },
   {
    "duration": 0,
    "start_time": "2023-10-22T15:53:38.948Z"
   },
   {
    "duration": 3,
    "start_time": "2023-10-22T15:53:58.816Z"
   },
   {
    "duration": 149,
    "start_time": "2023-10-22T15:53:59.292Z"
   },
   {
    "duration": 57,
    "start_time": "2023-10-22T15:54:00.422Z"
   },
   {
    "duration": 8,
    "start_time": "2023-10-22T15:54:00.706Z"
   },
   {
    "duration": 171,
    "start_time": "2023-10-22T15:54:00.973Z"
   },
   {
    "duration": 32,
    "start_time": "2023-10-22T15:54:01.460Z"
   },
   {
    "duration": 8,
    "start_time": "2023-10-22T15:54:01.582Z"
   },
   {
    "duration": 5,
    "start_time": "2023-10-22T15:54:01.908Z"
   },
   {
    "duration": 231,
    "start_time": "2023-10-22T15:54:02.041Z"
   },
   {
    "duration": 4,
    "start_time": "2023-10-22T15:54:02.906Z"
   },
   {
    "duration": 187,
    "start_time": "2023-10-22T15:54:03.013Z"
   },
   {
    "duration": 34,
    "start_time": "2023-10-22T15:54:03.621Z"
   },
   {
    "duration": 176,
    "start_time": "2023-10-22T15:54:03.805Z"
   },
   {
    "duration": 35,
    "start_time": "2023-10-22T15:54:04.435Z"
   },
   {
    "duration": 248,
    "start_time": "2023-10-22T15:54:04.603Z"
   },
   {
    "duration": 215,
    "start_time": "2023-10-22T15:54:05.209Z"
   },
   {
    "duration": 1588,
    "start_time": "2023-10-23T13:57:24.387Z"
   },
   {
    "duration": 416,
    "start_time": "2023-10-23T13:57:25.977Z"
   },
   {
    "duration": 19,
    "start_time": "2023-10-23T13:57:26.394Z"
   },
   {
    "duration": 60,
    "start_time": "2023-10-23T13:57:26.415Z"
   },
   {
    "duration": 26,
    "start_time": "2023-10-23T13:57:26.478Z"
   },
   {
    "duration": 44,
    "start_time": "2023-10-23T13:57:26.505Z"
   },
   {
    "duration": 76,
    "start_time": "2023-10-23T13:57:26.551Z"
   },
   {
    "duration": 97,
    "start_time": "2023-10-23T13:57:26.629Z"
   },
   {
    "duration": 22,
    "start_time": "2023-10-23T13:57:26.728Z"
   },
   {
    "duration": 54,
    "start_time": "2023-10-23T13:57:26.752Z"
   },
   {
    "duration": 64,
    "start_time": "2023-10-23T13:57:26.809Z"
   },
   {
    "duration": 8,
    "start_time": "2023-10-23T13:57:26.875Z"
   },
   {
    "duration": 53,
    "start_time": "2023-10-23T13:57:26.885Z"
   },
   {
    "duration": 116,
    "start_time": "2023-10-23T13:57:26.943Z"
   },
   {
    "duration": 39,
    "start_time": "2023-10-23T13:57:27.069Z"
   },
   {
    "duration": 39,
    "start_time": "2023-10-23T13:57:27.110Z"
   },
   {
    "duration": 53,
    "start_time": "2023-10-23T13:57:27.151Z"
   },
   {
    "duration": 32,
    "start_time": "2023-10-23T13:57:27.206Z"
   },
   {
    "duration": 49,
    "start_time": "2023-10-23T13:57:27.240Z"
   },
   {
    "duration": 38,
    "start_time": "2023-10-23T13:57:27.291Z"
   },
   {
    "duration": 16,
    "start_time": "2023-10-23T13:57:27.331Z"
   },
   {
    "duration": 42,
    "start_time": "2023-10-23T13:57:27.349Z"
   },
   {
    "duration": 47,
    "start_time": "2023-10-23T13:57:27.393Z"
   },
   {
    "duration": 29,
    "start_time": "2023-10-23T13:57:27.441Z"
   },
   {
    "duration": 25,
    "start_time": "2023-10-23T13:57:27.472Z"
   },
   {
    "duration": 377,
    "start_time": "2023-10-23T13:57:27.500Z"
   },
   {
    "duration": 8,
    "start_time": "2023-10-23T13:57:27.879Z"
   },
   {
    "duration": 30,
    "start_time": "2023-10-23T13:57:27.889Z"
   },
   {
    "duration": 376,
    "start_time": "2023-10-23T13:57:27.921Z"
   },
   {
    "duration": 12,
    "start_time": "2023-10-23T13:57:28.299Z"
   },
   {
    "duration": 24,
    "start_time": "2023-10-23T13:57:28.313Z"
   },
   {
    "duration": 39,
    "start_time": "2023-10-23T13:57:28.340Z"
   },
   {
    "duration": 18,
    "start_time": "2023-10-23T13:57:28.381Z"
   },
   {
    "duration": 22,
    "start_time": "2023-10-23T13:57:28.401Z"
   },
   {
    "duration": 4,
    "start_time": "2023-10-23T13:57:28.425Z"
   },
   {
    "duration": 198,
    "start_time": "2023-10-23T13:57:28.430Z"
   },
   {
    "duration": 62,
    "start_time": "2023-10-23T13:57:28.630Z"
   },
   {
    "duration": 7,
    "start_time": "2023-10-23T13:57:28.695Z"
   },
   {
    "duration": 269,
    "start_time": "2023-10-23T13:57:28.704Z"
   },
   {
    "duration": 31,
    "start_time": "2023-10-23T13:57:28.976Z"
   },
   {
    "duration": 12,
    "start_time": "2023-10-23T13:57:29.013Z"
   },
   {
    "duration": 40,
    "start_time": "2023-10-23T13:57:29.028Z"
   },
   {
    "duration": 331,
    "start_time": "2023-10-23T13:57:29.071Z"
   },
   {
    "duration": 5,
    "start_time": "2023-10-23T13:57:29.404Z"
   },
   {
    "duration": 272,
    "start_time": "2023-10-23T13:57:29.411Z"
   },
   {
    "duration": 25,
    "start_time": "2023-10-23T13:57:29.685Z"
   },
   {
    "duration": 211,
    "start_time": "2023-10-23T13:57:29.712Z"
   },
   {
    "duration": 46,
    "start_time": "2023-10-23T13:57:29.925Z"
   },
   {
    "duration": 316,
    "start_time": "2023-10-23T13:57:29.973Z"
   },
   {
    "duration": 254,
    "start_time": "2023-10-23T13:57:30.291Z"
   },
   {
    "duration": 28,
    "start_time": "2023-10-23T14:05:01.054Z"
   },
   {
    "duration": 239,
    "start_time": "2023-10-23T14:05:25.826Z"
   },
   {
    "duration": 17,
    "start_time": "2023-10-23T14:05:52.210Z"
   },
   {
    "duration": 211,
    "start_time": "2023-10-23T14:07:54.570Z"
   },
   {
    "duration": 20,
    "start_time": "2023-10-23T14:08:09.933Z"
   },
   {
    "duration": 4,
    "start_time": "2023-10-23T14:08:22.872Z"
   },
   {
    "duration": 22,
    "start_time": "2023-10-23T14:09:53.408Z"
   },
   {
    "duration": 208,
    "start_time": "2023-10-23T14:10:09.500Z"
   },
   {
    "duration": 3,
    "start_time": "2023-10-23T14:10:24.328Z"
   },
   {
    "duration": 15,
    "start_time": "2023-10-23T14:11:08.170Z"
   },
   {
    "duration": 241,
    "start_time": "2023-10-23T14:11:16.813Z"
   },
   {
    "duration": 3,
    "start_time": "2023-10-23T14:11:38.314Z"
   },
   {
    "duration": 125,
    "start_time": "2023-10-23T14:11:58.344Z"
   },
   {
    "duration": 233,
    "start_time": "2023-10-23T14:15:23.239Z"
   },
   {
    "duration": 3,
    "start_time": "2023-10-23T14:15:38.247Z"
   },
   {
    "duration": 462,
    "start_time": "2023-10-23T14:16:31.443Z"
   },
   {
    "duration": 292,
    "start_time": "2023-10-23T14:16:48.695Z"
   },
   {
    "duration": 234,
    "start_time": "2023-10-23T14:17:26.314Z"
   },
   {
    "duration": 3,
    "start_time": "2023-10-23T14:17:41.980Z"
   },
   {
    "duration": 2,
    "start_time": "2023-10-23T14:18:01.684Z"
   },
   {
    "duration": 224,
    "start_time": "2023-10-23T14:18:21.534Z"
   },
   {
    "duration": 20,
    "start_time": "2023-10-23T14:18:32.208Z"
   },
   {
    "duration": 163,
    "start_time": "2023-10-23T14:19:54.288Z"
   },
   {
    "duration": 9,
    "start_time": "2023-10-23T14:20:18.577Z"
   },
   {
    "duration": 9,
    "start_time": "2023-10-23T14:20:41.403Z"
   },
   {
    "duration": 7,
    "start_time": "2023-10-23T14:21:21.893Z"
   },
   {
    "duration": 4,
    "start_time": "2023-10-23T14:23:35.669Z"
   },
   {
    "duration": 6,
    "start_time": "2023-10-23T14:23:48.890Z"
   },
   {
    "duration": 14,
    "start_time": "2023-10-23T14:26:17.918Z"
   },
   {
    "duration": 10,
    "start_time": "2023-10-23T14:27:01.729Z"
   },
   {
    "duration": 1243,
    "start_time": "2023-10-23T14:27:14.865Z"
   },
   {
    "duration": 20,
    "start_time": "2023-10-23T14:27:28.372Z"
   },
   {
    "duration": 11,
    "start_time": "2023-10-23T14:27:44.038Z"
   },
   {
    "duration": 130,
    "start_time": "2023-10-23T14:28:32.609Z"
   },
   {
    "duration": 14,
    "start_time": "2023-10-23T14:30:37.641Z"
   },
   {
    "duration": 14,
    "start_time": "2023-10-23T14:30:51.914Z"
   },
   {
    "duration": 26,
    "start_time": "2023-10-23T14:31:01.888Z"
   },
   {
    "duration": 22,
    "start_time": "2023-10-23T14:32:40.031Z"
   },
   {
    "duration": 26,
    "start_time": "2023-10-23T14:32:46.443Z"
   },
   {
    "duration": 12,
    "start_time": "2023-10-23T14:33:48.105Z"
   },
   {
    "duration": 14,
    "start_time": "2023-10-23T14:33:56.871Z"
   },
   {
    "duration": 26,
    "start_time": "2023-10-23T14:34:07.265Z"
   },
   {
    "duration": 29,
    "start_time": "2023-10-23T14:34:46.948Z"
   },
   {
    "duration": 20,
    "start_time": "2023-10-23T14:35:21.727Z"
   },
   {
    "duration": 29,
    "start_time": "2023-10-23T14:35:50.718Z"
   },
   {
    "duration": 6,
    "start_time": "2023-10-23T14:36:22.133Z"
   },
   {
    "duration": 9,
    "start_time": "2023-10-23T14:37:37.186Z"
   },
   {
    "duration": 17,
    "start_time": "2023-10-23T14:38:27.389Z"
   },
   {
    "duration": 18,
    "start_time": "2023-10-23T14:38:41.393Z"
   },
   {
    "duration": 8,
    "start_time": "2023-10-23T14:38:51.970Z"
   },
   {
    "duration": 19,
    "start_time": "2023-10-23T14:39:12.117Z"
   },
   {
    "duration": 4,
    "start_time": "2023-10-23T14:39:16.174Z"
   },
   {
    "duration": 20,
    "start_time": "2023-10-23T14:40:25.701Z"
   },
   {
    "duration": 22,
    "start_time": "2023-10-23T14:40:37.391Z"
   },
   {
    "duration": 30,
    "start_time": "2023-10-23T14:40:48.133Z"
   },
   {
    "duration": 340,
    "start_time": "2023-10-23T14:41:03.007Z"
   },
   {
    "duration": 8,
    "start_time": "2023-10-23T14:41:12.171Z"
   },
   {
    "duration": 219,
    "start_time": "2023-10-23T14:43:07.801Z"
   },
   {
    "duration": 5,
    "start_time": "2023-10-23T14:44:32.177Z"
   },
   {
    "duration": 18,
    "start_time": "2023-10-23T14:44:56.999Z"
   },
   {
    "duration": 5,
    "start_time": "2023-10-23T14:45:07.897Z"
   },
   {
    "duration": 4,
    "start_time": "2023-10-23T14:45:20.830Z"
   },
   {
    "duration": 22,
    "start_time": "2023-10-23T14:48:41.362Z"
   },
   {
    "duration": 10,
    "start_time": "2023-10-23T14:48:52.267Z"
   },
   {
    "duration": 11,
    "start_time": "2023-10-23T14:49:02.014Z"
   },
   {
    "duration": 6,
    "start_time": "2023-10-23T14:49:13.172Z"
   },
   {
    "duration": 9,
    "start_time": "2023-10-23T14:49:26.794Z"
   },
   {
    "duration": 144,
    "start_time": "2023-10-23T14:49:49.854Z"
   },
   {
    "duration": 33,
    "start_time": "2023-10-23T14:50:26.354Z"
   },
   {
    "duration": 17,
    "start_time": "2023-10-23T14:50:40.587Z"
   },
   {
    "duration": 35,
    "start_time": "2023-10-23T14:51:56.312Z"
   },
   {
    "duration": 35,
    "start_time": "2023-10-23T14:52:37.540Z"
   },
   {
    "duration": 37,
    "start_time": "2023-10-23T14:52:46.493Z"
   },
   {
    "duration": 13,
    "start_time": "2023-10-23T14:56:00.478Z"
   },
   {
    "duration": 13,
    "start_time": "2023-10-23T14:56:27.204Z"
   },
   {
    "duration": 36,
    "start_time": "2023-10-23T14:57:40.099Z"
   },
   {
    "duration": 35,
    "start_time": "2023-10-23T14:58:30.169Z"
   },
   {
    "duration": 13,
    "start_time": "2023-10-23T14:58:44.654Z"
   },
   {
    "duration": 127,
    "start_time": "2023-10-23T15:01:31.571Z"
   },
   {
    "duration": 15,
    "start_time": "2023-10-23T15:02:41.431Z"
   },
   {
    "duration": 6,
    "start_time": "2023-10-23T15:02:52.798Z"
   },
   {
    "duration": 23,
    "start_time": "2023-10-23T15:03:00.890Z"
   },
   {
    "duration": 5,
    "start_time": "2023-10-23T15:03:11.550Z"
   },
   {
    "duration": 78,
    "start_time": "2023-10-23T15:03:31.694Z"
   },
   {
    "duration": 42,
    "start_time": "2023-10-23T15:04:07.809Z"
   },
   {
    "duration": 312,
    "start_time": "2023-10-23T15:04:18.724Z"
   },
   {
    "duration": 45,
    "start_time": "2023-10-23T15:04:47.170Z"
   },
   {
    "duration": 97,
    "start_time": "2023-10-23T15:04:58.907Z"
   },
   {
    "duration": 31,
    "start_time": "2023-10-23T15:05:14.130Z"
   },
   {
    "duration": 3,
    "start_time": "2023-10-23T15:06:20.224Z"
   },
   {
    "duration": 1494,
    "start_time": "2023-10-23T16:02:17.391Z"
   },
   {
    "duration": 130,
    "start_time": "2023-10-23T16:02:18.888Z"
   },
   {
    "duration": 25,
    "start_time": "2023-10-23T16:02:19.021Z"
   },
   {
    "duration": 33,
    "start_time": "2023-10-23T16:02:19.049Z"
   },
   {
    "duration": 12,
    "start_time": "2023-10-23T16:02:19.086Z"
   },
   {
    "duration": 19,
    "start_time": "2023-10-23T16:02:19.101Z"
   },
   {
    "duration": 42,
    "start_time": "2023-10-23T16:02:19.123Z"
   },
   {
    "duration": 65,
    "start_time": "2023-10-23T16:02:19.168Z"
   },
   {
    "duration": 38,
    "start_time": "2023-10-23T16:02:19.236Z"
   },
   {
    "duration": 22,
    "start_time": "2023-10-23T16:02:19.276Z"
   },
   {
    "duration": 63,
    "start_time": "2023-10-23T16:02:19.301Z"
   },
   {
    "duration": 7,
    "start_time": "2023-10-23T16:02:19.366Z"
   },
   {
    "duration": 18,
    "start_time": "2023-10-23T16:02:19.374Z"
   },
   {
    "duration": 7,
    "start_time": "2023-10-23T16:02:19.396Z"
   },
   {
    "duration": 14,
    "start_time": "2023-10-23T16:02:19.405Z"
   },
   {
    "duration": 37,
    "start_time": "2023-10-23T16:02:19.422Z"
   },
   {
    "duration": 10,
    "start_time": "2023-10-23T16:02:19.461Z"
   },
   {
    "duration": 17,
    "start_time": "2023-10-23T16:02:19.473Z"
   },
   {
    "duration": 23,
    "start_time": "2023-10-23T16:02:19.492Z"
   },
   {
    "duration": 41,
    "start_time": "2023-10-23T16:02:19.517Z"
   },
   {
    "duration": 14,
    "start_time": "2023-10-23T16:02:19.560Z"
   },
   {
    "duration": 28,
    "start_time": "2023-10-23T16:02:19.576Z"
   },
   {
    "duration": 53,
    "start_time": "2023-10-23T16:02:19.606Z"
   },
   {
    "duration": 15,
    "start_time": "2023-10-23T16:02:19.662Z"
   },
   {
    "duration": 22,
    "start_time": "2023-10-23T16:02:19.679Z"
   },
   {
    "duration": 346,
    "start_time": "2023-10-23T16:02:19.704Z"
   },
   {
    "duration": 10,
    "start_time": "2023-10-23T16:02:20.055Z"
   },
   {
    "duration": 24,
    "start_time": "2023-10-23T16:02:20.068Z"
   },
   {
    "duration": 382,
    "start_time": "2023-10-23T16:02:20.095Z"
   },
   {
    "duration": 12,
    "start_time": "2023-10-23T16:02:20.479Z"
   },
   {
    "duration": 74,
    "start_time": "2023-10-23T16:02:20.493Z"
   },
   {
    "duration": 29,
    "start_time": "2023-10-23T16:02:20.569Z"
   },
   {
    "duration": 16,
    "start_time": "2023-10-23T16:02:20.600Z"
   },
   {
    "duration": 40,
    "start_time": "2023-10-23T16:02:20.618Z"
   },
   {
    "duration": 13,
    "start_time": "2023-10-23T16:02:20.660Z"
   },
   {
    "duration": 198,
    "start_time": "2023-10-23T16:02:20.675Z"
   },
   {
    "duration": 46,
    "start_time": "2023-10-23T16:02:20.875Z"
   },
   {
    "duration": 10,
    "start_time": "2023-10-23T16:02:20.923Z"
   },
   {
    "duration": 215,
    "start_time": "2023-10-23T16:02:20.935Z"
   },
   {
    "duration": 29,
    "start_time": "2023-10-23T16:02:21.152Z"
   },
   {
    "duration": 8,
    "start_time": "2023-10-23T16:02:21.187Z"
   },
   {
    "duration": 27,
    "start_time": "2023-10-23T16:02:21.197Z"
   },
   {
    "duration": 267,
    "start_time": "2023-10-23T16:02:21.226Z"
   },
   {
    "duration": 4,
    "start_time": "2023-10-23T16:02:21.495Z"
   },
   {
    "duration": 254,
    "start_time": "2023-10-23T16:02:21.501Z"
   },
   {
    "duration": 26,
    "start_time": "2023-10-23T16:02:21.757Z"
   },
   {
    "duration": 196,
    "start_time": "2023-10-23T16:02:21.785Z"
   },
   {
    "duration": 27,
    "start_time": "2023-10-23T16:02:21.983Z"
   },
   {
    "duration": 304,
    "start_time": "2023-10-23T16:02:22.011Z"
   },
   {
    "duration": 219,
    "start_time": "2023-10-23T16:02:22.317Z"
   },
   {
    "duration": 36,
    "start_time": "2023-10-23T16:02:22.538Z"
   },
   {
    "duration": 253,
    "start_time": "2023-10-23T16:02:22.576Z"
   },
   {
    "duration": 37,
    "start_time": "2023-10-23T16:02:22.830Z"
   },
   {
    "duration": 208,
    "start_time": "2023-10-23T16:02:22.870Z"
   },
   {
    "duration": 3,
    "start_time": "2023-10-23T16:02:23.080Z"
   },
   {
    "duration": 25,
    "start_time": "2023-10-23T16:02:23.085Z"
   },
   {
    "duration": 206,
    "start_time": "2023-10-23T16:02:23.112Z"
   },
   {
    "duration": 3,
    "start_time": "2023-10-23T16:02:23.321Z"
   },
   {
    "duration": 32,
    "start_time": "2023-10-23T16:02:23.326Z"
   },
   {
    "duration": 205,
    "start_time": "2023-10-23T16:02:23.361Z"
   },
   {
    "duration": 4,
    "start_time": "2023-10-23T16:02:23.568Z"
   },
   {
    "duration": 273,
    "start_time": "2023-10-23T16:02:23.573Z"
   },
   {
    "duration": 8,
    "start_time": "2023-10-23T16:02:23.849Z"
   },
   {
    "duration": 500,
    "start_time": "2023-10-23T16:02:23.860Z"
   },
   {
    "duration": 268,
    "start_time": "2023-10-23T16:02:24.362Z"
   },
   {
    "duration": 215,
    "start_time": "2023-10-23T16:02:24.632Z"
   },
   {
    "duration": 3,
    "start_time": "2023-10-23T16:02:24.857Z"
   },
   {
    "duration": 248,
    "start_time": "2023-10-23T16:02:24.862Z"
   },
   {
    "duration": 19,
    "start_time": "2023-10-23T16:02:25.112Z"
   },
   {
    "duration": 200,
    "start_time": "2023-10-23T16:02:25.133Z"
   },
   {
    "duration": 10,
    "start_time": "2023-10-23T16:02:25.335Z"
   },
   {
    "duration": 20,
    "start_time": "2023-10-23T16:02:25.357Z"
   },
   {
    "duration": 19,
    "start_time": "2023-10-23T16:02:25.379Z"
   },
   {
    "duration": 20,
    "start_time": "2023-10-23T16:02:25.400Z"
   },
   {
    "duration": 38,
    "start_time": "2023-10-23T16:02:25.423Z"
   },
   {
    "duration": 96,
    "start_time": "2023-10-23T16:02:25.463Z"
   },
   {
    "duration": 181,
    "start_time": "2023-10-23T16:02:25.562Z"
   },
   {
    "duration": 1219,
    "start_time": "2023-10-23T16:02:25.746Z"
   },
   {
    "duration": 25,
    "start_time": "2023-10-23T16:02:26.967Z"
   },
   {
    "duration": 19,
    "start_time": "2023-10-23T16:02:26.994Z"
   },
   {
    "duration": 13,
    "start_time": "2023-10-23T16:02:27.016Z"
   },
   {
    "duration": 38,
    "start_time": "2023-10-23T16:02:27.031Z"
   },
   {
    "duration": 37,
    "start_time": "2023-10-23T16:02:27.071Z"
   },
   {
    "duration": 49,
    "start_time": "2023-10-23T16:02:27.110Z"
   },
   {
    "duration": 21,
    "start_time": "2023-10-23T16:02:27.161Z"
   },
   {
    "duration": 52,
    "start_time": "2023-10-23T16:02:27.183Z"
   },
   {
    "duration": 12,
    "start_time": "2023-10-23T16:02:27.237Z"
   },
   {
    "duration": 44,
    "start_time": "2023-10-23T16:02:27.250Z"
   },
   {
    "duration": 20,
    "start_time": "2023-10-23T16:02:27.296Z"
   },
   {
    "duration": 39,
    "start_time": "2023-10-23T16:02:27.318Z"
   },
   {
    "duration": 29,
    "start_time": "2023-10-23T16:02:27.359Z"
   },
   {
    "duration": 17,
    "start_time": "2023-10-23T16:02:27.390Z"
   },
   {
    "duration": 24,
    "start_time": "2023-10-23T16:02:27.409Z"
   },
   {
    "duration": 21,
    "start_time": "2023-10-23T16:02:27.435Z"
   },
   {
    "duration": 30,
    "start_time": "2023-10-23T16:02:27.459Z"
   },
   {
    "duration": 67,
    "start_time": "2023-10-23T16:02:27.492Z"
   },
   {
    "duration": 278,
    "start_time": "2023-10-23T16:02:27.561Z"
   },
   {
    "duration": 18,
    "start_time": "2023-10-23T16:02:27.841Z"
   },
   {
    "duration": 275,
    "start_time": "2023-10-23T16:02:27.862Z"
   },
   {
    "duration": 4,
    "start_time": "2023-10-23T16:02:28.139Z"
   },
   {
    "duration": 20,
    "start_time": "2023-10-23T16:02:28.157Z"
   },
   {
    "duration": 17,
    "start_time": "2023-10-23T16:02:28.178Z"
   },
   {
    "duration": 17,
    "start_time": "2023-10-23T16:02:28.197Z"
   },
   {
    "duration": 28,
    "start_time": "2023-10-23T16:02:28.216Z"
   },
   {
    "duration": 11,
    "start_time": "2023-10-23T16:02:28.246Z"
   },
   {
    "duration": 36,
    "start_time": "2023-10-23T16:02:28.259Z"
   },
   {
    "duration": 6,
    "start_time": "2023-10-23T16:02:28.297Z"
   },
   {
    "duration": 79,
    "start_time": "2023-10-23T16:02:28.304Z"
   },
   {
    "duration": 40,
    "start_time": "2023-10-23T16:02:28.385Z"
   },
   {
    "duration": 268,
    "start_time": "2023-10-23T16:02:28.427Z"
   },
   {
    "duration": 46,
    "start_time": "2023-10-23T16:02:28.697Z"
   },
   {
    "duration": 33,
    "start_time": "2023-10-23T16:02:28.757Z"
   },
   {
    "duration": 1480,
    "start_time": "2023-10-23T17:51:33.576Z"
   },
   {
    "duration": 219,
    "start_time": "2023-10-23T17:51:35.064Z"
   },
   {
    "duration": 14,
    "start_time": "2023-10-23T17:51:35.285Z"
   },
   {
    "duration": 38,
    "start_time": "2023-10-23T17:51:35.300Z"
   },
   {
    "duration": 21,
    "start_time": "2023-10-23T17:51:35.341Z"
   },
   {
    "duration": 12,
    "start_time": "2023-10-23T17:51:35.367Z"
   },
   {
    "duration": 11,
    "start_time": "2023-10-23T17:51:35.381Z"
   },
   {
    "duration": 62,
    "start_time": "2023-10-23T17:51:35.394Z"
   },
   {
    "duration": 21,
    "start_time": "2023-10-23T17:51:35.458Z"
   },
   {
    "duration": 17,
    "start_time": "2023-10-23T17:51:35.481Z"
   },
   {
    "duration": 65,
    "start_time": "2023-10-23T17:51:35.500Z"
   },
   {
    "duration": 7,
    "start_time": "2023-10-23T17:51:35.567Z"
   },
   {
    "duration": 18,
    "start_time": "2023-10-23T17:51:35.575Z"
   },
   {
    "duration": 7,
    "start_time": "2023-10-23T17:51:35.596Z"
   },
   {
    "duration": 31,
    "start_time": "2023-10-23T17:51:35.606Z"
   },
   {
    "duration": 5,
    "start_time": "2023-10-23T17:51:35.646Z"
   },
   {
    "duration": 31,
    "start_time": "2023-10-23T17:51:35.653Z"
   },
   {
    "duration": 21,
    "start_time": "2023-10-23T17:51:35.685Z"
   },
   {
    "duration": 21,
    "start_time": "2023-10-23T17:51:35.708Z"
   },
   {
    "duration": 18,
    "start_time": "2023-10-23T17:51:35.731Z"
   },
   {
    "duration": 20,
    "start_time": "2023-10-23T17:51:35.751Z"
   },
   {
    "duration": 26,
    "start_time": "2023-10-23T17:51:35.773Z"
   },
   {
    "duration": 46,
    "start_time": "2023-10-23T17:51:35.802Z"
   },
   {
    "duration": 17,
    "start_time": "2023-10-23T17:51:35.855Z"
   },
   {
    "duration": 18,
    "start_time": "2023-10-23T17:51:35.873Z"
   },
   {
    "duration": 311,
    "start_time": "2023-10-23T17:51:35.893Z"
   },
   {
    "duration": 8,
    "start_time": "2023-10-23T17:51:36.205Z"
   },
   {
    "duration": 50,
    "start_time": "2023-10-23T17:51:36.215Z"
   },
   {
    "duration": 372,
    "start_time": "2023-10-23T17:51:36.267Z"
   },
   {
    "duration": 11,
    "start_time": "2023-10-23T17:51:36.641Z"
   },
   {
    "duration": 34,
    "start_time": "2023-10-23T17:51:36.653Z"
   },
   {
    "duration": 25,
    "start_time": "2023-10-23T17:51:36.689Z"
   },
   {
    "duration": 30,
    "start_time": "2023-10-23T17:51:36.716Z"
   },
   {
    "duration": 27,
    "start_time": "2023-10-23T17:51:36.751Z"
   },
   {
    "duration": 5,
    "start_time": "2023-10-23T17:51:36.780Z"
   },
   {
    "duration": 184,
    "start_time": "2023-10-23T17:51:36.787Z"
   },
   {
    "duration": 42,
    "start_time": "2023-10-23T17:51:36.973Z"
   },
   {
    "duration": 7,
    "start_time": "2023-10-23T17:51:37.017Z"
   },
   {
    "duration": 173,
    "start_time": "2023-10-23T17:51:37.050Z"
   },
   {
    "duration": 41,
    "start_time": "2023-10-23T17:51:37.225Z"
   },
   {
    "duration": 9,
    "start_time": "2023-10-23T17:51:37.272Z"
   },
   {
    "duration": 8,
    "start_time": "2023-10-23T17:51:37.283Z"
   },
   {
    "duration": 237,
    "start_time": "2023-10-23T17:51:37.293Z"
   },
   {
    "duration": 3,
    "start_time": "2023-10-23T17:51:37.533Z"
   },
   {
    "duration": 222,
    "start_time": "2023-10-23T17:51:37.543Z"
   },
   {
    "duration": 26,
    "start_time": "2023-10-23T17:51:37.767Z"
   },
   {
    "duration": 194,
    "start_time": "2023-10-23T17:51:37.795Z"
   },
   {
    "duration": 29,
    "start_time": "2023-10-23T17:51:37.992Z"
   },
   {
    "duration": 276,
    "start_time": "2023-10-23T17:51:38.022Z"
   },
   {
    "duration": 225,
    "start_time": "2023-10-23T17:51:38.300Z"
   },
   {
    "duration": 38,
    "start_time": "2023-10-23T17:51:38.526Z"
   },
   {
    "duration": 239,
    "start_time": "2023-10-23T17:51:38.566Z"
   },
   {
    "duration": 20,
    "start_time": "2023-10-23T17:51:38.807Z"
   },
   {
    "duration": 242,
    "start_time": "2023-10-23T17:51:38.829Z"
   },
   {
    "duration": 2,
    "start_time": "2023-10-23T17:51:39.074Z"
   },
   {
    "duration": 22,
    "start_time": "2023-10-23T17:51:39.077Z"
   },
   {
    "duration": 183,
    "start_time": "2023-10-23T17:51:39.101Z"
   },
   {
    "duration": 3,
    "start_time": "2023-10-23T17:51:39.287Z"
   },
   {
    "duration": 44,
    "start_time": "2023-10-23T17:51:39.292Z"
   },
   {
    "duration": 204,
    "start_time": "2023-10-23T17:51:39.337Z"
   },
   {
    "duration": 9,
    "start_time": "2023-10-23T17:51:39.544Z"
   },
   {
    "duration": 234,
    "start_time": "2023-10-23T17:51:39.558Z"
   },
   {
    "duration": 3,
    "start_time": "2023-10-23T17:51:39.794Z"
   },
   {
    "duration": 647,
    "start_time": "2023-10-23T17:51:39.799Z"
   },
   {
    "duration": 267,
    "start_time": "2023-10-23T17:51:40.451Z"
   },
   {
    "duration": 212,
    "start_time": "2023-10-23T17:51:40.720Z"
   },
   {
    "duration": 10,
    "start_time": "2023-10-23T17:51:40.934Z"
   },
   {
    "duration": 228,
    "start_time": "2023-10-23T17:51:40.946Z"
   },
   {
    "duration": 17,
    "start_time": "2023-10-23T17:51:41.176Z"
   },
   {
    "duration": 147,
    "start_time": "2023-10-23T17:51:41.195Z"
   },
   {
    "duration": 11,
    "start_time": "2023-10-23T17:51:41.348Z"
   },
   {
    "duration": 29,
    "start_time": "2023-10-23T17:51:41.362Z"
   },
   {
    "duration": 5,
    "start_time": "2023-10-23T17:51:41.392Z"
   },
   {
    "duration": 12,
    "start_time": "2023-10-23T17:51:41.399Z"
   },
   {
    "duration": 27,
    "start_time": "2023-10-23T17:51:41.413Z"
   },
   {
    "duration": 24,
    "start_time": "2023-10-23T17:51:41.442Z"
   },
   {
    "duration": 15,
    "start_time": "2023-10-23T17:51:41.467Z"
   },
   {
    "duration": 1296,
    "start_time": "2023-10-23T17:51:41.484Z"
   },
   {
    "duration": 19,
    "start_time": "2023-10-23T17:51:42.783Z"
   },
   {
    "duration": 15,
    "start_time": "2023-10-23T17:51:42.803Z"
   },
   {
    "duration": 28,
    "start_time": "2023-10-23T17:51:42.820Z"
   },
   {
    "duration": 19,
    "start_time": "2023-10-23T17:51:42.852Z"
   },
   {
    "duration": 34,
    "start_time": "2023-10-23T17:51:42.873Z"
   },
   {
    "duration": 41,
    "start_time": "2023-10-23T17:51:42.909Z"
   },
   {
    "duration": 23,
    "start_time": "2023-10-23T17:51:42.952Z"
   },
   {
    "duration": 32,
    "start_time": "2023-10-23T17:51:42.976Z"
   },
   {
    "duration": 11,
    "start_time": "2023-10-23T17:51:43.009Z"
   },
   {
    "duration": 36,
    "start_time": "2023-10-23T17:51:43.021Z"
   },
   {
    "duration": 28,
    "start_time": "2023-10-23T17:51:43.059Z"
   },
   {
    "duration": 18,
    "start_time": "2023-10-23T17:51:43.089Z"
   },
   {
    "duration": 6,
    "start_time": "2023-10-23T17:51:43.109Z"
   },
   {
    "duration": 15,
    "start_time": "2023-10-23T17:51:43.117Z"
   },
   {
    "duration": 25,
    "start_time": "2023-10-23T17:51:43.133Z"
   },
   {
    "duration": 25,
    "start_time": "2023-10-23T17:51:43.160Z"
   },
   {
    "duration": 20,
    "start_time": "2023-10-23T17:51:43.187Z"
   },
   {
    "duration": 40,
    "start_time": "2023-10-23T17:51:43.208Z"
   },
   {
    "duration": 275,
    "start_time": "2023-10-23T17:51:43.253Z"
   },
   {
    "duration": 16,
    "start_time": "2023-10-23T17:51:43.531Z"
   },
   {
    "duration": 230,
    "start_time": "2023-10-23T17:51:43.554Z"
   },
   {
    "duration": 12,
    "start_time": "2023-10-23T17:51:43.786Z"
   },
   {
    "duration": 20,
    "start_time": "2023-10-23T17:51:43.802Z"
   },
   {
    "duration": 8,
    "start_time": "2023-10-23T17:51:43.827Z"
   },
   {
    "duration": 23,
    "start_time": "2023-10-23T17:51:43.837Z"
   },
   {
    "duration": 32,
    "start_time": "2023-10-23T17:51:43.862Z"
   },
   {
    "duration": 12,
    "start_time": "2023-10-23T17:51:43.896Z"
   },
   {
    "duration": 39,
    "start_time": "2023-10-23T17:51:43.910Z"
   },
   {
    "duration": 12,
    "start_time": "2023-10-23T17:51:43.958Z"
   },
   {
    "duration": 134,
    "start_time": "2023-10-23T17:51:43.972Z"
   },
   {
    "duration": 68,
    "start_time": "2023-10-23T17:51:44.108Z"
   },
   {
    "duration": 225,
    "start_time": "2023-10-23T17:51:44.180Z"
   },
   {
    "duration": 59,
    "start_time": "2023-10-23T17:51:44.406Z"
   },
   {
    "duration": 48,
    "start_time": "2023-10-23T17:51:44.466Z"
   },
   {
    "duration": 1346,
    "start_time": "2023-10-24T05:49:31.233Z"
   },
   {
    "duration": 216,
    "start_time": "2023-10-24T05:49:32.581Z"
   },
   {
    "duration": 23,
    "start_time": "2023-10-24T05:49:32.799Z"
   },
   {
    "duration": 51,
    "start_time": "2023-10-24T05:49:32.824Z"
   },
   {
    "duration": 10,
    "start_time": "2023-10-24T05:49:32.878Z"
   },
   {
    "duration": 50,
    "start_time": "2023-10-24T05:49:32.890Z"
   },
   {
    "duration": 51,
    "start_time": "2023-10-24T05:49:32.943Z"
   },
   {
    "duration": 69,
    "start_time": "2023-10-24T05:49:32.996Z"
   },
   {
    "duration": 20,
    "start_time": "2023-10-24T05:49:33.067Z"
   },
   {
    "duration": 31,
    "start_time": "2023-10-24T05:49:33.088Z"
   },
   {
    "duration": 68,
    "start_time": "2023-10-24T05:49:33.122Z"
   },
   {
    "duration": 9,
    "start_time": "2023-10-24T05:49:33.192Z"
   },
   {
    "duration": 92,
    "start_time": "2023-10-24T05:49:33.203Z"
   },
   {
    "duration": 64,
    "start_time": "2023-10-24T05:49:33.298Z"
   },
   {
    "duration": 149,
    "start_time": "2023-10-24T05:49:33.364Z"
   },
   {
    "duration": 73,
    "start_time": "2023-10-24T05:49:33.515Z"
   },
   {
    "duration": 18,
    "start_time": "2023-10-24T05:49:33.590Z"
   },
   {
    "duration": 14,
    "start_time": "2023-10-24T05:49:33.610Z"
   },
   {
    "duration": 18,
    "start_time": "2023-10-24T05:49:33.626Z"
   },
   {
    "duration": 17,
    "start_time": "2023-10-24T05:49:33.645Z"
   },
   {
    "duration": 12,
    "start_time": "2023-10-24T05:49:33.663Z"
   },
   {
    "duration": 8,
    "start_time": "2023-10-24T05:49:33.677Z"
   },
   {
    "duration": 83,
    "start_time": "2023-10-24T05:49:33.687Z"
   },
   {
    "duration": 21,
    "start_time": "2023-10-24T05:49:33.772Z"
   },
   {
    "duration": 22,
    "start_time": "2023-10-24T05:49:33.795Z"
   },
   {
    "duration": 423,
    "start_time": "2023-10-24T05:49:33.819Z"
   },
   {
    "duration": 11,
    "start_time": "2023-10-24T05:49:34.244Z"
   },
   {
    "duration": 12,
    "start_time": "2023-10-24T05:49:34.257Z"
   },
   {
    "duration": 335,
    "start_time": "2023-10-24T05:49:34.271Z"
   },
   {
    "duration": 10,
    "start_time": "2023-10-24T05:49:34.608Z"
   },
   {
    "duration": 23,
    "start_time": "2023-10-24T05:49:34.620Z"
   },
   {
    "duration": 23,
    "start_time": "2023-10-24T05:49:34.645Z"
   },
   {
    "duration": 16,
    "start_time": "2023-10-24T05:49:34.669Z"
   },
   {
    "duration": 35,
    "start_time": "2023-10-24T05:49:34.686Z"
   },
   {
    "duration": 13,
    "start_time": "2023-10-24T05:49:34.722Z"
   },
   {
    "duration": 170,
    "start_time": "2023-10-24T05:49:34.737Z"
   },
   {
    "duration": 58,
    "start_time": "2023-10-24T05:49:34.909Z"
   },
   {
    "duration": 8,
    "start_time": "2023-10-24T05:49:34.969Z"
   },
   {
    "duration": 209,
    "start_time": "2023-10-24T05:49:34.979Z"
   },
   {
    "duration": 33,
    "start_time": "2023-10-24T05:49:35.190Z"
   },
   {
    "duration": 13,
    "start_time": "2023-10-24T05:49:35.246Z"
   },
   {
    "duration": 33,
    "start_time": "2023-10-24T05:49:35.261Z"
   },
   {
    "duration": 329,
    "start_time": "2023-10-24T05:49:35.297Z"
   },
   {
    "duration": 4,
    "start_time": "2023-10-24T05:49:35.627Z"
   },
   {
    "duration": 209,
    "start_time": "2023-10-24T05:49:35.646Z"
   },
   {
    "duration": 25,
    "start_time": "2023-10-24T05:49:35.857Z"
   },
   {
    "duration": 207,
    "start_time": "2023-10-24T05:49:35.884Z"
   },
   {
    "duration": 28,
    "start_time": "2023-10-24T05:49:36.093Z"
   },
   {
    "duration": 266,
    "start_time": "2023-10-24T05:49:36.123Z"
   },
   {
    "duration": 226,
    "start_time": "2023-10-24T05:49:36.391Z"
   },
   {
    "duration": 34,
    "start_time": "2023-10-24T05:49:36.618Z"
   },
   {
    "duration": 242,
    "start_time": "2023-10-24T05:49:36.654Z"
   },
   {
    "duration": 16,
    "start_time": "2023-10-24T05:49:36.898Z"
   },
   {
    "duration": 208,
    "start_time": "2023-10-24T05:49:36.915Z"
   },
   {
    "duration": 2,
    "start_time": "2023-10-24T05:49:37.125Z"
   },
   {
    "duration": 33,
    "start_time": "2023-10-24T05:49:37.129Z"
   },
   {
    "duration": 191,
    "start_time": "2023-10-24T05:49:37.164Z"
   },
   {
    "duration": 3,
    "start_time": "2023-10-24T05:49:37.357Z"
   },
   {
    "duration": 21,
    "start_time": "2023-10-24T05:49:37.362Z"
   },
   {
    "duration": 192,
    "start_time": "2023-10-24T05:49:37.385Z"
   },
   {
    "duration": 3,
    "start_time": "2023-10-24T05:49:37.580Z"
   },
   {
    "duration": 221,
    "start_time": "2023-10-24T05:49:37.585Z"
   },
   {
    "duration": 2,
    "start_time": "2023-10-24T05:49:37.808Z"
   },
   {
    "duration": 467,
    "start_time": "2023-10-24T05:49:37.812Z"
   },
   {
    "duration": 244,
    "start_time": "2023-10-24T05:49:38.281Z"
   },
   {
    "duration": 207,
    "start_time": "2023-10-24T05:49:38.527Z"
   },
   {
    "duration": 2,
    "start_time": "2023-10-24T05:49:38.736Z"
   },
   {
    "duration": 220,
    "start_time": "2023-10-24T05:49:38.746Z"
   },
   {
    "duration": 16,
    "start_time": "2023-10-24T05:49:38.968Z"
   },
   {
    "duration": 172,
    "start_time": "2023-10-24T05:49:38.986Z"
   },
   {
    "duration": 9,
    "start_time": "2023-10-24T05:49:39.160Z"
   },
   {
    "duration": 17,
    "start_time": "2023-10-24T05:49:39.171Z"
   },
   {
    "duration": 5,
    "start_time": "2023-10-24T05:49:39.190Z"
   },
   {
    "duration": 10,
    "start_time": "2023-10-24T05:49:39.196Z"
   },
   {
    "duration": 9,
    "start_time": "2023-10-24T05:49:39.207Z"
   },
   {
    "duration": 35,
    "start_time": "2023-10-24T05:49:39.218Z"
   },
   {
    "duration": 9,
    "start_time": "2023-10-24T05:49:39.255Z"
   },
   {
    "duration": 1246,
    "start_time": "2023-10-24T05:49:39.266Z"
   },
   {
    "duration": 20,
    "start_time": "2023-10-24T05:49:40.514Z"
   },
   {
    "duration": 17,
    "start_time": "2023-10-24T05:49:40.536Z"
   },
   {
    "duration": 30,
    "start_time": "2023-10-24T05:49:40.555Z"
   },
   {
    "duration": 29,
    "start_time": "2023-10-24T05:49:40.586Z"
   },
   {
    "duration": 52,
    "start_time": "2023-10-24T05:49:40.617Z"
   },
   {
    "duration": 43,
    "start_time": "2023-10-24T05:49:40.670Z"
   },
   {
    "duration": 37,
    "start_time": "2023-10-24T05:49:40.715Z"
   },
   {
    "duration": 24,
    "start_time": "2023-10-24T05:49:40.754Z"
   },
   {
    "duration": 8,
    "start_time": "2023-10-24T05:49:40.780Z"
   },
   {
    "duration": 21,
    "start_time": "2023-10-24T05:49:40.790Z"
   },
   {
    "duration": 25,
    "start_time": "2023-10-24T05:49:40.813Z"
   },
   {
    "duration": 24,
    "start_time": "2023-10-24T05:49:40.839Z"
   },
   {
    "duration": 6,
    "start_time": "2023-10-24T05:49:40.865Z"
   },
   {
    "duration": 10,
    "start_time": "2023-10-24T05:49:40.873Z"
   },
   {
    "duration": 28,
    "start_time": "2023-10-24T05:49:40.885Z"
   },
   {
    "duration": 41,
    "start_time": "2023-10-24T05:49:40.915Z"
   },
   {
    "duration": 20,
    "start_time": "2023-10-24T05:49:40.958Z"
   },
   {
    "duration": 39,
    "start_time": "2023-10-24T05:49:40.979Z"
   },
   {
    "duration": 251,
    "start_time": "2023-10-24T05:49:41.019Z"
   },
   {
    "duration": 8,
    "start_time": "2023-10-24T05:49:41.272Z"
   },
   {
    "duration": 203,
    "start_time": "2023-10-24T05:49:41.282Z"
   },
   {
    "duration": 4,
    "start_time": "2023-10-24T05:49:41.487Z"
   },
   {
    "duration": 20,
    "start_time": "2023-10-24T05:49:41.493Z"
   },
   {
    "duration": 15,
    "start_time": "2023-10-24T05:49:41.515Z"
   },
   {
    "duration": 12,
    "start_time": "2023-10-24T05:49:41.531Z"
   },
   {
    "duration": 19,
    "start_time": "2023-10-24T05:49:41.544Z"
   },
   {
    "duration": 19,
    "start_time": "2023-10-24T05:49:41.565Z"
   },
   {
    "duration": 28,
    "start_time": "2023-10-24T05:49:41.585Z"
   },
   {
    "duration": 6,
    "start_time": "2023-10-24T05:49:41.615Z"
   },
   {
    "duration": 90,
    "start_time": "2023-10-24T05:49:41.622Z"
   },
   {
    "duration": 48,
    "start_time": "2023-10-24T05:49:41.714Z"
   },
   {
    "duration": 232,
    "start_time": "2023-10-24T05:49:41.765Z"
   },
   {
    "duration": 47,
    "start_time": "2023-10-24T05:49:42.000Z"
   },
   {
    "duration": 27,
    "start_time": "2023-10-24T05:49:42.048Z"
   },
   {
    "duration": 1293,
    "start_time": "2023-10-24T06:44:06.840Z"
   },
   {
    "duration": 119,
    "start_time": "2023-10-24T06:44:08.135Z"
   },
   {
    "duration": 17,
    "start_time": "2023-10-24T06:44:08.257Z"
   },
   {
    "duration": 20,
    "start_time": "2023-10-24T06:44:08.276Z"
   },
   {
    "duration": 7,
    "start_time": "2023-10-24T06:44:08.297Z"
   },
   {
    "duration": 13,
    "start_time": "2023-10-24T06:44:08.306Z"
   },
   {
    "duration": 30,
    "start_time": "2023-10-24T06:44:08.321Z"
   },
   {
    "duration": 61,
    "start_time": "2023-10-24T06:44:08.355Z"
   },
   {
    "duration": 42,
    "start_time": "2023-10-24T06:44:08.418Z"
   },
   {
    "duration": 18,
    "start_time": "2023-10-24T06:44:08.463Z"
   },
   {
    "duration": 33,
    "start_time": "2023-10-24T06:44:08.483Z"
   },
   {
    "duration": 5,
    "start_time": "2023-10-24T06:44:08.518Z"
   },
   {
    "duration": 16,
    "start_time": "2023-10-24T06:44:08.548Z"
   },
   {
    "duration": 6,
    "start_time": "2023-10-24T06:44:08.566Z"
   },
   {
    "duration": 15,
    "start_time": "2023-10-24T06:44:08.574Z"
   },
   {
    "duration": 4,
    "start_time": "2023-10-24T06:44:08.590Z"
   },
   {
    "duration": 5,
    "start_time": "2023-10-24T06:44:08.596Z"
   },
   {
    "duration": 53,
    "start_time": "2023-10-24T06:44:08.603Z"
   },
   {
    "duration": 16,
    "start_time": "2023-10-24T06:44:08.664Z"
   },
   {
    "duration": 16,
    "start_time": "2023-10-24T06:44:08.681Z"
   },
   {
    "duration": 9,
    "start_time": "2023-10-24T06:44:08.699Z"
   },
   {
    "duration": 5,
    "start_time": "2023-10-24T06:44:08.710Z"
   },
   {
    "duration": 66,
    "start_time": "2023-10-24T06:44:08.717Z"
   },
   {
    "duration": 14,
    "start_time": "2023-10-24T06:44:08.785Z"
   },
   {
    "duration": 21,
    "start_time": "2023-10-24T06:44:08.801Z"
   },
   {
    "duration": 343,
    "start_time": "2023-10-24T06:44:08.824Z"
   },
   {
    "duration": 9,
    "start_time": "2023-10-24T06:44:09.169Z"
   },
   {
    "duration": 11,
    "start_time": "2023-10-24T06:44:09.183Z"
   },
   {
    "duration": 351,
    "start_time": "2023-10-24T06:44:09.195Z"
   },
   {
    "duration": 13,
    "start_time": "2023-10-24T06:44:09.548Z"
   },
   {
    "duration": 22,
    "start_time": "2023-10-24T06:44:09.563Z"
   },
   {
    "duration": 25,
    "start_time": "2023-10-24T06:44:09.587Z"
   },
   {
    "duration": 48,
    "start_time": "2023-10-24T06:44:09.614Z"
   },
   {
    "duration": 19,
    "start_time": "2023-10-24T06:44:09.665Z"
   },
   {
    "duration": 4,
    "start_time": "2023-10-24T06:44:09.685Z"
   },
   {
    "duration": 189,
    "start_time": "2023-10-24T06:44:09.691Z"
   },
   {
    "duration": 48,
    "start_time": "2023-10-24T06:44:09.882Z"
   },
   {
    "duration": 17,
    "start_time": "2023-10-24T06:44:09.932Z"
   },
   {
    "duration": 191,
    "start_time": "2023-10-24T06:44:09.952Z"
   },
   {
    "duration": 24,
    "start_time": "2023-10-24T06:44:10.146Z"
   },
   {
    "duration": 8,
    "start_time": "2023-10-24T06:44:10.172Z"
   },
   {
    "duration": 8,
    "start_time": "2023-10-24T06:44:10.182Z"
   },
   {
    "duration": 277,
    "start_time": "2023-10-24T06:44:10.191Z"
   },
   {
    "duration": 5,
    "start_time": "2023-10-24T06:44:10.470Z"
   },
   {
    "duration": 211,
    "start_time": "2023-10-24T06:44:10.477Z"
   },
   {
    "duration": 23,
    "start_time": "2023-10-24T06:44:10.690Z"
   },
   {
    "duration": 196,
    "start_time": "2023-10-24T06:44:10.714Z"
   },
   {
    "duration": 36,
    "start_time": "2023-10-24T06:44:10.912Z"
   },
   {
    "duration": 308,
    "start_time": "2023-10-24T06:44:10.951Z"
   },
   {
    "duration": 226,
    "start_time": "2023-10-24T06:44:11.261Z"
   },
   {
    "duration": 28,
    "start_time": "2023-10-24T06:44:11.489Z"
   },
   {
    "duration": 261,
    "start_time": "2023-10-24T06:44:11.518Z"
   },
   {
    "duration": 16,
    "start_time": "2023-10-24T06:44:11.781Z"
   },
   {
    "duration": 219,
    "start_time": "2023-10-24T06:44:11.799Z"
   },
   {
    "duration": 3,
    "start_time": "2023-10-24T06:44:12.019Z"
   },
   {
    "duration": 41,
    "start_time": "2023-10-24T06:44:12.024Z"
   },
   {
    "duration": 213,
    "start_time": "2023-10-24T06:44:12.068Z"
   },
   {
    "duration": 2,
    "start_time": "2023-10-24T06:44:12.283Z"
   },
   {
    "duration": 24,
    "start_time": "2023-10-24T06:44:12.287Z"
   },
   {
    "duration": 196,
    "start_time": "2023-10-24T06:44:12.313Z"
   },
   {
    "duration": 3,
    "start_time": "2023-10-24T06:44:12.511Z"
   },
   {
    "duration": 227,
    "start_time": "2023-10-24T06:44:12.516Z"
   },
   {
    "duration": 2,
    "start_time": "2023-10-24T06:44:12.747Z"
   },
   {
    "duration": 480,
    "start_time": "2023-10-24T06:44:12.751Z"
   },
   {
    "duration": 250,
    "start_time": "2023-10-24T06:44:13.233Z"
   },
   {
    "duration": 206,
    "start_time": "2023-10-24T06:44:13.485Z"
   },
   {
    "duration": 3,
    "start_time": "2023-10-24T06:44:13.693Z"
   },
   {
    "duration": 226,
    "start_time": "2023-10-24T06:44:13.698Z"
   },
   {
    "duration": 25,
    "start_time": "2023-10-24T06:44:13.926Z"
   },
   {
    "duration": 152,
    "start_time": "2023-10-24T06:44:13.954Z"
   },
   {
    "duration": 10,
    "start_time": "2023-10-24T06:44:14.108Z"
   },
   {
    "duration": 27,
    "start_time": "2023-10-24T06:44:14.120Z"
   },
   {
    "duration": 9,
    "start_time": "2023-10-24T06:44:14.149Z"
   },
   {
    "duration": 12,
    "start_time": "2023-10-24T06:44:14.160Z"
   },
   {
    "duration": 9,
    "start_time": "2023-10-24T06:44:14.174Z"
   },
   {
    "duration": 16,
    "start_time": "2023-10-24T06:44:14.185Z"
   },
   {
    "duration": 8,
    "start_time": "2023-10-24T06:44:14.204Z"
   },
   {
    "duration": 1240,
    "start_time": "2023-10-24T06:44:14.214Z"
   },
   {
    "duration": 20,
    "start_time": "2023-10-24T06:44:15.456Z"
   },
   {
    "duration": 10,
    "start_time": "2023-10-24T06:44:15.478Z"
   },
   {
    "duration": 11,
    "start_time": "2023-10-24T06:44:15.490Z"
   },
   {
    "duration": 39,
    "start_time": "2023-10-24T06:44:15.508Z"
   },
   {
    "duration": 24,
    "start_time": "2023-10-24T06:44:15.549Z"
   },
   {
    "duration": 23,
    "start_time": "2023-10-24T06:44:15.575Z"
   },
   {
    "duration": 18,
    "start_time": "2023-10-24T06:44:15.599Z"
   },
   {
    "duration": 50,
    "start_time": "2023-10-24T06:44:15.618Z"
   },
   {
    "duration": 13,
    "start_time": "2023-10-24T06:44:15.670Z"
   },
   {
    "duration": 14,
    "start_time": "2023-10-24T06:44:15.687Z"
   },
   {
    "duration": 20,
    "start_time": "2023-10-24T06:44:15.703Z"
   },
   {
    "duration": 35,
    "start_time": "2023-10-24T06:44:15.725Z"
   },
   {
    "duration": 31,
    "start_time": "2023-10-24T06:44:15.762Z"
   },
   {
    "duration": 8,
    "start_time": "2023-10-24T06:44:15.795Z"
   },
   {
    "duration": 24,
    "start_time": "2023-10-24T06:44:15.804Z"
   },
   {
    "duration": 26,
    "start_time": "2023-10-24T06:44:15.830Z"
   },
   {
    "duration": 25,
    "start_time": "2023-10-24T06:44:15.857Z"
   },
   {
    "duration": 33,
    "start_time": "2023-10-24T06:44:15.884Z"
   },
   {
    "duration": 264,
    "start_time": "2023-10-24T06:44:15.918Z"
   },
   {
    "duration": 8,
    "start_time": "2023-10-24T06:44:16.183Z"
   },
   {
    "duration": 208,
    "start_time": "2023-10-24T06:44:16.192Z"
   },
   {
    "duration": 4,
    "start_time": "2023-10-24T06:44:16.402Z"
   },
   {
    "duration": 14,
    "start_time": "2023-10-24T06:44:16.408Z"
   },
   {
    "duration": 25,
    "start_time": "2023-10-24T06:44:16.424Z"
   },
   {
    "duration": 16,
    "start_time": "2023-10-24T06:44:16.451Z"
   },
   {
    "duration": 19,
    "start_time": "2023-10-24T06:44:16.469Z"
   },
   {
    "duration": 8,
    "start_time": "2023-10-24T06:44:16.490Z"
   },
   {
    "duration": 31,
    "start_time": "2023-10-24T06:44:16.500Z"
   },
   {
    "duration": 16,
    "start_time": "2023-10-24T06:44:16.533Z"
   },
   {
    "duration": 85,
    "start_time": "2023-10-24T06:44:16.551Z"
   },
   {
    "duration": 44,
    "start_time": "2023-10-24T06:44:16.638Z"
   },
   {
    "duration": 252,
    "start_time": "2023-10-24T06:44:16.683Z"
   },
   {
    "duration": 39,
    "start_time": "2023-10-24T06:44:16.937Z"
   },
   {
    "duration": 27,
    "start_time": "2023-10-24T06:44:16.978Z"
   },
   {
    "duration": 260,
    "start_time": "2023-10-24T06:45:43.979Z"
   },
   {
    "duration": 67,
    "start_time": "2023-10-24T06:45:56.311Z"
   },
   {
    "duration": 199,
    "start_time": "2023-10-24T06:50:01.905Z"
   },
   {
    "duration": 29,
    "start_time": "2023-10-24T06:58:02.865Z"
   },
   {
    "duration": 10,
    "start_time": "2023-10-24T06:58:58.011Z"
   },
   {
    "duration": 11,
    "start_time": "2023-10-24T07:48:34.167Z"
   },
   {
    "duration": 4,
    "start_time": "2023-10-24T07:48:36.815Z"
   },
   {
    "duration": 5,
    "start_time": "2023-10-24T07:48:43.852Z"
   },
   {
    "duration": 4,
    "start_time": "2023-10-24T07:48:45.760Z"
   },
   {
    "duration": 82,
    "start_time": "2023-10-24T07:49:00.665Z"
   },
   {
    "duration": 5,
    "start_time": "2023-10-24T07:49:03.296Z"
   },
   {
    "duration": 110,
    "start_time": "2023-10-24T07:49:41.168Z"
   },
   {
    "duration": 5,
    "start_time": "2023-10-24T07:49:45.106Z"
   },
   {
    "duration": 4,
    "start_time": "2023-10-24T07:49:53.453Z"
   },
   {
    "duration": 4,
    "start_time": "2023-10-24T07:49:56.912Z"
   },
   {
    "duration": 5,
    "start_time": "2023-10-24T07:49:59.024Z"
   },
   {
    "duration": 5,
    "start_time": "2023-10-24T07:50:03.016Z"
   },
   {
    "duration": 6,
    "start_time": "2023-10-24T07:50:06.784Z"
   },
   {
    "duration": 21,
    "start_time": "2023-10-24T07:55:57.761Z"
   },
   {
    "duration": 24,
    "start_time": "2023-10-24T07:56:02.272Z"
   },
   {
    "duration": 1352,
    "start_time": "2023-10-24T08:11:11.129Z"
   },
   {
    "duration": 108,
    "start_time": "2023-10-24T08:11:12.484Z"
   },
   {
    "duration": 15,
    "start_time": "2023-10-24T08:11:12.594Z"
   },
   {
    "duration": 57,
    "start_time": "2023-10-24T08:11:12.612Z"
   },
   {
    "duration": 13,
    "start_time": "2023-10-24T08:11:12.671Z"
   },
   {
    "duration": 23,
    "start_time": "2023-10-24T08:11:12.686Z"
   },
   {
    "duration": 11,
    "start_time": "2023-10-24T08:11:12.711Z"
   },
   {
    "duration": 85,
    "start_time": "2023-10-24T08:11:12.724Z"
   },
   {
    "duration": 20,
    "start_time": "2023-10-24T08:11:12.811Z"
   },
   {
    "duration": 20,
    "start_time": "2023-10-24T08:11:12.849Z"
   },
   {
    "duration": 44,
    "start_time": "2023-10-24T08:11:12.871Z"
   },
   {
    "duration": 7,
    "start_time": "2023-10-24T08:11:12.918Z"
   },
   {
    "duration": 348,
    "start_time": "2023-10-24T08:11:12.927Z"
   },
   {
    "duration": 75,
    "start_time": "2023-10-24T08:11:13.277Z"
   },
   {
    "duration": 11,
    "start_time": "2023-10-24T08:11:13.354Z"
   },
   {
    "duration": 14,
    "start_time": "2023-10-24T08:11:13.367Z"
   },
   {
    "duration": 19,
    "start_time": "2023-10-24T08:11:13.383Z"
   },
   {
    "duration": 216,
    "start_time": "2023-10-24T08:11:13.404Z"
   },
   {
    "duration": 5,
    "start_time": "2023-10-24T08:11:13.622Z"
   },
   {
    "duration": 19,
    "start_time": "2023-10-24T08:11:13.629Z"
   },
   {
    "duration": 10,
    "start_time": "2023-10-24T08:11:13.650Z"
   },
   {
    "duration": 18,
    "start_time": "2023-10-24T08:11:13.662Z"
   },
   {
    "duration": 16,
    "start_time": "2023-10-24T08:11:13.681Z"
   },
   {
    "duration": 11,
    "start_time": "2023-10-24T08:11:13.699Z"
   },
   {
    "duration": 36,
    "start_time": "2023-10-24T08:11:13.711Z"
   },
   {
    "duration": 33,
    "start_time": "2023-10-24T08:11:13.749Z"
   },
   {
    "duration": 13,
    "start_time": "2023-10-24T08:11:13.784Z"
   },
   {
    "duration": 45,
    "start_time": "2023-10-24T08:11:13.802Z"
   },
   {
    "duration": 370,
    "start_time": "2023-10-24T08:11:13.850Z"
   },
   {
    "duration": 12,
    "start_time": "2023-10-24T08:11:14.223Z"
   },
   {
    "duration": 23,
    "start_time": "2023-10-24T08:11:14.248Z"
   },
   {
    "duration": 329,
    "start_time": "2023-10-24T08:11:14.273Z"
   },
   {
    "duration": 11,
    "start_time": "2023-10-24T08:11:14.603Z"
   },
   {
    "duration": 45,
    "start_time": "2023-10-24T08:11:14.617Z"
   },
   {
    "duration": 46,
    "start_time": "2023-10-24T08:11:14.665Z"
   },
   {
    "duration": 15,
    "start_time": "2023-10-24T08:11:14.713Z"
   },
   {
    "duration": 24,
    "start_time": "2023-10-24T08:11:14.747Z"
   },
   {
    "duration": 4,
    "start_time": "2023-10-24T08:11:14.773Z"
   },
   {
    "duration": 177,
    "start_time": "2023-10-24T08:11:14.778Z"
   },
   {
    "duration": 59,
    "start_time": "2023-10-24T08:11:14.957Z"
   },
   {
    "duration": 7,
    "start_time": "2023-10-24T08:11:15.018Z"
   },
   {
    "duration": 241,
    "start_time": "2023-10-24T08:11:15.027Z"
   },
   {
    "duration": 41,
    "start_time": "2023-10-24T08:11:15.270Z"
   },
   {
    "duration": 35,
    "start_time": "2023-10-24T08:11:15.314Z"
   },
   {
    "duration": 6,
    "start_time": "2023-10-24T08:11:15.351Z"
   },
   {
    "duration": 309,
    "start_time": "2023-10-24T08:11:15.359Z"
   },
   {
    "duration": 6,
    "start_time": "2023-10-24T08:11:15.670Z"
   },
   {
    "duration": 239,
    "start_time": "2023-10-24T08:11:15.679Z"
   },
   {
    "duration": 36,
    "start_time": "2023-10-24T08:11:15.920Z"
   },
   {
    "duration": 224,
    "start_time": "2023-10-24T08:11:15.958Z"
   },
   {
    "duration": 29,
    "start_time": "2023-10-24T08:11:16.185Z"
   },
   {
    "duration": 302,
    "start_time": "2023-10-24T08:11:16.216Z"
   },
   {
    "duration": 233,
    "start_time": "2023-10-24T08:11:16.520Z"
   },
   {
    "duration": 27,
    "start_time": "2023-10-24T08:11:16.755Z"
   },
   {
    "duration": 306,
    "start_time": "2023-10-24T08:11:16.784Z"
   },
   {
    "duration": 18,
    "start_time": "2023-10-24T08:11:17.093Z"
   },
   {
    "duration": 218,
    "start_time": "2023-10-24T08:11:17.113Z"
   },
   {
    "duration": 3,
    "start_time": "2023-10-24T08:11:17.332Z"
   },
   {
    "duration": 21,
    "start_time": "2023-10-24T08:11:17.346Z"
   },
   {
    "duration": 205,
    "start_time": "2023-10-24T08:11:17.369Z"
   },
   {
    "duration": 3,
    "start_time": "2023-10-24T08:11:17.576Z"
   },
   {
    "duration": 45,
    "start_time": "2023-10-24T08:11:17.580Z"
   },
   {
    "duration": 204,
    "start_time": "2023-10-24T08:11:17.627Z"
   },
   {
    "duration": 3,
    "start_time": "2023-10-24T08:11:17.833Z"
   },
   {
    "duration": 284,
    "start_time": "2023-10-24T08:11:17.838Z"
   },
   {
    "duration": 3,
    "start_time": "2023-10-24T08:11:18.125Z"
   },
   {
    "duration": 532,
    "start_time": "2023-10-24T08:11:18.130Z"
   },
   {
    "duration": 272,
    "start_time": "2023-10-24T08:11:18.665Z"
   },
   {
    "duration": 247,
    "start_time": "2023-10-24T08:11:18.938Z"
   },
   {
    "duration": 3,
    "start_time": "2023-10-24T08:11:19.187Z"
   },
   {
    "duration": 249,
    "start_time": "2023-10-24T08:11:19.193Z"
   },
   {
    "duration": 18,
    "start_time": "2023-10-24T08:11:19.444Z"
   },
   {
    "duration": 151,
    "start_time": "2023-10-24T08:11:19.464Z"
   },
   {
    "duration": 9,
    "start_time": "2023-10-24T08:11:19.617Z"
   },
   {
    "duration": 22,
    "start_time": "2023-10-24T08:11:19.628Z"
   },
   {
    "duration": 15,
    "start_time": "2023-10-24T08:11:19.651Z"
   },
   {
    "duration": 14,
    "start_time": "2023-10-24T08:11:19.668Z"
   },
   {
    "duration": 33,
    "start_time": "2023-10-24T08:11:19.685Z"
   },
   {
    "duration": 14,
    "start_time": "2023-10-24T08:11:19.720Z"
   },
   {
    "duration": 32,
    "start_time": "2023-10-24T08:11:19.736Z"
   },
   {
    "duration": 1238,
    "start_time": "2023-10-24T08:11:19.770Z"
   },
   {
    "duration": 20,
    "start_time": "2023-10-24T08:11:21.014Z"
   },
   {
    "duration": 113,
    "start_time": "2023-10-24T08:11:21.036Z"
   },
   {
    "duration": 36,
    "start_time": "2023-10-24T08:11:21.151Z"
   },
   {
    "duration": 39,
    "start_time": "2023-10-24T08:11:21.190Z"
   },
   {
    "duration": 67,
    "start_time": "2023-10-24T08:11:21.231Z"
   },
   {
    "duration": 31,
    "start_time": "2023-10-24T08:11:21.301Z"
   },
   {
    "duration": 32,
    "start_time": "2023-10-24T08:11:21.335Z"
   },
   {
    "duration": 45,
    "start_time": "2023-10-24T08:11:21.370Z"
   },
   {
    "duration": 11,
    "start_time": "2023-10-24T08:11:21.417Z"
   },
   {
    "duration": 19,
    "start_time": "2023-10-24T08:11:21.429Z"
   },
   {
    "duration": 17,
    "start_time": "2023-10-24T08:11:21.450Z"
   },
   {
    "duration": 19,
    "start_time": "2023-10-24T08:11:21.469Z"
   },
   {
    "duration": 7,
    "start_time": "2023-10-24T08:11:21.490Z"
   },
   {
    "duration": 16,
    "start_time": "2023-10-24T08:11:21.499Z"
   },
   {
    "duration": 36,
    "start_time": "2023-10-24T08:11:21.517Z"
   },
   {
    "duration": 22,
    "start_time": "2023-10-24T08:11:21.555Z"
   },
   {
    "duration": 30,
    "start_time": "2023-10-24T08:11:21.578Z"
   },
   {
    "duration": 53,
    "start_time": "2023-10-24T08:11:21.610Z"
   },
   {
    "duration": 272,
    "start_time": "2023-10-24T08:11:21.665Z"
   },
   {
    "duration": 13,
    "start_time": "2023-10-24T08:11:21.940Z"
   },
   {
    "duration": 236,
    "start_time": "2023-10-24T08:11:21.955Z"
   },
   {
    "duration": 4,
    "start_time": "2023-10-24T08:11:22.193Z"
   },
   {
    "duration": 36,
    "start_time": "2023-10-24T08:11:22.199Z"
   },
   {
    "duration": 22,
    "start_time": "2023-10-24T08:11:22.237Z"
   },
   {
    "duration": 24,
    "start_time": "2023-10-24T08:11:22.261Z"
   },
   {
    "duration": 44,
    "start_time": "2023-10-24T08:11:22.287Z"
   },
   {
    "duration": 16,
    "start_time": "2023-10-24T08:11:22.332Z"
   },
   {
    "duration": 29,
    "start_time": "2023-10-24T08:11:22.351Z"
   },
   {
    "duration": 8,
    "start_time": "2023-10-24T08:11:22.383Z"
   },
   {
    "duration": 104,
    "start_time": "2023-10-24T08:11:22.393Z"
   },
   {
    "duration": 50,
    "start_time": "2023-10-24T08:11:22.498Z"
   },
   {
    "duration": 293,
    "start_time": "2023-10-24T08:11:22.550Z"
   },
   {
    "duration": 56,
    "start_time": "2023-10-24T08:11:22.847Z"
   },
   {
    "duration": 31,
    "start_time": "2023-10-24T08:11:22.905Z"
   },
   {
    "duration": 1357,
    "start_time": "2023-10-25T14:05:59.620Z"
   },
   {
    "duration": 779,
    "start_time": "2023-10-25T14:06:00.979Z"
   },
   {
    "duration": 14,
    "start_time": "2023-10-25T14:06:01.760Z"
   },
   {
    "duration": 50,
    "start_time": "2023-10-25T14:06:01.775Z"
   },
   {
    "duration": 21,
    "start_time": "2023-10-25T14:06:01.827Z"
   },
   {
    "duration": 26,
    "start_time": "2023-10-25T14:06:01.857Z"
   },
   {
    "duration": 49,
    "start_time": "2023-10-25T14:06:01.884Z"
   },
   {
    "duration": 89,
    "start_time": "2023-10-25T14:06:01.935Z"
   },
   {
    "duration": 86,
    "start_time": "2023-10-25T14:06:02.025Z"
   },
   {
    "duration": 44,
    "start_time": "2023-10-25T14:06:02.113Z"
   },
   {
    "duration": 318,
    "start_time": "2023-10-25T14:06:02.162Z"
   },
   {
    "duration": 164,
    "start_time": "2023-10-25T14:06:02.482Z"
   },
   {
    "duration": 561,
    "start_time": "2023-10-25T14:06:02.651Z"
   },
   {
    "duration": 85,
    "start_time": "2023-10-25T14:06:03.215Z"
   },
   {
    "duration": 11,
    "start_time": "2023-10-25T14:06:03.302Z"
   },
   {
    "duration": 78,
    "start_time": "2023-10-25T14:06:03.315Z"
   },
   {
    "duration": 75,
    "start_time": "2023-10-25T14:06:03.394Z"
   },
   {
    "duration": 315,
    "start_time": "2023-10-25T14:06:03.471Z"
   },
   {
    "duration": 4,
    "start_time": "2023-10-25T14:06:03.788Z"
   },
   {
    "duration": 23,
    "start_time": "2023-10-25T14:06:03.794Z"
   },
   {
    "duration": 21,
    "start_time": "2023-10-25T14:06:03.819Z"
   },
   {
    "duration": 43,
    "start_time": "2023-10-25T14:06:03.842Z"
   },
   {
    "duration": 86,
    "start_time": "2023-10-25T14:06:03.887Z"
   },
   {
    "duration": 17,
    "start_time": "2023-10-25T14:06:03.975Z"
   },
   {
    "duration": 6,
    "start_time": "2023-10-25T14:06:03.994Z"
   },
   {
    "duration": 55,
    "start_time": "2023-10-25T14:06:04.001Z"
   },
   {
    "duration": 18,
    "start_time": "2023-10-25T14:06:04.058Z"
   },
   {
    "duration": 24,
    "start_time": "2023-10-25T14:06:04.078Z"
   },
   {
    "duration": 409,
    "start_time": "2023-10-25T14:06:04.107Z"
   },
   {
    "duration": 8,
    "start_time": "2023-10-25T14:06:04.518Z"
   },
   {
    "duration": 29,
    "start_time": "2023-10-25T14:06:04.527Z"
   },
   {
    "duration": 312,
    "start_time": "2023-10-25T14:06:04.558Z"
   },
   {
    "duration": 10,
    "start_time": "2023-10-25T14:06:04.872Z"
   },
   {
    "duration": 19,
    "start_time": "2023-10-25T14:06:04.883Z"
   },
   {
    "duration": 20,
    "start_time": "2023-10-25T14:06:04.903Z"
   },
   {
    "duration": 13,
    "start_time": "2023-10-25T14:06:04.925Z"
   },
   {
    "duration": 31,
    "start_time": "2023-10-25T14:06:04.939Z"
   },
   {
    "duration": 4,
    "start_time": "2023-10-25T14:06:04.971Z"
   },
   {
    "duration": 159,
    "start_time": "2023-10-25T14:06:04.977Z"
   },
   {
    "duration": 57,
    "start_time": "2023-10-25T14:06:05.144Z"
   },
   {
    "duration": 7,
    "start_time": "2023-10-25T14:06:05.207Z"
   },
   {
    "duration": 187,
    "start_time": "2023-10-25T14:06:05.216Z"
   },
   {
    "duration": 24,
    "start_time": "2023-10-25T14:06:05.404Z"
   },
   {
    "duration": 9,
    "start_time": "2023-10-25T14:06:05.454Z"
   },
   {
    "duration": 14,
    "start_time": "2023-10-25T14:06:05.465Z"
   },
   {
    "duration": 226,
    "start_time": "2023-10-25T14:06:05.481Z"
   },
   {
    "duration": 4,
    "start_time": "2023-10-25T14:06:05.709Z"
   },
   {
    "duration": 248,
    "start_time": "2023-10-25T14:06:05.715Z"
   },
   {
    "duration": 23,
    "start_time": "2023-10-25T14:06:05.965Z"
   },
   {
    "duration": 182,
    "start_time": "2023-10-25T14:06:05.990Z"
   },
   {
    "duration": 26,
    "start_time": "2023-10-25T14:06:06.174Z"
   },
   {
    "duration": 266,
    "start_time": "2023-10-25T14:06:06.201Z"
   },
   {
    "duration": 199,
    "start_time": "2023-10-25T14:06:06.468Z"
   },
   {
    "duration": 25,
    "start_time": "2023-10-25T14:06:06.668Z"
   },
   {
    "duration": 239,
    "start_time": "2023-10-25T14:06:06.694Z"
   },
   {
    "duration": 32,
    "start_time": "2023-10-25T14:06:06.934Z"
   },
   {
    "duration": 191,
    "start_time": "2023-10-25T14:06:06.967Z"
   },
   {
    "duration": 3,
    "start_time": "2023-10-25T14:06:07.159Z"
   },
   {
    "duration": 27,
    "start_time": "2023-10-25T14:06:07.163Z"
   },
   {
    "duration": 183,
    "start_time": "2023-10-25T14:06:07.192Z"
   },
   {
    "duration": 2,
    "start_time": "2023-10-25T14:06:07.377Z"
   },
   {
    "duration": 16,
    "start_time": "2023-10-25T14:06:07.380Z"
   },
   {
    "duration": 179,
    "start_time": "2023-10-25T14:06:07.397Z"
   },
   {
    "duration": 2,
    "start_time": "2023-10-25T14:06:07.578Z"
   },
   {
    "duration": 196,
    "start_time": "2023-10-25T14:06:07.581Z"
   },
   {
    "duration": 2,
    "start_time": "2023-10-25T14:06:07.779Z"
   },
   {
    "duration": 916,
    "start_time": "2023-10-25T14:06:07.782Z"
   },
   {
    "duration": 222,
    "start_time": "2023-10-25T14:06:08.699Z"
   },
   {
    "duration": 187,
    "start_time": "2023-10-25T14:06:08.922Z"
   },
   {
    "duration": 95,
    "start_time": "2023-10-25T14:06:09.110Z"
   },
   {
    "duration": 207,
    "start_time": "2023-10-25T14:06:09.207Z"
   },
   {
    "duration": 34,
    "start_time": "2023-10-25T14:06:09.415Z"
   },
   {
    "duration": 123,
    "start_time": "2023-10-25T14:06:09.459Z"
   },
   {
    "duration": 7,
    "start_time": "2023-10-25T14:06:09.584Z"
   },
   {
    "duration": 8,
    "start_time": "2023-10-25T14:06:09.593Z"
   },
   {
    "duration": 17,
    "start_time": "2023-10-25T14:06:09.603Z"
   },
   {
    "duration": 20,
    "start_time": "2023-10-25T14:06:09.622Z"
   },
   {
    "duration": 17,
    "start_time": "2023-10-25T14:06:09.645Z"
   },
   {
    "duration": 17,
    "start_time": "2023-10-25T14:06:09.663Z"
   },
   {
    "duration": 14,
    "start_time": "2023-10-25T14:06:09.681Z"
   },
   {
    "duration": 1094,
    "start_time": "2023-10-25T14:06:09.697Z"
   },
   {
    "duration": 19,
    "start_time": "2023-10-25T14:06:10.792Z"
   },
   {
    "duration": 10,
    "start_time": "2023-10-25T14:06:10.812Z"
   },
   {
    "duration": 36,
    "start_time": "2023-10-25T14:06:10.824Z"
   },
   {
    "duration": 14,
    "start_time": "2023-10-25T14:06:10.862Z"
   },
   {
    "duration": 36,
    "start_time": "2023-10-25T14:06:10.877Z"
   },
   {
    "duration": 18,
    "start_time": "2023-10-25T14:06:10.914Z"
   },
   {
    "duration": 27,
    "start_time": "2023-10-25T14:06:10.934Z"
   },
   {
    "duration": 21,
    "start_time": "2023-10-25T14:06:10.962Z"
   },
   {
    "duration": 5,
    "start_time": "2023-10-25T14:06:10.985Z"
   },
   {
    "duration": 15,
    "start_time": "2023-10-25T14:06:10.991Z"
   },
   {
    "duration": 14,
    "start_time": "2023-10-25T14:06:11.007Z"
   },
   {
    "duration": 41,
    "start_time": "2023-10-25T14:06:11.022Z"
   },
   {
    "duration": 8,
    "start_time": "2023-10-25T14:06:11.065Z"
   },
   {
    "duration": 17,
    "start_time": "2023-10-25T14:06:11.074Z"
   },
   {
    "duration": 22,
    "start_time": "2023-10-25T14:06:11.092Z"
   },
   {
    "duration": 45,
    "start_time": "2023-10-25T14:06:11.116Z"
   },
   {
    "duration": 23,
    "start_time": "2023-10-25T14:06:11.163Z"
   },
   {
    "duration": 30,
    "start_time": "2023-10-25T14:06:11.188Z"
   },
   {
    "duration": 256,
    "start_time": "2023-10-25T14:06:11.220Z"
   },
   {
    "duration": 7,
    "start_time": "2023-10-25T14:06:11.478Z"
   },
   {
    "duration": 186,
    "start_time": "2023-10-25T14:06:11.486Z"
   },
   {
    "duration": 3,
    "start_time": "2023-10-25T14:06:11.674Z"
   },
   {
    "duration": 33,
    "start_time": "2023-10-25T14:06:11.679Z"
   },
   {
    "duration": 13,
    "start_time": "2023-10-25T14:06:11.715Z"
   },
   {
    "duration": 24,
    "start_time": "2023-10-25T14:06:11.730Z"
   },
   {
    "duration": 26,
    "start_time": "2023-10-25T14:06:11.755Z"
   },
   {
    "duration": 17,
    "start_time": "2023-10-25T14:06:11.783Z"
   },
   {
    "duration": 32,
    "start_time": "2023-10-25T14:06:11.801Z"
   },
   {
    "duration": 18,
    "start_time": "2023-10-25T14:06:11.834Z"
   },
   {
    "duration": 74,
    "start_time": "2023-10-25T14:06:11.855Z"
   },
   {
    "duration": 37,
    "start_time": "2023-10-25T14:06:11.931Z"
   },
   {
    "duration": 218,
    "start_time": "2023-10-25T14:06:11.970Z"
   },
   {
    "duration": 33,
    "start_time": "2023-10-25T14:06:12.190Z"
   },
   {
    "duration": 37,
    "start_time": "2023-10-25T14:06:12.225Z"
   },
   {
    "duration": 103,
    "start_time": "2023-10-25T14:08:56.375Z"
   },
   {
    "duration": 4,
    "start_time": "2023-10-25T14:09:03.388Z"
   },
   {
    "duration": 7,
    "start_time": "2023-10-25T14:09:28.147Z"
   },
   {
    "duration": 5,
    "start_time": "2023-10-25T14:09:42.886Z"
   },
   {
    "duration": 5,
    "start_time": "2023-10-25T14:09:50.229Z"
   },
   {
    "duration": 3,
    "start_time": "2023-10-25T14:12:13.422Z"
   },
   {
    "duration": 4,
    "start_time": "2023-10-25T14:14:51.622Z"
   },
   {
    "duration": 1309,
    "start_time": "2023-10-26T14:32:20.327Z"
   },
   {
    "duration": 195,
    "start_time": "2023-10-26T14:32:21.638Z"
   },
   {
    "duration": 14,
    "start_time": "2023-10-26T14:32:21.834Z"
   },
   {
    "duration": 22,
    "start_time": "2023-10-26T14:32:21.849Z"
   },
   {
    "duration": 7,
    "start_time": "2023-10-26T14:32:21.873Z"
   },
   {
    "duration": 17,
    "start_time": "2023-10-26T14:32:21.882Z"
   },
   {
    "duration": 8,
    "start_time": "2023-10-26T14:32:21.901Z"
   },
   {
    "duration": 66,
    "start_time": "2023-10-26T14:32:21.911Z"
   },
   {
    "duration": 16,
    "start_time": "2023-10-26T14:32:21.979Z"
   },
   {
    "duration": 15,
    "start_time": "2023-10-26T14:32:21.998Z"
   },
   {
    "duration": 55,
    "start_time": "2023-10-26T14:32:22.014Z"
   },
   {
    "duration": 6,
    "start_time": "2023-10-26T14:32:22.070Z"
   },
   {
    "duration": 242,
    "start_time": "2023-10-26T14:32:22.077Z"
   },
   {
    "duration": 64,
    "start_time": "2023-10-26T14:32:22.321Z"
   },
   {
    "duration": 13,
    "start_time": "2023-10-26T14:32:22.387Z"
   },
   {
    "duration": 9,
    "start_time": "2023-10-26T14:32:22.405Z"
   },
   {
    "duration": 28,
    "start_time": "2023-10-26T14:32:22.416Z"
   },
   {
    "duration": 656,
    "start_time": "2023-10-26T14:32:22.447Z"
   },
   {
    "duration": 4,
    "start_time": "2023-10-26T14:32:23.104Z"
   },
   {
    "duration": 20,
    "start_time": "2023-10-26T14:32:23.109Z"
   },
   {
    "duration": 29,
    "start_time": "2023-10-26T14:32:23.131Z"
   },
   {
    "duration": 12,
    "start_time": "2023-10-26T14:32:23.161Z"
   },
   {
    "duration": 12,
    "start_time": "2023-10-26T14:32:23.175Z"
   },
   {
    "duration": 17,
    "start_time": "2023-10-26T14:32:23.189Z"
   },
   {
    "duration": 10,
    "start_time": "2023-10-26T14:32:23.207Z"
   },
   {
    "duration": 39,
    "start_time": "2023-10-26T14:32:23.218Z"
   },
   {
    "duration": 12,
    "start_time": "2023-10-26T14:32:23.258Z"
   },
   {
    "duration": 12,
    "start_time": "2023-10-26T14:32:23.275Z"
   },
   {
    "duration": 298,
    "start_time": "2023-10-26T14:32:23.289Z"
   },
   {
    "duration": 7,
    "start_time": "2023-10-26T14:32:23.588Z"
   },
   {
    "duration": 28,
    "start_time": "2023-10-26T14:32:23.597Z"
   },
   {
    "duration": 283,
    "start_time": "2023-10-26T14:32:23.626Z"
   },
   {
    "duration": 9,
    "start_time": "2023-10-26T14:32:23.911Z"
   },
   {
    "duration": 22,
    "start_time": "2023-10-26T14:32:23.921Z"
   },
   {
    "duration": 17,
    "start_time": "2023-10-26T14:32:23.944Z"
   },
   {
    "duration": 13,
    "start_time": "2023-10-26T14:32:23.963Z"
   },
   {
    "duration": 15,
    "start_time": "2023-10-26T14:32:23.978Z"
   },
   {
    "duration": 3,
    "start_time": "2023-10-26T14:32:23.995Z"
   },
   {
    "duration": 159,
    "start_time": "2023-10-26T14:32:23.999Z"
   },
   {
    "duration": 41,
    "start_time": "2023-10-26T14:32:24.160Z"
   },
   {
    "duration": 5,
    "start_time": "2023-10-26T14:32:24.202Z"
   },
   {
    "duration": 153,
    "start_time": "2023-10-26T14:32:24.209Z"
   },
   {
    "duration": 21,
    "start_time": "2023-10-26T14:32:24.363Z"
   },
   {
    "duration": 6,
    "start_time": "2023-10-26T14:32:24.386Z"
   },
   {
    "duration": 5,
    "start_time": "2023-10-26T14:32:24.394Z"
   },
   {
    "duration": 213,
    "start_time": "2023-10-26T14:32:24.400Z"
   },
   {
    "duration": 4,
    "start_time": "2023-10-26T14:32:24.614Z"
   },
   {
    "duration": 191,
    "start_time": "2023-10-26T14:32:24.619Z"
   },
   {
    "duration": 19,
    "start_time": "2023-10-26T14:32:24.812Z"
   },
   {
    "duration": 172,
    "start_time": "2023-10-26T14:32:24.840Z"
   },
   {
    "duration": 26,
    "start_time": "2023-10-26T14:32:25.014Z"
   },
   {
    "duration": 214,
    "start_time": "2023-10-26T14:32:25.042Z"
   },
   {
    "duration": 188,
    "start_time": "2023-10-26T14:32:25.258Z"
   },
   {
    "duration": 23,
    "start_time": "2023-10-26T14:32:25.447Z"
   },
   {
    "duration": 207,
    "start_time": "2023-10-26T14:32:25.471Z"
   },
   {
    "duration": 12,
    "start_time": "2023-10-26T14:32:25.679Z"
   },
   {
    "duration": 174,
    "start_time": "2023-10-26T14:32:25.693Z"
   },
   {
    "duration": 2,
    "start_time": "2023-10-26T14:32:25.869Z"
   },
   {
    "duration": 16,
    "start_time": "2023-10-26T14:32:25.872Z"
   },
   {
    "duration": 173,
    "start_time": "2023-10-26T14:32:25.889Z"
   },
   {
    "duration": 3,
    "start_time": "2023-10-26T14:32:26.063Z"
   },
   {
    "duration": 24,
    "start_time": "2023-10-26T14:32:26.067Z"
   },
   {
    "duration": 179,
    "start_time": "2023-10-26T14:32:26.092Z"
   },
   {
    "duration": 3,
    "start_time": "2023-10-26T14:32:26.272Z"
   },
   {
    "duration": 210,
    "start_time": "2023-10-26T14:32:26.276Z"
   },
   {
    "duration": 2,
    "start_time": "2023-10-26T14:32:26.488Z"
   },
   {
    "duration": 386,
    "start_time": "2023-10-26T14:32:26.492Z"
   },
   {
    "duration": 211,
    "start_time": "2023-10-26T14:32:26.880Z"
   },
   {
    "duration": 190,
    "start_time": "2023-10-26T14:32:27.092Z"
   },
   {
    "duration": 3,
    "start_time": "2023-10-26T14:32:27.283Z"
   },
   {
    "duration": 191,
    "start_time": "2023-10-26T14:32:27.287Z"
   },
   {
    "duration": 15,
    "start_time": "2023-10-26T14:32:27.480Z"
   },
   {
    "duration": 131,
    "start_time": "2023-10-26T14:32:27.497Z"
   },
   {
    "duration": 11,
    "start_time": "2023-10-26T14:32:27.629Z"
   },
   {
    "duration": 18,
    "start_time": "2023-10-26T14:32:27.641Z"
   },
   {
    "duration": 7,
    "start_time": "2023-10-26T14:32:27.660Z"
   },
   {
    "duration": 15,
    "start_time": "2023-10-26T14:32:27.669Z"
   },
   {
    "duration": 14,
    "start_time": "2023-10-26T14:32:27.685Z"
   },
   {
    "duration": 9,
    "start_time": "2023-10-26T14:32:27.701Z"
   },
   {
    "duration": 23,
    "start_time": "2023-10-26T14:32:27.712Z"
   },
   {
    "duration": 906,
    "start_time": "2023-10-26T14:32:27.737Z"
   },
   {
    "duration": 17,
    "start_time": "2023-10-26T14:32:28.649Z"
   },
   {
    "duration": 9,
    "start_time": "2023-10-26T14:32:28.668Z"
   },
   {
    "duration": 15,
    "start_time": "2023-10-26T14:32:28.679Z"
   },
   {
    "duration": 10,
    "start_time": "2023-10-26T14:32:28.695Z"
   },
   {
    "duration": 34,
    "start_time": "2023-10-26T14:32:28.706Z"
   },
   {
    "duration": 18,
    "start_time": "2023-10-26T14:32:28.741Z"
   },
   {
    "duration": 23,
    "start_time": "2023-10-26T14:32:28.761Z"
   },
   {
    "duration": 21,
    "start_time": "2023-10-26T14:32:28.785Z"
   },
   {
    "duration": 4,
    "start_time": "2023-10-26T14:32:28.807Z"
   },
   {
    "duration": 30,
    "start_time": "2023-10-26T14:32:28.813Z"
   },
   {
    "duration": 24,
    "start_time": "2023-10-26T14:32:28.844Z"
   },
   {
    "duration": 19,
    "start_time": "2023-10-26T14:32:28.869Z"
   },
   {
    "duration": 5,
    "start_time": "2023-10-26T14:32:28.890Z"
   },
   {
    "duration": 10,
    "start_time": "2023-10-26T14:32:28.897Z"
   },
   {
    "duration": 20,
    "start_time": "2023-10-26T14:32:28.908Z"
   },
   {
    "duration": 5,
    "start_time": "2023-10-26T14:32:28.929Z"
   },
   {
    "duration": 20,
    "start_time": "2023-10-26T14:32:28.935Z"
   },
   {
    "duration": 19,
    "start_time": "2023-10-26T14:32:28.957Z"
   },
   {
    "duration": 19,
    "start_time": "2023-10-26T14:32:28.977Z"
   },
   {
    "duration": 238,
    "start_time": "2023-10-26T14:32:28.997Z"
   },
   {
    "duration": 8,
    "start_time": "2023-10-26T14:32:29.239Z"
   },
   {
    "duration": 174,
    "start_time": "2023-10-26T14:32:29.249Z"
   },
   {
    "duration": 3,
    "start_time": "2023-10-26T14:32:29.424Z"
   },
   {
    "duration": 11,
    "start_time": "2023-10-26T14:32:29.439Z"
   },
   {
    "duration": 3,
    "start_time": "2023-10-26T14:32:29.452Z"
   },
   {
    "duration": 5,
    "start_time": "2023-10-26T14:32:29.456Z"
   },
   {
    "duration": 15,
    "start_time": "2023-10-26T14:32:29.462Z"
   },
   {
    "duration": 5,
    "start_time": "2023-10-26T14:32:29.478Z"
   },
   {
    "duration": 17,
    "start_time": "2023-10-26T14:32:29.484Z"
   },
   {
    "duration": 5,
    "start_time": "2023-10-26T14:32:29.502Z"
   },
   {
    "duration": 70,
    "start_time": "2023-10-26T14:32:29.540Z"
   },
   {
    "duration": 45,
    "start_time": "2023-10-26T14:32:29.612Z"
   },
   {
    "duration": 199,
    "start_time": "2023-10-26T14:32:29.658Z"
   },
   {
    "duration": 29,
    "start_time": "2023-10-26T14:32:29.858Z"
   },
   {
    "duration": 22,
    "start_time": "2023-10-26T14:32:29.889Z"
   },
   {
    "duration": 13,
    "start_time": "2023-10-26T14:34:53.299Z"
   },
   {
    "duration": 15,
    "start_time": "2023-10-26T14:35:05.823Z"
   },
   {
    "duration": 8,
    "start_time": "2023-10-26T14:35:22.424Z"
   },
   {
    "duration": 1370,
    "start_time": "2023-10-26T14:37:20.190Z"
   },
   {
    "duration": 13,
    "start_time": "2023-10-26T14:37:33.338Z"
   },
   {
    "duration": 4,
    "start_time": "2023-10-26T14:38:28.623Z"
   },
   {
    "duration": 4,
    "start_time": "2023-10-26T14:38:44.406Z"
   },
   {
    "duration": 1104,
    "start_time": "2023-10-26T14:40:18.911Z"
   },
   {
    "duration": 99,
    "start_time": "2023-10-26T14:40:20.016Z"
   },
   {
    "duration": 13,
    "start_time": "2023-10-26T14:40:20.117Z"
   },
   {
    "duration": 23,
    "start_time": "2023-10-26T14:40:20.132Z"
   },
   {
    "duration": 6,
    "start_time": "2023-10-26T14:40:20.157Z"
   },
   {
    "duration": 11,
    "start_time": "2023-10-26T14:40:20.165Z"
   },
   {
    "duration": 6,
    "start_time": "2023-10-26T14:40:20.178Z"
   },
   {
    "duration": 59,
    "start_time": "2023-10-26T14:40:20.185Z"
   },
   {
    "duration": 17,
    "start_time": "2023-10-26T14:40:20.246Z"
   },
   {
    "duration": 17,
    "start_time": "2023-10-26T14:40:20.266Z"
   },
   {
    "duration": 41,
    "start_time": "2023-10-26T14:40:20.284Z"
   },
   {
    "duration": 16,
    "start_time": "2023-10-26T14:40:20.326Z"
   },
   {
    "duration": 229,
    "start_time": "2023-10-26T14:40:20.343Z"
   },
   {
    "duration": 58,
    "start_time": "2023-10-26T14:40:20.573Z"
   },
   {
    "duration": 14,
    "start_time": "2023-10-26T14:40:20.632Z"
   },
   {
    "duration": 10,
    "start_time": "2023-10-26T14:40:20.647Z"
   },
   {
    "duration": 28,
    "start_time": "2023-10-26T14:40:20.658Z"
   },
   {
    "duration": 185,
    "start_time": "2023-10-26T14:40:20.687Z"
   },
   {
    "duration": 3,
    "start_time": "2023-10-26T14:40:20.874Z"
   },
   {
    "duration": 31,
    "start_time": "2023-10-26T14:40:20.878Z"
   },
   {
    "duration": 18,
    "start_time": "2023-10-26T14:40:20.910Z"
   },
   {
    "duration": 21,
    "start_time": "2023-10-26T14:40:20.930Z"
   },
   {
    "duration": 28,
    "start_time": "2023-10-26T14:40:20.952Z"
   },
   {
    "duration": 11,
    "start_time": "2023-10-26T14:40:20.982Z"
   },
   {
    "duration": 29,
    "start_time": "2023-10-26T14:40:20.995Z"
   },
   {
    "duration": 39,
    "start_time": "2023-10-26T14:40:21.025Z"
   },
   {
    "duration": 11,
    "start_time": "2023-10-26T14:40:21.065Z"
   },
   {
    "duration": 39,
    "start_time": "2023-10-26T14:40:21.081Z"
   },
   {
    "duration": 275,
    "start_time": "2023-10-26T14:40:21.121Z"
   },
   {
    "duration": 7,
    "start_time": "2023-10-26T14:40:21.398Z"
   },
   {
    "duration": 29,
    "start_time": "2023-10-26T14:40:21.406Z"
   },
   {
    "duration": 293,
    "start_time": "2023-10-26T14:40:21.436Z"
   },
   {
    "duration": 9,
    "start_time": "2023-10-26T14:40:21.730Z"
   },
   {
    "duration": 35,
    "start_time": "2023-10-26T14:40:21.740Z"
   },
   {
    "duration": 15,
    "start_time": "2023-10-26T14:40:21.777Z"
   },
   {
    "duration": 14,
    "start_time": "2023-10-26T14:40:21.794Z"
   },
   {
    "duration": 32,
    "start_time": "2023-10-26T14:40:21.809Z"
   },
   {
    "duration": 3,
    "start_time": "2023-10-26T14:40:21.843Z"
   },
   {
    "duration": 148,
    "start_time": "2023-10-26T14:40:21.847Z"
   },
   {
    "duration": 51,
    "start_time": "2023-10-26T14:40:21.996Z"
   },
   {
    "duration": 6,
    "start_time": "2023-10-26T14:40:22.049Z"
   },
   {
    "duration": 154,
    "start_time": "2023-10-26T14:40:22.056Z"
   },
   {
    "duration": 30,
    "start_time": "2023-10-26T14:40:22.211Z"
   },
   {
    "duration": 9,
    "start_time": "2023-10-26T14:40:22.242Z"
   },
   {
    "duration": 12,
    "start_time": "2023-10-26T14:40:22.252Z"
   },
   {
    "duration": 243,
    "start_time": "2023-10-26T14:40:22.265Z"
   },
   {
    "duration": 5,
    "start_time": "2023-10-26T14:40:22.509Z"
   },
   {
    "duration": 198,
    "start_time": "2023-10-26T14:40:22.516Z"
   },
   {
    "duration": 19,
    "start_time": "2023-10-26T14:40:22.715Z"
   },
   {
    "duration": 155,
    "start_time": "2023-10-26T14:40:22.739Z"
   },
   {
    "duration": 21,
    "start_time": "2023-10-26T14:40:22.896Z"
   },
   {
    "duration": 223,
    "start_time": "2023-10-26T14:40:22.918Z"
   },
   {
    "duration": 178,
    "start_time": "2023-10-26T14:40:23.142Z"
   },
   {
    "duration": 30,
    "start_time": "2023-10-26T14:40:23.321Z"
   },
   {
    "duration": 202,
    "start_time": "2023-10-26T14:40:23.352Z"
   },
   {
    "duration": 13,
    "start_time": "2023-10-26T14:40:23.555Z"
   },
   {
    "duration": 188,
    "start_time": "2023-10-26T14:40:23.569Z"
   },
   {
    "duration": 2,
    "start_time": "2023-10-26T14:40:23.759Z"
   },
   {
    "duration": 27,
    "start_time": "2023-10-26T14:40:23.763Z"
   },
   {
    "duration": 166,
    "start_time": "2023-10-26T14:40:23.792Z"
   },
   {
    "duration": 2,
    "start_time": "2023-10-26T14:40:23.960Z"
   },
   {
    "duration": 21,
    "start_time": "2023-10-26T14:40:23.964Z"
   },
   {
    "duration": 158,
    "start_time": "2023-10-26T14:40:23.986Z"
   },
   {
    "duration": 1,
    "start_time": "2023-10-26T14:40:24.146Z"
   },
   {
    "duration": 190,
    "start_time": "2023-10-26T14:40:24.149Z"
   },
   {
    "duration": 2,
    "start_time": "2023-10-26T14:40:24.340Z"
   },
   {
    "duration": 330,
    "start_time": "2023-10-26T14:40:24.343Z"
   },
   {
    "duration": 206,
    "start_time": "2023-10-26T14:40:24.674Z"
   },
   {
    "duration": 175,
    "start_time": "2023-10-26T14:40:24.881Z"
   },
   {
    "duration": 2,
    "start_time": "2023-10-26T14:40:25.057Z"
   },
   {
    "duration": 188,
    "start_time": "2023-10-26T14:40:25.061Z"
   },
   {
    "duration": 15,
    "start_time": "2023-10-26T14:40:25.251Z"
   },
   {
    "duration": 121,
    "start_time": "2023-10-26T14:40:25.268Z"
   },
   {
    "duration": 9,
    "start_time": "2023-10-26T14:40:25.390Z"
   },
   {
    "duration": 28,
    "start_time": "2023-10-26T14:40:25.400Z"
   },
   {
    "duration": 10,
    "start_time": "2023-10-26T14:40:25.430Z"
   },
   {
    "duration": 45,
    "start_time": "2023-10-26T14:40:25.442Z"
   },
   {
    "duration": 8,
    "start_time": "2023-10-26T14:40:25.489Z"
   },
   {
    "duration": 11,
    "start_time": "2023-10-26T14:40:25.499Z"
   },
   {
    "duration": 8,
    "start_time": "2023-10-26T14:40:25.511Z"
   },
   {
    "duration": 899,
    "start_time": "2023-10-26T14:40:25.520Z"
   },
   {
    "duration": 24,
    "start_time": "2023-10-26T14:40:26.424Z"
   },
   {
    "duration": 8,
    "start_time": "2023-10-26T14:40:26.449Z"
   },
   {
    "duration": 9,
    "start_time": "2023-10-26T14:40:26.459Z"
   },
   {
    "duration": 11,
    "start_time": "2023-10-26T14:40:26.470Z"
   },
   {
    "duration": 20,
    "start_time": "2023-10-26T14:40:26.482Z"
   },
   {
    "duration": 40,
    "start_time": "2023-10-26T14:40:26.504Z"
   },
   {
    "duration": 15,
    "start_time": "2023-10-26T14:40:26.545Z"
   },
   {
    "duration": 22,
    "start_time": "2023-10-26T14:40:26.561Z"
   },
   {
    "duration": 4,
    "start_time": "2023-10-26T14:40:26.584Z"
   },
   {
    "duration": 8,
    "start_time": "2023-10-26T14:40:26.589Z"
   },
   {
    "duration": 13,
    "start_time": "2023-10-26T14:40:26.598Z"
   },
   {
    "duration": 41,
    "start_time": "2023-10-26T14:40:26.612Z"
   },
   {
    "duration": 5,
    "start_time": "2023-10-26T14:40:26.654Z"
   },
   {
    "duration": 18,
    "start_time": "2023-10-26T14:40:26.660Z"
   },
   {
    "duration": 16,
    "start_time": "2023-10-26T14:40:26.679Z"
   },
   {
    "duration": 5,
    "start_time": "2023-10-26T14:40:26.697Z"
   },
   {
    "duration": 3,
    "start_time": "2023-10-26T14:40:26.703Z"
   },
   {
    "duration": 44,
    "start_time": "2023-10-26T14:40:26.707Z"
   },
   {
    "duration": 4,
    "start_time": "2023-10-26T14:40:26.753Z"
   },
   {
    "duration": 5,
    "start_time": "2023-10-26T14:40:26.758Z"
   },
   {
    "duration": 16,
    "start_time": "2023-10-26T14:40:26.764Z"
   },
   {
    "duration": 21,
    "start_time": "2023-10-26T14:40:26.781Z"
   },
   {
    "duration": 16,
    "start_time": "2023-10-26T14:40:26.803Z"
   },
   {
    "duration": 202,
    "start_time": "2023-10-26T14:40:26.839Z"
   },
   {
    "duration": 6,
    "start_time": "2023-10-26T14:40:27.042Z"
   },
   {
    "duration": 164,
    "start_time": "2023-10-26T14:40:27.049Z"
   },
   {
    "duration": 3,
    "start_time": "2023-10-26T14:40:27.214Z"
   },
   {
    "duration": 21,
    "start_time": "2023-10-26T14:40:27.218Z"
   },
   {
    "duration": 3,
    "start_time": "2023-10-26T14:40:27.241Z"
   },
   {
    "duration": 10,
    "start_time": "2023-10-26T14:40:27.245Z"
   },
   {
    "duration": 17,
    "start_time": "2023-10-26T14:40:27.257Z"
   },
   {
    "duration": 6,
    "start_time": "2023-10-26T14:40:27.276Z"
   },
   {
    "duration": 32,
    "start_time": "2023-10-26T14:40:27.283Z"
   },
   {
    "duration": 5,
    "start_time": "2023-10-26T14:40:27.316Z"
   },
   {
    "duration": 81,
    "start_time": "2023-10-26T14:40:27.322Z"
   },
   {
    "duration": 27,
    "start_time": "2023-10-26T14:40:27.404Z"
   },
   {
    "duration": 192,
    "start_time": "2023-10-26T14:40:27.432Z"
   },
   {
    "duration": 40,
    "start_time": "2023-10-26T14:40:27.625Z"
   },
   {
    "duration": 25,
    "start_time": "2023-10-26T14:40:27.666Z"
   },
   {
    "duration": 1111,
    "start_time": "2023-10-26T14:40:51.003Z"
   },
   {
    "duration": 95,
    "start_time": "2023-10-26T14:40:52.116Z"
   },
   {
    "duration": 13,
    "start_time": "2023-10-26T14:40:52.212Z"
   },
   {
    "duration": 19,
    "start_time": "2023-10-26T14:40:52.227Z"
   },
   {
    "duration": 6,
    "start_time": "2023-10-26T14:40:52.247Z"
   },
   {
    "duration": 19,
    "start_time": "2023-10-26T14:40:52.254Z"
   },
   {
    "duration": 8,
    "start_time": "2023-10-26T14:40:52.274Z"
   },
   {
    "duration": 48,
    "start_time": "2023-10-26T14:40:52.283Z"
   },
   {
    "duration": 19,
    "start_time": "2023-10-26T14:40:52.332Z"
   },
   {
    "duration": 17,
    "start_time": "2023-10-26T14:40:52.353Z"
   },
   {
    "duration": 35,
    "start_time": "2023-10-26T14:40:52.371Z"
   },
   {
    "duration": 6,
    "start_time": "2023-10-26T14:40:52.408Z"
   },
   {
    "duration": 189,
    "start_time": "2023-10-26T14:40:52.439Z"
   },
   {
    "duration": 68,
    "start_time": "2023-10-26T14:40:52.630Z"
   },
   {
    "duration": 8,
    "start_time": "2023-10-26T14:40:52.699Z"
   },
   {
    "duration": 4,
    "start_time": "2023-10-26T14:40:52.709Z"
   },
   {
    "duration": 25,
    "start_time": "2023-10-26T14:40:52.714Z"
   },
   {
    "duration": 169,
    "start_time": "2023-10-26T14:40:52.741Z"
   },
   {
    "duration": 4,
    "start_time": "2023-10-26T14:40:52.912Z"
   },
   {
    "duration": 4,
    "start_time": "2023-10-26T14:40:52.918Z"
   },
   {
    "duration": 17,
    "start_time": "2023-10-26T14:40:52.923Z"
   },
   {
    "duration": 11,
    "start_time": "2023-10-26T14:40:52.942Z"
   },
   {
    "duration": 15,
    "start_time": "2023-10-26T14:40:52.954Z"
   },
   {
    "duration": 7,
    "start_time": "2023-10-26T14:40:52.971Z"
   },
   {
    "duration": 5,
    "start_time": "2023-10-26T14:40:52.979Z"
   },
   {
    "duration": 28,
    "start_time": "2023-10-26T14:40:52.985Z"
   },
   {
    "duration": 35,
    "start_time": "2023-10-26T14:40:53.014Z"
   },
   {
    "duration": 12,
    "start_time": "2023-10-26T14:40:53.055Z"
   },
   {
    "duration": 293,
    "start_time": "2023-10-26T14:40:53.069Z"
   },
   {
    "duration": 7,
    "start_time": "2023-10-26T14:40:53.364Z"
   },
   {
    "duration": 9,
    "start_time": "2023-10-26T14:40:53.373Z"
   },
   {
    "duration": 306,
    "start_time": "2023-10-26T14:40:53.383Z"
   },
   {
    "duration": 8,
    "start_time": "2023-10-26T14:40:53.691Z"
   },
   {
    "duration": 25,
    "start_time": "2023-10-26T14:40:53.701Z"
   },
   {
    "duration": 16,
    "start_time": "2023-10-26T14:40:53.728Z"
   },
   {
    "duration": 12,
    "start_time": "2023-10-26T14:40:53.746Z"
   },
   {
    "duration": 31,
    "start_time": "2023-10-26T14:40:53.760Z"
   },
   {
    "duration": 3,
    "start_time": "2023-10-26T14:40:53.792Z"
   },
   {
    "duration": 145,
    "start_time": "2023-10-26T14:40:53.796Z"
   },
   {
    "duration": 42,
    "start_time": "2023-10-26T14:40:53.942Z"
   },
   {
    "duration": 6,
    "start_time": "2023-10-26T14:40:53.985Z"
   },
   {
    "duration": 151,
    "start_time": "2023-10-26T14:40:53.993Z"
   },
   {
    "duration": 20,
    "start_time": "2023-10-26T14:40:54.146Z"
   },
   {
    "duration": 6,
    "start_time": "2023-10-26T14:40:54.168Z"
   },
   {
    "duration": 30,
    "start_time": "2023-10-26T14:40:54.175Z"
   },
   {
    "duration": 190,
    "start_time": "2023-10-26T14:40:54.206Z"
   },
   {
    "duration": 4,
    "start_time": "2023-10-26T14:40:54.397Z"
   },
   {
    "duration": 180,
    "start_time": "2023-10-26T14:40:54.402Z"
   },
   {
    "duration": 19,
    "start_time": "2023-10-26T14:40:54.584Z"
   },
   {
    "duration": 169,
    "start_time": "2023-10-26T14:40:54.605Z"
   },
   {
    "duration": 21,
    "start_time": "2023-10-26T14:40:54.775Z"
   },
   {
    "duration": 219,
    "start_time": "2023-10-26T14:40:54.798Z"
   },
   {
    "duration": 192,
    "start_time": "2023-10-26T14:40:55.019Z"
   },
   {
    "duration": 28,
    "start_time": "2023-10-26T14:40:55.212Z"
   },
   {
    "duration": 209,
    "start_time": "2023-10-26T14:40:55.242Z"
   },
   {
    "duration": 13,
    "start_time": "2023-10-26T14:40:55.453Z"
   },
   {
    "duration": 194,
    "start_time": "2023-10-26T14:40:55.467Z"
   },
   {
    "duration": 2,
    "start_time": "2023-10-26T14:40:55.662Z"
   },
   {
    "duration": 18,
    "start_time": "2023-10-26T14:40:55.666Z"
   },
   {
    "duration": 175,
    "start_time": "2023-10-26T14:40:55.685Z"
   },
   {
    "duration": 2,
    "start_time": "2023-10-26T14:40:55.861Z"
   },
   {
    "duration": 12,
    "start_time": "2023-10-26T14:40:55.865Z"
   },
   {
    "duration": 163,
    "start_time": "2023-10-26T14:40:55.878Z"
   },
   {
    "duration": 2,
    "start_time": "2023-10-26T14:40:56.043Z"
   },
   {
    "duration": 193,
    "start_time": "2023-10-26T14:40:56.046Z"
   },
   {
    "duration": 2,
    "start_time": "2023-10-26T14:40:56.241Z"
   },
   {
    "duration": 378,
    "start_time": "2023-10-26T14:40:56.244Z"
   },
   {
    "duration": 209,
    "start_time": "2023-10-26T14:40:56.623Z"
   },
   {
    "duration": 167,
    "start_time": "2023-10-26T14:40:56.834Z"
   },
   {
    "duration": 2,
    "start_time": "2023-10-26T14:40:57.002Z"
   },
   {
    "duration": 189,
    "start_time": "2023-10-26T14:40:57.005Z"
   },
   {
    "duration": 14,
    "start_time": "2023-10-26T14:40:57.196Z"
   },
   {
    "duration": 117,
    "start_time": "2023-10-26T14:40:57.211Z"
   },
   {
    "duration": 10,
    "start_time": "2023-10-26T14:40:57.329Z"
   },
   {
    "duration": 6,
    "start_time": "2023-10-26T14:40:57.341Z"
   },
   {
    "duration": 6,
    "start_time": "2023-10-26T14:40:57.348Z"
   },
   {
    "duration": 6,
    "start_time": "2023-10-26T14:40:57.355Z"
   },
   {
    "duration": 6,
    "start_time": "2023-10-26T14:40:57.362Z"
   },
   {
    "duration": 25,
    "start_time": "2023-10-26T14:40:57.369Z"
   },
   {
    "duration": 8,
    "start_time": "2023-10-26T14:40:57.395Z"
   },
   {
    "duration": 909,
    "start_time": "2023-10-26T14:40:57.404Z"
   },
   {
    "duration": 20,
    "start_time": "2023-10-26T14:40:58.319Z"
   },
   {
    "duration": 8,
    "start_time": "2023-10-26T14:40:58.340Z"
   },
   {
    "duration": 9,
    "start_time": "2023-10-26T14:40:58.349Z"
   },
   {
    "duration": 11,
    "start_time": "2023-10-26T14:40:58.359Z"
   },
   {
    "duration": 20,
    "start_time": "2023-10-26T14:40:58.371Z"
   },
   {
    "duration": 16,
    "start_time": "2023-10-26T14:40:58.393Z"
   },
   {
    "duration": 42,
    "start_time": "2023-10-26T14:40:58.410Z"
   },
   {
    "duration": 19,
    "start_time": "2023-10-26T14:40:58.453Z"
   },
   {
    "duration": 4,
    "start_time": "2023-10-26T14:40:58.473Z"
   },
   {
    "duration": 11,
    "start_time": "2023-10-26T14:40:58.478Z"
   },
   {
    "duration": 13,
    "start_time": "2023-10-26T14:40:58.490Z"
   },
   {
    "duration": 37,
    "start_time": "2023-10-26T14:40:58.504Z"
   },
   {
    "duration": 6,
    "start_time": "2023-10-26T14:40:58.542Z"
   },
   {
    "duration": 24,
    "start_time": "2023-10-26T14:40:58.549Z"
   },
   {
    "duration": 17,
    "start_time": "2023-10-26T14:40:58.574Z"
   },
   {
    "duration": 5,
    "start_time": "2023-10-26T14:40:58.593Z"
   },
   {
    "duration": 13,
    "start_time": "2023-10-26T14:40:58.600Z"
   },
   {
    "duration": 22,
    "start_time": "2023-10-26T14:40:58.615Z"
   },
   {
    "duration": 4,
    "start_time": "2023-10-26T14:40:58.639Z"
   },
   {
    "duration": 12,
    "start_time": "2023-10-26T14:40:58.645Z"
   },
   {
    "duration": 24,
    "start_time": "2023-10-26T14:40:58.658Z"
   },
   {
    "duration": 18,
    "start_time": "2023-10-26T14:40:58.684Z"
   },
   {
    "duration": 24,
    "start_time": "2023-10-26T14:40:58.704Z"
   },
   {
    "duration": 222,
    "start_time": "2023-10-26T14:40:58.730Z"
   },
   {
    "duration": 7,
    "start_time": "2023-10-26T14:40:58.953Z"
   },
   {
    "duration": 170,
    "start_time": "2023-10-26T14:40:58.962Z"
   },
   {
    "duration": 8,
    "start_time": "2023-10-26T14:40:59.133Z"
   },
   {
    "duration": 11,
    "start_time": "2023-10-26T14:40:59.142Z"
   },
   {
    "duration": 4,
    "start_time": "2023-10-26T14:40:59.155Z"
   },
   {
    "duration": 4,
    "start_time": "2023-10-26T14:40:59.161Z"
   },
   {
    "duration": 13,
    "start_time": "2023-10-26T14:40:59.167Z"
   },
   {
    "duration": 5,
    "start_time": "2023-10-26T14:40:59.182Z"
   },
   {
    "duration": 51,
    "start_time": "2023-10-26T14:40:59.189Z"
   },
   {
    "duration": 5,
    "start_time": "2023-10-26T14:40:59.242Z"
   },
   {
    "duration": 82,
    "start_time": "2023-10-26T14:40:59.248Z"
   },
   {
    "duration": 28,
    "start_time": "2023-10-26T14:40:59.331Z"
   },
   {
    "duration": 196,
    "start_time": "2023-10-26T14:40:59.361Z"
   },
   {
    "duration": 30,
    "start_time": "2023-10-26T14:40:59.558Z"
   },
   {
    "duration": 25,
    "start_time": "2023-10-26T14:40:59.589Z"
   },
   {
    "duration": 1562,
    "start_time": "2023-10-26T15:23:40.894Z"
   },
   {
    "duration": 244,
    "start_time": "2023-10-26T15:23:42.458Z"
   },
   {
    "duration": 28,
    "start_time": "2023-10-26T15:23:42.703Z"
   },
   {
    "duration": 22,
    "start_time": "2023-10-26T15:23:42.735Z"
   },
   {
    "duration": 18,
    "start_time": "2023-10-26T15:23:42.759Z"
   },
   {
    "duration": 23,
    "start_time": "2023-10-26T15:23:42.778Z"
   },
   {
    "duration": 25,
    "start_time": "2023-10-26T15:23:42.810Z"
   },
   {
    "duration": 98,
    "start_time": "2023-10-26T15:23:42.837Z"
   },
   {
    "duration": 18,
    "start_time": "2023-10-26T15:23:42.937Z"
   },
   {
    "duration": 19,
    "start_time": "2023-10-26T15:23:42.958Z"
   },
   {
    "duration": 85,
    "start_time": "2023-10-26T15:23:42.979Z"
   },
   {
    "duration": 7,
    "start_time": "2023-10-26T15:23:43.066Z"
   },
   {
    "duration": 308,
    "start_time": "2023-10-26T15:23:43.075Z"
   },
   {
    "duration": 81,
    "start_time": "2023-10-26T15:23:43.384Z"
   },
   {
    "duration": 10,
    "start_time": "2023-10-26T15:23:43.466Z"
   },
   {
    "duration": 28,
    "start_time": "2023-10-26T15:23:43.478Z"
   },
   {
    "duration": 22,
    "start_time": "2023-10-26T15:23:43.508Z"
   },
   {
    "duration": 223,
    "start_time": "2023-10-26T15:23:43.534Z"
   },
   {
    "duration": 5,
    "start_time": "2023-10-26T15:23:43.759Z"
   },
   {
    "duration": 42,
    "start_time": "2023-10-26T15:23:43.766Z"
   },
   {
    "duration": 22,
    "start_time": "2023-10-26T15:23:43.811Z"
   },
   {
    "duration": 14,
    "start_time": "2023-10-26T15:23:43.838Z"
   },
   {
    "duration": 17,
    "start_time": "2023-10-26T15:23:43.854Z"
   },
   {
    "duration": 32,
    "start_time": "2023-10-26T15:23:43.873Z"
   },
   {
    "duration": 16,
    "start_time": "2023-10-26T15:23:43.906Z"
   },
   {
    "duration": 38,
    "start_time": "2023-10-26T15:23:43.924Z"
   },
   {
    "duration": 15,
    "start_time": "2023-10-26T15:23:43.965Z"
   },
   {
    "duration": 25,
    "start_time": "2023-10-26T15:23:43.987Z"
   },
   {
    "duration": 360,
    "start_time": "2023-10-26T15:23:44.014Z"
   },
   {
    "duration": 9,
    "start_time": "2023-10-26T15:23:44.376Z"
   },
   {
    "duration": 33,
    "start_time": "2023-10-26T15:23:44.387Z"
   },
   {
    "duration": 368,
    "start_time": "2023-10-26T15:23:44.426Z"
   },
   {
    "duration": 12,
    "start_time": "2023-10-26T15:23:44.797Z"
   },
   {
    "duration": 29,
    "start_time": "2023-10-26T15:23:44.811Z"
   },
   {
    "duration": 28,
    "start_time": "2023-10-26T15:23:44.843Z"
   },
   {
    "duration": 29,
    "start_time": "2023-10-26T15:23:44.873Z"
   },
   {
    "duration": 56,
    "start_time": "2023-10-26T15:23:44.904Z"
   },
   {
    "duration": 4,
    "start_time": "2023-10-26T15:23:44.962Z"
   },
   {
    "duration": 177,
    "start_time": "2023-10-26T15:23:44.968Z"
   },
   {
    "duration": 68,
    "start_time": "2023-10-26T15:23:45.147Z"
   },
   {
    "duration": 12,
    "start_time": "2023-10-26T15:23:45.217Z"
   },
   {
    "duration": 182,
    "start_time": "2023-10-26T15:23:45.231Z"
   },
   {
    "duration": 34,
    "start_time": "2023-10-26T15:23:45.416Z"
   },
   {
    "duration": 9,
    "start_time": "2023-10-26T15:23:45.451Z"
   },
   {
    "duration": 16,
    "start_time": "2023-10-26T15:23:45.463Z"
   },
   {
    "duration": 293,
    "start_time": "2023-10-26T15:23:45.481Z"
   },
   {
    "duration": 5,
    "start_time": "2023-10-26T15:23:45.776Z"
   },
   {
    "duration": 286,
    "start_time": "2023-10-26T15:23:45.783Z"
   },
   {
    "duration": 46,
    "start_time": "2023-10-26T15:23:46.070Z"
   },
   {
    "duration": 204,
    "start_time": "2023-10-26T15:23:46.117Z"
   },
   {
    "duration": 31,
    "start_time": "2023-10-26T15:23:46.323Z"
   },
   {
    "duration": 296,
    "start_time": "2023-10-26T15:23:46.356Z"
   },
   {
    "duration": 227,
    "start_time": "2023-10-26T15:23:46.654Z"
   },
   {
    "duration": 49,
    "start_time": "2023-10-26T15:23:46.883Z"
   },
   {
    "duration": 243,
    "start_time": "2023-10-26T15:23:46.934Z"
   },
   {
    "duration": 37,
    "start_time": "2023-10-26T15:23:47.179Z"
   },
   {
    "duration": 216,
    "start_time": "2023-10-26T15:23:47.217Z"
   },
   {
    "duration": 2,
    "start_time": "2023-10-26T15:23:47.435Z"
   },
   {
    "duration": 26,
    "start_time": "2023-10-26T15:23:47.438Z"
   },
   {
    "duration": 201,
    "start_time": "2023-10-26T15:23:47.466Z"
   },
   {
    "duration": 3,
    "start_time": "2023-10-26T15:23:47.669Z"
   },
   {
    "duration": 41,
    "start_time": "2023-10-26T15:23:47.673Z"
   },
   {
    "duration": 185,
    "start_time": "2023-10-26T15:23:47.718Z"
   },
   {
    "duration": 5,
    "start_time": "2023-10-26T15:23:47.905Z"
   },
   {
    "duration": 240,
    "start_time": "2023-10-26T15:23:47.911Z"
   },
   {
    "duration": 2,
    "start_time": "2023-10-26T15:23:48.153Z"
   },
   {
    "duration": 466,
    "start_time": "2023-10-26T15:23:48.157Z"
   },
   {
    "duration": 266,
    "start_time": "2023-10-26T15:23:48.624Z"
   },
   {
    "duration": 220,
    "start_time": "2023-10-26T15:23:48.892Z"
   },
   {
    "duration": 9,
    "start_time": "2023-10-26T15:23:49.120Z"
   },
   {
    "duration": 315,
    "start_time": "2023-10-26T15:23:49.132Z"
   },
   {
    "duration": 19,
    "start_time": "2023-10-26T15:23:49.449Z"
   },
   {
    "duration": 168,
    "start_time": "2023-10-26T15:23:49.469Z"
   },
   {
    "duration": 10,
    "start_time": "2023-10-26T15:23:49.639Z"
   },
   {
    "duration": 13,
    "start_time": "2023-10-26T15:23:49.651Z"
   },
   {
    "duration": 15,
    "start_time": "2023-10-26T15:23:49.665Z"
   },
   {
    "duration": 28,
    "start_time": "2023-10-26T15:23:49.682Z"
   },
   {
    "duration": 22,
    "start_time": "2023-10-26T15:23:49.713Z"
   },
   {
    "duration": 19,
    "start_time": "2023-10-26T15:23:49.736Z"
   },
   {
    "duration": 17,
    "start_time": "2023-10-26T15:23:49.756Z"
   },
   {
    "duration": 1223,
    "start_time": "2023-10-26T15:23:49.774Z"
   },
   {
    "duration": 27,
    "start_time": "2023-10-26T15:23:51.008Z"
   },
   {
    "duration": 25,
    "start_time": "2023-10-26T15:23:51.038Z"
   },
   {
    "duration": 31,
    "start_time": "2023-10-26T15:23:51.065Z"
   },
   {
    "duration": 43,
    "start_time": "2023-10-26T15:23:51.098Z"
   },
   {
    "duration": 34,
    "start_time": "2023-10-26T15:23:51.144Z"
   },
   {
    "duration": 27,
    "start_time": "2023-10-26T15:23:51.179Z"
   },
   {
    "duration": 26,
    "start_time": "2023-10-26T15:23:51.212Z"
   },
   {
    "duration": 57,
    "start_time": "2023-10-26T15:23:51.239Z"
   },
   {
    "duration": 30,
    "start_time": "2023-10-26T15:23:51.298Z"
   },
   {
    "duration": 34,
    "start_time": "2023-10-26T15:23:51.331Z"
   },
   {
    "duration": 49,
    "start_time": "2023-10-26T15:23:51.366Z"
   },
   {
    "duration": 32,
    "start_time": "2023-10-26T15:23:51.416Z"
   },
   {
    "duration": 6,
    "start_time": "2023-10-26T15:23:51.450Z"
   },
   {
    "duration": 41,
    "start_time": "2023-10-26T15:23:51.458Z"
   },
   {
    "duration": 39,
    "start_time": "2023-10-26T15:23:51.503Z"
   },
   {
    "duration": 20,
    "start_time": "2023-10-26T15:23:51.544Z"
   },
   {
    "duration": 77,
    "start_time": "2023-10-26T15:23:51.565Z"
   },
   {
    "duration": 31,
    "start_time": "2023-10-26T15:23:51.644Z"
   },
   {
    "duration": 29,
    "start_time": "2023-10-26T15:23:51.678Z"
   },
   {
    "duration": 22,
    "start_time": "2023-10-26T15:23:51.711Z"
   },
   {
    "duration": 35,
    "start_time": "2023-10-26T15:23:51.736Z"
   },
   {
    "duration": 43,
    "start_time": "2023-10-26T15:23:51.773Z"
   },
   {
    "duration": 35,
    "start_time": "2023-10-26T15:23:51.818Z"
   },
   {
    "duration": 286,
    "start_time": "2023-10-26T15:23:51.855Z"
   },
   {
    "duration": 8,
    "start_time": "2023-10-26T15:23:52.143Z"
   },
   {
    "duration": 262,
    "start_time": "2023-10-26T15:23:52.152Z"
   },
   {
    "duration": 9,
    "start_time": "2023-10-26T15:23:52.418Z"
   },
   {
    "duration": 327,
    "start_time": "2023-10-26T15:23:52.430Z"
   },
   {
    "duration": 95,
    "start_time": "2023-10-26T15:23:52.759Z"
   },
   {
    "duration": 23,
    "start_time": "2023-10-26T15:23:52.857Z"
   },
   {
    "duration": 56,
    "start_time": "2023-10-26T15:23:52.882Z"
   },
   {
    "duration": 16,
    "start_time": "2023-10-26T15:23:52.940Z"
   },
   {
    "duration": 24,
    "start_time": "2023-10-26T15:23:52.958Z"
   },
   {
    "duration": 7,
    "start_time": "2023-10-26T15:23:52.984Z"
   },
   {
    "duration": 111,
    "start_time": "2023-10-26T15:23:52.992Z"
   },
   {
    "duration": 55,
    "start_time": "2023-10-26T15:23:53.107Z"
   },
   {
    "duration": 291,
    "start_time": "2023-10-26T15:23:53.164Z"
   },
   {
    "duration": 35,
    "start_time": "2023-10-26T15:23:53.457Z"
   },
   {
    "duration": 37,
    "start_time": "2023-10-26T15:23:53.504Z"
   },
   {
    "duration": 1328,
    "start_time": "2023-10-26T17:49:21.587Z"
   },
   {
    "duration": 110,
    "start_time": "2023-10-26T17:49:22.918Z"
   },
   {
    "duration": 17,
    "start_time": "2023-10-26T17:49:23.030Z"
   },
   {
    "duration": 41,
    "start_time": "2023-10-26T17:49:23.049Z"
   },
   {
    "duration": 27,
    "start_time": "2023-10-26T17:49:23.092Z"
   },
   {
    "duration": 28,
    "start_time": "2023-10-26T17:49:23.121Z"
   },
   {
    "duration": 39,
    "start_time": "2023-10-26T17:49:23.151Z"
   },
   {
    "duration": 81,
    "start_time": "2023-10-26T17:49:23.191Z"
   },
   {
    "duration": 18,
    "start_time": "2023-10-26T17:49:23.273Z"
   },
   {
    "duration": 22,
    "start_time": "2023-10-26T17:49:23.293Z"
   },
   {
    "duration": 32,
    "start_time": "2023-10-26T17:49:23.317Z"
   },
   {
    "duration": 5,
    "start_time": "2023-10-26T17:49:23.351Z"
   },
   {
    "duration": 311,
    "start_time": "2023-10-26T17:49:23.357Z"
   },
   {
    "duration": 84,
    "start_time": "2023-10-26T17:49:23.670Z"
   },
   {
    "duration": 11,
    "start_time": "2023-10-26T17:49:23.756Z"
   },
   {
    "duration": 12,
    "start_time": "2023-10-26T17:49:23.768Z"
   },
   {
    "duration": 38,
    "start_time": "2023-10-26T17:49:23.782Z"
   },
   {
    "duration": 192,
    "start_time": "2023-10-26T17:49:23.822Z"
   },
   {
    "duration": 5,
    "start_time": "2023-10-26T17:49:24.016Z"
   },
   {
    "duration": 10,
    "start_time": "2023-10-26T17:49:24.022Z"
   },
   {
    "duration": 13,
    "start_time": "2023-10-26T17:49:24.033Z"
   },
   {
    "duration": 24,
    "start_time": "2023-10-26T17:49:24.048Z"
   },
   {
    "duration": 39,
    "start_time": "2023-10-26T17:49:24.074Z"
   },
   {
    "duration": 11,
    "start_time": "2023-10-26T17:49:24.117Z"
   },
   {
    "duration": 8,
    "start_time": "2023-10-26T17:49:24.130Z"
   },
   {
    "duration": 38,
    "start_time": "2023-10-26T17:49:24.140Z"
   },
   {
    "duration": 22,
    "start_time": "2023-10-26T17:49:24.180Z"
   },
   {
    "duration": 18,
    "start_time": "2023-10-26T17:49:24.213Z"
   },
   {
    "duration": 361,
    "start_time": "2023-10-26T17:49:24.232Z"
   },
   {
    "duration": 10,
    "start_time": "2023-10-26T17:49:24.601Z"
   },
   {
    "duration": 63,
    "start_time": "2023-10-26T17:49:24.612Z"
   },
   {
    "duration": 366,
    "start_time": "2023-10-26T17:49:24.677Z"
   },
   {
    "duration": 11,
    "start_time": "2023-10-26T17:49:25.045Z"
   },
   {
    "duration": 49,
    "start_time": "2023-10-26T17:49:25.058Z"
   },
   {
    "duration": 57,
    "start_time": "2023-10-26T17:49:25.114Z"
   },
   {
    "duration": 30,
    "start_time": "2023-10-26T17:49:25.173Z"
   },
   {
    "duration": 32,
    "start_time": "2023-10-26T17:49:25.205Z"
   },
   {
    "duration": 7,
    "start_time": "2023-10-26T17:49:25.239Z"
   },
   {
    "duration": 172,
    "start_time": "2023-10-26T17:49:25.248Z"
   },
   {
    "duration": 66,
    "start_time": "2023-10-26T17:49:25.422Z"
   },
   {
    "duration": 23,
    "start_time": "2023-10-26T17:49:25.489Z"
   },
   {
    "duration": 164,
    "start_time": "2023-10-26T17:49:25.515Z"
   },
   {
    "duration": 37,
    "start_time": "2023-10-26T17:49:25.681Z"
   },
   {
    "duration": 10,
    "start_time": "2023-10-26T17:49:25.719Z"
   },
   {
    "duration": 21,
    "start_time": "2023-10-26T17:49:25.731Z"
   },
   {
    "duration": 248,
    "start_time": "2023-10-26T17:49:25.754Z"
   },
   {
    "duration": 7,
    "start_time": "2023-10-26T17:49:26.010Z"
   },
   {
    "duration": 203,
    "start_time": "2023-10-26T17:49:26.018Z"
   },
   {
    "duration": 24,
    "start_time": "2023-10-26T17:49:26.223Z"
   },
   {
    "duration": 196,
    "start_time": "2023-10-26T17:49:26.249Z"
   },
   {
    "duration": 24,
    "start_time": "2023-10-26T17:49:26.447Z"
   },
   {
    "duration": 275,
    "start_time": "2023-10-26T17:49:26.472Z"
   },
   {
    "duration": 244,
    "start_time": "2023-10-26T17:49:26.748Z"
   },
   {
    "duration": 41,
    "start_time": "2023-10-26T17:49:26.994Z"
   },
   {
    "duration": 243,
    "start_time": "2023-10-26T17:49:27.036Z"
   },
   {
    "duration": 26,
    "start_time": "2023-10-26T17:49:27.282Z"
   },
   {
    "duration": 244,
    "start_time": "2023-10-26T17:49:27.313Z"
   },
   {
    "duration": 3,
    "start_time": "2023-10-26T17:49:27.559Z"
   },
   {
    "duration": 21,
    "start_time": "2023-10-26T17:49:27.564Z"
   },
   {
    "duration": 195,
    "start_time": "2023-10-26T17:49:27.587Z"
   },
   {
    "duration": 3,
    "start_time": "2023-10-26T17:49:27.784Z"
   },
   {
    "duration": 35,
    "start_time": "2023-10-26T17:49:27.788Z"
   },
   {
    "duration": 194,
    "start_time": "2023-10-26T17:49:27.825Z"
   },
   {
    "duration": 2,
    "start_time": "2023-10-26T17:49:28.022Z"
   },
   {
    "duration": 234,
    "start_time": "2023-10-26T17:49:28.026Z"
   },
   {
    "duration": 2,
    "start_time": "2023-10-26T17:49:28.262Z"
   },
   {
    "duration": 489,
    "start_time": "2023-10-26T17:49:28.266Z"
   },
   {
    "duration": 242,
    "start_time": "2023-10-26T17:49:28.757Z"
   },
   {
    "duration": 201,
    "start_time": "2023-10-26T17:49:29.001Z"
   },
   {
    "duration": 4,
    "start_time": "2023-10-26T17:49:29.214Z"
   },
   {
    "duration": 231,
    "start_time": "2023-10-26T17:49:29.219Z"
   },
   {
    "duration": 16,
    "start_time": "2023-10-26T17:49:29.452Z"
   },
   {
    "duration": 165,
    "start_time": "2023-10-26T17:49:29.469Z"
   },
   {
    "duration": 9,
    "start_time": "2023-10-26T17:49:29.636Z"
   },
   {
    "duration": 18,
    "start_time": "2023-10-26T17:49:29.646Z"
   },
   {
    "duration": 19,
    "start_time": "2023-10-26T17:49:29.666Z"
   },
   {
    "duration": 53,
    "start_time": "2023-10-26T17:49:29.687Z"
   },
   {
    "duration": 34,
    "start_time": "2023-10-26T17:49:29.741Z"
   },
   {
    "duration": 12,
    "start_time": "2023-10-26T17:49:29.777Z"
   },
   {
    "duration": 24,
    "start_time": "2023-10-26T17:49:29.791Z"
   },
   {
    "duration": 1163,
    "start_time": "2023-10-26T17:49:29.817Z"
   },
   {
    "duration": 29,
    "start_time": "2023-10-26T17:49:30.988Z"
   },
   {
    "duration": 90,
    "start_time": "2023-10-26T17:49:31.019Z"
   },
   {
    "duration": 99,
    "start_time": "2023-10-26T17:49:31.110Z"
   },
   {
    "duration": 75,
    "start_time": "2023-10-26T17:49:31.213Z"
   },
   {
    "duration": 92,
    "start_time": "2023-10-26T17:49:31.290Z"
   },
   {
    "duration": 65,
    "start_time": "2023-10-26T17:49:31.383Z"
   },
   {
    "duration": 66,
    "start_time": "2023-10-26T17:49:31.451Z"
   },
   {
    "duration": 72,
    "start_time": "2023-10-26T17:49:31.519Z"
   },
   {
    "duration": 32,
    "start_time": "2023-10-26T17:49:31.593Z"
   },
   {
    "duration": 57,
    "start_time": "2023-10-26T17:49:31.627Z"
   },
   {
    "duration": 44,
    "start_time": "2023-10-26T17:49:31.686Z"
   },
   {
    "duration": 83,
    "start_time": "2023-10-26T17:49:31.732Z"
   },
   {
    "duration": 11,
    "start_time": "2023-10-26T17:49:31.816Z"
   },
   {
    "duration": 25,
    "start_time": "2023-10-26T17:49:31.829Z"
   },
   {
    "duration": 36,
    "start_time": "2023-10-26T17:49:31.855Z"
   },
   {
    "duration": 27,
    "start_time": "2023-10-26T17:49:31.893Z"
   },
   {
    "duration": 32,
    "start_time": "2023-10-26T17:49:31.922Z"
   },
   {
    "duration": 36,
    "start_time": "2023-10-26T17:49:31.956Z"
   },
   {
    "duration": 40,
    "start_time": "2023-10-26T17:49:31.993Z"
   },
   {
    "duration": 25,
    "start_time": "2023-10-26T17:49:32.035Z"
   },
   {
    "duration": 59,
    "start_time": "2023-10-26T17:49:32.062Z"
   },
   {
    "duration": 41,
    "start_time": "2023-10-26T17:49:32.123Z"
   },
   {
    "duration": 51,
    "start_time": "2023-10-26T17:49:32.166Z"
   },
   {
    "duration": 246,
    "start_time": "2023-10-26T17:49:32.219Z"
   },
   {
    "duration": 9,
    "start_time": "2023-10-26T17:49:32.466Z"
   },
   {
    "duration": 217,
    "start_time": "2023-10-26T17:49:32.477Z"
   },
   {
    "duration": 14,
    "start_time": "2023-10-26T17:49:32.697Z"
   },
   {
    "duration": 27,
    "start_time": "2023-10-26T17:49:32.714Z"
   },
   {
    "duration": 26,
    "start_time": "2023-10-26T17:49:32.743Z"
   },
   {
    "duration": 22,
    "start_time": "2023-10-26T17:49:32.771Z"
   },
   {
    "duration": 53,
    "start_time": "2023-10-26T17:49:32.795Z"
   },
   {
    "duration": 17,
    "start_time": "2023-10-26T17:49:32.850Z"
   },
   {
    "duration": 31,
    "start_time": "2023-10-26T17:49:32.869Z"
   },
   {
    "duration": 7,
    "start_time": "2023-10-26T17:49:32.906Z"
   },
   {
    "duration": 104,
    "start_time": "2023-10-26T17:49:32.919Z"
   },
   {
    "duration": 35,
    "start_time": "2023-10-26T17:49:33.025Z"
   },
   {
    "duration": 286,
    "start_time": "2023-10-26T17:49:33.062Z"
   },
   {
    "duration": 36,
    "start_time": "2023-10-26T17:49:33.351Z"
   },
   {
    "duration": 135,
    "start_time": "2023-10-26T17:49:33.389Z"
   },
   {
    "duration": 1450,
    "start_time": "2023-10-26T19:52:51.209Z"
   },
   {
    "duration": 218,
    "start_time": "2023-10-26T19:52:52.661Z"
   },
   {
    "duration": 17,
    "start_time": "2023-10-26T19:52:52.881Z"
   },
   {
    "duration": 28,
    "start_time": "2023-10-26T19:52:52.901Z"
   },
   {
    "duration": 10,
    "start_time": "2023-10-26T19:52:52.933Z"
   },
   {
    "duration": 33,
    "start_time": "2023-10-26T19:52:52.945Z"
   },
   {
    "duration": 14,
    "start_time": "2023-10-26T19:52:52.979Z"
   },
   {
    "duration": 70,
    "start_time": "2023-10-26T19:52:52.994Z"
   },
   {
    "duration": 18,
    "start_time": "2023-10-26T19:52:53.066Z"
   },
   {
    "duration": 19,
    "start_time": "2023-10-26T19:52:53.087Z"
   },
   {
    "duration": 53,
    "start_time": "2023-10-26T19:52:53.108Z"
   },
   {
    "duration": 5,
    "start_time": "2023-10-26T19:52:53.163Z"
   },
   {
    "duration": 316,
    "start_time": "2023-10-26T19:52:53.169Z"
   },
   {
    "duration": 79,
    "start_time": "2023-10-26T19:52:53.486Z"
   },
   {
    "duration": 12,
    "start_time": "2023-10-26T19:52:53.567Z"
   },
   {
    "duration": 25,
    "start_time": "2023-10-26T19:52:53.580Z"
   },
   {
    "duration": 36,
    "start_time": "2023-10-26T19:52:53.607Z"
   },
   {
    "duration": 214,
    "start_time": "2023-10-26T19:52:53.645Z"
   },
   {
    "duration": 4,
    "start_time": "2023-10-26T19:52:53.860Z"
   },
   {
    "duration": 36,
    "start_time": "2023-10-26T19:52:53.866Z"
   },
   {
    "duration": 14,
    "start_time": "2023-10-26T19:52:53.904Z"
   },
   {
    "duration": 37,
    "start_time": "2023-10-26T19:52:53.919Z"
   },
   {
    "duration": 16,
    "start_time": "2023-10-26T19:52:53.959Z"
   },
   {
    "duration": 20,
    "start_time": "2023-10-26T19:52:53.977Z"
   },
   {
    "duration": 8,
    "start_time": "2023-10-26T19:52:53.999Z"
   },
   {
    "duration": 54,
    "start_time": "2023-10-26T19:52:54.009Z"
   },
   {
    "duration": 12,
    "start_time": "2023-10-26T19:52:54.065Z"
   },
   {
    "duration": 21,
    "start_time": "2023-10-26T19:52:54.082Z"
   },
   {
    "duration": 333,
    "start_time": "2023-10-26T19:52:54.105Z"
   },
   {
    "duration": 12,
    "start_time": "2023-10-26T19:52:54.443Z"
   },
   {
    "duration": 26,
    "start_time": "2023-10-26T19:52:54.457Z"
   },
   {
    "duration": 301,
    "start_time": "2023-10-26T19:52:54.485Z"
   },
   {
    "duration": 10,
    "start_time": "2023-10-26T19:52:54.787Z"
   },
   {
    "duration": 20,
    "start_time": "2023-10-26T19:52:54.799Z"
   },
   {
    "duration": 29,
    "start_time": "2023-10-26T19:52:54.821Z"
   },
   {
    "duration": 15,
    "start_time": "2023-10-26T19:52:54.852Z"
   },
   {
    "duration": 17,
    "start_time": "2023-10-26T19:52:54.869Z"
   },
   {
    "duration": 4,
    "start_time": "2023-10-26T19:52:54.888Z"
   },
   {
    "duration": 159,
    "start_time": "2023-10-26T19:52:54.923Z"
   },
   {
    "duration": 58,
    "start_time": "2023-10-26T19:52:55.084Z"
   },
   {
    "duration": 6,
    "start_time": "2023-10-26T19:52:55.144Z"
   },
   {
    "duration": 179,
    "start_time": "2023-10-26T19:52:55.152Z"
   },
   {
    "duration": 27,
    "start_time": "2023-10-26T19:52:55.334Z"
   },
   {
    "duration": 7,
    "start_time": "2023-10-26T19:52:55.363Z"
   },
   {
    "duration": 6,
    "start_time": "2023-10-26T19:52:55.372Z"
   },
   {
    "duration": 262,
    "start_time": "2023-10-26T19:52:55.379Z"
   },
   {
    "duration": 5,
    "start_time": "2023-10-26T19:52:55.642Z"
   },
   {
    "duration": 234,
    "start_time": "2023-10-26T19:52:55.648Z"
   },
   {
    "duration": 31,
    "start_time": "2023-10-26T19:52:55.885Z"
   },
   {
    "duration": 293,
    "start_time": "2023-10-26T19:52:55.927Z"
   },
   {
    "duration": 35,
    "start_time": "2023-10-26T19:52:56.221Z"
   },
   {
    "duration": 185,
    "start_time": "2023-10-26T19:52:56.257Z"
   },
   {
    "duration": 222,
    "start_time": "2023-10-26T19:52:56.445Z"
   },
   {
    "duration": 26,
    "start_time": "2023-10-26T19:52:56.669Z"
   },
   {
    "duration": 266,
    "start_time": "2023-10-26T19:52:56.697Z"
   },
   {
    "duration": 16,
    "start_time": "2023-10-26T19:52:56.966Z"
   },
   {
    "duration": 264,
    "start_time": "2023-10-26T19:52:56.984Z"
   },
   {
    "duration": 3,
    "start_time": "2023-10-26T19:52:57.250Z"
   },
   {
    "duration": 24,
    "start_time": "2023-10-26T19:52:57.255Z"
   },
   {
    "duration": 200,
    "start_time": "2023-10-26T19:52:57.281Z"
   },
   {
    "duration": 3,
    "start_time": "2023-10-26T19:52:57.484Z"
   },
   {
    "duration": 19,
    "start_time": "2023-10-26T19:52:57.488Z"
   },
   {
    "duration": 250,
    "start_time": "2023-10-26T19:52:57.509Z"
   },
   {
    "duration": 4,
    "start_time": "2023-10-26T19:52:57.762Z"
   },
   {
    "duration": 244,
    "start_time": "2023-10-26T19:52:57.768Z"
   },
   {
    "duration": 3,
    "start_time": "2023-10-26T19:52:58.014Z"
   },
   {
    "duration": 474,
    "start_time": "2023-10-26T19:52:58.024Z"
   },
   {
    "duration": 261,
    "start_time": "2023-10-26T19:52:58.500Z"
   },
   {
    "duration": 220,
    "start_time": "2023-10-26T19:52:58.763Z"
   },
   {
    "duration": 3,
    "start_time": "2023-10-26T19:52:58.985Z"
   },
   {
    "duration": 341,
    "start_time": "2023-10-26T19:52:58.990Z"
   },
   {
    "duration": 24,
    "start_time": "2023-10-26T19:52:59.338Z"
   },
   {
    "duration": 103,
    "start_time": "2023-10-26T19:52:59.364Z"
   },
   {
    "duration": 10,
    "start_time": "2023-10-26T19:52:59.469Z"
   },
   {
    "duration": 8,
    "start_time": "2023-10-26T19:52:59.481Z"
   },
   {
    "duration": 8,
    "start_time": "2023-10-26T19:52:59.491Z"
   },
   {
    "duration": 4,
    "start_time": "2023-10-26T19:52:59.501Z"
   },
   {
    "duration": 11,
    "start_time": "2023-10-26T19:52:59.529Z"
   },
   {
    "duration": 26,
    "start_time": "2023-10-26T19:52:59.545Z"
   },
   {
    "duration": 11,
    "start_time": "2023-10-26T19:52:59.573Z"
   },
   {
    "duration": 1267,
    "start_time": "2023-10-26T19:52:59.585Z"
   },
   {
    "duration": 20,
    "start_time": "2023-10-26T19:53:00.860Z"
   },
   {
    "duration": 121,
    "start_time": "2023-10-26T19:53:00.882Z"
   },
   {
    "duration": 178,
    "start_time": "2023-10-26T19:53:01.005Z"
   },
   {
    "duration": 109,
    "start_time": "2023-10-26T19:53:01.185Z"
   },
   {
    "duration": 106,
    "start_time": "2023-10-26T19:53:01.296Z"
   },
   {
    "duration": 136,
    "start_time": "2023-10-26T19:53:01.404Z"
   },
   {
    "duration": 35,
    "start_time": "2023-10-26T19:53:01.542Z"
   },
   {
    "duration": 64,
    "start_time": "2023-10-26T19:53:01.580Z"
   },
   {
    "duration": 41,
    "start_time": "2023-10-26T19:53:01.646Z"
   },
   {
    "duration": 66,
    "start_time": "2023-10-26T19:53:01.689Z"
   },
   {
    "duration": 293,
    "start_time": "2023-10-26T19:53:01.757Z"
   },
   {
    "duration": 114,
    "start_time": "2023-10-26T19:53:02.052Z"
   },
   {
    "duration": 188,
    "start_time": "2023-10-26T19:53:02.168Z"
   },
   {
    "duration": 301,
    "start_time": "2023-10-26T19:53:02.358Z"
   },
   {
    "duration": 49,
    "start_time": "2023-10-26T19:53:02.661Z"
   },
   {
    "duration": 216,
    "start_time": "2023-10-26T19:53:02.712Z"
   },
   {
    "duration": 276,
    "start_time": "2023-10-26T19:53:02.930Z"
   },
   {
    "duration": 325,
    "start_time": "2023-10-26T19:53:03.209Z"
   },
   {
    "duration": 208,
    "start_time": "2023-10-26T19:53:03.536Z"
   },
   {
    "duration": 413,
    "start_time": "2023-10-26T19:53:03.746Z"
   },
   {
    "duration": 261,
    "start_time": "2023-10-26T19:53:04.161Z"
   },
   {
    "duration": 63,
    "start_time": "2023-10-26T19:53:04.424Z"
   },
   {
    "duration": 29,
    "start_time": "2023-10-26T19:53:04.490Z"
   },
   {
    "duration": 291,
    "start_time": "2023-10-26T19:53:04.521Z"
   },
   {
    "duration": 16,
    "start_time": "2023-10-26T19:53:04.815Z"
   },
   {
    "duration": 240,
    "start_time": "2023-10-26T19:53:04.833Z"
   },
   {
    "duration": 4,
    "start_time": "2023-10-26T19:53:05.074Z"
   },
   {
    "duration": 183,
    "start_time": "2023-10-26T19:53:05.080Z"
   },
   {
    "duration": 77,
    "start_time": "2023-10-26T19:53:05.264Z"
   },
   {
    "duration": 160,
    "start_time": "2023-10-26T19:53:05.345Z"
   },
   {
    "duration": 86,
    "start_time": "2023-10-26T19:53:05.507Z"
   },
   {
    "duration": 59,
    "start_time": "2023-10-26T19:53:05.595Z"
   },
   {
    "duration": 64,
    "start_time": "2023-10-26T19:53:05.656Z"
   },
   {
    "duration": 18,
    "start_time": "2023-10-26T19:53:05.722Z"
   },
   {
    "duration": 174,
    "start_time": "2023-10-26T19:53:05.742Z"
   },
   {
    "duration": 62,
    "start_time": "2023-10-26T19:53:05.922Z"
   },
   {
    "duration": 359,
    "start_time": "2023-10-26T19:53:05.987Z"
   },
   {
    "duration": 41,
    "start_time": "2023-10-26T19:53:06.348Z"
   },
   {
    "duration": 61,
    "start_time": "2023-10-26T19:53:06.391Z"
   },
   {
    "duration": 1414,
    "start_time": "2023-10-26T19:55:47.425Z"
   },
   {
    "duration": 30,
    "start_time": "2023-10-26T19:56:22.557Z"
   }
  ],
  "kernelspec": {
   "display_name": "Python 3 (ipykernel)",
   "language": "python",
   "name": "python3"
  },
  "language_info": {
   "codemirror_mode": {
    "name": "ipython",
    "version": 3
   },
   "file_extension": ".py",
   "mimetype": "text/x-python",
   "name": "python",
   "nbconvert_exporter": "python",
   "pygments_lexer": "ipython3",
   "version": "3.10.9"
  },
  "toc": {
   "base_numbering": 1,
   "nav_menu": {},
   "number_sections": true,
   "sideBar": true,
   "skip_h1_title": true,
   "title_cell": "Table of Contents",
   "title_sidebar": "Contents",
   "toc_cell": false,
   "toc_position": {},
   "toc_section_display": true,
   "toc_window_display": false
  }
 },
 "nbformat": 4,
 "nbformat_minor": 2
}
